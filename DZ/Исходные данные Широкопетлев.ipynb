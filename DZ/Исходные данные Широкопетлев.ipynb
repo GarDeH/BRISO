{
 "cells": [
  {
   "cell_type": "code",
   "execution_count": null,
   "id": "963ca66f",
   "metadata": {},
   "outputs": [],
   "source": [
    "#Индивидуальные исходные данные\n",
    "D_n = 275 * 1e-3\n",
    "I_P = 225 * 1e3\n",
    "t_nom = 9\n",
    "\n",
    "p_min = 4 * 1e6\n",
    "p_max = 20 * 1e6\n",
    "p_h = 0.1 * 1e6\n",
    "\n",
    "#Terra\n",
    "p_a = 0.1 * 1e6\n",
    "f_a_max = 0.9\n",
    "hi = 0.98\n",
    "n_kr = 1.2002                     # 0.1\n",
    "k = n = 1.1755\n",
    "R_g = 526.27                      # 4\n",
    "z = 0.26627                       # 4\n",
    "T_r = 2761.4                      # 4\n",
    "\n",
    "F_m = np.pi * D_n ** 2 / 4\n",
    "P = I_P / t_nom\n",
    "lambda_max = ((n + 1) / (n - 1)) ** 0.5\n",
    "R_sm = R_g * (1 - z)\n",
    "A_n = (n_kr * (2 / (n_kr + 1)) ** ((n_kr + 1) / (n_kr - 1))) ** 0.5\n",
    "betta = (R_sm * hi * T_r) ** 0.5 / A_n\n",
    "etta_f = P / (p_h * F_m)"
   ]
  }
 ],
 "metadata": {
  "kernelspec": {
   "display_name": "Python 3 (ipykernel)",
   "language": "python",
   "name": "python3"
  },
  "language_info": {
   "codemirror_mode": {
    "name": "ipython",
    "version": 3
   },
   "file_extension": ".py",
   "mimetype": "text/x-python",
   "name": "python",
   "nbconvert_exporter": "python",
   "pygments_lexer": "ipython3",
   "version": "3.9.5"
  }
 },
 "nbformat": 4,
 "nbformat_minor": 5
}
