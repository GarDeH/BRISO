{
 "cells": [
  {
   "cell_type": "markdown",
   "id": "0400a782",
   "metadata": {
    "heading_collapsed": true,
    "run_control": {
     "marked": true
    }
   },
   "source": [
    "# Модули"
   ]
  },
  {
   "cell_type": "code",
<<<<<<< HEAD
<<<<<<< Updated upstream
<<<<<<< Updated upstream
=======
>>>>>>> parent of 8a35f53 (Редакция №5)
   "execution_count": 1,
   "id": "56a8b3fc",
   "metadata": {
    "ExecuteTime": {
     "end_time": "2021-12-19T14:06:12.107648Z",
     "start_time": "2021-12-19T14:06:10.488826Z"
<<<<<<< HEAD
=======
=======
>>>>>>> Stashed changes
   "execution_count": 24,
   "id": "56a8b3fc",
   "metadata": {
    "ExecuteTime": {
     "end_time": "2021-12-21T16:16:09.402541Z",
     "start_time": "2021-12-21T16:16:09.374610Z"
<<<<<<< Updated upstream
>>>>>>> Stashed changes
=======
>>>>>>> Stashed changes
=======
>>>>>>> parent of 8a35f53 (Редакция №5)
    },
    "code_folding": [],
    "hidden": true,
    "run_control": {
     "marked": false
    }
   },
   "outputs": [],
   "source": [
    "import numpy as np\n",
    "import pandas as pd\n",
    "import matplotlib.pyplot as plt\n",
    "from matplotlib.pylab import figure\n",
    "%config InlineBackend.figure_format = 'svg'  # векторный формат\n",
    "\n",
    "rc = {'font.family': 'serif',\n",
    "      'font.serif': 'Times New Roman',\n",
    "      'font.variant': 'normal',\n",
    "      'font.weight':  'normal',\n",
    "      'font.stretch': 'normal',\n",
    "      'font.style': 'normal',\n",
    "      'font.size':    12.0,\n",
    "      'mathtext.default': 'regular',\n",
    "      'mathtext.fontset': 'stix'}\n",
    "plt.rcParams.update(rc)"
   ]
  },
  {
   "cell_type": "markdown",
   "id": "b9ed69c4",
   "metadata": {
    "deletable": false,
    "editable": false
   },
   "source": [
    "# Определение диапазонов варьирования входных проектных параметров"
   ]
  },
  {
   "cell_type": "markdown",
   "id": "340cc9c8",
   "metadata": {},
   "source": [
    "## Исходные данные"
   ]
  },
  {
   "cell_type": "code",
<<<<<<< HEAD
<<<<<<< Updated upstream
<<<<<<< Updated upstream
=======
>>>>>>> parent of 8a35f53 (Редакция №5)
   "execution_count": 2,
   "id": "1d709a75",
   "metadata": {
    "ExecuteTime": {
     "end_time": "2021-12-17T15:51:44.220977Z",
     "start_time": "2021-12-17T15:51:44.192015Z"
<<<<<<< HEAD
=======
=======
>>>>>>> Stashed changes
   "execution_count": 25,
   "id": "1d709a75",
   "metadata": {
    "ExecuteTime": {
     "end_time": "2021-12-21T16:16:09.418484Z",
     "start_time": "2021-12-21T16:16:09.406485Z"
<<<<<<< Updated upstream
>>>>>>> Stashed changes
=======
>>>>>>> Stashed changes
=======
>>>>>>> parent of 8a35f53 (Редакция №5)
    },
    "run_control": {
     "marked": false
    }
   },
   "outputs": [],
   "source": [
    "p_min = 4 * 1e6\n",
    "\n",
    "p_max = 20 * 1e6\n",
    "\n",
    "p_h = 0.1 * 1e6\n",
    "\n",
    "f_a_max = 0.9\n",
    "\n",
    "D_n = 275 * 1e-3\n",
    "\n",
    "F_m = np.pi * D_n ** 2 / 4\n",
    "hi = 0.98\n",
    "R_g = 526.27 #4\n",
    "n_kr = 1.2002 # 0.1\n",
    "k = n = 1.1755\n",
    "p_a = 0.1 * 1e6\n",
    "z = 0.26627 #4\n",
    "T_r = 2761.4 #4\n",
    "I_P = 225 * 1e3\n",
    "t_nom = 9\n",
    "\n",
    "P = I_P / t_nom\n",
    "\n",
    "lambda_max = ((n + 1) / (n - 1)) ** 0.5\n",
    "\n",
    "R_sm = R_g * (1 - z)\n",
    "\n",
    "A_n = (n_kr * (2 / (n_kr + 1)) ** ((n_kr + 1) / (n_kr - 1))) ** 0.5\n",
    "\n",
    "betta = (R_sm * hi * T_r) ** 0.5 / A_n\n",
    "\n",
    "etta_f = P / (p_h * F_m)"
   ]
  },
  {
<<<<<<< HEAD
   "cell_type": "code",
   "execution_count": 26,
   "id": "87c27417",
   "metadata": {},
   "outputs": [],
   "source": [
    "#Индивидуальные исходные данные\n",
    "D_n = 275 * 1e-3\n",
    "I_P = 225 * 1e3\n",
    "t_nom = 9\n",
    "\n",
    "p_min = 4 * 1e6\n",
    "p_max = 20 * 1e6\n",
    "p_h = 0.1 * 1e6\n",
    "\n",
    "#Terra\n",
    "p_a = 0.1 * 1e6\n",
    "f_a_max = 0.9\n",
    "hi = 0.98\n",
    "n_kr = 1.2002                     # 0.1\n",
    "k = n = 1.1755\n",
    "R_g = 526.27                      # 4\n",
    "z = 0.26627                       # 4\n",
    "T_r = 2761.4                      # 4\n",
    "\n",
    "F_m = np.pi * D_n ** 2 / 4\n",
    "P = I_P / t_nom\n",
    "lambda_max = ((n + 1) / (n - 1)) ** 0.5\n",
    "R_sm = R_g * (1 - z)\n",
    "A_n = (n_kr * (2 / (n_kr + 1)) ** ((n_kr + 1) / (n_kr - 1))) ** 0.5\n",
    "betta = (R_sm * hi * T_r) ** 0.5 / A_n\n",
    "etta_f = P / (p_h * F_m)"
   ]
  },
  {
   "cell_type": "code",
   "execution_count": 26,
   "id": "87c27417",
   "metadata": {},
   "outputs": [],
   "source": [
    "#Индивидуальные исходные данные\n",
    "D_n = 275 * 1e-3\n",
    "I_P = 225 * 1e3\n",
    "t_nom = 9\n",
    "\n",
    "p_min = 4 * 1e6\n",
    "p_max = 20 * 1e6\n",
    "p_h = 0.1 * 1e6\n",
    "\n",
    "#Terra\n",
    "p_a = 0.1 * 1e6\n",
    "f_a_max = 0.9\n",
    "hi = 0.98\n",
    "n_kr = 1.2002                     # 0.1\n",
    "k = n = 1.1755\n",
    "R_g = 526.27                      # 4\n",
    "z = 0.26627                       # 4\n",
    "T_r = 2761.4                      # 4\n",
    "\n",
    "F_m = np.pi * D_n ** 2 / 4\n",
    "P = I_P / t_nom\n",
    "lambda_max = ((n + 1) / (n - 1)) ** 0.5\n",
    "R_sm = R_g * (1 - z)\n",
    "A_n = (n_kr * (2 / (n_kr + 1)) ** ((n_kr + 1) / (n_kr - 1))) ** 0.5\n",
    "betta = (R_sm * hi * T_r) ** 0.5 / A_n\n",
    "etta_f = P / (p_h * F_m)"
   ]
  },
  {
=======
>>>>>>> parent of 8a35f53 (Редакция №5)
   "cell_type": "markdown",
   "id": "47cf9c87",
   "metadata": {
    "heading_collapsed": true
   },
   "source": [
    "## Функции"
   ]
  },
  {
   "cell_type": "code",
<<<<<<< HEAD
<<<<<<< Updated upstream
<<<<<<< Updated upstream
=======
>>>>>>> parent of 8a35f53 (Редакция №5)
   "execution_count": 3,
   "id": "044561a4",
   "metadata": {
    "ExecuteTime": {
     "end_time": "2021-12-17T15:51:44.252568Z",
     "start_time": "2021-12-17T15:51:44.224927Z"
<<<<<<< HEAD
=======
=======
>>>>>>> Stashed changes
   "execution_count": 27,
   "id": "044561a4",
   "metadata": {
    "ExecuteTime": {
     "end_time": "2021-12-21T16:16:09.450405Z",
     "start_time": "2021-12-21T16:16:09.422441Z"
<<<<<<< Updated upstream
>>>>>>> Stashed changes
=======
>>>>>>> Stashed changes
=======
>>>>>>> parent of 8a35f53 (Редакция №5)
    },
    "code_folding": [],
    "hidden": true,
    "run_control": {
     "marked": false
    }
   },
   "outputs": [],
   "source": [
    "def lambda_a(p_a, p):\n",
    "    global lambda_max, n\n",
    "    return lambda_max * (1 - (p_a / p) ** ((n - 1) / n)) ** 0.5\n",
    "\n",
    "\n",
    "def dzeta(lam):\n",
    "    global z, k\n",
    "    return (1 - z) + z * (2 * k) / (k + 1) * (lam) ** 2 / (lam ** 2 + 1)\n",
    "\n",
    "\n",
    "def eps(lam):\n",
    "    global k\n",
    "    return (1 - (k - 1) / (k + 1) * lam ** 2) ** (1 / (k - 1))\n",
    "\n",
    "\n",
    "def pi(lam):\n",
    "    global k\n",
    "    return (1 - (k - 1) / (k + 1) * lam ** 2) ** (k / (k - 1))\n",
    "\n",
    "\n",
    "def q(lam):\n",
    "    global k\n",
    "    return lam * eps(lam) / ((2 / (k + 1)) ** (1 / (k - 1)))\n",
    "\n",
    "\n",
    "def tau(lam):\n",
    "    global k\n",
    "    return 1 - ((k - 1) / (k + 1)) * lam ** 2\n",
    "\n",
    "\n",
    "def I_ud(p, lam):\n",
    "    global betta, p_h\n",
    "    return betta * ((lam + lam ** -1) * eps(1) * dzeta(lam) - p_h / p * 1 / q(lam))\n",
    "\n",
    "\n",
    "def f_a_bound1(p, lam):\n",
    "    global etta_f, p_h\n",
    "    return etta_f / (p / p_h * (lam ** 2 + 1) * eps(lam) * dzeta(lam) - 1)\n",
    "\n",
    "\n",
    "def f_a_bound2(p, lam):\n",
    "    global etta_f, p_h\n",
    "    return etta_f / (p / p_h * (lam ** 2 + 1) / tau(lam) * dzeta(lam) - 1)\n",
    "\n",
    "\n",
    "def f_a_bound3(I_ud3, lam):\n",
    "    global etta_f, betta\n",
    "    return etta_f * (betta / I_ud3 * (lam + lam ** -1) * eps(1) * dzeta(lam) - 1)\n",
    "\n",
    "\n",
    "def v_a(lam):\n",
    "    return 1 / q(lam)\n",
    "\n",
    "\n",
    "def p_a3(p, lam):\n",
    "    return p * pi(lam)"
   ]
  },
  {
   "cell_type": "markdown",
   "id": "87039d2f",
   "metadata": {
    "heading_collapsed": true
   },
   "source": [
    "## Первая точка"
   ]
  },
  {
   "cell_type": "code",
<<<<<<< HEAD
<<<<<<< Updated upstream
<<<<<<< Updated upstream
=======
>>>>>>> parent of 8a35f53 (Редакция №5)
   "execution_count": 4,
   "id": "171b3e50",
   "metadata": {
    "ExecuteTime": {
     "end_time": "2021-12-17T15:51:44.283486Z",
     "start_time": "2021-12-17T15:51:44.257560Z"
<<<<<<< HEAD
=======
=======
>>>>>>> Stashed changes
   "execution_count": 28,
   "id": "171b3e50",
   "metadata": {
    "ExecuteTime": {
     "end_time": "2021-12-21T16:16:09.466326Z",
     "start_time": "2021-12-21T16:16:09.453360Z"
<<<<<<< Updated upstream
>>>>>>> Stashed changes
=======
>>>>>>> Stashed changes
=======
>>>>>>> parent of 8a35f53 (Редакция №5)
    },
    "hidden": true,
    "run_control": {
     "marked": false
    }
   },
   "outputs": [
    {
     "name": "stdout",
     "output_type": "stream",
     "text": [
      "lambda_a1 = 2.291167065974499\n",
      "v_a1 = 6.232691522319996\n",
      "f_a1 = 0.43964999626499934\n",
<<<<<<< HEAD
<<<<<<< Updated upstream
<<<<<<< Updated upstream
      "p_nom1 = 4.0\n",
=======
=======
>>>>>>> Stashed changes
      "p_nom1 = 4000000.0\n",
>>>>>>> Stashed changes
=======
      "p_nom1 = 4.0\n",
>>>>>>> parent of 8a35f53 (Редакция №5)
      "p_a1 / p_h1 = 1.0000000000000013\n",
      "I_ud1 = 2351.183855913308\n"
     ]
    }
   ],
   "source": [
    "lambda_a1 = lambda_a(p_a, p_min)\n",
    "f_a1 = f_a_bound1(p_min, lambda_a1)\n",
    "v_a1 = v_a(lambda_a1)\n",
    "I_ud1 = I_ud(p_min, lambda_a1)\n",
    "print('lambda_a1 =', lambda_a1)\n",
    "print('v_a1 =', v_a1)\n",
    "print('f_a1 =', f_a1)\n",
    "print('p_nom1 =', p_min/1e6)\n",
    "print('p_a1 / p_h1 =', p_a3(p_min, lambda_a1) / p_h)\n",
    "print('I_ud1 =', I_ud1)"
   ]
  },
  {
   "cell_type": "markdown",
   "id": "6205b6bf",
   "metadata": {
    "heading_collapsed": true
   },
   "source": [
    "## Вторая точка"
   ]
  },
  {
   "cell_type": "code",
<<<<<<< HEAD
<<<<<<< Updated upstream
<<<<<<< Updated upstream
=======
>>>>>>> parent of 8a35f53 (Редакция №5)
   "execution_count": 5,
   "id": "2b26f086",
   "metadata": {
    "ExecuteTime": {
     "end_time": "2021-12-17T15:51:44.298451Z",
     "start_time": "2021-12-17T15:51:44.287474Z"
<<<<<<< HEAD
=======
   "execution_count": 29,
   "id": "2b26f086",
   "metadata": {
    "ExecuteTime": {
     "end_time": "2021-12-21T16:16:09.482281Z",
     "start_time": "2021-12-21T16:16:09.470314Z"
>>>>>>> Stashed changes
=======
   "execution_count": 29,
   "id": "2b26f086",
   "metadata": {
    "ExecuteTime": {
     "end_time": "2021-12-21T16:16:09.482281Z",
     "start_time": "2021-12-21T16:16:09.470314Z"
>>>>>>> Stashed changes
=======
>>>>>>> parent of 8a35f53 (Редакция №5)
    },
    "hidden": true,
    "run_control": {
     "marked": false
    }
   },
   "outputs": [
    {
     "name": "stdout",
     "output_type": "stream",
     "text": [
      "lambda_a2 = 2.603062177035649\n",
      "v_a2 = 21.57063399633351\n",
      "f_a2 = 0.26\n",
<<<<<<< HEAD
<<<<<<< Updated upstream
<<<<<<< Updated upstream
      "p_nom2 = 20.0\n",
=======
=======
>>>>>>> Stashed changes
      "p_nom2 = 20000000.0\n",
>>>>>>> Stashed changes
=======
      "p_nom2 = 20.0\n",
>>>>>>> parent of 8a35f53 (Редакция №5)
      "p_a2 / p_h2 = 1.0000000000000002\n",
      "I_ud2 = 2700.280373222349\n"
     ]
    }
   ],
   "source": [
    "lambda_a2 = lambda_a(p_a, p_max)\n",
    "f_a2 = round(f_a_bound1(p_max, lambda_a2), 2)\n",
    "v_a2 = v_a(lambda_a2)\n",
    "I_ud2 = I_ud(p_max, lambda_a2)\n",
    "print('lambda_a2 =', lambda_a2)\n",
    "print('v_a2 =', v_a2)\n",
    "print('f_a2 =', f_a2)\n",
    "print('p_nom2 =', p_max/1e6)\n",
    "print('p_a2 / p_h2 =', p_a3(p_max, lambda_a2) / p_h)\n",
    "print('I_ud2 =', I_ud2)"
   ]
  },
  {
   "cell_type": "markdown",
   "id": "8a7d358c",
   "metadata": {
    "heading_collapsed": true
   },
   "source": [
    "## Третья точка"
   ]
  },
  {
   "cell_type": "code",
<<<<<<< HEAD
<<<<<<< Updated upstream
<<<<<<< Updated upstream
=======
>>>>>>> parent of 8a35f53 (Редакция №5)
   "execution_count": 6,
   "id": "54710664",
   "metadata": {
    "ExecuteTime": {
     "end_time": "2021-12-17T15:51:44.330361Z",
     "start_time": "2021-12-17T15:51:44.302434Z"
<<<<<<< HEAD
=======
=======
>>>>>>> Stashed changes
   "execution_count": 30,
   "id": "54710664",
   "metadata": {
    "ExecuteTime": {
     "end_time": "2021-12-21T16:16:09.530192Z",
     "start_time": "2021-12-21T16:16:09.486275Z"
<<<<<<< Updated upstream
>>>>>>> Stashed changes
=======
>>>>>>> Stashed changes
=======
>>>>>>> parent of 8a35f53 (Редакция №5)
    },
    "hidden": true,
    "run_control": {
     "marked": false
    }
   },
   "outputs": [
    {
     "name": "stdout",
     "output_type": "stream",
     "text": [
      "lambda_a3 = 2.027999999999887\n",
      "v_a3 = 3.0367531453282757\n",
      "f_a3 = 0.04284488108565115\n",
<<<<<<< HEAD
<<<<<<< Updated upstream
<<<<<<< Updated upstream
      "p_nom3 = 20.0\n",
=======
      "p_nom3 = 20000000.0\n",
>>>>>>> Stashed changes
=======
      "p_nom3 = 20000000.0\n",
>>>>>>> Stashed changes
=======
      "p_nom3 = 20.0\n",
>>>>>>> parent of 8a35f53 (Редакция №5)
      "p_a3 / p_h3 = 13.437769833015423\n",
      "I_ud3 = 2351.0321930532386\n"
     ]
    }
   ],
   "source": [
    "N = 1000\n",
    "i = 1\n",
    "while i <= lambda_a1 - 0.1:\n",
    "    if I_ud(p_max, i) < I_ud1:\n",
    "        I_ud3 = I_ud(p_max, i)\n",
    "        lambda_a3 = i\n",
    "    else:\n",
    "        break\n",
    "    i += 0.001\n",
    "f_a3 = f_a_bound3(I_ud3, lambda_a3)\n",
    "v_a3 = v_a(lambda_a3)\n",
    "print('lambda_a3 =', lambda_a3)\n",
    "print('v_a3 =', v_a3)\n",
    "print('f_a3 =', f_a3)\n",
    "print('p_nom3 =', p_max/1e6)\n",
    "print('p_a3 / p_h3 =', p_a3(p_max, lambda_a3) / p_h)\n",
    "print('I_ud3 =', I_ud3)"
   ]
  },
  {
   "cell_type": "markdown",
   "id": "cf3bfa58",
   "metadata": {
    "deletable": false,
    "editable": false,
    "heading_collapsed": true
   },
   "source": [
    "# Границы области допустимых баллистических  решений"
   ]
  },
  {
   "cell_type": "code",
<<<<<<< HEAD
<<<<<<< Updated upstream
<<<<<<< Updated upstream
=======
>>>>>>> parent of 8a35f53 (Редакция №5)
   "execution_count": 7,
   "id": "5be975f4",
   "metadata": {
    "ExecuteTime": {
     "end_time": "2021-12-17T15:51:44.362275Z",
     "start_time": "2021-12-17T15:51:44.333353Z"
<<<<<<< HEAD
=======
=======
>>>>>>> Stashed changes
   "execution_count": 31,
   "id": "5be975f4",
   "metadata": {
    "ExecuteTime": {
     "end_time": "2021-12-21T16:16:09.562069Z",
     "start_time": "2021-12-21T16:16:09.533145Z"
<<<<<<< Updated upstream
>>>>>>> Stashed changes
=======
>>>>>>> Stashed changes
=======
>>>>>>> parent of 8a35f53 (Редакция №5)
    },
    "hidden": true,
    "run_control": {
     "marked": false
    }
   },
   "outputs": [],
   "source": [
    "f_1_2 = []\n",
    "f_3_2 = []\n",
    "f_3_1 = []\n",
    "v_1_2 = []\n",
    "v_3_2 = []\n",
    "v_3_1 = []\n",
    "N = 1000\n",
    "for i in range(int(lambda_a1 * N), int(lambda_a2 * N)):\n",
    "    f_1_2.append(f_a_bound2(p_a, i / N))\n",
    "    v_1_2.append(v_a(i / N))\n",
    "\n",
    "for i in range(int(lambda_a3 * N), int(lambda_a2 * N)):\n",
    "    f_3_2.append(f_a_bound1(p_max, i / N))\n",
    "    v_3_2.append(v_a(i / N))\n",
    "\n",
    "for i in range(int(lambda_a3 * N), int(lambda_a1 * N)):\n",
    "    f_3_1.append(f_a_bound3(I_ud1, i / N))\n",
    "    v_3_1.append(v_a(i / N))\n",
    "\n",
    "f_a_list_1 = [f_a1, f_a2, f_a3]\n",
    "v_a_list_1 = [v_a1, v_a2, v_a3]"
   ]
  },
  {
   "cell_type": "code",
<<<<<<< HEAD
<<<<<<< Updated upstream
<<<<<<< Updated upstream
=======
>>>>>>> parent of 8a35f53 (Редакция №5)
   "execution_count": 8,
   "id": "4898c5af",
   "metadata": {
    "ExecuteTime": {
     "end_time": "2021-12-17T15:51:45.632143Z",
     "start_time": "2021-12-17T15:51:44.366265Z"
<<<<<<< HEAD
=======
=======
>>>>>>> Stashed changes
   "execution_count": 60,
   "id": "913b4c98",
   "metadata": {},
   "outputs": [],
   "source": [
    "xx = []\n",
    "xx.extend(v_1_2)\n",
    "xx.extend(v_3_2)\n",
    "xx.extend(v_3_1)\n",
    "yy = []\n",
    "yy.extend(f_1_2)\n",
    "yy.extend(f_3_2)\n",
    "yy.extend(f_3_1)"
   ]
  },
  {
   "cell_type": "code",
   "execution_count": 61,
   "id": "4898c5af",
   "metadata": {
    "ExecuteTime": {
     "end_time": "2021-12-21T16:16:10.425206Z",
     "start_time": "2021-12-21T16:16:09.566093Z"
<<<<<<< Updated upstream
>>>>>>> Stashed changes
=======
>>>>>>> Stashed changes
=======
>>>>>>> parent of 8a35f53 (Редакция №5)
    },
    "hidden": true,
    "run_control": {
     "marked": false
    }
   },
   "outputs": [
    {
     "data": {
      "image/svg+xml": [
       "<?xml version=\"1.0\" encoding=\"utf-8\" standalone=\"no\"?>\r\n",
       "<!DOCTYPE svg PUBLIC \"-//W3C//DTD SVG 1.1//EN\"\r\n",
       "  \"http://www.w3.org/Graphics/SVG/1.1/DTD/svg11.dtd\">\r\n",
<<<<<<< HEAD
<<<<<<< Updated upstream
<<<<<<< Updated upstream
       "<svg height=\"483.895312pt\" version=\"1.1\" viewBox=\"0 0 499.515937 483.895312\" width=\"499.515937pt\" xmlns=\"http://www.w3.org/2000/svg\" xmlns:xlink=\"http://www.w3.org/1999/xlink\">\r\n",
=======
=======
>>>>>>> Stashed changes
       "<svg height=\"485.711875pt\" version=\"1.1\" viewBox=\"0 0 502.015937 485.711875\" width=\"502.015937pt\" xmlns=\"http://www.w3.org/2000/svg\" xmlns:xlink=\"http://www.w3.org/1999/xlink\">\r\n",
>>>>>>> Stashed changes
=======
       "<svg height=\"483.895312pt\" version=\"1.1\" viewBox=\"0 0 499.515937 483.895312\" width=\"499.515937pt\" xmlns=\"http://www.w3.org/2000/svg\" xmlns:xlink=\"http://www.w3.org/1999/xlink\">\r\n",
>>>>>>> parent of 8a35f53 (Редакция №5)
       " <metadata>\r\n",
       "  <rdf:RDF xmlns:cc=\"http://creativecommons.org/ns#\" xmlns:dc=\"http://purl.org/dc/elements/1.1/\" xmlns:rdf=\"http://www.w3.org/1999/02/22-rdf-syntax-ns#\">\r\n",
       "   <cc:Work>\r\n",
       "    <dc:type rdf:resource=\"http://purl.org/dc/dcmitype/StillImage\"/>\r\n",
<<<<<<< HEAD
<<<<<<< Updated upstream
<<<<<<< Updated upstream
       "    <dc:date>2021-12-21T11:26:03.139367</dc:date>\r\n",
=======
       "    <dc:date>2021-12-22T11:23:25.722448</dc:date>\r\n",
>>>>>>> Stashed changes
=======
       "    <dc:date>2021-12-22T11:23:25.722448</dc:date>\r\n",
>>>>>>> Stashed changes
=======
       "    <dc:date>2021-12-21T11:26:03.139367</dc:date>\r\n",
>>>>>>> parent of 8a35f53 (Редакция №5)
       "    <dc:format>image/svg+xml</dc:format>\r\n",
       "    <dc:creator>\r\n",
       "     <cc:Agent>\r\n",
       "      <dc:title>Matplotlib v3.4.3, https://matplotlib.org/</dc:title>\r\n",
       "     </cc:Agent>\r\n",
       "    </dc:creator>\r\n",
       "   </cc:Work>\r\n",
       "  </rdf:RDF>\r\n",
       " </metadata>\r\n",
       " <defs>\r\n",
       "  <style type=\"text/css\">*{stroke-linecap:butt;stroke-linejoin:round;}</style>\r\n",
       " </defs>\r\n",
       " <g id=\"figure_1\">\r\n",
       "  <g id=\"patch_1\">\r\n",
       "   <path d=\"M 0 483.895312 \r\n",
       "L 499.515937 483.895312 \r\n",
       "L 499.515937 0 \r\n",
       "L 0 0 \r\n",
       "z\r\n",
       "\" style=\"fill:#ffffff;\"/>\r\n",
       "  </g>\r\n",
       "  <g id=\"axes_1\">\r\n",
       "   <g id=\"patch_2\">\r\n",
       "    <path d=\"M 45.915938 442.08 \r\n",
       "L 492.315937 442.08 \r\n",
       "L 492.315937 7.2 \r\n",
       "L 45.915938 7.2 \r\n",
       "z\r\n",
       "\" style=\"fill:#ffffff;\"/>\r\n",
       "   </g>\r\n",
       "   <g id=\"matplotlib.axis_1\">\r\n",
       "    <g id=\"xtick_1\">\r\n",
       "     <g id=\"line2d_1\">\r\n",
<<<<<<< HEAD
<<<<<<< Updated upstream
<<<<<<< Updated upstream
       "      <path clip-path=\"url(#pff11f737f2)\" d=\"M 45.915938 442.08 \r\n",
       "L 45.915938 7.2 \r\n",
=======
=======
>>>>>>> Stashed changes
       "      <path clip-path=\"url(#p6ae048cedf)\" d=\"M 48.415938 442.08 \r\n",
       "L 48.415938 7.2 \r\n",
>>>>>>> Stashed changes
=======
       "      <path clip-path=\"url(#pff11f737f2)\" d=\"M 45.915938 442.08 \r\n",
       "L 45.915938 7.2 \r\n",
>>>>>>> parent of 8a35f53 (Редакция №5)
       "\" style=\"fill:none;stroke:#b0b0b0;stroke-linecap:square;stroke-width:0.8;\"/>\r\n",
       "     </g>\r\n",
       "     <g id=\"line2d_2\">\r\n",
       "      <defs>\r\n",
       "       <path d=\"M 0 0 \r\n",
       "L 0 3.5 \r\n",
<<<<<<< HEAD
<<<<<<< Updated upstream
<<<<<<< Updated upstream
=======
>>>>>>> parent of 8a35f53 (Редакция №5)
       "\" id=\"m96399aa07b\" style=\"stroke:#000000;stroke-width:0.8;\"/>\r\n",
       "      </defs>\r\n",
       "      <g>\r\n",
       "       <use style=\"stroke:#000000;stroke-width:0.8;\" x=\"45.915938\" xlink:href=\"#m96399aa07b\" y=\"442.08\"/>\r\n",
<<<<<<< HEAD
=======
=======
>>>>>>> Stashed changes
       "\" id=\"mb73950afc4\" style=\"stroke:#000000;stroke-width:0.8;\"/>\r\n",
       "      </defs>\r\n",
       "      <g>\r\n",
       "       <use style=\"stroke:#000000;stroke-width:0.8;\" x=\"48.415938\" xlink:href=\"#mb73950afc4\" y=\"442.08\"/>\r\n",
<<<<<<< Updated upstream
>>>>>>> Stashed changes
=======
>>>>>>> Stashed changes
=======
>>>>>>> parent of 8a35f53 (Редакция №5)
       "      </g>\r\n",
       "     </g>\r\n",
       "     <g id=\"text_1\">\r\n",
       "      <!-- 0.0 -->\r\n",
       "      <g transform=\"translate(38.415938 457.4125)scale(0.12 -0.12)\">\r\n",
       "       <defs>\r\n",
       "        <path d=\"M 231 2094 \r\n",
       "Q 231 2819 450 3342 \r\n",
       "Q 669 3866 1031 4122 \r\n",
       "Q 1313 4325 1613 4325 \r\n",
       "Q 2100 4325 2488 3828 \r\n",
       "Q 2972 3213 2972 2159 \r\n",
       "Q 2972 1422 2759 906 \r\n",
       "Q 2547 391 2217 158 \r\n",
       "Q 1888 -75 1581 -75 \r\n",
       "Q 975 -75 572 641 \r\n",
       "Q 231 1244 231 2094 \r\n",
       "z\r\n",
       "M 844 2016 \r\n",
       "Q 844 1141 1059 588 \r\n",
       "Q 1238 122 1591 122 \r\n",
       "Q 1759 122 1940 273 \r\n",
       "Q 2122 425 2216 781 \r\n",
       "Q 2359 1319 2359 2297 \r\n",
       "Q 2359 3022 2209 3506 \r\n",
       "Q 2097 3866 1919 4016 \r\n",
       "Q 1791 4119 1609 4119 \r\n",
       "Q 1397 4119 1231 3928 \r\n",
       "Q 1006 3669 925 3112 \r\n",
       "Q 844 2556 844 2016 \r\n",
       "z\r\n",
       "\" id=\"TimesNewRomanPSMT-30\" transform=\"scale(0.015625)\"/>\r\n",
       "        <path d=\"M 800 606 \r\n",
       "Q 947 606 1047 504 \r\n",
       "Q 1147 403 1147 259 \r\n",
       "Q 1147 116 1045 14 \r\n",
       "Q 944 -88 800 -88 \r\n",
       "Q 656 -88 554 14 \r\n",
       "Q 453 116 453 259 \r\n",
       "Q 453 406 554 506 \r\n",
       "Q 656 606 800 606 \r\n",
       "z\r\n",
       "\" id=\"TimesNewRomanPSMT-2e\" transform=\"scale(0.015625)\"/>\r\n",
       "       </defs>\r\n",
       "       <use xlink:href=\"#TimesNewRomanPSMT-30\"/>\r\n",
       "       <use x=\"50\" xlink:href=\"#TimesNewRomanPSMT-2e\"/>\r\n",
       "       <use x=\"75\" xlink:href=\"#TimesNewRomanPSMT-30\"/>\r\n",
       "      </g>\r\n",
       "     </g>\r\n",
       "    </g>\r\n",
       "    <g id=\"xtick_2\">\r\n",
       "     <g id=\"line2d_3\">\r\n",
<<<<<<< HEAD
<<<<<<< Updated upstream
<<<<<<< Updated upstream
       "      <path clip-path=\"url(#pff11f737f2)\" d=\"M 90.555937 442.08 \r\n",
       "L 90.555937 7.2 \r\n",
=======
=======
>>>>>>> Stashed changes
       "      <path clip-path=\"url(#p6ae048cedf)\" d=\"M 93.055937 442.08 \r\n",
       "L 93.055937 7.2 \r\n",
>>>>>>> Stashed changes
=======
       "      <path clip-path=\"url(#pff11f737f2)\" d=\"M 90.555937 442.08 \r\n",
       "L 90.555937 7.2 \r\n",
>>>>>>> parent of 8a35f53 (Редакция №5)
       "\" style=\"fill:none;stroke:#b0b0b0;stroke-linecap:square;stroke-width:0.8;\"/>\r\n",
       "     </g>\r\n",
       "     <g id=\"line2d_4\">\r\n",
       "      <g>\r\n",
<<<<<<< HEAD
<<<<<<< Updated upstream
<<<<<<< Updated upstream
       "       <use style=\"stroke:#000000;stroke-width:0.8;\" x=\"90.555937\" xlink:href=\"#m96399aa07b\" y=\"442.08\"/>\r\n",
=======
       "       <use style=\"stroke:#000000;stroke-width:0.8;\" x=\"93.055937\" xlink:href=\"#mb73950afc4\" y=\"442.08\"/>\r\n",
>>>>>>> Stashed changes
=======
       "       <use style=\"stroke:#000000;stroke-width:0.8;\" x=\"93.055937\" xlink:href=\"#mb73950afc4\" y=\"442.08\"/>\r\n",
>>>>>>> Stashed changes
=======
       "       <use style=\"stroke:#000000;stroke-width:0.8;\" x=\"90.555937\" xlink:href=\"#m96399aa07b\" y=\"442.08\"/>\r\n",
>>>>>>> parent of 8a35f53 (Редакция №5)
       "      </g>\r\n",
       "     </g>\r\n",
       "     <g id=\"text_2\">\r\n",
       "      <!-- 2.5 -->\r\n",
       "      <g transform=\"translate(83.055937 457.4125)scale(0.12 -0.12)\">\r\n",
       "       <defs>\r\n",
       "        <path d=\"M 2934 816 \r\n",
       "L 2638 0 \r\n",
       "L 138 0 \r\n",
       "L 138 116 \r\n",
       "Q 1241 1122 1691 1759 \r\n",
       "Q 2141 2397 2141 2925 \r\n",
       "Q 2141 3328 1894 3587 \r\n",
       "Q 1647 3847 1303 3847 \r\n",
       "Q 991 3847 742 3664 \r\n",
       "Q 494 3481 375 3128 \r\n",
       "L 259 3128 \r\n",
       "Q 338 3706 661 4015 \r\n",
       "Q 984 4325 1469 4325 \r\n",
       "Q 1984 4325 2329 3994 \r\n",
       "Q 2675 3663 2675 3213 \r\n",
       "Q 2675 2891 2525 2569 \r\n",
       "Q 2294 2063 1775 1497 \r\n",
       "Q 997 647 803 472 \r\n",
       "L 1909 472 \r\n",
       "Q 2247 472 2383 497 \r\n",
       "Q 2519 522 2628 598 \r\n",
       "Q 2738 675 2819 816 \r\n",
       "L 2934 816 \r\n",
       "z\r\n",
       "\" id=\"TimesNewRomanPSMT-32\" transform=\"scale(0.015625)\"/>\r\n",
       "        <path d=\"M 2778 4238 \r\n",
       "L 2534 3706 \r\n",
       "L 1259 3706 \r\n",
       "L 981 3138 \r\n",
       "Q 1809 3016 2294 2522 \r\n",
       "Q 2709 2097 2709 1522 \r\n",
       "Q 2709 1188 2573 903 \r\n",
       "Q 2438 619 2231 419 \r\n",
       "Q 2025 219 1772 97 \r\n",
       "Q 1413 -75 1034 -75 \r\n",
       "Q 653 -75 479 54 \r\n",
       "Q 306 184 306 341 \r\n",
       "Q 306 428 378 495 \r\n",
       "Q 450 563 559 563 \r\n",
       "Q 641 563 702 538 \r\n",
       "Q 763 513 909 409 \r\n",
       "Q 1144 247 1384 247 \r\n",
       "Q 1750 247 2026 523 \r\n",
       "Q 2303 800 2303 1197 \r\n",
       "Q 2303 1581 2056 1914 \r\n",
       "Q 1809 2247 1375 2428 \r\n",
       "Q 1034 2569 447 2591 \r\n",
       "L 1259 4238 \r\n",
       "L 2778 4238 \r\n",
       "z\r\n",
       "\" id=\"TimesNewRomanPSMT-35\" transform=\"scale(0.015625)\"/>\r\n",
       "       </defs>\r\n",
       "       <use xlink:href=\"#TimesNewRomanPSMT-32\"/>\r\n",
       "       <use x=\"50\" xlink:href=\"#TimesNewRomanPSMT-2e\"/>\r\n",
       "       <use x=\"75\" xlink:href=\"#TimesNewRomanPSMT-35\"/>\r\n",
       "      </g>\r\n",
       "     </g>\r\n",
       "    </g>\r\n",
       "    <g id=\"xtick_3\">\r\n",
       "     <g id=\"line2d_5\">\r\n",
<<<<<<< HEAD
<<<<<<< Updated upstream
<<<<<<< Updated upstream
       "      <path clip-path=\"url(#pff11f737f2)\" d=\"M 135.195937 442.08 \r\n",
       "L 135.195937 7.2 \r\n",
=======
=======
>>>>>>> Stashed changes
       "      <path clip-path=\"url(#p6ae048cedf)\" d=\"M 137.695937 442.08 \r\n",
       "L 137.695937 7.2 \r\n",
>>>>>>> Stashed changes
=======
       "      <path clip-path=\"url(#pff11f737f2)\" d=\"M 135.195937 442.08 \r\n",
       "L 135.195937 7.2 \r\n",
>>>>>>> parent of 8a35f53 (Редакция №5)
       "\" style=\"fill:none;stroke:#b0b0b0;stroke-linecap:square;stroke-width:0.8;\"/>\r\n",
       "     </g>\r\n",
       "     <g id=\"line2d_6\">\r\n",
       "      <g>\r\n",
<<<<<<< HEAD
<<<<<<< Updated upstream
<<<<<<< Updated upstream
       "       <use style=\"stroke:#000000;stroke-width:0.8;\" x=\"135.195937\" xlink:href=\"#m96399aa07b\" y=\"442.08\"/>\r\n",
=======
       "       <use style=\"stroke:#000000;stroke-width:0.8;\" x=\"137.695937\" xlink:href=\"#mb73950afc4\" y=\"442.08\"/>\r\n",
>>>>>>> Stashed changes
=======
       "       <use style=\"stroke:#000000;stroke-width:0.8;\" x=\"137.695937\" xlink:href=\"#mb73950afc4\" y=\"442.08\"/>\r\n",
>>>>>>> Stashed changes
=======
       "       <use style=\"stroke:#000000;stroke-width:0.8;\" x=\"135.195937\" xlink:href=\"#m96399aa07b\" y=\"442.08\"/>\r\n",
>>>>>>> parent of 8a35f53 (Редакция №5)
       "      </g>\r\n",
       "     </g>\r\n",
       "     <g id=\"text_3\">\r\n",
       "      <!-- 5.0 -->\r\n",
       "      <g transform=\"translate(127.695937 457.4125)scale(0.12 -0.12)\">\r\n",
<<<<<<< HEAD
=======
       "      <g transform=\"translate(128.945937 458.80125)scale(0.14 -0.14)\">\r\n",
<<<<<<< Updated upstream
>>>>>>> Stashed changes
=======
>>>>>>> Stashed changes
=======
>>>>>>> parent of 8a35f53 (Редакция №5)
       "       <use xlink:href=\"#TimesNewRomanPSMT-35\"/>\r\n",
       "       <use x=\"50\" xlink:href=\"#TimesNewRomanPSMT-2e\"/>\r\n",
       "       <use x=\"75\" xlink:href=\"#TimesNewRomanPSMT-30\"/>\r\n",
       "      </g>\r\n",
       "     </g>\r\n",
       "    </g>\r\n",
       "    <g id=\"xtick_4\">\r\n",
       "     <g id=\"line2d_7\">\r\n",
<<<<<<< HEAD
<<<<<<< Updated upstream
<<<<<<< Updated upstream
       "      <path clip-path=\"url(#pff11f737f2)\" d=\"M 179.835938 442.08 \r\n",
       "L 179.835938 7.2 \r\n",
=======
=======
>>>>>>> Stashed changes
       "      <path clip-path=\"url(#p6ae048cedf)\" d=\"M 182.335938 442.08 \r\n",
       "L 182.335938 7.2 \r\n",
>>>>>>> Stashed changes
=======
       "      <path clip-path=\"url(#pff11f737f2)\" d=\"M 179.835938 442.08 \r\n",
       "L 179.835938 7.2 \r\n",
>>>>>>> parent of 8a35f53 (Редакция №5)
       "\" style=\"fill:none;stroke:#b0b0b0;stroke-linecap:square;stroke-width:0.8;\"/>\r\n",
       "     </g>\r\n",
       "     <g id=\"line2d_8\">\r\n",
       "      <g>\r\n",
<<<<<<< HEAD
<<<<<<< Updated upstream
<<<<<<< Updated upstream
       "       <use style=\"stroke:#000000;stroke-width:0.8;\" x=\"179.835938\" xlink:href=\"#m96399aa07b\" y=\"442.08\"/>\r\n",
=======
       "       <use style=\"stroke:#000000;stroke-width:0.8;\" x=\"182.335938\" xlink:href=\"#mb73950afc4\" y=\"442.08\"/>\r\n",
>>>>>>> Stashed changes
=======
       "       <use style=\"stroke:#000000;stroke-width:0.8;\" x=\"182.335938\" xlink:href=\"#mb73950afc4\" y=\"442.08\"/>\r\n",
>>>>>>> Stashed changes
=======
       "       <use style=\"stroke:#000000;stroke-width:0.8;\" x=\"179.835938\" xlink:href=\"#m96399aa07b\" y=\"442.08\"/>\r\n",
>>>>>>> parent of 8a35f53 (Редакция №5)
       "      </g>\r\n",
       "     </g>\r\n",
       "     <g id=\"text_4\">\r\n",
       "      <!-- 7.5 -->\r\n",
       "      <g transform=\"translate(172.335938 457.4125)scale(0.12 -0.12)\">\r\n",
       "       <defs>\r\n",
       "        <path d=\"M 644 4238 \r\n",
       "L 2916 4238 \r\n",
       "L 2916 4119 \r\n",
       "L 1503 -88 \r\n",
       "L 1153 -88 \r\n",
       "L 2419 3728 \r\n",
       "L 1253 3728 \r\n",
       "Q 900 3728 750 3644 \r\n",
       "Q 488 3500 328 3200 \r\n",
       "L 238 3234 \r\n",
       "L 644 4238 \r\n",
       "z\r\n",
       "\" id=\"TimesNewRomanPSMT-37\" transform=\"scale(0.015625)\"/>\r\n",
       "       </defs>\r\n",
       "       <use xlink:href=\"#TimesNewRomanPSMT-37\"/>\r\n",
       "       <use x=\"50\" xlink:href=\"#TimesNewRomanPSMT-2e\"/>\r\n",
       "       <use x=\"75\" xlink:href=\"#TimesNewRomanPSMT-35\"/>\r\n",
       "      </g>\r\n",
       "     </g>\r\n",
       "    </g>\r\n",
       "    <g id=\"xtick_5\">\r\n",
       "     <g id=\"line2d_9\">\r\n",
<<<<<<< HEAD
<<<<<<< Updated upstream
<<<<<<< Updated upstream
       "      <path clip-path=\"url(#pff11f737f2)\" d=\"M 224.475937 442.08 \r\n",
       "L 224.475937 7.2 \r\n",
=======
=======
>>>>>>> Stashed changes
       "      <path clip-path=\"url(#p6ae048cedf)\" d=\"M 226.975937 442.08 \r\n",
       "L 226.975937 7.2 \r\n",
>>>>>>> Stashed changes
=======
       "      <path clip-path=\"url(#pff11f737f2)\" d=\"M 224.475937 442.08 \r\n",
       "L 224.475937 7.2 \r\n",
>>>>>>> parent of 8a35f53 (Редакция №5)
       "\" style=\"fill:none;stroke:#b0b0b0;stroke-linecap:square;stroke-width:0.8;\"/>\r\n",
       "     </g>\r\n",
       "     <g id=\"line2d_10\">\r\n",
       "      <g>\r\n",
<<<<<<< HEAD
<<<<<<< Updated upstream
<<<<<<< Updated upstream
       "       <use style=\"stroke:#000000;stroke-width:0.8;\" x=\"224.475937\" xlink:href=\"#m96399aa07b\" y=\"442.08\"/>\r\n",
=======
       "       <use style=\"stroke:#000000;stroke-width:0.8;\" x=\"226.975937\" xlink:href=\"#mb73950afc4\" y=\"442.08\"/>\r\n",
>>>>>>> Stashed changes
=======
       "       <use style=\"stroke:#000000;stroke-width:0.8;\" x=\"226.975937\" xlink:href=\"#mb73950afc4\" y=\"442.08\"/>\r\n",
>>>>>>> Stashed changes
=======
       "       <use style=\"stroke:#000000;stroke-width:0.8;\" x=\"224.475937\" xlink:href=\"#m96399aa07b\" y=\"442.08\"/>\r\n",
>>>>>>> parent of 8a35f53 (Редакция №5)
       "      </g>\r\n",
       "     </g>\r\n",
       "     <g id=\"text_5\">\r\n",
       "      <!-- 10.0 -->\r\n",
       "      <g transform=\"translate(213.975937 457.4125)scale(0.12 -0.12)\">\r\n",
       "       <defs>\r\n",
       "        <path d=\"M 750 3822 \r\n",
       "L 1781 4325 \r\n",
       "L 1884 4325 \r\n",
       "L 1884 747 \r\n",
       "Q 1884 391 1914 303 \r\n",
       "Q 1944 216 2037 169 \r\n",
       "Q 2131 122 2419 116 \r\n",
       "L 2419 0 \r\n",
       "L 825 0 \r\n",
       "L 825 116 \r\n",
       "Q 1125 122 1212 167 \r\n",
       "Q 1300 213 1334 289 \r\n",
       "Q 1369 366 1369 747 \r\n",
       "L 1369 3034 \r\n",
       "Q 1369 3497 1338 3628 \r\n",
       "Q 1316 3728 1258 3775 \r\n",
       "Q 1200 3822 1119 3822 \r\n",
       "Q 1003 3822 797 3725 \r\n",
       "L 750 3822 \r\n",
       "z\r\n",
       "\" id=\"TimesNewRomanPSMT-31\" transform=\"scale(0.015625)\"/>\r\n",
       "       </defs>\r\n",
       "       <use xlink:href=\"#TimesNewRomanPSMT-31\"/>\r\n",
       "       <use x=\"50\" xlink:href=\"#TimesNewRomanPSMT-30\"/>\r\n",
       "       <use x=\"100\" xlink:href=\"#TimesNewRomanPSMT-2e\"/>\r\n",
       "       <use x=\"125\" xlink:href=\"#TimesNewRomanPSMT-30\"/>\r\n",
       "      </g>\r\n",
       "     </g>\r\n",
       "    </g>\r\n",
       "    <g id=\"xtick_6\">\r\n",
       "     <g id=\"line2d_11\">\r\n",
<<<<<<< HEAD
<<<<<<< Updated upstream
<<<<<<< Updated upstream
       "      <path clip-path=\"url(#pff11f737f2)\" d=\"M 269.115937 442.08 \r\n",
       "L 269.115937 7.2 \r\n",
=======
=======
>>>>>>> Stashed changes
       "      <path clip-path=\"url(#p6ae048cedf)\" d=\"M 271.615937 442.08 \r\n",
       "L 271.615937 7.2 \r\n",
>>>>>>> Stashed changes
=======
       "      <path clip-path=\"url(#pff11f737f2)\" d=\"M 269.115937 442.08 \r\n",
       "L 269.115937 7.2 \r\n",
>>>>>>> parent of 8a35f53 (Редакция №5)
       "\" style=\"fill:none;stroke:#b0b0b0;stroke-linecap:square;stroke-width:0.8;\"/>\r\n",
       "     </g>\r\n",
       "     <g id=\"line2d_12\">\r\n",
       "      <g>\r\n",
<<<<<<< HEAD
<<<<<<< Updated upstream
<<<<<<< Updated upstream
       "       <use style=\"stroke:#000000;stroke-width:0.8;\" x=\"269.115937\" xlink:href=\"#m96399aa07b\" y=\"442.08\"/>\r\n",
=======
       "       <use style=\"stroke:#000000;stroke-width:0.8;\" x=\"271.615937\" xlink:href=\"#mb73950afc4\" y=\"442.08\"/>\r\n",
>>>>>>> Stashed changes
=======
       "       <use style=\"stroke:#000000;stroke-width:0.8;\" x=\"271.615937\" xlink:href=\"#mb73950afc4\" y=\"442.08\"/>\r\n",
>>>>>>> Stashed changes
=======
       "       <use style=\"stroke:#000000;stroke-width:0.8;\" x=\"269.115937\" xlink:href=\"#m96399aa07b\" y=\"442.08\"/>\r\n",
>>>>>>> parent of 8a35f53 (Редакция №5)
       "      </g>\r\n",
       "     </g>\r\n",
       "     <g id=\"text_6\">\r\n",
       "      <!-- 12.5 -->\r\n",
       "      <g transform=\"translate(258.615937 457.4125)scale(0.12 -0.12)\">\r\n",
<<<<<<< HEAD
=======
       "      <g transform=\"translate(259.365937 458.80125)scale(0.14 -0.14)\">\r\n",
<<<<<<< Updated upstream
>>>>>>> Stashed changes
=======
>>>>>>> Stashed changes
=======
>>>>>>> parent of 8a35f53 (Редакция №5)
       "       <use xlink:href=\"#TimesNewRomanPSMT-31\"/>\r\n",
       "       <use x=\"50\" xlink:href=\"#TimesNewRomanPSMT-32\"/>\r\n",
       "       <use x=\"100\" xlink:href=\"#TimesNewRomanPSMT-2e\"/>\r\n",
       "       <use x=\"125\" xlink:href=\"#TimesNewRomanPSMT-35\"/>\r\n",
       "      </g>\r\n",
       "     </g>\r\n",
       "    </g>\r\n",
       "    <g id=\"xtick_7\">\r\n",
       "     <g id=\"line2d_13\">\r\n",
<<<<<<< HEAD
<<<<<<< Updated upstream
<<<<<<< Updated upstream
       "      <path clip-path=\"url(#pff11f737f2)\" d=\"M 313.755937 442.08 \r\n",
       "L 313.755937 7.2 \r\n",
=======
=======
>>>>>>> Stashed changes
       "      <path clip-path=\"url(#p6ae048cedf)\" d=\"M 316.255937 442.08 \r\n",
       "L 316.255937 7.2 \r\n",
>>>>>>> Stashed changes
=======
       "      <path clip-path=\"url(#pff11f737f2)\" d=\"M 313.755937 442.08 \r\n",
       "L 313.755937 7.2 \r\n",
>>>>>>> parent of 8a35f53 (Редакция №5)
       "\" style=\"fill:none;stroke:#b0b0b0;stroke-linecap:square;stroke-width:0.8;\"/>\r\n",
       "     </g>\r\n",
       "     <g id=\"line2d_14\">\r\n",
       "      <g>\r\n",
<<<<<<< HEAD
<<<<<<< Updated upstream
<<<<<<< Updated upstream
       "       <use style=\"stroke:#000000;stroke-width:0.8;\" x=\"313.755937\" xlink:href=\"#m96399aa07b\" y=\"442.08\"/>\r\n",
=======
       "       <use style=\"stroke:#000000;stroke-width:0.8;\" x=\"316.255937\" xlink:href=\"#mb73950afc4\" y=\"442.08\"/>\r\n",
>>>>>>> Stashed changes
=======
       "       <use style=\"stroke:#000000;stroke-width:0.8;\" x=\"316.255937\" xlink:href=\"#mb73950afc4\" y=\"442.08\"/>\r\n",
>>>>>>> Stashed changes
=======
       "       <use style=\"stroke:#000000;stroke-width:0.8;\" x=\"313.755937\" xlink:href=\"#m96399aa07b\" y=\"442.08\"/>\r\n",
>>>>>>> parent of 8a35f53 (Редакция №5)
       "      </g>\r\n",
       "     </g>\r\n",
       "     <g id=\"text_7\">\r\n",
       "      <!-- 15.0 -->\r\n",
       "      <g transform=\"translate(303.255937 457.4125)scale(0.12 -0.12)\">\r\n",
<<<<<<< HEAD
=======
       "      <g transform=\"translate(304.005937 458.80125)scale(0.14 -0.14)\">\r\n",
<<<<<<< Updated upstream
>>>>>>> Stashed changes
=======
>>>>>>> Stashed changes
=======
>>>>>>> parent of 8a35f53 (Редакция №5)
       "       <use xlink:href=\"#TimesNewRomanPSMT-31\"/>\r\n",
       "       <use x=\"50\" xlink:href=\"#TimesNewRomanPSMT-35\"/>\r\n",
       "       <use x=\"100\" xlink:href=\"#TimesNewRomanPSMT-2e\"/>\r\n",
       "       <use x=\"125\" xlink:href=\"#TimesNewRomanPSMT-30\"/>\r\n",
       "      </g>\r\n",
       "     </g>\r\n",
       "    </g>\r\n",
       "    <g id=\"xtick_8\">\r\n",
       "     <g id=\"line2d_15\">\r\n",
<<<<<<< HEAD
<<<<<<< Updated upstream
<<<<<<< Updated upstream
       "      <path clip-path=\"url(#pff11f737f2)\" d=\"M 358.395937 442.08 \r\n",
       "L 358.395937 7.2 \r\n",
=======
=======
>>>>>>> Stashed changes
       "      <path clip-path=\"url(#p6ae048cedf)\" d=\"M 360.895937 442.08 \r\n",
       "L 360.895937 7.2 \r\n",
>>>>>>> Stashed changes
=======
       "      <path clip-path=\"url(#pff11f737f2)\" d=\"M 358.395937 442.08 \r\n",
       "L 358.395937 7.2 \r\n",
>>>>>>> parent of 8a35f53 (Редакция №5)
       "\" style=\"fill:none;stroke:#b0b0b0;stroke-linecap:square;stroke-width:0.8;\"/>\r\n",
       "     </g>\r\n",
       "     <g id=\"line2d_16\">\r\n",
       "      <g>\r\n",
<<<<<<< HEAD
<<<<<<< Updated upstream
<<<<<<< Updated upstream
       "       <use style=\"stroke:#000000;stroke-width:0.8;\" x=\"358.395937\" xlink:href=\"#m96399aa07b\" y=\"442.08\"/>\r\n",
=======
       "       <use style=\"stroke:#000000;stroke-width:0.8;\" x=\"360.895937\" xlink:href=\"#mb73950afc4\" y=\"442.08\"/>\r\n",
>>>>>>> Stashed changes
=======
       "       <use style=\"stroke:#000000;stroke-width:0.8;\" x=\"360.895937\" xlink:href=\"#mb73950afc4\" y=\"442.08\"/>\r\n",
>>>>>>> Stashed changes
=======
       "       <use style=\"stroke:#000000;stroke-width:0.8;\" x=\"358.395937\" xlink:href=\"#m96399aa07b\" y=\"442.08\"/>\r\n",
>>>>>>> parent of 8a35f53 (Редакция №5)
       "      </g>\r\n",
       "     </g>\r\n",
       "     <g id=\"text_8\">\r\n",
       "      <!-- 17.5 -->\r\n",
       "      <g transform=\"translate(347.895937 457.4125)scale(0.12 -0.12)\">\r\n",
<<<<<<< HEAD
=======
       "      <g transform=\"translate(348.645937 458.80125)scale(0.14 -0.14)\">\r\n",
<<<<<<< Updated upstream
>>>>>>> Stashed changes
=======
>>>>>>> Stashed changes
=======
>>>>>>> parent of 8a35f53 (Редакция №5)
       "       <use xlink:href=\"#TimesNewRomanPSMT-31\"/>\r\n",
       "       <use x=\"50\" xlink:href=\"#TimesNewRomanPSMT-37\"/>\r\n",
       "       <use x=\"100\" xlink:href=\"#TimesNewRomanPSMT-2e\"/>\r\n",
       "       <use x=\"125\" xlink:href=\"#TimesNewRomanPSMT-35\"/>\r\n",
       "      </g>\r\n",
       "     </g>\r\n",
       "    </g>\r\n",
       "    <g id=\"xtick_9\">\r\n",
       "     <g id=\"line2d_17\">\r\n",
<<<<<<< HEAD
<<<<<<< Updated upstream
<<<<<<< Updated upstream
       "      <path clip-path=\"url(#pff11f737f2)\" d=\"M 403.035937 442.08 \r\n",
       "L 403.035937 7.2 \r\n",
=======
=======
>>>>>>> Stashed changes
       "      <path clip-path=\"url(#p6ae048cedf)\" d=\"M 405.535937 442.08 \r\n",
       "L 405.535937 7.2 \r\n",
>>>>>>> Stashed changes
=======
       "      <path clip-path=\"url(#pff11f737f2)\" d=\"M 403.035937 442.08 \r\n",
       "L 403.035937 7.2 \r\n",
>>>>>>> parent of 8a35f53 (Редакция №5)
       "\" style=\"fill:none;stroke:#b0b0b0;stroke-linecap:square;stroke-width:0.8;\"/>\r\n",
       "     </g>\r\n",
       "     <g id=\"line2d_18\">\r\n",
       "      <g>\r\n",
<<<<<<< HEAD
<<<<<<< Updated upstream
<<<<<<< Updated upstream
       "       <use style=\"stroke:#000000;stroke-width:0.8;\" x=\"403.035937\" xlink:href=\"#m96399aa07b\" y=\"442.08\"/>\r\n",
=======
       "       <use style=\"stroke:#000000;stroke-width:0.8;\" x=\"405.535937\" xlink:href=\"#mb73950afc4\" y=\"442.08\"/>\r\n",
>>>>>>> Stashed changes
=======
       "       <use style=\"stroke:#000000;stroke-width:0.8;\" x=\"405.535937\" xlink:href=\"#mb73950afc4\" y=\"442.08\"/>\r\n",
>>>>>>> Stashed changes
=======
       "       <use style=\"stroke:#000000;stroke-width:0.8;\" x=\"403.035937\" xlink:href=\"#m96399aa07b\" y=\"442.08\"/>\r\n",
>>>>>>> parent of 8a35f53 (Редакция №5)
       "      </g>\r\n",
       "     </g>\r\n",
       "     <g id=\"text_9\">\r\n",
       "      <!-- 20.0 -->\r\n",
       "      <g transform=\"translate(392.535937 457.4125)scale(0.12 -0.12)\">\r\n",
<<<<<<< HEAD
=======
       "      <g transform=\"translate(393.285937 458.80125)scale(0.14 -0.14)\">\r\n",
<<<<<<< Updated upstream
>>>>>>> Stashed changes
=======
>>>>>>> Stashed changes
=======
>>>>>>> parent of 8a35f53 (Редакция №5)
       "       <use xlink:href=\"#TimesNewRomanPSMT-32\"/>\r\n",
       "       <use x=\"50\" xlink:href=\"#TimesNewRomanPSMT-30\"/>\r\n",
       "       <use x=\"100\" xlink:href=\"#TimesNewRomanPSMT-2e\"/>\r\n",
       "       <use x=\"125\" xlink:href=\"#TimesNewRomanPSMT-30\"/>\r\n",
       "      </g>\r\n",
       "     </g>\r\n",
       "    </g>\r\n",
       "    <g id=\"xtick_10\">\r\n",
       "     <g id=\"line2d_19\">\r\n",
<<<<<<< HEAD
<<<<<<< Updated upstream
<<<<<<< Updated upstream
       "      <path clip-path=\"url(#pff11f737f2)\" d=\"M 447.675937 442.08 \r\n",
       "L 447.675937 7.2 \r\n",
=======
=======
>>>>>>> Stashed changes
       "      <path clip-path=\"url(#p6ae048cedf)\" d=\"M 450.175937 442.08 \r\n",
       "L 450.175937 7.2 \r\n",
>>>>>>> Stashed changes
=======
       "      <path clip-path=\"url(#pff11f737f2)\" d=\"M 447.675937 442.08 \r\n",
       "L 447.675937 7.2 \r\n",
>>>>>>> parent of 8a35f53 (Редакция №5)
       "\" style=\"fill:none;stroke:#b0b0b0;stroke-linecap:square;stroke-width:0.8;\"/>\r\n",
       "     </g>\r\n",
       "     <g id=\"line2d_20\">\r\n",
       "      <g>\r\n",
<<<<<<< HEAD
<<<<<<< Updated upstream
<<<<<<< Updated upstream
       "       <use style=\"stroke:#000000;stroke-width:0.8;\" x=\"447.675937\" xlink:href=\"#m96399aa07b\" y=\"442.08\"/>\r\n",
=======
       "       <use style=\"stroke:#000000;stroke-width:0.8;\" x=\"450.175937\" xlink:href=\"#mb73950afc4\" y=\"442.08\"/>\r\n",
>>>>>>> Stashed changes
=======
       "       <use style=\"stroke:#000000;stroke-width:0.8;\" x=\"450.175937\" xlink:href=\"#mb73950afc4\" y=\"442.08\"/>\r\n",
>>>>>>> Stashed changes
=======
       "       <use style=\"stroke:#000000;stroke-width:0.8;\" x=\"447.675937\" xlink:href=\"#m96399aa07b\" y=\"442.08\"/>\r\n",
>>>>>>> parent of 8a35f53 (Редакция №5)
       "      </g>\r\n",
       "     </g>\r\n",
       "     <g id=\"text_10\">\r\n",
       "      <!-- 22.5 -->\r\n",
       "      <g transform=\"translate(437.175937 457.4125)scale(0.12 -0.12)\">\r\n",
<<<<<<< HEAD
=======
       "      <g transform=\"translate(437.925937 458.80125)scale(0.14 -0.14)\">\r\n",
<<<<<<< Updated upstream
>>>>>>> Stashed changes
=======
>>>>>>> Stashed changes
=======
>>>>>>> parent of 8a35f53 (Редакция №5)
       "       <use xlink:href=\"#TimesNewRomanPSMT-32\"/>\r\n",
       "       <use x=\"50\" xlink:href=\"#TimesNewRomanPSMT-32\"/>\r\n",
       "       <use x=\"100\" xlink:href=\"#TimesNewRomanPSMT-2e\"/>\r\n",
       "       <use x=\"125\" xlink:href=\"#TimesNewRomanPSMT-35\"/>\r\n",
       "      </g>\r\n",
       "     </g>\r\n",
       "    </g>\r\n",
       "    <g id=\"text_11\">\r\n",
       "     <!-- $\\mathit{v_a}$ -->\r\n",
       "     <g transform=\"translate(263.235937 473.700625)scale(0.14 -0.14)\">\r\n",
       "      <defs>\r\n",
       "       <path d=\"M 1325 448 \r\n",
       "L 1523 653 \r\n",
       "Q 1869 1005 2134 1456 \r\n",
       "Q 2400 1907 2400 2131 \r\n",
       "Q 2400 2208 2285 2317 \r\n",
       "Q 2125 2458 2125 2605 \r\n",
       "Q 2125 2701 2195 2761 \r\n",
       "Q 2266 2822 2368 2822 \r\n",
       "Q 2522 2822 2624 2704 \r\n",
       "Q 2726 2586 2726 2445 \r\n",
       "Q 2726 2074 2323 1453 \r\n",
       "Q 1971 909 1562 474 \r\n",
       "Q 1504 416 1421 326 \r\n",
       "Q 1338 237 1299 192 \r\n",
       "Q 1261 147 1200 86 \r\n",
       "Q 1139 26 1110 -3 \r\n",
       "Q 1082 -32 1043 -64 \r\n",
       "Q 1005 -96 979 -105 \r\n",
       "Q 954 -115 928 -115 \r\n",
       "Q 870 -115 870 58 \r\n",
       "L 870 211 \r\n",
       "Q 870 1094 717 1990 \r\n",
       "Q 653 2355 579 2470 \r\n",
       "Q 506 2586 326 2586 \r\n",
       "Q 198 2586 128 2579 \r\n",
       "L 128 2662 \r\n",
       "Q 480 2720 845 2797 \r\n",
       "Q 915 2822 973 2822 \r\n",
       "Q 1011 2822 1033 2739 \r\n",
       "Q 1056 2656 1165 2093 \r\n",
       "Q 1280 1510 1325 448 \r\n",
       "z\r\n",
       "\" id=\"STIXGeneral-Italic-76\" transform=\"scale(0.015625)\"/>\r\n",
       "       <path d=\"M 2963 710 \r\n",
       "L 3046 640 \r\n",
       "Q 2688 205 2518 70 \r\n",
       "Q 2349 -64 2157 -64 \r\n",
       "Q 1901 -64 1901 198 \r\n",
       "Q 1901 358 2048 934 \r\n",
       "Q 1690 397 1389 163 \r\n",
       "Q 1088 -70 749 -70 \r\n",
       "Q 467 -70 288 125 \r\n",
       "Q 109 320 109 672 \r\n",
       "Q 109 1158 387 1664 \r\n",
       "Q 666 2170 1094 2496 \r\n",
       "Q 1523 2822 1939 2822 \r\n",
       "Q 2368 2822 2451 2451 \r\n",
       "L 2522 2758 \r\n",
       "L 2541 2778 \r\n",
       "L 2931 2822 \r\n",
       "L 2976 2803 \r\n",
       "Q 2970 2778 2938 2669 \r\n",
       "Q 2368 595 2368 346 \r\n",
       "Q 2368 262 2458 262 \r\n",
       "Q 2554 262 2790 525 \r\n",
       "L 2963 710 \r\n",
       "z\r\n",
       "M 2336 2310 \r\n",
       "Q 2336 2477 2240 2579 \r\n",
       "Q 2144 2682 1978 2682 \r\n",
       "Q 1542 2682 1139 2093 \r\n",
       "Q 928 1779 787 1395 \r\n",
       "Q 646 1011 646 717 \r\n",
       "Q 646 243 1030 243 \r\n",
       "Q 1408 243 1843 870 \r\n",
       "Q 2336 1581 2336 2310 \r\n",
       "z\r\n",
       "\" id=\"STIXGeneral-Italic-61\" transform=\"scale(0.015625)\"/>\r\n",
       "      </defs>\r\n",
       "      <use transform=\"translate(0 0.90625)\" xlink:href=\"#STIXGeneral-Italic-76\"/>\r\n",
       "      <use transform=\"translate(44.399994 -12.321875)scale(0.7)\" xlink:href=\"#STIXGeneral-Italic-61\"/>\r\n",
       "     </g>\r\n",
       "    </g>\r\n",
       "   </g>\r\n",
       "   <g id=\"matplotlib.axis_2\">\r\n",
       "    <g id=\"ytick_1\">\r\n",
       "     <g id=\"line2d_21\">\r\n",
<<<<<<< HEAD
<<<<<<< Updated upstream
<<<<<<< Updated upstream
       "      <path clip-path=\"url(#pff11f737f2)\" d=\"M 45.915938 442.08 \r\n",
       "L 492.315937 442.08 \r\n",
=======
=======
>>>>>>> Stashed changes
       "      <path clip-path=\"url(#p6ae048cedf)\" d=\"M 48.415938 442.08 \r\n",
       "L 494.815937 442.08 \r\n",
>>>>>>> Stashed changes
=======
       "      <path clip-path=\"url(#pff11f737f2)\" d=\"M 45.915938 442.08 \r\n",
       "L 492.315937 442.08 \r\n",
>>>>>>> parent of 8a35f53 (Редакция №5)
       "\" style=\"fill:none;stroke:#b0b0b0;stroke-linecap:square;stroke-width:0.8;\"/>\r\n",
       "     </g>\r\n",
       "     <g id=\"line2d_22\">\r\n",
       "      <defs>\r\n",
       "       <path d=\"M 0 0 \r\n",
       "L -3.5 0 \r\n",
<<<<<<< HEAD
<<<<<<< Updated upstream
<<<<<<< Updated upstream
=======
>>>>>>> parent of 8a35f53 (Редакция №5)
       "\" id=\"m4f2b11bec6\" style=\"stroke:#000000;stroke-width:0.8;\"/>\r\n",
       "      </defs>\r\n",
       "      <g>\r\n",
       "       <use style=\"stroke:#000000;stroke-width:0.8;\" x=\"45.915938\" xlink:href=\"#m4f2b11bec6\" y=\"442.08\"/>\r\n",
<<<<<<< HEAD
=======
=======
>>>>>>> Stashed changes
       "\" id=\"mb1fc0c9490\" style=\"stroke:#000000;stroke-width:0.8;\"/>\r\n",
       "      </defs>\r\n",
       "      <g>\r\n",
       "       <use style=\"stroke:#000000;stroke-width:0.8;\" x=\"48.415938\" xlink:href=\"#mb1fc0c9490\" y=\"442.08\"/>\r\n",
<<<<<<< Updated upstream
>>>>>>> Stashed changes
=======
>>>>>>> Stashed changes
=======
>>>>>>> parent of 8a35f53 (Редакция №5)
       "      </g>\r\n",
       "     </g>\r\n",
       "     <g id=\"text_12\">\r\n",
       "      <!-- 0.0 -->\r\n",
       "      <g transform=\"translate(23.915938 446.24625)scale(0.12 -0.12)\">\r\n",
<<<<<<< HEAD
=======
       "      <g transform=\"translate(23.915938 446.940625)scale(0.14 -0.14)\">\r\n",
<<<<<<< Updated upstream
>>>>>>> Stashed changes
=======
>>>>>>> Stashed changes
=======
>>>>>>> parent of 8a35f53 (Редакция №5)
       "       <use xlink:href=\"#TimesNewRomanPSMT-30\"/>\r\n",
       "       <use x=\"50\" xlink:href=\"#TimesNewRomanPSMT-2e\"/>\r\n",
       "       <use x=\"75\" xlink:href=\"#TimesNewRomanPSMT-30\"/>\r\n",
       "      </g>\r\n",
       "     </g>\r\n",
       "    </g>\r\n",
       "    <g id=\"ytick_2\">\r\n",
       "     <g id=\"line2d_23\">\r\n",
<<<<<<< HEAD
<<<<<<< Updated upstream
<<<<<<< Updated upstream
       "      <path clip-path=\"url(#pff11f737f2)\" d=\"M 45.915938 398.592 \r\n",
       "L 492.315937 398.592 \r\n",
=======
=======
>>>>>>> Stashed changes
       "      <path clip-path=\"url(#p6ae048cedf)\" d=\"M 48.415938 398.592 \r\n",
       "L 494.815937 398.592 \r\n",
>>>>>>> Stashed changes
=======
       "      <path clip-path=\"url(#pff11f737f2)\" d=\"M 45.915938 398.592 \r\n",
       "L 492.315937 398.592 \r\n",
>>>>>>> parent of 8a35f53 (Редакция №5)
       "\" style=\"fill:none;stroke:#b0b0b0;stroke-linecap:square;stroke-width:0.8;\"/>\r\n",
       "     </g>\r\n",
       "     <g id=\"line2d_24\">\r\n",
       "      <g>\r\n",
<<<<<<< HEAD
<<<<<<< Updated upstream
<<<<<<< Updated upstream
       "       <use style=\"stroke:#000000;stroke-width:0.8;\" x=\"45.915938\" xlink:href=\"#m4f2b11bec6\" y=\"398.592\"/>\r\n",
=======
       "       <use style=\"stroke:#000000;stroke-width:0.8;\" x=\"48.415938\" xlink:href=\"#mb1fc0c9490\" y=\"398.592\"/>\r\n",
>>>>>>> Stashed changes
=======
       "       <use style=\"stroke:#000000;stroke-width:0.8;\" x=\"48.415938\" xlink:href=\"#mb1fc0c9490\" y=\"398.592\"/>\r\n",
>>>>>>> Stashed changes
=======
       "       <use style=\"stroke:#000000;stroke-width:0.8;\" x=\"45.915938\" xlink:href=\"#m4f2b11bec6\" y=\"398.592\"/>\r\n",
>>>>>>> parent of 8a35f53 (Редакция №5)
       "      </g>\r\n",
       "     </g>\r\n",
       "     <g id=\"text_13\">\r\n",
       "      <!-- 0.1 -->\r\n",
       "      <g transform=\"translate(23.915938 402.75825)scale(0.12 -0.12)\">\r\n",
<<<<<<< HEAD
=======
       "      <g transform=\"translate(23.915938 403.452625)scale(0.14 -0.14)\">\r\n",
<<<<<<< Updated upstream
>>>>>>> Stashed changes
=======
>>>>>>> Stashed changes
=======
>>>>>>> parent of 8a35f53 (Редакция №5)
       "       <use xlink:href=\"#TimesNewRomanPSMT-30\"/>\r\n",
       "       <use x=\"50\" xlink:href=\"#TimesNewRomanPSMT-2e\"/>\r\n",
       "       <use x=\"75\" xlink:href=\"#TimesNewRomanPSMT-31\"/>\r\n",
       "      </g>\r\n",
       "     </g>\r\n",
       "    </g>\r\n",
       "    <g id=\"ytick_3\">\r\n",
       "     <g id=\"line2d_25\">\r\n",
<<<<<<< HEAD
<<<<<<< Updated upstream
<<<<<<< Updated upstream
       "      <path clip-path=\"url(#pff11f737f2)\" d=\"M 45.915938 355.104 \r\n",
       "L 492.315937 355.104 \r\n",
=======
=======
>>>>>>> Stashed changes
       "      <path clip-path=\"url(#p6ae048cedf)\" d=\"M 48.415938 355.104 \r\n",
       "L 494.815937 355.104 \r\n",
>>>>>>> Stashed changes
=======
       "      <path clip-path=\"url(#pff11f737f2)\" d=\"M 45.915938 355.104 \r\n",
       "L 492.315937 355.104 \r\n",
>>>>>>> parent of 8a35f53 (Редакция №5)
       "\" style=\"fill:none;stroke:#b0b0b0;stroke-linecap:square;stroke-width:0.8;\"/>\r\n",
       "     </g>\r\n",
       "     <g id=\"line2d_26\">\r\n",
       "      <g>\r\n",
<<<<<<< HEAD
<<<<<<< Updated upstream
<<<<<<< Updated upstream
       "       <use style=\"stroke:#000000;stroke-width:0.8;\" x=\"45.915938\" xlink:href=\"#m4f2b11bec6\" y=\"355.104\"/>\r\n",
=======
       "       <use style=\"stroke:#000000;stroke-width:0.8;\" x=\"48.415938\" xlink:href=\"#mb1fc0c9490\" y=\"355.104\"/>\r\n",
>>>>>>> Stashed changes
=======
       "       <use style=\"stroke:#000000;stroke-width:0.8;\" x=\"48.415938\" xlink:href=\"#mb1fc0c9490\" y=\"355.104\"/>\r\n",
>>>>>>> Stashed changes
=======
       "       <use style=\"stroke:#000000;stroke-width:0.8;\" x=\"45.915938\" xlink:href=\"#m4f2b11bec6\" y=\"355.104\"/>\r\n",
>>>>>>> parent of 8a35f53 (Редакция №5)
       "      </g>\r\n",
       "     </g>\r\n",
       "     <g id=\"text_14\">\r\n",
       "      <!-- 0.2 -->\r\n",
       "      <g transform=\"translate(23.915938 359.27025)scale(0.12 -0.12)\">\r\n",
<<<<<<< HEAD
=======
       "      <g transform=\"translate(23.915938 359.964625)scale(0.14 -0.14)\">\r\n",
<<<<<<< Updated upstream
>>>>>>> Stashed changes
=======
>>>>>>> Stashed changes
=======
>>>>>>> parent of 8a35f53 (Редакция №5)
       "       <use xlink:href=\"#TimesNewRomanPSMT-30\"/>\r\n",
       "       <use x=\"50\" xlink:href=\"#TimesNewRomanPSMT-2e\"/>\r\n",
       "       <use x=\"75\" xlink:href=\"#TimesNewRomanPSMT-32\"/>\r\n",
       "      </g>\r\n",
       "     </g>\r\n",
       "    </g>\r\n",
       "    <g id=\"ytick_4\">\r\n",
       "     <g id=\"line2d_27\">\r\n",
<<<<<<< HEAD
<<<<<<< Updated upstream
<<<<<<< Updated upstream
       "      <path clip-path=\"url(#pff11f737f2)\" d=\"M 45.915938 311.616 \r\n",
       "L 492.315937 311.616 \r\n",
=======
=======
>>>>>>> Stashed changes
       "      <path clip-path=\"url(#p6ae048cedf)\" d=\"M 48.415938 311.616 \r\n",
       "L 494.815937 311.616 \r\n",
>>>>>>> Stashed changes
=======
       "      <path clip-path=\"url(#pff11f737f2)\" d=\"M 45.915938 311.616 \r\n",
       "L 492.315937 311.616 \r\n",
>>>>>>> parent of 8a35f53 (Редакция №5)
       "\" style=\"fill:none;stroke:#b0b0b0;stroke-linecap:square;stroke-width:0.8;\"/>\r\n",
       "     </g>\r\n",
       "     <g id=\"line2d_28\">\r\n",
       "      <g>\r\n",
<<<<<<< HEAD
<<<<<<< Updated upstream
<<<<<<< Updated upstream
       "       <use style=\"stroke:#000000;stroke-width:0.8;\" x=\"45.915938\" xlink:href=\"#m4f2b11bec6\" y=\"311.616\"/>\r\n",
=======
       "       <use style=\"stroke:#000000;stroke-width:0.8;\" x=\"48.415938\" xlink:href=\"#mb1fc0c9490\" y=\"311.616\"/>\r\n",
>>>>>>> Stashed changes
=======
       "       <use style=\"stroke:#000000;stroke-width:0.8;\" x=\"48.415938\" xlink:href=\"#mb1fc0c9490\" y=\"311.616\"/>\r\n",
>>>>>>> Stashed changes
=======
       "       <use style=\"stroke:#000000;stroke-width:0.8;\" x=\"45.915938\" xlink:href=\"#m4f2b11bec6\" y=\"311.616\"/>\r\n",
>>>>>>> parent of 8a35f53 (Редакция №5)
       "      </g>\r\n",
       "     </g>\r\n",
       "     <g id=\"text_15\">\r\n",
       "      <!-- 0.3 -->\r\n",
       "      <g transform=\"translate(23.915938 315.78225)scale(0.12 -0.12)\">\r\n",
       "       <defs>\r\n",
       "        <path d=\"M 325 3431 \r\n",
       "Q 506 3859 782 4092 \r\n",
       "Q 1059 4325 1472 4325 \r\n",
       "Q 1981 4325 2253 3994 \r\n",
       "Q 2459 3747 2459 3466 \r\n",
       "Q 2459 3003 1878 2509 \r\n",
       "Q 2269 2356 2469 2072 \r\n",
       "Q 2669 1788 2669 1403 \r\n",
       "Q 2669 853 2319 450 \r\n",
       "Q 1863 -75 997 -75 \r\n",
       "Q 569 -75 414 31 \r\n",
       "Q 259 138 259 259 \r\n",
       "Q 259 350 332 419 \r\n",
       "Q 406 488 509 488 \r\n",
       "Q 588 488 669 463 \r\n",
       "Q 722 447 909 348 \r\n",
       "Q 1097 250 1169 231 \r\n",
       "Q 1284 197 1416 197 \r\n",
       "Q 1734 197 1970 444 \r\n",
       "Q 2206 691 2206 1028 \r\n",
       "Q 2206 1275 2097 1509 \r\n",
       "Q 2016 1684 1919 1775 \r\n",
       "Q 1784 1900 1550 2001 \r\n",
       "Q 1316 2103 1072 2103 \r\n",
       "L 972 2103 \r\n",
       "L 972 2197 \r\n",
       "Q 1219 2228 1467 2375 \r\n",
       "Q 1716 2522 1828 2728 \r\n",
       "Q 1941 2934 1941 3181 \r\n",
       "Q 1941 3503 1739 3701 \r\n",
       "Q 1538 3900 1238 3900 \r\n",
       "Q 753 3900 428 3381 \r\n",
       "L 325 3431 \r\n",
       "z\r\n",
       "\" id=\"TimesNewRomanPSMT-33\" transform=\"scale(0.015625)\"/>\r\n",
       "       </defs>\r\n",
       "       <use xlink:href=\"#TimesNewRomanPSMT-30\"/>\r\n",
       "       <use x=\"50\" xlink:href=\"#TimesNewRomanPSMT-2e\"/>\r\n",
       "       <use x=\"75\" xlink:href=\"#TimesNewRomanPSMT-33\"/>\r\n",
       "      </g>\r\n",
       "     </g>\r\n",
       "    </g>\r\n",
       "    <g id=\"ytick_5\">\r\n",
       "     <g id=\"line2d_29\">\r\n",
<<<<<<< HEAD
<<<<<<< Updated upstream
<<<<<<< Updated upstream
       "      <path clip-path=\"url(#pff11f737f2)\" d=\"M 45.915938 268.128 \r\n",
       "L 492.315937 268.128 \r\n",
=======
=======
>>>>>>> Stashed changes
       "      <path clip-path=\"url(#p6ae048cedf)\" d=\"M 48.415938 268.128 \r\n",
       "L 494.815937 268.128 \r\n",
>>>>>>> Stashed changes
=======
       "      <path clip-path=\"url(#pff11f737f2)\" d=\"M 45.915938 268.128 \r\n",
       "L 492.315937 268.128 \r\n",
>>>>>>> parent of 8a35f53 (Редакция №5)
       "\" style=\"fill:none;stroke:#b0b0b0;stroke-linecap:square;stroke-width:0.8;\"/>\r\n",
       "     </g>\r\n",
       "     <g id=\"line2d_30\">\r\n",
       "      <g>\r\n",
<<<<<<< HEAD
<<<<<<< Updated upstream
<<<<<<< Updated upstream
       "       <use style=\"stroke:#000000;stroke-width:0.8;\" x=\"45.915938\" xlink:href=\"#m4f2b11bec6\" y=\"268.128\"/>\r\n",
=======
       "       <use style=\"stroke:#000000;stroke-width:0.8;\" x=\"48.415938\" xlink:href=\"#mb1fc0c9490\" y=\"268.128\"/>\r\n",
>>>>>>> Stashed changes
=======
       "       <use style=\"stroke:#000000;stroke-width:0.8;\" x=\"48.415938\" xlink:href=\"#mb1fc0c9490\" y=\"268.128\"/>\r\n",
>>>>>>> Stashed changes
=======
       "       <use style=\"stroke:#000000;stroke-width:0.8;\" x=\"45.915938\" xlink:href=\"#m4f2b11bec6\" y=\"268.128\"/>\r\n",
>>>>>>> parent of 8a35f53 (Редакция №5)
       "      </g>\r\n",
       "     </g>\r\n",
       "     <g id=\"text_16\">\r\n",
       "      <!-- 0.4 -->\r\n",
       "      <g transform=\"translate(23.915938 272.29425)scale(0.12 -0.12)\">\r\n",
       "       <defs>\r\n",
       "        <path d=\"M 2978 1563 \r\n",
       "L 2978 1119 \r\n",
       "L 2409 1119 \r\n",
       "L 2409 0 \r\n",
       "L 1894 0 \r\n",
       "L 1894 1119 \r\n",
       "L 100 1119 \r\n",
       "L 100 1519 \r\n",
       "L 2066 4325 \r\n",
       "L 2409 4325 \r\n",
       "L 2409 1563 \r\n",
       "L 2978 1563 \r\n",
       "z\r\n",
       "M 1894 1563 \r\n",
       "L 1894 3666 \r\n",
       "L 406 1563 \r\n",
       "L 1894 1563 \r\n",
       "z\r\n",
       "\" id=\"TimesNewRomanPSMT-34\" transform=\"scale(0.015625)\"/>\r\n",
       "       </defs>\r\n",
       "       <use xlink:href=\"#TimesNewRomanPSMT-30\"/>\r\n",
       "       <use x=\"50\" xlink:href=\"#TimesNewRomanPSMT-2e\"/>\r\n",
       "       <use x=\"75\" xlink:href=\"#TimesNewRomanPSMT-34\"/>\r\n",
       "      </g>\r\n",
       "     </g>\r\n",
       "    </g>\r\n",
       "    <g id=\"ytick_6\">\r\n",
       "     <g id=\"line2d_31\">\r\n",
<<<<<<< HEAD
<<<<<<< Updated upstream
<<<<<<< Updated upstream
       "      <path clip-path=\"url(#pff11f737f2)\" d=\"M 45.915938 224.64 \r\n",
       "L 492.315937 224.64 \r\n",
=======
=======
>>>>>>> Stashed changes
       "      <path clip-path=\"url(#p6ae048cedf)\" d=\"M 48.415938 224.64 \r\n",
       "L 494.815937 224.64 \r\n",
>>>>>>> Stashed changes
=======
       "      <path clip-path=\"url(#pff11f737f2)\" d=\"M 45.915938 224.64 \r\n",
       "L 492.315937 224.64 \r\n",
>>>>>>> parent of 8a35f53 (Редакция №5)
       "\" style=\"fill:none;stroke:#b0b0b0;stroke-linecap:square;stroke-width:0.8;\"/>\r\n",
       "     </g>\r\n",
       "     <g id=\"line2d_32\">\r\n",
       "      <g>\r\n",
<<<<<<< HEAD
<<<<<<< Updated upstream
<<<<<<< Updated upstream
       "       <use style=\"stroke:#000000;stroke-width:0.8;\" x=\"45.915938\" xlink:href=\"#m4f2b11bec6\" y=\"224.64\"/>\r\n",
=======
       "       <use style=\"stroke:#000000;stroke-width:0.8;\" x=\"48.415938\" xlink:href=\"#mb1fc0c9490\" y=\"224.64\"/>\r\n",
>>>>>>> Stashed changes
=======
       "       <use style=\"stroke:#000000;stroke-width:0.8;\" x=\"48.415938\" xlink:href=\"#mb1fc0c9490\" y=\"224.64\"/>\r\n",
>>>>>>> Stashed changes
=======
       "       <use style=\"stroke:#000000;stroke-width:0.8;\" x=\"45.915938\" xlink:href=\"#m4f2b11bec6\" y=\"224.64\"/>\r\n",
>>>>>>> parent of 8a35f53 (Редакция №5)
       "      </g>\r\n",
       "     </g>\r\n",
       "     <g id=\"text_17\">\r\n",
       "      <!-- 0.5 -->\r\n",
       "      <g transform=\"translate(23.915938 228.80625)scale(0.12 -0.12)\">\r\n",
<<<<<<< HEAD
=======
       "      <g transform=\"translate(23.915938 229.500625)scale(0.14 -0.14)\">\r\n",
<<<<<<< Updated upstream
>>>>>>> Stashed changes
=======
>>>>>>> Stashed changes
=======
>>>>>>> parent of 8a35f53 (Редакция №5)
       "       <use xlink:href=\"#TimesNewRomanPSMT-30\"/>\r\n",
       "       <use x=\"50\" xlink:href=\"#TimesNewRomanPSMT-2e\"/>\r\n",
       "       <use x=\"75\" xlink:href=\"#TimesNewRomanPSMT-35\"/>\r\n",
       "      </g>\r\n",
       "     </g>\r\n",
       "    </g>\r\n",
       "    <g id=\"ytick_7\">\r\n",
       "     <g id=\"line2d_33\">\r\n",
<<<<<<< HEAD
<<<<<<< Updated upstream
<<<<<<< Updated upstream
       "      <path clip-path=\"url(#pff11f737f2)\" d=\"M 45.915938 181.152 \r\n",
       "L 492.315937 181.152 \r\n",
=======
=======
>>>>>>> Stashed changes
       "      <path clip-path=\"url(#p6ae048cedf)\" d=\"M 48.415938 181.152 \r\n",
       "L 494.815937 181.152 \r\n",
>>>>>>> Stashed changes
=======
       "      <path clip-path=\"url(#pff11f737f2)\" d=\"M 45.915938 181.152 \r\n",
       "L 492.315937 181.152 \r\n",
>>>>>>> parent of 8a35f53 (Редакция №5)
       "\" style=\"fill:none;stroke:#b0b0b0;stroke-linecap:square;stroke-width:0.8;\"/>\r\n",
       "     </g>\r\n",
       "     <g id=\"line2d_34\">\r\n",
       "      <g>\r\n",
<<<<<<< HEAD
<<<<<<< Updated upstream
<<<<<<< Updated upstream
       "       <use style=\"stroke:#000000;stroke-width:0.8;\" x=\"45.915938\" xlink:href=\"#m4f2b11bec6\" y=\"181.152\"/>\r\n",
=======
       "       <use style=\"stroke:#000000;stroke-width:0.8;\" x=\"48.415938\" xlink:href=\"#mb1fc0c9490\" y=\"181.152\"/>\r\n",
>>>>>>> Stashed changes
=======
       "       <use style=\"stroke:#000000;stroke-width:0.8;\" x=\"48.415938\" xlink:href=\"#mb1fc0c9490\" y=\"181.152\"/>\r\n",
>>>>>>> Stashed changes
=======
       "       <use style=\"stroke:#000000;stroke-width:0.8;\" x=\"45.915938\" xlink:href=\"#m4f2b11bec6\" y=\"181.152\"/>\r\n",
>>>>>>> parent of 8a35f53 (Редакция №5)
       "      </g>\r\n",
       "     </g>\r\n",
       "     <g id=\"text_18\">\r\n",
       "      <!-- 0.6 -->\r\n",
       "      <g transform=\"translate(23.915938 185.31825)scale(0.12 -0.12)\">\r\n",
       "       <defs>\r\n",
       "        <path d=\"M 2869 4325 \r\n",
       "L 2869 4209 \r\n",
       "Q 2456 4169 2195 4045 \r\n",
       "Q 1934 3922 1679 3669 \r\n",
       "Q 1425 3416 1258 3105 \r\n",
       "Q 1091 2794 978 2366 \r\n",
       "Q 1428 2675 1881 2675 \r\n",
       "Q 2316 2675 2634 2325 \r\n",
       "Q 2953 1975 2953 1425 \r\n",
       "Q 2953 894 2631 456 \r\n",
       "Q 2244 -75 1606 -75 \r\n",
       "Q 1172 -75 869 213 \r\n",
       "Q 275 772 275 1663 \r\n",
       "Q 275 2231 503 2743 \r\n",
       "Q 731 3256 1154 3653 \r\n",
       "Q 1578 4050 1965 4187 \r\n",
       "Q 2353 4325 2688 4325 \r\n",
       "L 2869 4325 \r\n",
       "z\r\n",
       "M 925 2138 \r\n",
       "Q 869 1716 869 1456 \r\n",
       "Q 869 1156 980 804 \r\n",
       "Q 1091 453 1309 247 \r\n",
       "Q 1469 100 1697 100 \r\n",
       "Q 1969 100 2183 356 \r\n",
       "Q 2397 613 2397 1088 \r\n",
       "Q 2397 1622 2184 2012 \r\n",
       "Q 1972 2403 1581 2403 \r\n",
       "Q 1463 2403 1327 2353 \r\n",
       "Q 1191 2303 925 2138 \r\n",
       "z\r\n",
       "\" id=\"TimesNewRomanPSMT-36\" transform=\"scale(0.015625)\"/>\r\n",
       "       </defs>\r\n",
       "       <use xlink:href=\"#TimesNewRomanPSMT-30\"/>\r\n",
       "       <use x=\"50\" xlink:href=\"#TimesNewRomanPSMT-2e\"/>\r\n",
       "       <use x=\"75\" xlink:href=\"#TimesNewRomanPSMT-36\"/>\r\n",
       "      </g>\r\n",
       "     </g>\r\n",
       "    </g>\r\n",
       "    <g id=\"ytick_8\">\r\n",
       "     <g id=\"line2d_35\">\r\n",
<<<<<<< HEAD
<<<<<<< Updated upstream
<<<<<<< Updated upstream
       "      <path clip-path=\"url(#pff11f737f2)\" d=\"M 45.915938 137.664 \r\n",
       "L 492.315937 137.664 \r\n",
=======
=======
>>>>>>> Stashed changes
       "      <path clip-path=\"url(#p6ae048cedf)\" d=\"M 48.415938 137.664 \r\n",
       "L 494.815937 137.664 \r\n",
>>>>>>> Stashed changes
=======
       "      <path clip-path=\"url(#pff11f737f2)\" d=\"M 45.915938 137.664 \r\n",
       "L 492.315937 137.664 \r\n",
>>>>>>> parent of 8a35f53 (Редакция №5)
       "\" style=\"fill:none;stroke:#b0b0b0;stroke-linecap:square;stroke-width:0.8;\"/>\r\n",
       "     </g>\r\n",
       "     <g id=\"line2d_36\">\r\n",
       "      <g>\r\n",
<<<<<<< HEAD
<<<<<<< Updated upstream
<<<<<<< Updated upstream
       "       <use style=\"stroke:#000000;stroke-width:0.8;\" x=\"45.915938\" xlink:href=\"#m4f2b11bec6\" y=\"137.664\"/>\r\n",
=======
       "       <use style=\"stroke:#000000;stroke-width:0.8;\" x=\"48.415938\" xlink:href=\"#mb1fc0c9490\" y=\"137.664\"/>\r\n",
>>>>>>> Stashed changes
=======
       "       <use style=\"stroke:#000000;stroke-width:0.8;\" x=\"48.415938\" xlink:href=\"#mb1fc0c9490\" y=\"137.664\"/>\r\n",
>>>>>>> Stashed changes
=======
       "       <use style=\"stroke:#000000;stroke-width:0.8;\" x=\"45.915938\" xlink:href=\"#m4f2b11bec6\" y=\"137.664\"/>\r\n",
>>>>>>> parent of 8a35f53 (Редакция №5)
       "      </g>\r\n",
       "     </g>\r\n",
       "     <g id=\"text_19\">\r\n",
       "      <!-- 0.7 -->\r\n",
       "      <g transform=\"translate(23.915938 141.83025)scale(0.12 -0.12)\">\r\n",
<<<<<<< HEAD
=======
       "      <g transform=\"translate(23.915938 142.524625)scale(0.14 -0.14)\">\r\n",
<<<<<<< Updated upstream
>>>>>>> Stashed changes
=======
>>>>>>> Stashed changes
=======
>>>>>>> parent of 8a35f53 (Редакция №5)
       "       <use xlink:href=\"#TimesNewRomanPSMT-30\"/>\r\n",
       "       <use x=\"50\" xlink:href=\"#TimesNewRomanPSMT-2e\"/>\r\n",
       "       <use x=\"75\" xlink:href=\"#TimesNewRomanPSMT-37\"/>\r\n",
       "      </g>\r\n",
       "     </g>\r\n",
       "    </g>\r\n",
       "    <g id=\"ytick_9\">\r\n",
       "     <g id=\"line2d_37\">\r\n",
<<<<<<< HEAD
<<<<<<< Updated upstream
<<<<<<< Updated upstream
       "      <path clip-path=\"url(#pff11f737f2)\" d=\"M 45.915938 94.176 \r\n",
       "L 492.315937 94.176 \r\n",
=======
=======
>>>>>>> Stashed changes
       "      <path clip-path=\"url(#p6ae048cedf)\" d=\"M 48.415938 94.176 \r\n",
       "L 494.815937 94.176 \r\n",
>>>>>>> Stashed changes
=======
       "      <path clip-path=\"url(#pff11f737f2)\" d=\"M 45.915938 94.176 \r\n",
       "L 492.315937 94.176 \r\n",
>>>>>>> parent of 8a35f53 (Редакция №5)
       "\" style=\"fill:none;stroke:#b0b0b0;stroke-linecap:square;stroke-width:0.8;\"/>\r\n",
       "     </g>\r\n",
       "     <g id=\"line2d_38\">\r\n",
       "      <g>\r\n",
<<<<<<< HEAD
<<<<<<< Updated upstream
<<<<<<< Updated upstream
       "       <use style=\"stroke:#000000;stroke-width:0.8;\" x=\"45.915938\" xlink:href=\"#m4f2b11bec6\" y=\"94.176\"/>\r\n",
=======
       "       <use style=\"stroke:#000000;stroke-width:0.8;\" x=\"48.415938\" xlink:href=\"#mb1fc0c9490\" y=\"94.176\"/>\r\n",
>>>>>>> Stashed changes
=======
       "       <use style=\"stroke:#000000;stroke-width:0.8;\" x=\"48.415938\" xlink:href=\"#mb1fc0c9490\" y=\"94.176\"/>\r\n",
>>>>>>> Stashed changes
=======
       "       <use style=\"stroke:#000000;stroke-width:0.8;\" x=\"45.915938\" xlink:href=\"#m4f2b11bec6\" y=\"94.176\"/>\r\n",
>>>>>>> parent of 8a35f53 (Редакция №5)
       "      </g>\r\n",
       "     </g>\r\n",
       "     <g id=\"text_20\">\r\n",
       "      <!-- 0.8 -->\r\n",
       "      <g transform=\"translate(23.915938 98.34225)scale(0.12 -0.12)\">\r\n",
       "       <defs>\r\n",
       "        <path d=\"M 1228 2134 \r\n",
       "Q 725 2547 579 2797 \r\n",
       "Q 434 3047 434 3316 \r\n",
       "Q 434 3728 753 4026 \r\n",
       "Q 1072 4325 1600 4325 \r\n",
       "Q 2113 4325 2425 4047 \r\n",
       "Q 2738 3769 2738 3413 \r\n",
       "Q 2738 3175 2569 2928 \r\n",
       "Q 2400 2681 1866 2347 \r\n",
       "Q 2416 1922 2594 1678 \r\n",
       "Q 2831 1359 2831 1006 \r\n",
       "Q 2831 559 2490 242 \r\n",
       "Q 2150 -75 1597 -75 \r\n",
       "Q 994 -75 656 303 \r\n",
       "Q 388 606 388 966 \r\n",
       "Q 388 1247 577 1523 \r\n",
       "Q 766 1800 1228 2134 \r\n",
       "z\r\n",
       "M 1719 2469 \r\n",
       "Q 2094 2806 2194 3001 \r\n",
       "Q 2294 3197 2294 3444 \r\n",
       "Q 2294 3772 2109 3958 \r\n",
       "Q 1925 4144 1606 4144 \r\n",
       "Q 1288 4144 1088 3959 \r\n",
       "Q 888 3775 888 3528 \r\n",
       "Q 888 3366 970 3203 \r\n",
       "Q 1053 3041 1206 2894 \r\n",
       "L 1719 2469 \r\n",
       "z\r\n",
       "M 1375 2016 \r\n",
       "Q 1116 1797 991 1539 \r\n",
       "Q 866 1281 866 981 \r\n",
       "Q 866 578 1086 336 \r\n",
       "Q 1306 94 1647 94 \r\n",
       "Q 1984 94 2187 284 \r\n",
       "Q 2391 475 2391 747 \r\n",
       "Q 2391 972 2272 1150 \r\n",
       "Q 2050 1481 1375 2016 \r\n",
       "z\r\n",
       "\" id=\"TimesNewRomanPSMT-38\" transform=\"scale(0.015625)\"/>\r\n",
       "       </defs>\r\n",
       "       <use xlink:href=\"#TimesNewRomanPSMT-30\"/>\r\n",
       "       <use x=\"50\" xlink:href=\"#TimesNewRomanPSMT-2e\"/>\r\n",
       "       <use x=\"75\" xlink:href=\"#TimesNewRomanPSMT-38\"/>\r\n",
       "      </g>\r\n",
       "     </g>\r\n",
       "    </g>\r\n",
       "    <g id=\"ytick_10\">\r\n",
       "     <g id=\"line2d_39\">\r\n",
<<<<<<< HEAD
<<<<<<< Updated upstream
<<<<<<< Updated upstream
       "      <path clip-path=\"url(#pff11f737f2)\" d=\"M 45.915938 50.688 \r\n",
       "L 492.315937 50.688 \r\n",
=======
=======
>>>>>>> Stashed changes
       "      <path clip-path=\"url(#p6ae048cedf)\" d=\"M 48.415938 50.688 \r\n",
       "L 494.815937 50.688 \r\n",
>>>>>>> Stashed changes
=======
       "      <path clip-path=\"url(#pff11f737f2)\" d=\"M 45.915938 50.688 \r\n",
       "L 492.315937 50.688 \r\n",
>>>>>>> parent of 8a35f53 (Редакция №5)
       "\" style=\"fill:none;stroke:#b0b0b0;stroke-linecap:square;stroke-width:0.8;\"/>\r\n",
       "     </g>\r\n",
       "     <g id=\"line2d_40\">\r\n",
       "      <g>\r\n",
<<<<<<< HEAD
<<<<<<< Updated upstream
<<<<<<< Updated upstream
       "       <use style=\"stroke:#000000;stroke-width:0.8;\" x=\"45.915938\" xlink:href=\"#m4f2b11bec6\" y=\"50.688\"/>\r\n",
=======
       "       <use style=\"stroke:#000000;stroke-width:0.8;\" x=\"48.415938\" xlink:href=\"#mb1fc0c9490\" y=\"50.688\"/>\r\n",
>>>>>>> Stashed changes
=======
       "       <use style=\"stroke:#000000;stroke-width:0.8;\" x=\"48.415938\" xlink:href=\"#mb1fc0c9490\" y=\"50.688\"/>\r\n",
>>>>>>> Stashed changes
=======
       "       <use style=\"stroke:#000000;stroke-width:0.8;\" x=\"45.915938\" xlink:href=\"#m4f2b11bec6\" y=\"50.688\"/>\r\n",
>>>>>>> parent of 8a35f53 (Редакция №5)
       "      </g>\r\n",
       "     </g>\r\n",
       "     <g id=\"text_21\">\r\n",
       "      <!-- 0.9 -->\r\n",
       "      <g transform=\"translate(23.915938 54.85425)scale(0.12 -0.12)\">\r\n",
       "       <defs>\r\n",
       "        <path d=\"M 338 -88 \r\n",
       "L 338 28 \r\n",
       "Q 744 34 1094 217 \r\n",
       "Q 1444 400 1770 856 \r\n",
       "Q 2097 1313 2225 1859 \r\n",
       "Q 1734 1544 1338 1544 \r\n",
       "Q 891 1544 572 1889 \r\n",
       "Q 253 2234 253 2806 \r\n",
       "Q 253 3363 572 3797 \r\n",
       "Q 956 4325 1575 4325 \r\n",
       "Q 2097 4325 2469 3894 \r\n",
       "Q 2925 3359 2925 2575 \r\n",
       "Q 2925 1869 2578 1258 \r\n",
       "Q 2231 647 1613 244 \r\n",
       "Q 1109 -88 516 -88 \r\n",
       "L 338 -88 \r\n",
       "z\r\n",
       "M 2275 2091 \r\n",
       "Q 2331 2497 2331 2741 \r\n",
       "Q 2331 3044 2228 3395 \r\n",
       "Q 2125 3747 1936 3934 \r\n",
       "Q 1747 4122 1506 4122 \r\n",
       "Q 1228 4122 1018 3872 \r\n",
       "Q 809 3622 809 3128 \r\n",
       "Q 809 2469 1088 2097 \r\n",
       "Q 1291 1828 1588 1828 \r\n",
       "Q 1731 1828 1928 1897 \r\n",
       "Q 2125 1966 2275 2091 \r\n",
       "z\r\n",
       "\" id=\"TimesNewRomanPSMT-39\" transform=\"scale(0.015625)\"/>\r\n",
       "       </defs>\r\n",
       "       <use xlink:href=\"#TimesNewRomanPSMT-30\"/>\r\n",
       "       <use x=\"50\" xlink:href=\"#TimesNewRomanPSMT-2e\"/>\r\n",
       "       <use x=\"75\" xlink:href=\"#TimesNewRomanPSMT-39\"/>\r\n",
       "      </g>\r\n",
       "     </g>\r\n",
       "    </g>\r\n",
       "    <g id=\"text_22\">\r\n",
       "     <!-- $\\mathit{f_a}$ -->\r\n",
       "     <g transform=\"translate(16.92125 229.4)rotate(-90)scale(0.14 -0.14)\">\r\n",
       "      <defs>\r\n",
       "       <path d=\"M 262 2739 \r\n",
       "L 858 2739 \r\n",
       "Q 1107 3546 1318 3846 \r\n",
       "Q 1664 4339 2163 4339 \r\n",
       "Q 2400 4339 2557 4227 \r\n",
       "Q 2714 4115 2714 3942 \r\n",
       "Q 2714 3834 2634 3750 \r\n",
       "Q 2554 3667 2445 3667 \r\n",
       "Q 2355 3667 2281 3737 \r\n",
       "Q 2208 3808 2208 3917 \r\n",
       "Q 2208 3981 2240 4038 \r\n",
       "Q 2272 4096 2272 4115 \r\n",
       "Q 2272 4198 2131 4198 \r\n",
       "Q 1862 4198 1676 3849 \r\n",
       "Q 1491 3501 1350 2739 \r\n",
       "L 2035 2739 \r\n",
       "L 1997 2534 \r\n",
       "L 1306 2534 \r\n",
       "L 845 486 \r\n",
       "Q 435 -1325 -435 -1325 \r\n",
       "Q -653 -1325 -797 -1213 \r\n",
       "Q -941 -1101 -941 -934 \r\n",
       "Q -941 -826 -870 -746 \r\n",
       "Q -800 -666 -698 -666 \r\n",
       "Q -589 -666 -521 -733 \r\n",
       "Q -454 -800 -454 -902 \r\n",
       "Q -454 -947 -483 -1001 \r\n",
       "Q -512 -1056 -512 -1088 \r\n",
       "Q -512 -1190 -384 -1190 \r\n",
       "Q 13 -1190 237 -154 \r\n",
       "L 800 2534 \r\n",
       "L 218 2534 \r\n",
       "L 262 2739 \r\n",
       "z\r\n",
       "\" id=\"STIXGeneral-Italic-66\" transform=\"scale(0.015625)\"/>\r\n",
       "      </defs>\r\n",
       "      <use transform=\"translate(0 0.203125)\" xlink:href=\"#STIXGeneral-Italic-66\"/>\r\n",
       "      <use transform=\"translate(27.799988 -13.025)scale(0.7)\" xlink:href=\"#STIXGeneral-Italic-61\"/>\r\n",
       "     </g>\r\n",
       "    </g>\r\n",
       "   </g>\r\n",
       "   <g id=\"line2d_41\">\r\n",
<<<<<<< HEAD
<<<<<<< Updated upstream
<<<<<<< Updated upstream
=======
>>>>>>> parent of 8a35f53 (Редакция №5)
       "    <path clip-path=\"url(#pff11f737f2)\" d=\"M 157.147085 250.835295 \r\n",
       "L 161.937291 254.669477 \r\n",
       "L 167.01982 258.435249 \r\n",
       "L 171.989765 261.852045 \r\n",
       "L 177.24615 265.213202 \r\n",
       "L 182.809227 268.519937 \r\n",
       "L 188.700944 271.773435 \r\n",
       "L 194.945109 274.974848 \r\n",
       "L 201.567568 278.125297 \r\n",
       "L 208.596408 281.225872 \r\n",
       "L 216.062184 284.277634 \r\n",
       "L 223.998162 287.281616 \r\n",
       "L 232.440601 290.238823 \r\n",
       "L 241.429063 293.150233 \r\n",
       "L 251.006757 296.016799 \r\n",
       "L 261.220926 298.839448 \r\n",
       "L 272.123284 301.619085 \r\n",
       "L 283.770501 304.35659 \r\n",
       "L 296.224747 307.05282 \r\n",
       "L 309.554312 309.70861 \r\n",
       "L 323.834293 312.324776 \r\n",
       "L 339.147382 314.902111 \r\n",
       "L 355.584741 317.441388 \r\n",
       "L 373.247008 319.943362 \r\n",
       "L 392.245429 322.408769 \r\n",
       "L 412.703137 324.838325 \r\n",
       "L 429.085636 326.637387 \r\n",
       "L 429.085636 326.637387 \r\n",
       "\" style=\"fill:none;stroke:#008000;stroke-linecap:square;stroke-width:1.5;\"/>\r\n",
       "   </g>\r\n",
       "   <g id=\"line2d_42\">\r\n",
       "    <path clip-path=\"url(#pff11f737f2)\" d=\"M 100.015871 424.207423 \r\n",
       "L 102.992341 409.441729 \r\n",
       "L 106.083425 395.253916 \r\n",
       "L 109.27949 381.654376 \r\n",
       "L 112.568549 368.652544 \r\n",
       "L 115.936132 356.256989 \r\n",
       "L 119.365213 344.475496 \r\n",
       "L 122.836177 333.315135 \r\n",
       "L 126.552651 322.123105 \r\n",
       "L 130.29392 311.561158 \r\n",
       "L 134.033514 301.634974 \r\n",
       "L 138.015879 291.685702 \r\n",
       "L 141.968878 282.379295 \r\n",
       "L 146.16747 273.053546 \r\n",
       "L 150.630424 263.708813 \r\n",
       "L 155.029178 255.014868 \r\n",
       "L 156.790127 251.666822 \r\n",
       "L 156.790127 251.666822 \r\n",
       "\" style=\"fill:none;stroke:#0000ff;stroke-linecap:square;stroke-width:1.5;\"/>\r\n",
       "   </g>\r\n",
       "   <g id=\"line2d_43\">\r\n",
       "    <path clip-path=\"url(#pff11f737f2)\" d=\"M 100.015871 423.484266 \r\n",
       "L 146.788391 409.812893 \r\n",
       "L 382.571798 341.227868 \r\n",
       "L 429.085636 327.442637 \r\n",
       "L 429.085636 327.442637 \r\n",
<<<<<<< HEAD
=======
=======
>>>>>>> Stashed changes
       "    <path clip-path=\"url(#p6ae048cedf)\" d=\"M 159.647085 250.835295 \r\n",
       "L 164.437291 254.669477 \r\n",
       "L 169.51982 258.435249 \r\n",
       "L 174.489765 261.852045 \r\n",
       "L 179.74615 265.213202 \r\n",
       "L 185.309227 268.519937 \r\n",
       "L 191.200944 271.773435 \r\n",
       "L 197.445109 274.974848 \r\n",
       "L 204.067568 278.125297 \r\n",
       "L 211.096408 281.225872 \r\n",
       "L 218.562184 284.277634 \r\n",
       "L 226.498162 287.281616 \r\n",
       "L 234.940601 290.238823 \r\n",
       "L 243.929063 293.150233 \r\n",
       "L 253.506757 296.016799 \r\n",
       "L 263.720926 298.839448 \r\n",
       "L 274.623284 301.619085 \r\n",
       "L 286.270501 304.35659 \r\n",
       "L 298.724747 307.05282 \r\n",
       "L 312.054312 309.70861 \r\n",
       "L 326.334293 312.324776 \r\n",
       "L 341.647382 314.902111 \r\n",
       "L 358.084741 317.441388 \r\n",
       "L 375.747008 319.943362 \r\n",
       "L 394.745429 322.408769 \r\n",
       "L 415.203137 324.838325 \r\n",
       "L 431.585636 326.637387 \r\n",
       "L 431.585636 326.637387 \r\n",
       "\" style=\"fill:none;stroke:#008000;stroke-linecap:square;stroke-width:1.5;\"/>\r\n",
       "   </g>\r\n",
       "   <g id=\"line2d_42\">\r\n",
       "    <path clip-path=\"url(#p6ae048cedf)\" d=\"M 102.515871 424.207423 \r\n",
       "L 105.492341 409.441729 \r\n",
       "L 108.583425 395.253916 \r\n",
       "L 111.77949 381.654376 \r\n",
       "L 115.068549 368.652544 \r\n",
       "L 118.436132 356.256989 \r\n",
       "L 121.865213 344.475496 \r\n",
       "L 125.336177 333.315135 \r\n",
       "L 129.052651 322.123105 \r\n",
       "L 132.79392 311.561158 \r\n",
       "L 136.533514 301.634974 \r\n",
       "L 140.515879 291.685702 \r\n",
       "L 144.468878 282.379295 \r\n",
       "L 148.66747 273.053546 \r\n",
       "L 153.130424 263.708813 \r\n",
       "L 157.529178 255.014868 \r\n",
       "L 159.290127 251.666822 \r\n",
       "L 159.290127 251.666822 \r\n",
       "\" style=\"fill:none;stroke:#0000ff;stroke-linecap:square;stroke-width:1.5;\"/>\r\n",
       "   </g>\r\n",
       "   <g id=\"line2d_43\">\r\n",
       "    <path clip-path=\"url(#p6ae048cedf)\" d=\"M 102.515871 423.484266 \r\n",
       "L 149.288391 409.812893 \r\n",
       "L 385.071798 341.227868 \r\n",
       "L 431.585636 327.442637 \r\n",
       "L 431.585636 327.442637 \r\n",
<<<<<<< Updated upstream
>>>>>>> Stashed changes
=======
>>>>>>> Stashed changes
=======
>>>>>>> parent of 8a35f53 (Редакция №5)
       "\" style=\"fill:none;stroke:#ff0000;stroke-linecap:square;stroke-width:1.5;\"/>\r\n",
       "   </g>\r\n",
       "   <g id=\"line2d_44\">\r\n",
       "    <defs>\r\n",
       "     <path d=\"M 0 5 \r\n",
       "C 1.326016 5 2.597899 4.473168 3.535534 3.535534 \r\n",
       "C 4.473168 2.597899 5 1.326016 5 0 \r\n",
       "C 5 -1.326016 4.473168 -2.597899 3.535534 -3.535534 \r\n",
       "C 2.597899 -4.473168 1.326016 -5 0 -5 \r\n",
       "C -1.326016 -5 -2.597899 -4.473168 -3.535534 -3.535534 \r\n",
       "C -4.473168 -2.597899 -5 -1.326016 -5 0 \r\n",
       "C -5 1.326016 -4.473168 2.597899 -3.535534 3.535534 \r\n",
       "C -2.597899 4.473168 -1.326016 5 0 5 \r\n",
       "z\r\n",
<<<<<<< HEAD
<<<<<<< Updated upstream
<<<<<<< Updated upstream
=======
>>>>>>> parent of 8a35f53 (Редакция №5)
       "\" id=\"mb71f7c7224\" style=\"stroke:#000000;\"/>\r\n",
       "    </defs>\r\n",
       "    <g clip-path=\"url(#pff11f737f2)\">\r\n",
       "     <use style=\"fill:#00bfbf;stroke:#000000;\" x=\"157.206877\" xlink:href=\"#mb71f7c7224\" y=\"250.88501\"/>\r\n",
       "     <use style=\"fill:#00bfbf;stroke:#000000;\" x=\"431.081178\" xlink:href=\"#mb71f7c7224\" y=\"329.0112\"/>\r\n",
       "     <use style=\"fill:#00bfbf;stroke:#000000;\" x=\"100.140202\" xlink:href=\"#mb71f7c7224\" y=\"423.447618\"/>\r\n",
       "    </g>\r\n",
       "   </g>\r\n",
       "   <g id=\"line2d_45\">\r\n",
       "    <path clip-path=\"url(#pff11f737f2)\" d=\"M 63.771938 442.08 \r\n",
       "L 63.771938 7.2 \r\n",
       "\" style=\"fill:none;stroke:#ff0000;stroke-dasharray:5.55,2.4;stroke-dashoffset:0;stroke-width:1.5;\"/>\r\n",
       "   </g>\r\n",
       "   <g id=\"line2d_46\">\r\n",
       "    <path clip-path=\"url(#pff11f737f2)\" d=\"M 45.915938 50.688 \r\n",
       "L 492.315937 50.688 \r\n",
       "\" style=\"fill:none;stroke:#ff0000;stroke-dasharray:5.55,2.4;stroke-dashoffset:0;stroke-width:1.5;\"/>\r\n",
       "   </g>\r\n",
       "   <g id=\"patch_3\">\r\n",
       "    <path d=\"M 45.915938 442.08 \r\n",
       "L 45.915938 7.2 \r\n",
       "\" style=\"fill:none;stroke:#000000;stroke-linecap:square;stroke-linejoin:miter;stroke-width:0.8;\"/>\r\n",
       "   </g>\r\n",
       "   <g id=\"patch_4\">\r\n",
       "    <path d=\"M 492.315937 442.08 \r\n",
       "L 492.315937 7.2 \r\n",
       "\" style=\"fill:none;stroke:#000000;stroke-linecap:square;stroke-linejoin:miter;stroke-width:0.8;\"/>\r\n",
       "   </g>\r\n",
       "   <g id=\"patch_5\">\r\n",
       "    <path d=\"M 45.915938 442.08 \r\n",
       "L 492.315937 442.08 \r\n",
       "\" style=\"fill:none;stroke:#000000;stroke-linecap:square;stroke-linejoin:miter;stroke-width:0.8;\"/>\r\n",
       "   </g>\r\n",
       "   <g id=\"patch_6\">\r\n",
       "    <path d=\"M 45.915938 7.2 \r\n",
       "L 492.315937 7.2 \r\n",
<<<<<<< HEAD
=======
=======
>>>>>>> Stashed changes
       "\" id=\"mf9c41076f8\" style=\"stroke:#000000;\"/>\r\n",
       "    </defs>\r\n",
       "    <g clip-path=\"url(#p6ae048cedf)\">\r\n",
       "     <use style=\"fill:#00bfbf;stroke:#000000;\" x=\"159.706877\" xlink:href=\"#mf9c41076f8\" y=\"250.88501\"/>\r\n",
       "     <use style=\"fill:#00bfbf;stroke:#000000;\" x=\"433.581178\" xlink:href=\"#mf9c41076f8\" y=\"329.0112\"/>\r\n",
       "     <use style=\"fill:#00bfbf;stroke:#000000;\" x=\"102.640202\" xlink:href=\"#mf9c41076f8\" y=\"423.447618\"/>\r\n",
       "    </g>\r\n",
       "   </g>\r\n",
       "   <g id=\"line2d_45\">\r\n",
       "    <path clip-path=\"url(#p6ae048cedf)\" d=\"M 66.271938 442.08 \r\n",
       "L 66.271938 7.2 \r\n",
       "\" style=\"fill:none;stroke:#ff0000;stroke-dasharray:5.55,2.4;stroke-dashoffset:0;stroke-width:1.5;\"/>\r\n",
       "   </g>\r\n",
       "   <g id=\"line2d_46\">\r\n",
       "    <path clip-path=\"url(#p6ae048cedf)\" d=\"M 48.415938 50.688 \r\n",
       "L 494.815937 50.688 \r\n",
       "\" style=\"fill:none;stroke:#ff0000;stroke-dasharray:5.55,2.4;stroke-dashoffset:0;stroke-width:1.5;\"/>\r\n",
       "   </g>\r\n",
       "   <g id=\"patch_4\">\r\n",
       "    <path d=\"M 48.415938 442.08 \r\n",
       "L 48.415938 7.2 \r\n",
       "\" style=\"fill:none;stroke:#000000;stroke-linecap:square;stroke-linejoin:miter;stroke-width:0.8;\"/>\r\n",
       "   </g>\r\n",
       "   <g id=\"patch_5\">\r\n",
       "    <path d=\"M 494.815937 442.08 \r\n",
       "L 494.815937 7.2 \r\n",
       "\" style=\"fill:none;stroke:#000000;stroke-linecap:square;stroke-linejoin:miter;stroke-width:0.8;\"/>\r\n",
       "   </g>\r\n",
       "   <g id=\"patch_6\">\r\n",
       "    <path d=\"M 48.415938 442.08 \r\n",
       "L 494.815937 442.08 \r\n",
       "\" style=\"fill:none;stroke:#000000;stroke-linecap:square;stroke-linejoin:miter;stroke-width:0.8;\"/>\r\n",
       "   </g>\r\n",
       "   <g id=\"patch_7\">\r\n",
       "    <path d=\"M 48.415938 7.2 \r\n",
       "L 494.815937 7.2 \r\n",
>>>>>>> Stashed changes
=======
>>>>>>> parent of 8a35f53 (Редакция №5)
       "\" style=\"fill:none;stroke:#000000;stroke-linecap:square;stroke-linejoin:miter;stroke-width:0.8;\"/>\r\n",
       "   </g>\r\n",
       "   <g id=\"text_23\">\r\n",
       "    <!-- 1 -->\r\n",
<<<<<<< HEAD
<<<<<<< Updated upstream
<<<<<<< Updated upstream
       "    <g transform=\"translate(161.670877 250.88501)scale(0.14 -0.14)\">\r\n",
=======
       "    <g transform=\"translate(164.170877 250.88501)scale(0.14 -0.14)\">\r\n",
>>>>>>> Stashed changes
=======
       "    <g transform=\"translate(164.170877 250.88501)scale(0.14 -0.14)\">\r\n",
>>>>>>> Stashed changes
=======
       "    <g transform=\"translate(161.670877 250.88501)scale(0.14 -0.14)\">\r\n",
>>>>>>> parent of 8a35f53 (Редакция №5)
       "     <use xlink:href=\"#TimesNewRomanPSMT-31\"/>\r\n",
       "    </g>\r\n",
       "   </g>\r\n",
       "   <g id=\"text_24\">\r\n",
       "    <!-- 2 -->\r\n",
<<<<<<< HEAD
<<<<<<< Updated upstream
<<<<<<< Updated upstream
       "    <g transform=\"translate(437.330778 329.0112)scale(0.14 -0.14)\">\r\n",
=======
       "    <g transform=\"translate(439.830778 329.0112)scale(0.14 -0.14)\">\r\n",
>>>>>>> Stashed changes
=======
       "    <g transform=\"translate(439.830778 329.0112)scale(0.14 -0.14)\">\r\n",
>>>>>>> Stashed changes
=======
       "    <g transform=\"translate(437.330778 329.0112)scale(0.14 -0.14)\">\r\n",
>>>>>>> parent of 8a35f53 (Редакция №5)
       "     <use xlink:href=\"#TimesNewRomanPSMT-32\"/>\r\n",
       "    </g>\r\n",
       "   </g>\r\n",
       "   <g id=\"text_25\">\r\n",
       "    <!-- 3 -->\r\n",
<<<<<<< HEAD
<<<<<<< Updated upstream
<<<<<<< Updated upstream
       "    <g transform=\"translate(104.604202 416.924418)scale(0.14 -0.14)\">\r\n",
=======
       "    <g transform=\"translate(107.104202 416.924418)scale(0.14 -0.14)\">\r\n",
>>>>>>> Stashed changes
=======
       "    <g transform=\"translate(107.104202 416.924418)scale(0.14 -0.14)\">\r\n",
>>>>>>> Stashed changes
=======
       "    <g transform=\"translate(104.604202 416.924418)scale(0.14 -0.14)\">\r\n",
>>>>>>> parent of 8a35f53 (Редакция №5)
       "     <use xlink:href=\"#TimesNewRomanPSMT-33\"/>\r\n",
       "    </g>\r\n",
       "   </g>\r\n",
       "   <g id=\"text_26\">\r\n",
       "    <!-- $\\mathit{f_a}$ $=$ $\\mathit{f_{max}}$ -->\r\n",
       "    <g transform=\"translate(313.755937 41.9904)scale(0.14 -0.14)\">\r\n",
       "     <defs>\r\n",
       "      <path id=\"TimesNewRomanPSMT-20\" transform=\"scale(0.015625)\"/>\r\n",
       "      <path d=\"M 116 2759 \r\n",
       "L 3488 2759 \r\n",
       "L 3488 2503 \r\n",
       "L 116 2503 \r\n",
       "L 116 2759 \r\n",
       "z\r\n",
       "M 116 1741 \r\n",
       "L 3488 1741 \r\n",
       "L 3488 1484 \r\n",
       "L 116 1484 \r\n",
       "L 116 1741 \r\n",
       "z\r\n",
       "\" id=\"TimesNewRomanPSMT-3d\" transform=\"scale(0.015625)\"/>\r\n",
       "      <path d=\"M 4506 672 \r\n",
       "L 4474 627 \r\n",
       "Q 3981 -58 3552 -58 \r\n",
       "Q 3296 -58 3296 237 \r\n",
       "Q 3296 333 3379 659 \r\n",
       "L 3750 2112 \r\n",
       "Q 3795 2291 3795 2355 \r\n",
       "Q 3795 2413 3756 2451 \r\n",
       "Q 3718 2490 3667 2490 \r\n",
       "Q 3366 2490 2829 1741 \r\n",
       "Q 2592 1408 2457 1072 \r\n",
       "Q 2323 736 2138 0 \r\n",
       "L 1658 0 \r\n",
       "L 1830 595 \r\n",
       "Q 2266 2099 2266 2330 \r\n",
       "Q 2266 2490 2125 2490 \r\n",
       "Q 1965 2490 1702 2237 \r\n",
       "Q 1440 1984 1171 1574 \r\n",
       "Q 1011 1325 899 1043 \r\n",
       "Q 787 762 557 0 \r\n",
       "L 77 0 \r\n",
       "L 352 922 \r\n",
       "Q 704 2093 704 2381 \r\n",
       "Q 704 2522 442 2522 \r\n",
       "L 282 2522 \r\n",
       "L 282 2624 \r\n",
       "L 1318 2822 \r\n",
       "L 1338 2810 \r\n",
       "L 966 1472 \r\n",
       "Q 1798 2822 2374 2822 \r\n",
       "Q 2560 2822 2659 2720 \r\n",
       "Q 2758 2618 2758 2438 \r\n",
       "Q 2758 2195 2502 1466 \r\n",
       "Q 2842 2003 3069 2275 \r\n",
       "Q 3296 2547 3526 2694 \r\n",
       "Q 3731 2822 3930 2822 \r\n",
       "Q 4102 2822 4201 2710 \r\n",
       "Q 4301 2598 4301 2419 \r\n",
       "Q 4301 2336 4282 2240 \r\n",
       "L 3846 634 \r\n",
       "Q 3782 390 3782 346 \r\n",
       "Q 3782 243 3859 243 \r\n",
       "Q 4000 243 4275 582 \r\n",
       "L 4410 749 \r\n",
       "L 4506 672 \r\n",
       "z\r\n",
       "\" id=\"STIXGeneral-Italic-6d\" transform=\"scale(0.015625)\"/>\r\n",
       "      <path d=\"M 1555 2272 \r\n",
       "L 1632 1907 \r\n",
       "Q 1971 2426 2179 2624 \r\n",
       "Q 2387 2822 2598 2822 \r\n",
       "Q 2714 2822 2787 2755 \r\n",
       "Q 2861 2688 2861 2585 \r\n",
       "Q 2861 2483 2800 2419 \r\n",
       "Q 2739 2355 2643 2355 \r\n",
       "Q 2586 2355 2490 2409 \r\n",
       "Q 2394 2464 2310 2464 \r\n",
       "Q 2125 2464 1683 1690 \r\n",
       "Q 1683 1606 1734 1402 \r\n",
       "L 1939 544 \r\n",
       "Q 2003 282 2131 282 \r\n",
       "Q 2234 282 2432 538 \r\n",
       "Q 2451 563 2476 598 \r\n",
       "Q 2502 634 2521 662 \r\n",
       "Q 2541 691 2566 717 \r\n",
       "L 2662 659 \r\n",
       "Q 2387 230 2227 80 \r\n",
       "Q 2067 -70 1882 -70 \r\n",
       "Q 1728 -70 1645 26 \r\n",
       "Q 1562 122 1504 365 \r\n",
       "L 1318 1126 \r\n",
       "L 755 365 \r\n",
       "Q 557 96 432 13 \r\n",
       "Q 307 -70 147 -70 \r\n",
       "Q 0 -70 -86 0 \r\n",
       "Q -173 70 -173 198 \r\n",
       "Q -173 294 -112 361 \r\n",
       "Q -51 429 45 429 \r\n",
       "Q 122 429 250 358 \r\n",
       "Q 346 301 416 301 \r\n",
       "Q 525 301 742 614 \r\n",
       "L 1267 1357 \r\n",
       "L 1088 2150 \r\n",
       "Q 1024 2432 969 2509 \r\n",
       "Q 915 2586 794 2586 \r\n",
       "Q 717 2586 544 2541 \r\n",
       "L 429 2509 \r\n",
       "L 410 2611 \r\n",
       "L 480 2637 \r\n",
       "Q 992 2822 1229 2822 \r\n",
       "Q 1350 2822 1420 2707 \r\n",
       "Q 1491 2592 1555 2272 \r\n",
       "z\r\n",
       "\" id=\"STIXGeneral-Italic-78\" transform=\"scale(0.015625)\"/>\r\n",
       "     </defs>\r\n",
       "     <use transform=\"translate(0 0.203125)\" xlink:href=\"#STIXGeneral-Italic-66\"/>\r\n",
       "     <use transform=\"translate(27.799988 -13.025)scale(0.7)\" xlink:href=\"#STIXGeneral-Italic-61\"/>\r\n",
       "     <use transform=\"translate(67.279356 0.203125)\" xlink:href=\"#TimesNewRomanPSMT-20\"/>\r\n",
       "     <use transform=\"translate(107.835997 0.203125)\" xlink:href=\"#TimesNewRomanPSMT-3d\"/>\r\n",
       "     <use transform=\"translate(179.789122 0.203125)\" xlink:href=\"#TimesNewRomanPSMT-20\"/>\r\n",
       "     <use transform=\"translate(204.789122 0.203125)\" xlink:href=\"#STIXGeneral-Italic-66\"/>\r\n",
       "     <use transform=\"translate(232.58911 -13.025)scale(0.7)\" xlink:href=\"#STIXGeneral-Italic-6d\"/>\r\n",
       "     <use transform=\"translate(283.129097 -13.025)scale(0.7)\" xlink:href=\"#STIXGeneral-Italic-61\"/>\r\n",
       "     <use transform=\"translate(318.199091 -13.025)scale(0.7)\" xlink:href=\"#STIXGeneral-Italic-78\"/>\r\n",
       "    </g>\r\n",
       "   </g>\r\n",
       "   <g id=\"text_27\">\r\n",
       "    <!-- $\\mathit{v_a}$ $=$ $1$ -->\r\n",
       "    <g transform=\"translate(72.699938 224.64)scale(0.14 -0.14)\">\r\n",
<<<<<<< HEAD
=======
       "    <g transform=\"translate(75.199938 224.64)scale(0.14 -0.14)\">\r\n",
<<<<<<< Updated upstream
>>>>>>> Stashed changes
=======
>>>>>>> Stashed changes
=======
>>>>>>> parent of 8a35f53 (Редакция №5)
       "     <use transform=\"translate(0 0.421875)\" xlink:href=\"#STIXGeneral-Italic-76\"/>\r\n",
       "     <use transform=\"translate(44.399994 -12.80625)scale(0.7)\" xlink:href=\"#STIXGeneral-Italic-61\"/>\r\n",
       "     <use transform=\"translate(83.879362 0.421875)\" xlink:href=\"#TimesNewRomanPSMT-20\"/>\r\n",
       "     <use transform=\"translate(124.436003 0.421875)\" xlink:href=\"#TimesNewRomanPSMT-3d\"/>\r\n",
       "     <use transform=\"translate(196.389128 0.421875)\" xlink:href=\"#TimesNewRomanPSMT-20\"/>\r\n",
       "     <use transform=\"translate(221.389128 0.421875)\" xlink:href=\"#TimesNewRomanPSMT-31\"/>\r\n",
       "    </g>\r\n",
       "   </g>\r\n",
       "   <g id=\"legend_1\">\r\n",
<<<<<<< HEAD
<<<<<<< Updated upstream
<<<<<<< Updated upstream
=======
>>>>>>> parent of 8a35f53 (Редакция №5)
       "    <g id=\"patch_7\">\r\n",
       "     <path d=\"M 387.315937 436.08 \r\n",
       "L 483.915938 436.08 \r\n",
       "Q 486.315938 436.08 486.315938 433.68 \r\n",
       "L 486.315938 380.953125 \r\n",
       "Q 486.315938 378.553125 483.915938 378.553125 \r\n",
       "L 387.315937 378.553125 \r\n",
       "Q 384.915937 378.553125 384.915937 380.953125 \r\n",
       "L 384.915937 433.68 \r\n",
       "Q 384.915937 436.08 387.315937 436.08 \r\n",
<<<<<<< HEAD
=======
=======
>>>>>>> Stashed changes
       "    <g id=\"patch_8\">\r\n",
       "     <path d=\"M 372.315937 81.314687 \r\n",
       "L 485.015937 81.314687 \r\n",
       "Q 487.815937 81.314687 487.815937 78.514687 \r\n",
       "L 487.815937 17 \r\n",
       "Q 487.815937 14.2 485.015937 14.2 \r\n",
       "L 372.315937 14.2 \r\n",
       "Q 369.515937 14.2 369.515937 17 \r\n",
       "L 369.515937 78.514687 \r\n",
       "Q 369.515937 81.314687 372.315937 81.314687 \r\n",
<<<<<<< Updated upstream
>>>>>>> Stashed changes
=======
>>>>>>> Stashed changes
=======
>>>>>>> parent of 8a35f53 (Редакция №5)
       "z\r\n",
       "\" style=\"fill:#ffffff;opacity:0.8;stroke:#cccccc;stroke-linejoin:miter;\"/>\r\n",
       "    </g>\r\n",
       "    <g id=\"line2d_47\">\r\n",
<<<<<<< HEAD
<<<<<<< Updated upstream
<<<<<<< Updated upstream
       "     <path d=\"M 389.715937 387.553125 \r\n",
       "L 413.715937 387.553125 \r\n",
=======
       "     <path d=\"M 375.115937 24.7 \r\n",
       "L 403.115937 24.7 \r\n",
>>>>>>> Stashed changes
=======
       "     <path d=\"M 375.115937 24.7 \r\n",
       "L 403.115937 24.7 \r\n",
>>>>>>> Stashed changes
=======
       "     <path d=\"M 389.715937 387.553125 \r\n",
       "L 413.715937 387.553125 \r\n",
>>>>>>> parent of 8a35f53 (Редакция №5)
       "\" style=\"fill:none;stroke:#008000;stroke-linecap:square;stroke-width:1.5;\"/>\r\n",
       "    </g>\r\n",
       "    <g id=\"line2d_48\"/>\r\n",
       "    <g id=\"text_28\">\r\n",
       "     <!-- $\\mathit{p_a}$ $=$ $\\mathit{p_h}$ -->\r\n",
<<<<<<< HEAD
<<<<<<< Updated upstream
<<<<<<< Updated upstream
       "     <g transform=\"translate(423.315938 391.753125)scale(0.12 -0.12)\">\r\n",
=======
       "     <g transform=\"translate(414.315937 29.6)scale(0.14 -0.14)\">\r\n",
>>>>>>> Stashed changes
=======
       "     <g transform=\"translate(414.315937 29.6)scale(0.14 -0.14)\">\r\n",
>>>>>>> Stashed changes
=======
       "     <g transform=\"translate(423.315938 391.753125)scale(0.12 -0.12)\">\r\n",
>>>>>>> parent of 8a35f53 (Редакция №5)
       "      <defs>\r\n",
       "       <path d=\"M 1376 2739 \r\n",
       "L 1190 2099 \r\n",
       "Q 1670 2822 2285 2822 \r\n",
       "Q 2637 2822 2829 2611 \r\n",
       "Q 3021 2400 3021 2022 \r\n",
       "Q 3021 1235 2422 582 \r\n",
       "Q 1824 -70 1120 -70 \r\n",
       "Q 890 -70 678 38 \r\n",
       "Q 422 -1018 422 -1024 \r\n",
       "Q 422 -1126 508 -1168 \r\n",
       "Q 595 -1210 819 -1210 \r\n",
       "L 819 -1312 \r\n",
       "L -480 -1312 \r\n",
       "L -480 -1210 \r\n",
       "Q -275 -1203 -188 -1120 \r\n",
       "Q -102 -1037 -45 -806 \r\n",
       "L 691 1958 \r\n",
       "Q 794 2330 794 2413 \r\n",
       "Q 794 2586 512 2586 \r\n",
       "L 371 2586 \r\n",
       "L 358 2682 \r\n",
       "L 1357 2822 \r\n",
       "Q 1389 2822 1389 2797 \r\n",
       "Q 1382 2765 1376 2739 \r\n",
       "z\r\n",
       "M 2445 2003 \r\n",
       "Q 2445 2285 2352 2416 \r\n",
       "Q 2259 2547 2048 2547 \r\n",
       "Q 1798 2547 1548 2329 \r\n",
       "Q 1299 2112 1184 1818 \r\n",
       "Q 1043 1453 905 953 \r\n",
       "Q 768 454 768 294 \r\n",
       "Q 768 186 854 118 \r\n",
       "Q 941 51 1075 51 \r\n",
       "Q 1574 51 2003 659 \r\n",
       "Q 2445 1274 2445 2003 \r\n",
       "z\r\n",
       "\" id=\"STIXGeneral-Italic-70\" transform=\"scale(0.015625)\"/>\r\n",
       "       <path d=\"M 2976 755 \r\n",
       "L 3059 672 \r\n",
       "Q 2765 256 2566 99 \r\n",
       "Q 2368 -58 2125 -58 \r\n",
       "Q 1997 -58 1920 16 \r\n",
       "Q 1843 90 1843 211 \r\n",
       "Q 1843 320 1971 800 \r\n",
       "L 2323 2125 \r\n",
       "Q 2368 2304 2368 2336 \r\n",
       "Q 2368 2496 2189 2496 \r\n",
       "Q 2016 2496 1744 2240 \r\n",
       "Q 1472 1984 1216 1600 \r\n",
       "Q 1018 1293 902 1001 \r\n",
       "Q 787 710 602 0 \r\n",
       "L 122 0 \r\n",
       "L 1056 3546 \r\n",
       "Q 1139 3866 1139 3942 \r\n",
       "Q 1139 4019 1056 4060 \r\n",
       "Q 973 4102 877 4102 \r\n",
       "L 704 4102 \r\n",
       "L 704 4198 \r\n",
       "Q 1190 4256 1709 4371 \r\n",
       "L 1754 4333 \r\n",
       "L 979 1472 \r\n",
       "Q 1811 2822 2451 2822 \r\n",
       "Q 2662 2822 2764 2704 \r\n",
       "Q 2867 2586 2867 2394 \r\n",
       "Q 2867 2118 2560 1158 \r\n",
       "Q 2349 512 2349 358 \r\n",
       "Q 2349 243 2451 243 \r\n",
       "Q 2528 243 2621 336 \r\n",
       "Q 2714 429 2976 755 \r\n",
       "z\r\n",
       "\" id=\"STIXGeneral-Italic-68\" transform=\"scale(0.015625)\"/>\r\n",
       "      </defs>\r\n",
       "      <use transform=\"translate(0 0.90625)\" xlink:href=\"#STIXGeneral-Italic-70\"/>\r\n",
       "      <use transform=\"translate(50.399994 -12.321875)scale(0.7)\" xlink:href=\"#STIXGeneral-Italic-61\"/>\r\n",
       "      <use transform=\"translate(89.879362 0.90625)\" xlink:href=\"#TimesNewRomanPSMT-20\"/>\r\n",
       "      <use transform=\"translate(130.436003 0.90625)\" xlink:href=\"#TimesNewRomanPSMT-3d\"/>\r\n",
       "      <use transform=\"translate(202.389128 0.90625)\" xlink:href=\"#TimesNewRomanPSMT-20\"/>\r\n",
       "      <use transform=\"translate(227.389128 0.90625)\" xlink:href=\"#STIXGeneral-Italic-70\"/>\r\n",
       "      <use transform=\"translate(277.789122 -12.321875)scale(0.7)\" xlink:href=\"#STIXGeneral-Italic-68\"/>\r\n",
       "     </g>\r\n",
       "    </g>\r\n",
       "    <g id=\"line2d_49\">\r\n",
<<<<<<< HEAD
<<<<<<< Updated upstream
<<<<<<< Updated upstream
       "     <path d=\"M 389.715937 404.52 \r\n",
       "L 413.715937 404.52 \r\n",
=======
       "     <path d=\"M 375.115937 44.494687 \r\n",
       "L 403.115937 44.494687 \r\n",
>>>>>>> Stashed changes
=======
       "     <path d=\"M 375.115937 44.494687 \r\n",
       "L 403.115937 44.494687 \r\n",
>>>>>>> Stashed changes
=======
       "     <path d=\"M 389.715937 404.52 \r\n",
       "L 413.715937 404.52 \r\n",
>>>>>>> parent of 8a35f53 (Редакция №5)
       "\" style=\"fill:none;stroke:#0000ff;stroke-linecap:square;stroke-width:1.5;\"/>\r\n",
       "    </g>\r\n",
       "    <g id=\"line2d_50\"/>\r\n",
       "    <g id=\"text_29\">\r\n",
       "     <!-- $\\mathit{I}_{уд}$ $=$ $\\mathit{I}_{уд min}$ -->\r\n",
<<<<<<< HEAD
<<<<<<< Updated upstream
<<<<<<< Updated upstream
       "     <g transform=\"translate(423.315938 408.72)scale(0.12 -0.12)\">\r\n",
=======
       "     <g transform=\"translate(414.315937 49.394687)scale(0.14 -0.14)\">\r\n",
>>>>>>> Stashed changes
=======
       "     <g transform=\"translate(414.315937 49.394687)scale(0.14 -0.14)\">\r\n",
>>>>>>> Stashed changes
=======
       "     <g transform=\"translate(423.315938 408.72)scale(0.12 -0.12)\">\r\n",
>>>>>>> parent of 8a35f53 (Редакция №5)
       "      <defs>\r\n",
       "       <path d=\"M 2458 4179 \r\n",
       "L 2458 4077 \r\n",
       "Q 2189 4045 2102 3961 \r\n",
       "Q 2016 3878 1933 3584 \r\n",
       "L 1165 838 \r\n",
       "Q 1069 499 1069 352 \r\n",
       "Q 1069 224 1149 179 \r\n",
       "Q 1229 134 1510 102 \r\n",
       "L 1510 0 \r\n",
       "L -51 0 \r\n",
       "L -51 102 \r\n",
       "Q 218 154 317 237 \r\n",
       "Q 416 320 486 582 \r\n",
       "L 1254 3405 \r\n",
       "Q 1338 3699 1338 3802 \r\n",
       "Q 1338 3930 1235 3997 \r\n",
       "Q 1133 4064 877 4077 \r\n",
       "L 877 4179 \r\n",
       "L 2458 4179 \r\n",
       "z\r\n",
       "\" id=\"STIXGeneral-Italic-49\" transform=\"scale(0.015625)\"/>\r\n",
       "       <path d=\"M 38 2863 \r\n",
       "L 1372 2863 \r\n",
       "L 1372 2747 \r\n",
       "L 1306 2747 \r\n",
       "Q 1166 2747 1095 2686 \r\n",
       "Q 1025 2625 1025 2534 \r\n",
       "Q 1025 2413 1128 2197 \r\n",
       "L 1825 753 \r\n",
       "L 2466 2334 \r\n",
       "Q 2519 2463 2519 2588 \r\n",
       "Q 2519 2644 2497 2672 \r\n",
       "Q 2472 2706 2419 2726 \r\n",
       "Q 2366 2747 2231 2747 \r\n",
       "L 2231 2863 \r\n",
       "L 3163 2863 \r\n",
       "L 3163 2747 \r\n",
       "Q 3047 2734 2984 2696 \r\n",
       "Q 2922 2659 2847 2556 \r\n",
       "Q 2819 2513 2741 2316 \r\n",
       "L 1575 -541 \r\n",
       "Q 1406 -956 1132 -1168 \r\n",
       "Q 859 -1381 606 -1381 \r\n",
       "Q 422 -1381 303 -1275 \r\n",
       "Q 184 -1169 184 -1031 \r\n",
       "Q 184 -900 270 -820 \r\n",
       "Q 356 -741 506 -741 \r\n",
       "Q 609 -741 788 -809 \r\n",
       "Q 913 -856 944 -856 \r\n",
       "Q 1038 -856 1148 -759 \r\n",
       "Q 1259 -663 1372 -384 \r\n",
       "L 1575 113 \r\n",
       "L 547 2272 \r\n",
       "Q 500 2369 397 2513 \r\n",
       "Q 319 2622 269 2659 \r\n",
       "Q 197 2709 38 2747 \r\n",
       "L 38 2863 \r\n",
       "z\r\n",
       "\" id=\"TimesNewRomanPSMT-443\" transform=\"scale(0.015625)\"/>\r\n",
       "       <path d=\"M 591 2863 \r\n",
       "L 3116 2863 \r\n",
       "L 3116 2744 \r\n",
       "Q 2903 2744 2833 2701 \r\n",
       "Q 2763 2659 2722 2596 \r\n",
       "Q 2681 2534 2681 2191 \r\n",
       "L 2681 775 \r\n",
       "Q 2681 328 2757 226 \r\n",
       "Q 2834 125 3116 116 \r\n",
       "L 3116 -794 \r\n",
       "L 2997 -794 \r\n",
       "Q 2984 -538 2870 -347 \r\n",
       "Q 2756 -156 2553 -78 \r\n",
       "Q 2350 0 1953 0 \r\n",
       "L 1216 0 \r\n",
       "Q 872 0 678 -61 \r\n",
       "Q 484 -122 354 -315 \r\n",
       "Q 225 -509 197 -794 \r\n",
       "L 81 -794 \r\n",
       "L 81 116 \r\n",
       "Q 338 125 547 319 \r\n",
       "Q 756 513 915 1078 \r\n",
       "Q 1075 1644 1075 2191 \r\n",
       "Q 1075 2728 591 2744 \r\n",
       "L 591 2863 \r\n",
       "z\r\n",
       "M 1281 2659 \r\n",
       "L 1281 2488 \r\n",
       "Q 1281 953 725 203 \r\n",
       "L 1788 203 \r\n",
       "Q 2075 203 2119 251 \r\n",
       "Q 2163 300 2163 609 \r\n",
       "L 2163 2659 \r\n",
       "L 1281 2659 \r\n",
       "z\r\n",
       "\" id=\"TimesNewRomanPSMT-434\" transform=\"scale(0.015625)\"/>\r\n",
       "       <path d=\"M 1050 2338 \r\n",
       "Q 1363 2650 1419 2697 \r\n",
       "Q 1559 2816 1721 2881 \r\n",
       "Q 1884 2947 2044 2947 \r\n",
       "Q 2313 2947 2506 2790 \r\n",
       "Q 2700 2634 2766 2338 \r\n",
       "Q 3088 2713 3309 2830 \r\n",
       "Q 3531 2947 3766 2947 \r\n",
       "Q 3994 2947 4170 2830 \r\n",
       "Q 4347 2713 4450 2447 \r\n",
       "Q 4519 2266 4519 1878 \r\n",
       "L 4519 647 \r\n",
       "Q 4519 378 4559 278 \r\n",
       "Q 4591 209 4675 161 \r\n",
       "Q 4759 113 4950 113 \r\n",
       "L 4950 0 \r\n",
       "L 3538 0 \r\n",
       "L 3538 113 \r\n",
       "L 3597 113 \r\n",
       "Q 3781 113 3884 184 \r\n",
       "Q 3956 234 3988 344 \r\n",
       "Q 4000 397 4000 647 \r\n",
       "L 4000 1878 \r\n",
       "Q 4000 2228 3916 2372 \r\n",
       "Q 3794 2572 3525 2572 \r\n",
       "Q 3359 2572 3192 2489 \r\n",
       "Q 3025 2406 2788 2181 \r\n",
       "L 2781 2147 \r\n",
       "L 2788 2013 \r\n",
       "L 2788 647 \r\n",
       "Q 2788 353 2820 281 \r\n",
       "Q 2853 209 2943 161 \r\n",
       "Q 3034 113 3253 113 \r\n",
       "L 3253 0 \r\n",
       "L 1806 0 \r\n",
       "L 1806 113 \r\n",
       "Q 2044 113 2133 169 \r\n",
       "Q 2222 225 2256 338 \r\n",
       "Q 2272 391 2272 647 \r\n",
       "L 2272 1878 \r\n",
       "Q 2272 2228 2169 2381 \r\n",
       "Q 2031 2581 1784 2581 \r\n",
       "Q 1616 2581 1450 2491 \r\n",
       "Q 1191 2353 1050 2181 \r\n",
       "L 1050 647 \r\n",
       "Q 1050 366 1089 281 \r\n",
       "Q 1128 197 1204 155 \r\n",
       "Q 1281 113 1516 113 \r\n",
       "L 1516 0 \r\n",
       "L 100 0 \r\n",
       "L 100 113 \r\n",
       "Q 297 113 375 155 \r\n",
       "Q 453 197 493 289 \r\n",
       "Q 534 381 534 647 \r\n",
       "L 534 1741 \r\n",
       "Q 534 2213 506 2350 \r\n",
       "Q 484 2453 437 2492 \r\n",
       "Q 391 2531 309 2531 \r\n",
       "Q 222 2531 100 2484 \r\n",
       "L 53 2597 \r\n",
       "L 916 2947 \r\n",
       "L 1050 2947 \r\n",
       "L 1050 2338 \r\n",
       "z\r\n",
       "\" id=\"TimesNewRomanPSMT-6d\" transform=\"scale(0.015625)\"/>\r\n",
       "       <path d=\"M 928 4444 \r\n",
       "Q 1059 4444 1151 4351 \r\n",
       "Q 1244 4259 1244 4128 \r\n",
       "Q 1244 3997 1151 3903 \r\n",
       "Q 1059 3809 928 3809 \r\n",
       "Q 797 3809 703 3903 \r\n",
       "Q 609 3997 609 4128 \r\n",
       "Q 609 4259 701 4351 \r\n",
       "Q 794 4444 928 4444 \r\n",
       "z\r\n",
       "M 1188 2947 \r\n",
       "L 1188 647 \r\n",
       "Q 1188 378 1227 289 \r\n",
       "Q 1266 200 1342 156 \r\n",
       "Q 1419 113 1622 113 \r\n",
       "L 1622 0 \r\n",
       "L 231 0 \r\n",
       "L 231 113 \r\n",
       "Q 441 113 512 153 \r\n",
       "Q 584 194 626 287 \r\n",
       "Q 669 381 669 647 \r\n",
       "L 669 1750 \r\n",
       "Q 669 2216 641 2353 \r\n",
       "Q 619 2453 572 2492 \r\n",
       "Q 525 2531 444 2531 \r\n",
       "Q 356 2531 231 2484 \r\n",
       "L 188 2597 \r\n",
       "L 1050 2947 \r\n",
       "L 1188 2947 \r\n",
       "z\r\n",
       "\" id=\"TimesNewRomanPSMT-69\" transform=\"scale(0.015625)\"/>\r\n",
       "       <path d=\"M 1034 2341 \r\n",
       "Q 1538 2947 1994 2947 \r\n",
       "Q 2228 2947 2397 2830 \r\n",
       "Q 2566 2713 2666 2444 \r\n",
       "Q 2734 2256 2734 1869 \r\n",
       "L 2734 647 \r\n",
       "Q 2734 375 2778 278 \r\n",
       "Q 2813 200 2889 156 \r\n",
       "Q 2966 113 3172 113 \r\n",
       "L 3172 0 \r\n",
       "L 1756 0 \r\n",
       "L 1756 113 \r\n",
       "L 1816 113 \r\n",
       "Q 2016 113 2095 173 \r\n",
       "Q 2175 234 2206 353 \r\n",
       "Q 2219 400 2219 647 \r\n",
       "L 2219 1819 \r\n",
       "Q 2219 2209 2117 2386 \r\n",
       "Q 2016 2563 1775 2563 \r\n",
       "Q 1403 2563 1034 2156 \r\n",
       "L 1034 647 \r\n",
       "Q 1034 356 1069 288 \r\n",
       "Q 1113 197 1189 155 \r\n",
       "Q 1266 113 1500 113 \r\n",
       "L 1500 0 \r\n",
       "L 84 0 \r\n",
       "L 84 113 \r\n",
       "L 147 113 \r\n",
       "Q 366 113 442 223 \r\n",
       "Q 519 334 519 647 \r\n",
       "L 519 1709 \r\n",
       "Q 519 2225 495 2337 \r\n",
       "Q 472 2450 423 2490 \r\n",
       "Q 375 2531 294 2531 \r\n",
       "Q 206 2531 84 2484 \r\n",
       "L 38 2597 \r\n",
       "L 900 2947 \r\n",
       "L 1034 2947 \r\n",
       "L 1034 2341 \r\n",
       "z\r\n",
       "\" id=\"TimesNewRomanPSMT-6e\" transform=\"scale(0.015625)\"/>\r\n",
       "      </defs>\r\n",
       "      <use transform=\"translate(0 0.703125)\" xlink:href=\"#STIXGeneral-Italic-49\"/>\r\n",
       "      <use transform=\"translate(33.299988 -25.059375)scale(0.7)\" xlink:href=\"#TimesNewRomanPSMT-443\"/>\r\n",
       "      <use transform=\"translate(68.299988 -25.059375)scale(0.7)\" xlink:href=\"#TimesNewRomanPSMT-434\"/>\r\n",
       "      <use transform=\"translate(108.208972 0.703125)\" xlink:href=\"#TimesNewRomanPSMT-20\"/>\r\n",
       "      <use transform=\"translate(148.765613 0.703125)\" xlink:href=\"#TimesNewRomanPSMT-3d\"/>\r\n",
       "      <use transform=\"translate(220.718738 0.703125)\" xlink:href=\"#TimesNewRomanPSMT-20\"/>\r\n",
       "      <use transform=\"translate(245.718738 0.703125)\" xlink:href=\"#STIXGeneral-Italic-49\"/>\r\n",
       "      <use transform=\"translate(279.018726 -25.059375)scale(0.7)\" xlink:href=\"#TimesNewRomanPSMT-443\"/>\r\n",
       "      <use transform=\"translate(314.018726 -25.059375)scale(0.7)\" xlink:href=\"#TimesNewRomanPSMT-434\"/>\r\n",
       "      <use transform=\"translate(349.63396 -25.059375)scale(0.7)\" xlink:href=\"#TimesNewRomanPSMT-6d\"/>\r\n",
       "      <use transform=\"translate(404.082202 -25.059375)scale(0.7)\" xlink:href=\"#TimesNewRomanPSMT-69\"/>\r\n",
       "      <use transform=\"translate(423.530444 -25.059375)scale(0.7)\" xlink:href=\"#TimesNewRomanPSMT-6e\"/>\r\n",
       "     </g>\r\n",
       "    </g>\r\n",
       "    <g id=\"line2d_51\">\r\n",
<<<<<<< HEAD
<<<<<<< Updated upstream
<<<<<<< Updated upstream
       "     <path d=\"M 389.715937 423.84 \r\n",
       "L 413.715937 423.84 \r\n",
=======
       "     <path d=\"M 375.115937 67.034687 \r\n",
       "L 403.115937 67.034687 \r\n",
>>>>>>> Stashed changes
=======
       "     <path d=\"M 375.115937 67.034687 \r\n",
       "L 403.115937 67.034687 \r\n",
>>>>>>> Stashed changes
=======
       "     <path d=\"M 389.715937 423.84 \r\n",
       "L 413.715937 423.84 \r\n",
>>>>>>> parent of 8a35f53 (Редакция №5)
       "\" style=\"fill:none;stroke:#ff0000;stroke-linecap:square;stroke-width:1.5;\"/>\r\n",
       "    </g>\r\n",
       "    <g id=\"line2d_52\"/>\r\n",
       "    <g id=\"text_30\">\r\n",
       "     <!-- $\\mathit{p}_{ном}$ $=$ $\\mathit{p}_{max}}$ -->\r\n",
<<<<<<< HEAD
<<<<<<< Updated upstream
<<<<<<< Updated upstream
       "     <g transform=\"translate(423.315938 428.04)scale(0.12 -0.12)\">\r\n",
=======
       "     <g transform=\"translate(414.315937 71.934687)scale(0.14 -0.14)\">\r\n",
>>>>>>> Stashed changes
=======
       "     <g transform=\"translate(414.315937 71.934687)scale(0.14 -0.14)\">\r\n",
>>>>>>> Stashed changes
=======
       "     <g transform=\"translate(423.315938 428.04)scale(0.12 -0.12)\">\r\n",
>>>>>>> parent of 8a35f53 (Редакция №5)
       "      <defs>\r\n",
       "       <path d=\"M 1094 1584 \r\n",
       "L 2331 1584 \r\n",
       "L 2331 2191 \r\n",
       "Q 2331 2463 2309 2545 \r\n",
       "Q 2288 2628 2202 2686 \r\n",
       "Q 2116 2744 1897 2744 \r\n",
       "L 1897 2863 \r\n",
       "L 3281 2863 \r\n",
       "L 3281 2744 \r\n",
       "Q 3088 2744 2998 2700 \r\n",
       "Q 2909 2656 2878 2573 \r\n",
       "Q 2847 2491 2847 2191 \r\n",
       "L 2847 672 \r\n",
       "Q 2847 400 2870 312 \r\n",
       "Q 2894 225 2984 170 \r\n",
       "Q 3075 116 3281 116 \r\n",
       "L 3281 0 \r\n",
       "L 1897 0 \r\n",
       "L 1897 116 \r\n",
       "Q 2156 116 2243 211 \r\n",
       "Q 2331 306 2331 672 \r\n",
       "L 2331 1381 \r\n",
       "L 1094 1381 \r\n",
       "L 1094 672 \r\n",
       "Q 1094 400 1117 312 \r\n",
       "Q 1141 225 1231 170 \r\n",
       "Q 1322 116 1528 116 \r\n",
       "L 1528 0 \r\n",
       "L 144 0 \r\n",
       "L 144 116 \r\n",
       "Q 422 116 500 217 \r\n",
       "Q 578 319 578 672 \r\n",
       "L 578 2191 \r\n",
       "Q 578 2463 554 2550 \r\n",
       "Q 531 2638 440 2691 \r\n",
       "Q 350 2744 144 2744 \r\n",
       "L 144 2863 \r\n",
       "L 1528 2863 \r\n",
       "L 1528 2744 \r\n",
       "Q 1334 2744 1245 2700 \r\n",
       "Q 1156 2656 1125 2573 \r\n",
       "Q 1094 2491 1094 2191 \r\n",
       "L 1094 1584 \r\n",
       "z\r\n",
       "\" id=\"TimesNewRomanPSMT-43d\" transform=\"scale(0.015625)\"/>\r\n",
       "       <path d=\"M 1600 2947 \r\n",
       "Q 2250 2947 2644 2453 \r\n",
       "Q 2978 2031 2978 1484 \r\n",
       "Q 2978 1100 2793 706 \r\n",
       "Q 2609 313 2286 112 \r\n",
       "Q 1963 -88 1566 -88 \r\n",
       "Q 919 -88 538 428 \r\n",
       "Q 216 863 216 1403 \r\n",
       "Q 216 1797 411 2186 \r\n",
       "Q 606 2575 925 2761 \r\n",
       "Q 1244 2947 1600 2947 \r\n",
       "z\r\n",
       "M 1503 2744 \r\n",
       "Q 1338 2744 1170 2645 \r\n",
       "Q 1003 2547 900 2300 \r\n",
       "Q 797 2053 797 1666 \r\n",
       "Q 797 1041 1045 587 \r\n",
       "Q 1294 134 1700 134 \r\n",
       "Q 2003 134 2200 384 \r\n",
       "Q 2397 634 2397 1244 \r\n",
       "Q 2397 2006 2069 2444 \r\n",
       "Q 1847 2744 1503 2744 \r\n",
       "z\r\n",
       "\" id=\"TimesNewRomanPSMT-43e\" transform=\"scale(0.015625)\"/>\r\n",
       "       <path d=\"M 2050 747 \r\n",
       "L 2944 2863 \r\n",
       "L 3909 2863 \r\n",
       "L 3909 2744 \r\n",
       "Q 3697 2744 3626 2701 \r\n",
       "Q 3556 2659 3515 2596 \r\n",
       "Q 3475 2534 3475 2191 \r\n",
       "L 3475 672 \r\n",
       "Q 3475 375 3504 289 \r\n",
       "Q 3534 203 3626 159 \r\n",
       "Q 3719 116 3909 116 \r\n",
       "L 3909 0 \r\n",
       "L 2525 0 \r\n",
       "L 2525 116 \r\n",
       "Q 2781 116 2868 211 \r\n",
       "Q 2956 306 2956 672 \r\n",
       "L 2956 2394 \r\n",
       "L 1944 0 \r\n",
       "L 1834 0 \r\n",
       "L 803 2394 \r\n",
       "L 803 672 \r\n",
       "Q 803 375 834 289 \r\n",
       "Q 866 203 956 159 \r\n",
       "Q 1047 116 1238 116 \r\n",
       "L 1238 0 \r\n",
       "L 144 0 \r\n",
       "L 144 116 \r\n",
       "Q 422 116 500 217 \r\n",
       "Q 578 319 578 672 \r\n",
       "L 578 2191 \r\n",
       "Q 578 2525 543 2586 \r\n",
       "Q 509 2647 437 2695 \r\n",
       "Q 366 2744 144 2744 \r\n",
       "L 144 2863 \r\n",
       "L 1150 2863 \r\n",
       "L 2050 747 \r\n",
       "z\r\n",
       "\" id=\"TimesNewRomanPSMT-43c\" transform=\"scale(0.015625)\"/>\r\n",
       "       <path d=\"M 1822 413 \r\n",
       "Q 1381 72 1269 19 \r\n",
       "Q 1100 -59 909 -59 \r\n",
       "Q 613 -59 420 144 \r\n",
       "Q 228 347 228 678 \r\n",
       "Q 228 888 322 1041 \r\n",
       "Q 450 1253 767 1440 \r\n",
       "Q 1084 1628 1822 1897 \r\n",
       "L 1822 2009 \r\n",
       "Q 1822 2438 1686 2597 \r\n",
       "Q 1550 2756 1291 2756 \r\n",
       "Q 1094 2756 978 2650 \r\n",
       "Q 859 2544 859 2406 \r\n",
       "L 866 2225 \r\n",
       "Q 866 2081 792 2003 \r\n",
       "Q 719 1925 600 1925 \r\n",
       "Q 484 1925 411 2006 \r\n",
       "Q 338 2088 338 2228 \r\n",
       "Q 338 2497 613 2722 \r\n",
       "Q 888 2947 1384 2947 \r\n",
       "Q 1766 2947 2009 2819 \r\n",
       "Q 2194 2722 2281 2516 \r\n",
       "Q 2338 2381 2338 1966 \r\n",
       "L 2338 994 \r\n",
       "Q 2338 584 2353 492 \r\n",
       "Q 2369 400 2405 369 \r\n",
       "Q 2441 338 2488 338 \r\n",
       "Q 2538 338 2575 359 \r\n",
       "Q 2641 400 2828 588 \r\n",
       "L 2828 413 \r\n",
       "Q 2478 -56 2159 -56 \r\n",
       "Q 2006 -56 1915 50 \r\n",
       "Q 1825 156 1822 413 \r\n",
       "z\r\n",
       "M 1822 616 \r\n",
       "L 1822 1706 \r\n",
       "Q 1350 1519 1213 1441 \r\n",
       "Q 966 1303 859 1153 \r\n",
       "Q 753 1003 753 825 \r\n",
       "Q 753 600 887 451 \r\n",
       "Q 1022 303 1197 303 \r\n",
       "Q 1434 303 1822 616 \r\n",
       "z\r\n",
       "\" id=\"TimesNewRomanPSMT-61\" transform=\"scale(0.015625)\"/>\r\n",
       "       <path d=\"M 84 2863 \r\n",
       "L 1431 2863 \r\n",
       "L 1431 2747 \r\n",
       "Q 1303 2747 1251 2703 \r\n",
       "Q 1200 2659 1200 2588 \r\n",
       "Q 1200 2513 1309 2356 \r\n",
       "Q 1344 2306 1413 2200 \r\n",
       "L 1616 1875 \r\n",
       "L 1850 2200 \r\n",
       "Q 2075 2509 2075 2591 \r\n",
       "Q 2075 2656 2022 2701 \r\n",
       "Q 1969 2747 1850 2747 \r\n",
       "L 1850 2863 \r\n",
       "L 2819 2863 \r\n",
       "L 2819 2747 \r\n",
       "Q 2666 2738 2553 2663 \r\n",
       "Q 2400 2556 2134 2200 \r\n",
       "L 1744 1678 \r\n",
       "L 2456 653 \r\n",
       "Q 2719 275 2831 198 \r\n",
       "Q 2944 122 3122 113 \r\n",
       "L 3122 0 \r\n",
       "L 1772 0 \r\n",
       "L 1772 113 \r\n",
       "Q 1913 113 1991 175 \r\n",
       "Q 2050 219 2050 291 \r\n",
       "Q 2050 363 1850 653 \r\n",
       "L 1431 1266 \r\n",
       "L 972 653 \r\n",
       "Q 759 369 759 316 \r\n",
       "Q 759 241 829 180 \r\n",
       "Q 900 119 1041 113 \r\n",
       "L 1041 0 \r\n",
       "L 106 0 \r\n",
       "L 106 113 \r\n",
       "Q 219 128 303 191 \r\n",
       "Q 422 281 703 653 \r\n",
       "L 1303 1450 \r\n",
       "L 759 2238 \r\n",
       "Q 528 2575 401 2661 \r\n",
       "Q 275 2747 84 2747 \r\n",
       "L 84 2863 \r\n",
       "z\r\n",
       "\" id=\"TimesNewRomanPSMT-78\" transform=\"scale(0.015625)\"/>\r\n",
       "      </defs>\r\n",
       "      <use transform=\"translate(0 0.90625)\" xlink:href=\"#STIXGeneral-Italic-70\"/>\r\n",
       "      <use transform=\"translate(50.399994 -24.85625)scale(0.7)\" xlink:href=\"#TimesNewRomanPSMT-43d\"/>\r\n",
       "      <use transform=\"translate(87.860931 -24.85625)scale(0.7)\" xlink:href=\"#TimesNewRomanPSMT-43e\"/>\r\n",
       "      <use transform=\"translate(122.860931 -24.85625)scale(0.7)\" xlink:href=\"#TimesNewRomanPSMT-43c\"/>\r\n",
       "      <use transform=\"translate(171.451556 0.90625)\" xlink:href=\"#TimesNewRomanPSMT-20\"/>\r\n",
       "      <use transform=\"translate(212.008197 0.90625)\" xlink:href=\"#TimesNewRomanPSMT-3d\"/>\r\n",
       "      <use transform=\"translate(283.961322 0.90625)\" xlink:href=\"#TimesNewRomanPSMT-20\"/>\r\n",
       "      <use transform=\"translate(308.961322 0.90625)\" xlink:href=\"#STIXGeneral-Italic-70\"/>\r\n",
       "      <use transform=\"translate(359.361316 -24.85625)scale(0.7)\" xlink:href=\"#TimesNewRomanPSMT-6d\"/>\r\n",
       "      <use transform=\"translate(413.809558 -24.85625)scale(0.7)\" xlink:href=\"#TimesNewRomanPSMT-61\"/>\r\n",
       "      <use transform=\"translate(444.878894 -24.85625)scale(0.7)\" xlink:href=\"#TimesNewRomanPSMT-78\"/>\r\n",
       "     </g>\r\n",
       "    </g>\r\n",
       "   </g>\r\n",
       "  </g>\r\n",
       " </g>\r\n",
       " <defs>\r\n",
<<<<<<< HEAD
<<<<<<< Updated upstream
<<<<<<< Updated upstream
       "  <clipPath id=\"pff11f737f2\">\r\n",
       "   <rect height=\"434.88\" width=\"446.4\" x=\"45.915938\" y=\"7.2\"/>\r\n",
=======
=======
>>>>>>> Stashed changes
       "  <clipPath id=\"p6ae048cedf\">\r\n",
       "   <rect height=\"434.88\" width=\"446.4\" x=\"48.415938\" y=\"7.2\"/>\r\n",
>>>>>>> Stashed changes
=======
       "  <clipPath id=\"pff11f737f2\">\r\n",
       "   <rect height=\"434.88\" width=\"446.4\" x=\"45.915938\" y=\"7.2\"/>\r\n",
>>>>>>> parent of 8a35f53 (Редакция №5)
       "  </clipPath>\r\n",
       " </defs>\r\n",
       "</svg>\r\n"
      ],
      "text/plain": [
       "<Figure size 576x576 with 1 Axes>"
      ]
     },
     "metadata": {},
     "output_type": "display_data"
    }
   ],
   "source": [
    "f = figure(figsize=(8, 8))\n",
    "f.patch.set_facecolor('white')\n",
    "plt.plot(v_1_2, f_1_2, color='g', label='$\\mathit{p_a}$ $=$ $\\mathit{p_h}$')\n",
    "plt.plot(v_3_1, f_3_1, color='b',\n",
    "         label='$\\mathit{I}_{уд}$ $=$ $\\mathit{I}_{уд min}$')\n",
    "plt.plot(v_3_2, f_3_2, color='r',\n",
    "         label='$\\mathit{p}_{ном}$ $=$ $\\mathit{p}_{max}}$')\n",
    "plt.plot(v_a_list_1, f_a_list_1, linestyle='None', marker='o',\n",
    "         color='c', markeredgecolor='black', markersize=10)\n",
    "\n",
    "major_x_ticks = np.arange(0, 25, 2.5)\n",
    "major_y_ticks = np.arange(0, 1, 0.1)\n",
    "plt.xticks(major_x_ticks)\n",
    "plt.yticks(major_y_ticks)\n",
    "plt.grid()\n",
    "\n",
    "plt.xlabel('$\\mathit{v_a}$', fontsize=14)\n",
    "plt.ylabel('$\\mathit{f_a}$', fontsize=14)\n",
    "\n",
    "plt.legend(loc='best')\n",
    "\n",
    "plt.annotate('1', xy=(v_a1 + 0.25, f_a1),\n",
    "             xytext=(v_a1 + 0.25, f_a1), fontsize=14)\n",
    "plt.annotate('2', xy=(v_a2 + 0.35, f_a2),\n",
    "             xytext=(v_a2 + 0.35, f_a2), fontsize=14)\n",
    "plt.annotate('3', xy=(v_a3 + 0.25, f_a3 + 0.015),\n",
    "             xytext=(v_a3 + 0.25, f_a3 + 0.015), fontsize=14)\n",
    "\n",
    "plt.xlim(0, 25)\n",
    "plt.ylim(0, 1)\n",
    "plt.axvline(1, 0, 1, linestyle='--', color='red')\n",
    "plt.axhline(0.9, 0, 1, linestyle='--', color='red')\n",
    "\n",
    "plt.annotate('$\\mathit{f_a}$ $=$ $\\mathit{f_{max}}$', xy=(15, 0.92),\n",
    "             xytext=(15, 0.92), fontsize=14)\n",
    "plt.annotate('$\\mathit{v_a}$ $=$ $1$', xy=(1.5, 0.5),\n",
    "             xytext=(1.5, 0.5), fontsize=14)\n",
    "\n",
    "# plt.savefig(f'Bounds.png', dpi =300, bbox_inches='tight')\n",
    "plt.show()"
   ]
  },
  {
   "cell_type": "markdown",
   "id": "1f798aa9",
   "metadata": {},
   "source": [
    "# Обоснование проектных параметров РДТТ"
   ]
  },
  {
   "cell_type": "markdown",
   "id": "c147fffb",
   "metadata": {
    "heading_collapsed": true
   },
   "source": [
    "## Определение диапазонов варьирования"
   ]
  },
  {
   "cell_type": "code",
<<<<<<< HEAD
<<<<<<< Updated upstream
<<<<<<< Updated upstream
=======
>>>>>>> parent of 8a35f53 (Редакция №5)
   "execution_count": 9,
   "id": "d6a0f081",
   "metadata": {
    "ExecuteTime": {
     "end_time": "2021-12-17T15:51:45.648056Z",
     "start_time": "2021-12-17T15:51:45.636088Z"
<<<<<<< HEAD
=======
   "execution_count": 33,
   "id": "d6a0f081",
   "metadata": {
    "ExecuteTime": {
     "end_time": "2021-12-21T16:16:10.440639Z",
     "start_time": "2021-12-21T16:16:10.428632Z"
>>>>>>> Stashed changes
=======
   "execution_count": 33,
   "id": "d6a0f081",
   "metadata": {
    "ExecuteTime": {
     "end_time": "2021-12-21T16:16:10.440639Z",
     "start_time": "2021-12-21T16:16:10.428632Z"
>>>>>>> Stashed changes
=======
>>>>>>> parent of 8a35f53 (Редакция №5)
    },
    "hidden": true,
    "run_control": {
     "marked": true
    }
   },
   "outputs": [],
   "source": [
    "def solver(a, b, c):\n",
    "    # находим дискриминант\n",
    "    D = b*b - 4*a*c\n",
    "    if D >= 0:\n",
    "        x1 = (-b + np.sqrt(D)) / (2*a)\n",
    "        x2 = (-b - np.sqrt(D)) / (2*a)\n",
    "        res = [x1, x2]\n",
    "    else:\n",
    "        res = \"The discriminant is: %s \\n This equation has no solutions\" % D\n",
    "    return res"
   ]
  },
  {
   "cell_type": "code",
<<<<<<< HEAD
<<<<<<< Updated upstream
<<<<<<< Updated upstream
=======
>>>>>>> parent of 8a35f53 (Редакция №5)
   "execution_count": 10,
   "id": "7e39b0e3",
   "metadata": {
    "ExecuteTime": {
     "end_time": "2021-12-17T15:51:45.663276Z",
     "start_time": "2021-12-17T15:51:45.652046Z"
<<<<<<< HEAD
=======
=======
>>>>>>> Stashed changes
   "execution_count": 34,
   "id": "7e39b0e3",
   "metadata": {
    "ExecuteTime": {
     "end_time": "2021-12-21T16:16:10.456449Z",
     "start_time": "2021-12-21T16:16:10.443596Z"
<<<<<<< Updated upstream
>>>>>>> Stashed changes
=======
>>>>>>> Stashed changes
=======
>>>>>>> parent of 8a35f53 (Редакция №5)
    },
    "hidden": true,
    "run_control": {
     "marked": true
    }
   },
   "outputs": [
    {
     "name": "stdout",
     "output_type": "stream",
     "text": [
      "a = 1.021480296483567\n",
      "b = -2.557804646760828\n",
      "c = 0.73373\n"
     ]
    }
   ],
   "source": [
    "a = 1 + z * (n - 1) / (n + 1)\n",
    "b = - I_ud1 / (betta * eps(1)) * (1 + f_a2 / etta_f)\n",
    "c = 1 - z\n",
    "print('a =', a)\n",
    "print('b =', b)\n",
    "print('c =', c)"
   ]
  },
  {
   "cell_type": "code",
<<<<<<< HEAD
<<<<<<< Updated upstream
<<<<<<< Updated upstream
=======
>>>>>>> parent of 8a35f53 (Редакция №5)
   "execution_count": 11,
   "id": "d7d55039",
   "metadata": {
    "ExecuteTime": {
     "end_time": "2021-12-17T15:51:45.678975Z",
     "start_time": "2021-12-17T15:51:45.668003Z"
<<<<<<< HEAD
=======
=======
>>>>>>> Stashed changes
   "execution_count": 35,
   "id": "d7d55039",
   "metadata": {
    "ExecuteTime": {
     "end_time": "2021-12-21T16:16:10.471373Z",
     "start_time": "2021-12-21T16:16:10.459404Z"
<<<<<<< Updated upstream
>>>>>>> Stashed changes
=======
>>>>>>> Stashed changes
=======
>>>>>>> parent of 8a35f53 (Редакция №5)
    },
    "hidden": true,
    "run_control": {
     "marked": true
    },
    "scrolled": true
   },
   "outputs": [
    {
     "name": "stdout",
     "output_type": "stream",
     "text": [
      "lambda_a_min = 2.17\n",
      "lambda_a_max = 2.6\n"
     ]
    }
   ],
   "source": [
    "lambda_a_min = round(max(solver(a, b, c)), 2)\n",
    "lambda_a_max = round(lambda_a2, 2)\n",
    "print('lambda_a_min =', lambda_a_min)\n",
    "print('lambda_a_max =', lambda_a_max)\n",
    "lambda_range = np.linspace(lambda_a_min, lambda_a_max, 11)"
   ]
  },
  {
   "cell_type": "markdown",
   "id": "fd0d92eb",
   "metadata": {
    "heading_collapsed": true
   },
   "source": [
    "## Определение номинального давления в камере сгорания"
   ]
  },
  {
   "cell_type": "code",
<<<<<<< HEAD
<<<<<<< Updated upstream
<<<<<<< Updated upstream
=======
>>>>>>> parent of 8a35f53 (Редакция №5)
   "execution_count": 12,
   "id": "c42d75e5",
   "metadata": {
    "ExecuteTime": {
     "end_time": "2021-12-17T15:51:45.742535Z",
     "start_time": "2021-12-17T15:51:45.683962Z"
<<<<<<< HEAD
=======
=======
>>>>>>> Stashed changes
   "execution_count": 36,
   "id": "c42d75e5",
   "metadata": {
    "ExecuteTime": {
     "end_time": "2021-12-21T16:16:10.519241Z",
     "start_time": "2021-12-21T16:16:10.475359Z"
<<<<<<< Updated upstream
>>>>>>> Stashed changes
=======
>>>>>>> Stashed changes
=======
>>>>>>> parent of 8a35f53 (Редакция №5)
    },
    "hidden": true,
    "run_control": {
     "marked": false
    },
    "scrolled": false
   },
   "outputs": [
    {
     "data": {
      "text/html": [
       "<div>\n",
       "<style scoped>\n",
       "    .dataframe tbody tr th:only-of-type {\n",
       "        vertical-align: middle;\n",
       "    }\n",
       "\n",
       "    .dataframe tbody tr th {\n",
       "        vertical-align: top;\n",
       "    }\n",
       "\n",
       "    .dataframe thead th {\n",
       "        text-align: right;\n",
       "    }\n",
       "</style>\n",
       "<table border=\"1\" class=\"dataframe\">\n",
       "  <thead>\n",
       "    <tr style=\"text-align: right;\">\n",
       "      <th></th>\n",
       "      <th>lambda_a</th>\n",
       "      <th>v_a</th>\n",
       "      <th>f_a_arr</th>\n",
       "      <th>p_nom_arr, МПа</th>\n",
       "      <th>p/p_a_arr</th>\n",
       "      <th>I_ud_arr, м/с</th>\n",
       "    </tr>\n",
       "  </thead>\n",
       "  <tbody>\n",
       "    <tr>\n",
       "      <th>1</th>\n",
       "      <td>2.170</td>\n",
       "      <td>4.344</td>\n",
       "      <td>0.26</td>\n",
       "      <td>4.719</td>\n",
       "      <td>1.923</td>\n",
       "      <td>2348.364</td>\n",
       "    </tr>\n",
       "    <tr>\n",
       "      <th>2</th>\n",
       "      <td>2.213</td>\n",
       "      <td>4.906</td>\n",
       "      <td>0.26</td>\n",
       "      <td>5.254</td>\n",
       "      <td>1.813</td>\n",
       "      <td>2382.700</td>\n",
       "    </tr>\n",
       "    <tr>\n",
       "      <th>3</th>\n",
       "      <td>2.256</td>\n",
       "      <td>5.580</td>\n",
       "      <td>0.26</td>\n",
       "      <td>5.890</td>\n",
       "      <td>1.708</td>\n",
       "      <td>2417.266</td>\n",
       "    </tr>\n",
       "    <tr>\n",
       "      <th>4</th>\n",
       "      <td>2.299</td>\n",
       "      <td>6.393</td>\n",
       "      <td>0.26</td>\n",
       "      <td>6.652</td>\n",
       "      <td>1.608</td>\n",
       "      <td>2452.050</td>\n",
       "    </tr>\n",
       "    <tr>\n",
       "      <th>5</th>\n",
       "      <td>2.342</td>\n",
       "      <td>7.380</td>\n",
       "      <td>0.26</td>\n",
       "      <td>7.572</td>\n",
       "      <td>1.512</td>\n",
       "      <td>2487.039</td>\n",
       "    </tr>\n",
       "    <tr>\n",
       "      <th>6</th>\n",
       "      <td>2.385</td>\n",
       "      <td>8.591</td>\n",
       "      <td>0.26</td>\n",
       "      <td>8.691</td>\n",
       "      <td>1.421</td>\n",
       "      <td>2522.223</td>\n",
       "    </tr>\n",
       "    <tr>\n",
       "      <th>7</th>\n",
       "      <td>2.428</td>\n",
       "      <td>10.089</td>\n",
       "      <td>0.26</td>\n",
       "      <td>10.065</td>\n",
       "      <td>1.334</td>\n",
       "      <td>2557.590</td>\n",
       "    </tr>\n",
       "    <tr>\n",
       "      <th>8</th>\n",
       "      <td>2.471</td>\n",
       "      <td>11.960</td>\n",
       "      <td>0.26</td>\n",
       "      <td>11.768</td>\n",
       "      <td>1.251</td>\n",
       "      <td>2593.131</td>\n",
       "    </tr>\n",
       "    <tr>\n",
       "      <th>9</th>\n",
       "      <td>2.514</td>\n",
       "      <td>14.323</td>\n",
       "      <td>0.26</td>\n",
       "      <td>13.902</td>\n",
       "      <td>1.172</td>\n",
       "      <td>2628.838</td>\n",
       "    </tr>\n",
       "    <tr>\n",
       "      <th>10</th>\n",
       "      <td>2.557</td>\n",
       "      <td>17.343</td>\n",
       "      <td>0.26</td>\n",
       "      <td>16.606</td>\n",
       "      <td>1.096</td>\n",
       "      <td>2664.702</td>\n",
       "    </tr>\n",
       "    <tr>\n",
       "      <th>11</th>\n",
       "      <td>2.600</td>\n",
       "      <td>21.250</td>\n",
       "      <td>0.26</td>\n",
       "      <td>20.077</td>\n",
       "      <td>1.023</td>\n",
       "      <td>2700.715</td>\n",
       "    </tr>\n",
       "  </tbody>\n",
       "</table>\n",
       "</div>"
      ],
      "text/plain": [
       "    lambda_a     v_a  f_a_arr  p_nom_arr, МПа  p/p_a_arr  I_ud_arr, м/с\n",
       "1      2.170   4.344     0.26           4.719      1.923       2348.364\n",
       "2      2.213   4.906     0.26           5.254      1.813       2382.700\n",
       "3      2.256   5.580     0.26           5.890      1.708       2417.266\n",
       "4      2.299   6.393     0.26           6.652      1.608       2452.050\n",
       "5      2.342   7.380     0.26           7.572      1.512       2487.039\n",
       "6      2.385   8.591     0.26           8.691      1.421       2522.223\n",
       "7      2.428  10.089     0.26          10.065      1.334       2557.590\n",
       "8      2.471  11.960     0.26          11.768      1.251       2593.131\n",
       "9      2.514  14.323     0.26          13.902      1.172       2628.838\n",
       "10     2.557  17.343     0.26          16.606      1.096       2664.702\n",
       "11     2.600  21.250     0.26          20.077      1.023       2700.715"
      ]
     },
     "metadata": {},
     "output_type": "display_data"
    }
   ],
   "source": [
    "v_a_arr = np.array([])\n",
    "p_nom_arr = np.array([])\n",
    "p_div_p_a_arr = np.array([])\n",
    "I_ud_arr = np.array([])\n",
    "f_a_arr = np.array([])\n",
    "\n",
    "for l in lambda_range:\n",
    "    I_udp = betta * (l + l ** -1) * eps(1) * dzeta(l)\n",
    "    I_ud = I_udp * etta_f / (etta_f + f_a2)\n",
    "    p_nom = p_h * betta * v_a(l) / (I_udp - I_ud)\n",
    "    p_a = p_a3(p_nom, l)\n",
    "\n",
    "    v_a_arr = np.append(v_a_arr, [v_a(l)])\n",
    "    p_nom_arr = np.append(p_nom_arr, [p_nom / 1e6])\n",
    "    p_div_p_a_arr = np.append(p_div_p_a_arr, [p_a / p_h])\n",
    "    I_ud_arr = np.append(I_ud_arr, [I_ud])\n",
    "    f_a_arr = np.append(f_a_arr, [f_a2])\n",
    "\n",
    "\n",
    "data_1 = [np.round(lambda_range, 3), np.round(v_a_arr, 3), np.round(f_a_arr, 3),\n",
    "          np.round(p_nom_arr, 3), np.round(p_div_p_a_arr, 3), np.round(I_ud_arr, 3)]\n",
    "data_1_show = pd.DataFrame(data_1, index=[\"lambda_a\", \"v_a\", \"f_a_arr\", \"p_nom_arr, МПа\",\n",
    "                                          \"p/p_a_arr\", \"I_ud_arr, м/с\"], columns=[i for i in range(1, 12)]).T\n",
    "pd.set_option('max_colwidth', 15)\n",
    "display(data_1_show)\n",
    "\n",
    "\n",
    "# data_1_show.to_excel('data_1.xlsx')"
   ]
  },
  {
   "cell_type": "markdown",
   "id": "528fa6d8",
   "metadata": {},
   "source": [
    "## Выбор формы топливного заряда и определение его геометрических характеристик"
   ]
  },
  {
   "cell_type": "code",
<<<<<<< HEAD
<<<<<<< Updated upstream
<<<<<<< Updated upstream
=======
>>>>>>> parent of 8a35f53 (Редакция №5)
   "execution_count": 13,
   "id": "20e1cddd",
   "metadata": {
    "ExecuteTime": {
     "end_time": "2021-12-17T15:51:45.758527Z",
     "start_time": "2021-12-17T15:51:45.745525Z"
<<<<<<< HEAD
=======
=======
>>>>>>> Stashed changes
   "execution_count": 37,
   "id": "20e1cddd",
   "metadata": {
    "ExecuteTime": {
     "end_time": "2021-12-21T16:16:10.535238Z",
     "start_time": "2021-12-21T16:16:10.522233Z"
<<<<<<< Updated upstream
>>>>>>> Stashed changes
=======
>>>>>>> Stashed changes
=======
>>>>>>> parent of 8a35f53 (Редакция №5)
    }
   },
   "outputs": [],
   "source": [
    "D_ks = 0.96 * D_n * 1e3  # mm\n",
    "mu = 0.29\n",
    "u_1 = 4.38\n",
    "\n",
    "\n",
    "def u(p):\n",
    "    return u_1 * (p) ** mu"
   ]
  },
  {
   "cell_type": "code",
<<<<<<< HEAD
<<<<<<< Updated upstream
<<<<<<< Updated upstream
=======
>>>>>>> parent of 8a35f53 (Редакция №5)
   "execution_count": 14,
   "id": "fceebc85",
   "metadata": {
    "ExecuteTime": {
     "end_time": "2021-12-17T15:51:45.774447Z",
     "start_time": "2021-12-17T15:51:45.762480Z"
<<<<<<< HEAD
=======
=======
>>>>>>> Stashed changes
   "execution_count": 38,
   "id": "fceebc85",
   "metadata": {
    "ExecuteTime": {
     "end_time": "2021-12-21T16:16:10.551159Z",
     "start_time": "2021-12-21T16:16:10.538191Z"
<<<<<<< Updated upstream
>>>>>>> Stashed changes
=======
>>>>>>> Stashed changes
=======
>>>>>>> parent of 8a35f53 (Редакция №5)
    }
   },
   "outputs": [
    {
     "name": "stdout",
     "output_type": "stream",
     "text": [
      "e_d_list:\n",
      "0.46834711613054364\n",
      "0.4831504506728215\n",
      "0.4994307187346956\n",
      "0.5173663567998689\n",
      "0.5371662802665239\n",
      "0.55907638828321\n",
      "0.5833877785984793\n",
      "0.6104472119130444\n",
      "0.6406705662217493\n",
      "0.674560310039348\n",
      "0.7127284431786711\n",
      "\n",
      "average = 0.5714846928035414\n"
     ]
    }
   ],
   "source": [
    "e_d_arr = np.array([])\n",
    "u_arr = np.array([])\n",
    "for i in p_nom_arr:\n",
    "    e_d = 2 / D_ks * u(i) * t_nom\n",
    "    e_d_arr = np.append(e_d_arr, e_d)\n",
    "    u_arr = np.append(u_arr, u(i))\n",
    "\n",
    "avg = np.average(e_d_arr)\n",
    "\n",
    "\n",
    "print('e_d_list:', *e_d_arr, sep='\\n')\n",
    "print('\\naverage =', avg)"
   ]
  },
  {
   "cell_type": "markdown",
   "id": "da30b4ce",
   "metadata": {},
   "source": [
    "Из результатов расчёта видно, что $\\overline{e_d} = 0,574 \\Rightarrow \\overline{e_d}\\in [0,5...0,75] \\Rightarrow$ заряд щелевой с цилиндрическим каналом."
   ]
  },
  {
   "cell_type": "code",
<<<<<<< HEAD
<<<<<<< Updated upstream
<<<<<<< Updated upstream
=======
>>>>>>> parent of 8a35f53 (Редакция №5)
   "execution_count": 15,
   "id": "30cad20e",
   "metadata": {
    "ExecuteTime": {
     "end_time": "2021-12-17T15:51:45.837163Z",
     "start_time": "2021-12-17T15:51:45.779436Z"
<<<<<<< HEAD
=======
   "execution_count": 39,
   "id": "30cad20e",
   "metadata": {
    "ExecuteTime": {
     "end_time": "2021-12-21T16:16:10.598691Z",
     "start_time": "2021-12-21T16:16:10.554152Z"
>>>>>>> Stashed changes
=======
   "execution_count": 39,
   "id": "30cad20e",
   "metadata": {
    "ExecuteTime": {
     "end_time": "2021-12-21T16:16:10.598691Z",
     "start_time": "2021-12-21T16:16:10.554152Z"
>>>>>>> Stashed changes
=======
>>>>>>> parent of 8a35f53 (Редакция №5)
    },
    "scrolled": true
   },
   "outputs": [
    {
     "data": {
      "text/html": [
       "<div>\n",
       "<style scoped>\n",
       "    .dataframe tbody tr th:only-of-type {\n",
       "        vertical-align: middle;\n",
       "    }\n",
       "\n",
       "    .dataframe tbody tr th {\n",
       "        vertical-align: top;\n",
       "    }\n",
       "\n",
       "    .dataframe thead th {\n",
       "        text-align: right;\n",
       "    }\n",
       "</style>\n",
       "<table border=\"1\" class=\"dataframe\">\n",
       "  <thead>\n",
       "    <tr style=\"text-align: right;\">\n",
       "      <th></th>\n",
       "      <th>u_fit, мм/с</th>\n",
       "      <th>e_d_fit</th>\n",
       "      <th>eps_omega_arr</th>\n",
       "      <th>omega_arr, кг</th>\n",
       "      <th>l_zar_arr, м</th>\n",
       "      <th>kappa_arr</th>\n",
       "    </tr>\n",
       "  </thead>\n",
       "  <tbody>\n",
       "    <tr>\n",
       "      <th>1</th>\n",
       "      <td>6.869</td>\n",
       "      <td>0.468</td>\n",
       "      <td>0.699</td>\n",
       "      <td>95.811</td>\n",
       "      <td>1.561</td>\n",
       "      <td>44.490</td>\n",
       "    </tr>\n",
       "    <tr>\n",
       "      <th>2</th>\n",
       "      <td>7.086</td>\n",
       "      <td>0.483</td>\n",
       "      <td>0.714</td>\n",
       "      <td>94.431</td>\n",
       "      <td>1.506</td>\n",
       "      <td>44.161</td>\n",
       "    </tr>\n",
       "    <tr>\n",
       "      <th>3</th>\n",
       "      <td>7.325</td>\n",
       "      <td>0.499</td>\n",
       "      <td>0.730</td>\n",
       "      <td>93.080</td>\n",
       "      <td>1.452</td>\n",
       "      <td>43.964</td>\n",
       "    </tr>\n",
       "    <tr>\n",
       "      <th>4</th>\n",
       "      <td>7.588</td>\n",
       "      <td>0.517</td>\n",
       "      <td>0.747</td>\n",
       "      <td>91.760</td>\n",
       "      <td>1.399</td>\n",
       "      <td>43.931</td>\n",
       "    </tr>\n",
       "    <tr>\n",
       "      <th>5</th>\n",
       "      <td>7.878</td>\n",
       "      <td>0.537</td>\n",
       "      <td>0.765</td>\n",
       "      <td>90.469</td>\n",
       "      <td>1.347</td>\n",
       "      <td>44.106</td>\n",
       "    </tr>\n",
       "    <tr>\n",
       "      <th>6</th>\n",
       "      <td>8.200</td>\n",
       "      <td>0.559</td>\n",
       "      <td>0.784</td>\n",
       "      <td>89.207</td>\n",
       "      <td>1.296</td>\n",
       "      <td>44.548</td>\n",
       "    </tr>\n",
       "    <tr>\n",
       "      <th>7</th>\n",
       "      <td>8.556</td>\n",
       "      <td>0.583</td>\n",
       "      <td>0.804</td>\n",
       "      <td>87.973</td>\n",
       "      <td>1.247</td>\n",
       "      <td>45.344</td>\n",
       "    </tr>\n",
       "    <tr>\n",
       "      <th>8</th>\n",
       "      <td>8.953</td>\n",
       "      <td>0.610</td>\n",
       "      <td>0.825</td>\n",
       "      <td>86.768</td>\n",
       "      <td>1.199</td>\n",
       "      <td>46.624</td>\n",
       "    </tr>\n",
       "    <tr>\n",
       "      <th>9</th>\n",
       "      <td>9.397</td>\n",
       "      <td>0.641</td>\n",
       "      <td>0.846</td>\n",
       "      <td>85.589</td>\n",
       "      <td>1.152</td>\n",
       "      <td>48.594</td>\n",
       "    </tr>\n",
       "    <tr>\n",
       "      <th>10</th>\n",
       "      <td>9.894</td>\n",
       "      <td>0.675</td>\n",
       "      <td>0.868</td>\n",
       "      <td>84.437</td>\n",
       "      <td>1.108</td>\n",
       "      <td>51.597</td>\n",
       "    </tr>\n",
       "    <tr>\n",
       "      <th>11</th>\n",
       "      <td>10.453</td>\n",
       "      <td>0.713</td>\n",
       "      <td>0.890</td>\n",
       "      <td>83.311</td>\n",
       "      <td>1.067</td>\n",
       "      <td>56.253</td>\n",
       "    </tr>\n",
       "  </tbody>\n",
       "</table>\n",
       "</div>"
      ],
      "text/plain": [
       "    u_fit, мм/с  e_d_fit  eps_omega_arr  omega_arr, кг  l_zar_arr, м  \\\n",
       "1         6.869    0.468          0.699         95.811         1.561   \n",
       "2         7.086    0.483          0.714         94.431         1.506   \n",
       "3         7.325    0.499          0.730         93.080         1.452   \n",
       "4         7.588    0.517          0.747         91.760         1.399   \n",
       "5         7.878    0.537          0.765         90.469         1.347   \n",
       "6         8.200    0.559          0.784         89.207         1.296   \n",
       "7         8.556    0.583          0.804         87.973         1.247   \n",
       "8         8.953    0.610          0.825         86.768         1.199   \n",
       "9         9.397    0.641          0.846         85.589         1.152   \n",
       "10        9.894    0.675          0.868         84.437         1.108   \n",
       "11       10.453    0.713          0.890         83.311         1.067   \n",
       "\n",
       "    kappa_arr  \n",
       "1      44.490  \n",
       "2      44.161  \n",
       "3      43.964  \n",
       "4      43.931  \n",
       "5      44.106  \n",
       "6      44.548  \n",
       "7      45.344  \n",
       "8      46.624  \n",
       "9      48.594  \n",
       "10     51.597  \n",
       "11     56.253  "
      ]
     },
     "metadata": {},
     "output_type": "display_data"
    }
   ],
   "source": [
    "count = 4\n",
    "a_ = 0.3\n",
    "c_ = 0.05\n",
    "\n",
    "p_nom_fit = p_nom_arr[e_d_arr < 1 - c_]\n",
    "\n",
    "e_d_fit = e_d_arr[e_d_arr < 1 - c_]\n",
    "\n",
    "u_fit = u_arr[e_d_arr < 1 - c_]\n",
    "\n",
    "I_ud_fit = I_ud_arr[e_d_arr < 1 - c_]\n",
    "\n",
    "\n",
    "d__arr = 1 - e_d_fit\n",
    "\n",
    "eps_f_arr = 1 - d__arr ** 2\n",
    "\n",
    "f_sh_arr = count / np.pi * (c_ * (1 - c_ ** 2)**0.5 - c_ *\n",
    "                            (d__arr**2-c_**2)**0.5 + np.arcsin(c_) - d__arr**2 * np.arcsin(c_ / d__arr))\n",
    "\n",
    "eps_omega_arr = eps_f_arr - a_ * f_sh_arr\n",
    "\n",
    "omega_arr = I_P / I_ud_fit\n",
    "q_i = [0.14, 0.66, 0.2]\n",
    "ro_i = [920, 1950, 1500]\n",
    "total = 0\n",
    "\n",
    "for i in range(len(ro_i)):\n",
    "    total += q_i[i] / ro_i[i]\n",
    "\n",
    "ro_t = round(1 / total)\n",
    "\n",
    "F_ks = np.pi * (D_ks / 1e3) ** 2 / 4  # m**2\n",
    "\n",
    "l_zar_arr = omega_arr / (ro_t * eps_omega_arr * F_ks)\n",
    "\n",
    "kappa_arr = 4 * l_zar_arr / (D_ks / 1e3 * (1 - e_d_fit))\n",
    "\n",
    "data_2 = [np.round(u_fit, 3), np.round(e_d_fit, 3), np.round(eps_omega_arr, 3), np.round(\n",
    "    omega_arr, 3), np.round(l_zar_arr, 3), np.round(kappa_arr, 3)]\n",
    "\n",
    "data_2_show = pd.DataFrame(data_2, index=[\"u_fit, мм/с\", \"e_d_fit\", \"eps_omega_arr\", \"omega_arr, кг\",\n",
    "                                          \"l_zar_arr, м\", \"kappa_arr\"], columns=[i for i in range(1, len(e_d_fit)+1)]).T\n",
    "# pd.set_option('display.float_format', '{:.5}'.format)\n",
    "display(data_2_show)\n",
    "\n",
    "# data_2_show.to_excel('data_2.xlsx')"
   ]
  },
  {
   "cell_type": "code",
<<<<<<< HEAD
<<<<<<< Updated upstream
<<<<<<< Updated upstream
=======
>>>>>>> parent of 8a35f53 (Редакция №5)
   "execution_count": 16,
   "id": "e207a15d",
   "metadata": {
    "ExecuteTime": {
     "end_time": "2021-12-17T15:51:46.912820Z",
     "start_time": "2021-12-17T15:51:45.840119Z"
<<<<<<< HEAD
=======
   "execution_count": 40,
   "id": "e207a15d",
   "metadata": {
    "ExecuteTime": {
     "end_time": "2021-12-21T16:16:11.737967Z",
     "start_time": "2021-12-21T16:16:10.601684Z"
>>>>>>> Stashed changes
=======
   "execution_count": 40,
   "id": "e207a15d",
   "metadata": {
    "ExecuteTime": {
     "end_time": "2021-12-21T16:16:11.737967Z",
     "start_time": "2021-12-21T16:16:10.601684Z"
>>>>>>> Stashed changes
=======
>>>>>>> parent of 8a35f53 (Редакция №5)
    }
   },
   "outputs": [
    {
     "data": {
      "image/svg+xml": [
       "<?xml version=\"1.0\" encoding=\"utf-8\" standalone=\"no\"?>\r\n",
       "<!DOCTYPE svg PUBLIC \"-//W3C//DTD SVG 1.1//EN\"\r\n",
       "  \"http://www.w3.org/Graphics/SVG/1.1/DTD/svg11.dtd\">\r\n",
<<<<<<< HEAD
<<<<<<< Updated upstream
<<<<<<< Updated upstream
       "<svg height=\"269.185625pt\" version=\"1.1\" viewBox=\"0 0 488.99875 269.185625\" width=\"488.99875pt\" xmlns=\"http://www.w3.org/2000/svg\" xmlns:xlink=\"http://www.w3.org/1999/xlink\">\r\n",
=======
=======
>>>>>>> Stashed changes
       "<svg height=\"273.576563pt\" version=\"1.1\" viewBox=\"0 0 498.631875 273.576563\" width=\"498.631875pt\" xmlns=\"http://www.w3.org/2000/svg\" xmlns:xlink=\"http://www.w3.org/1999/xlink\">\r\n",
>>>>>>> Stashed changes
=======
       "<svg height=\"269.185625pt\" version=\"1.1\" viewBox=\"0 0 488.99875 269.185625\" width=\"488.99875pt\" xmlns=\"http://www.w3.org/2000/svg\" xmlns:xlink=\"http://www.w3.org/1999/xlink\">\r\n",
>>>>>>> parent of 8a35f53 (Редакция №5)
       " <metadata>\r\n",
       "  <rdf:RDF xmlns:cc=\"http://creativecommons.org/ns#\" xmlns:dc=\"http://purl.org/dc/elements/1.1/\" xmlns:rdf=\"http://www.w3.org/1999/02/22-rdf-syntax-ns#\">\r\n",
       "   <cc:Work>\r\n",
       "    <dc:type rdf:resource=\"http://purl.org/dc/dcmitype/StillImage\"/>\r\n",
<<<<<<< HEAD
<<<<<<< Updated upstream
<<<<<<< Updated upstream
       "    <dc:date>2021-12-21T11:26:03.793987</dc:date>\r\n",
=======
       "    <dc:date>2021-12-22T11:10:34.593540</dc:date>\r\n",
>>>>>>> Stashed changes
=======
       "    <dc:date>2021-12-22T11:10:34.593540</dc:date>\r\n",
>>>>>>> Stashed changes
=======
       "    <dc:date>2021-12-21T11:26:03.793987</dc:date>\r\n",
>>>>>>> parent of 8a35f53 (Редакция №5)
       "    <dc:format>image/svg+xml</dc:format>\r\n",
       "    <dc:creator>\r\n",
       "     <cc:Agent>\r\n",
       "      <dc:title>Matplotlib v3.4.3, https://matplotlib.org/</dc:title>\r\n",
       "     </cc:Agent>\r\n",
       "    </dc:creator>\r\n",
       "   </cc:Work>\r\n",
       "  </rdf:RDF>\r\n",
       " </metadata>\r\n",
       " <defs>\r\n",
       "  <style type=\"text/css\">*{stroke-linecap:butt;stroke-linejoin:round;}</style>\r\n",
       " </defs>\r\n",
       " <g id=\"figure_1\">\r\n",
       "  <g id=\"patch_1\">\r\n",
       "   <path d=\"M 0 269.185625 \r\n",
       "L 488.99875 269.185625 \r\n",
       "L 488.99875 0 \r\n",
       "L 0 0 \r\n",
       "z\r\n",
       "\" style=\"fill:#ffffff;\"/>\r\n",
       "  </g>\r\n",
       "  <g id=\"axes_1\">\r\n",
       "   <g id=\"patch_2\">\r\n",
       "    <path d=\"M 44.099375 228.80625 \r\n",
       "L 378.899375 228.80625 \r\n",
       "L 378.899375 11.36625 \r\n",
       "L 44.099375 11.36625 \r\n",
       "z\r\n",
       "\" style=\"fill:#ffffff;\"/>\r\n",
       "   </g>\r\n",
       "   <g id=\"matplotlib.axis_1\">\r\n",
       "    <g id=\"xtick_1\">\r\n",
       "     <g id=\"line2d_1\">\r\n",
<<<<<<< HEAD
<<<<<<< Updated upstream
<<<<<<< Updated upstream
       "      <path clip-path=\"url(#p10a475d21d)\" d=\"M 45.061547 228.80625 \r\n",
       "L 45.061547 11.36625 \r\n",
=======
       "      <path clip-path=\"url(#p7cca1c5b56)\" d=\"M 69.196709 229.500625 \r\n",
       "L 69.196709 12.060625 \r\n",
>>>>>>> Stashed changes
=======
       "      <path clip-path=\"url(#p7cca1c5b56)\" d=\"M 69.196709 229.500625 \r\n",
       "L 69.196709 12.060625 \r\n",
>>>>>>> Stashed changes
=======
       "      <path clip-path=\"url(#p10a475d21d)\" d=\"M 45.061547 228.80625 \r\n",
       "L 45.061547 11.36625 \r\n",
>>>>>>> parent of 8a35f53 (Редакция №5)
       "\" style=\"fill:none;stroke:#b0b0b0;stroke-linecap:square;stroke-width:0.8;\"/>\r\n",
       "     </g>\r\n",
       "     <g id=\"line2d_2\">\r\n",
       "      <defs>\r\n",
       "       <path d=\"M 0 0 \r\n",
       "L 0 3.5 \r\n",
<<<<<<< HEAD
<<<<<<< Updated upstream
<<<<<<< Updated upstream
=======
>>>>>>> parent of 8a35f53 (Редакция №5)
       "\" id=\"m01653be17c\" style=\"stroke:#000000;stroke-width:0.8;\"/>\r\n",
       "      </defs>\r\n",
       "      <g>\r\n",
       "       <use style=\"stroke:#000000;stroke-width:0.8;\" x=\"45.061547\" xlink:href=\"#m01653be17c\" y=\"228.80625\"/>\r\n",
       "      </g>\r\n",
       "     </g>\r\n",
       "     <g id=\"text_1\">\r\n",
       "      <!-- 4 -->\r\n",
       "      <g transform=\"translate(42.061547 244.13875)scale(0.12 -0.12)\">\r\n",
       "       <defs>\r\n",
       "        <path d=\"M 2978 1563 \r\n",
       "L 2978 1119 \r\n",
       "L 2409 1119 \r\n",
       "L 2409 0 \r\n",
       "L 1894 0 \r\n",
       "L 1894 1119 \r\n",
       "L 100 1119 \r\n",
       "L 100 1519 \r\n",
       "L 2066 4325 \r\n",
       "L 2409 4325 \r\n",
       "L 2409 1563 \r\n",
       "L 2978 1563 \r\n",
       "z\r\n",
       "M 1894 1563 \r\n",
       "L 1894 3666 \r\n",
       "L 406 1563 \r\n",
       "L 1894 1563 \r\n",
       "z\r\n",
       "\" id=\"TimesNewRomanPSMT-34\" transform=\"scale(0.015625)\"/>\r\n",
       "       </defs>\r\n",
       "       <use xlink:href=\"#TimesNewRomanPSMT-34\"/>\r\n",
<<<<<<< HEAD
=======
=======
>>>>>>> Stashed changes
       "\" id=\"medd7269a5e\" style=\"stroke:#000000;stroke-width:0.8;\"/>\r\n",
       "      </defs>\r\n",
       "      <g>\r\n",
       "       <use style=\"stroke:#000000;stroke-width:0.8;\" x=\"69.196709\" xlink:href=\"#medd7269a5e\" y=\"229.500625\"/>\r\n",
       "      </g>\r\n",
       "     </g>\r\n",
       "     <g id=\"text_1\">\r\n",
       "      <!-- 5.0 -->\r\n",
       "      <g transform=\"translate(60.446709 246.221875)scale(0.14 -0.14)\">\r\n",
       "       <defs>\r\n",
       "        <path d=\"M 2778 4238 \r\n",
       "L 2534 3706 \r\n",
       "L 1259 3706 \r\n",
       "L 981 3138 \r\n",
       "Q 1809 3016 2294 2522 \r\n",
       "Q 2709 2097 2709 1522 \r\n",
       "Q 2709 1188 2573 903 \r\n",
       "Q 2438 619 2231 419 \r\n",
       "Q 2025 219 1772 97 \r\n",
       "Q 1413 -75 1034 -75 \r\n",
       "Q 653 -75 479 54 \r\n",
       "Q 306 184 306 341 \r\n",
       "Q 306 428 378 495 \r\n",
       "Q 450 563 559 563 \r\n",
       "Q 641 563 702 538 \r\n",
       "Q 763 513 909 409 \r\n",
       "Q 1144 247 1384 247 \r\n",
       "Q 1750 247 2026 523 \r\n",
       "Q 2303 800 2303 1197 \r\n",
       "Q 2303 1581 2056 1914 \r\n",
       "Q 1809 2247 1375 2428 \r\n",
       "Q 1034 2569 447 2591 \r\n",
       "L 1259 4238 \r\n",
       "L 2778 4238 \r\n",
       "z\r\n",
       "\" id=\"TimesNewRomanPSMT-35\" transform=\"scale(0.015625)\"/>\r\n",
       "        <path d=\"M 800 606 \r\n",
       "Q 947 606 1047 504 \r\n",
       "Q 1147 403 1147 259 \r\n",
       "Q 1147 116 1045 14 \r\n",
       "Q 944 -88 800 -88 \r\n",
       "Q 656 -88 554 14 \r\n",
       "Q 453 116 453 259 \r\n",
       "Q 453 406 554 506 \r\n",
       "Q 656 606 800 606 \r\n",
       "z\r\n",
       "\" id=\"TimesNewRomanPSMT-2e\" transform=\"scale(0.015625)\"/>\r\n",
       "        <path d=\"M 231 2094 \r\n",
       "Q 231 2819 450 3342 \r\n",
       "Q 669 3866 1031 4122 \r\n",
       "Q 1313 4325 1613 4325 \r\n",
       "Q 2100 4325 2488 3828 \r\n",
       "Q 2972 3213 2972 2159 \r\n",
       "Q 2972 1422 2759 906 \r\n",
       "Q 2547 391 2217 158 \r\n",
       "Q 1888 -75 1581 -75 \r\n",
       "Q 975 -75 572 641 \r\n",
       "Q 231 1244 231 2094 \r\n",
       "z\r\n",
       "M 844 2016 \r\n",
       "Q 844 1141 1059 588 \r\n",
       "Q 1238 122 1591 122 \r\n",
       "Q 1759 122 1940 273 \r\n",
       "Q 2122 425 2216 781 \r\n",
       "Q 2359 1319 2359 2297 \r\n",
       "Q 2359 3022 2209 3506 \r\n",
       "Q 2097 3866 1919 4016 \r\n",
       "Q 1791 4119 1609 4119 \r\n",
       "Q 1397 4119 1231 3928 \r\n",
       "Q 1006 3669 925 3112 \r\n",
       "Q 844 2556 844 2016 \r\n",
       "z\r\n",
       "\" id=\"TimesNewRomanPSMT-30\" transform=\"scale(0.015625)\"/>\r\n",
       "       </defs>\r\n",
       "       <use xlink:href=\"#TimesNewRomanPSMT-35\"/>\r\n",
       "       <use x=\"50\" xlink:href=\"#TimesNewRomanPSMT-2e\"/>\r\n",
       "       <use x=\"75\" xlink:href=\"#TimesNewRomanPSMT-30\"/>\r\n",
<<<<<<< Updated upstream
>>>>>>> Stashed changes
=======
>>>>>>> Stashed changes
=======
>>>>>>> parent of 8a35f53 (Редакция №5)
       "      </g>\r\n",
       "     </g>\r\n",
       "    </g>\r\n",
       "    <g id=\"xtick_2\">\r\n",
       "     <g id=\"line2d_3\">\r\n",
<<<<<<< HEAD
<<<<<<< Updated upstream
<<<<<<< Updated upstream
       "      <path clip-path=\"url(#p10a475d21d)\" d=\"M 84.698745 228.80625 \r\n",
       "L 84.698745 11.36625 \r\n",
=======
       "      <path clip-path=\"url(#p7cca1c5b56)\" d=\"M 118.743205 229.500625 \r\n",
       "L 118.743205 12.060625 \r\n",
>>>>>>> Stashed changes
=======
       "      <path clip-path=\"url(#p7cca1c5b56)\" d=\"M 118.743205 229.500625 \r\n",
       "L 118.743205 12.060625 \r\n",
>>>>>>> Stashed changes
=======
       "      <path clip-path=\"url(#p10a475d21d)\" d=\"M 84.698745 228.80625 \r\n",
       "L 84.698745 11.36625 \r\n",
>>>>>>> parent of 8a35f53 (Редакция №5)
       "\" style=\"fill:none;stroke:#b0b0b0;stroke-linecap:square;stroke-width:0.8;\"/>\r\n",
       "     </g>\r\n",
       "     <g id=\"line2d_4\">\r\n",
       "      <g>\r\n",
<<<<<<< HEAD
<<<<<<< Updated upstream
<<<<<<< Updated upstream
=======
>>>>>>> parent of 8a35f53 (Редакция №5)
       "       <use style=\"stroke:#000000;stroke-width:0.8;\" x=\"84.698745\" xlink:href=\"#m01653be17c\" y=\"228.80625\"/>\r\n",
       "      </g>\r\n",
       "     </g>\r\n",
       "     <g id=\"text_2\">\r\n",
       "      <!-- 6 -->\r\n",
       "      <g transform=\"translate(81.698745 244.13875)scale(0.12 -0.12)\">\r\n",
       "       <defs>\r\n",
       "        <path d=\"M 2869 4325 \r\n",
       "L 2869 4209 \r\n",
       "Q 2456 4169 2195 4045 \r\n",
       "Q 1934 3922 1679 3669 \r\n",
       "Q 1425 3416 1258 3105 \r\n",
       "Q 1091 2794 978 2366 \r\n",
       "Q 1428 2675 1881 2675 \r\n",
       "Q 2316 2675 2634 2325 \r\n",
       "Q 2953 1975 2953 1425 \r\n",
       "Q 2953 894 2631 456 \r\n",
       "Q 2244 -75 1606 -75 \r\n",
       "Q 1172 -75 869 213 \r\n",
       "Q 275 772 275 1663 \r\n",
       "Q 275 2231 503 2743 \r\n",
       "Q 731 3256 1154 3653 \r\n",
       "Q 1578 4050 1965 4187 \r\n",
       "Q 2353 4325 2688 4325 \r\n",
       "L 2869 4325 \r\n",
       "z\r\n",
       "M 925 2138 \r\n",
       "Q 869 1716 869 1456 \r\n",
       "Q 869 1156 980 804 \r\n",
       "Q 1091 453 1309 247 \r\n",
       "Q 1469 100 1697 100 \r\n",
       "Q 1969 100 2183 356 \r\n",
       "Q 2397 613 2397 1088 \r\n",
       "Q 2397 1622 2184 2012 \r\n",
       "Q 1972 2403 1581 2403 \r\n",
       "Q 1463 2403 1327 2353 \r\n",
       "Q 1191 2303 925 2138 \r\n",
       "z\r\n",
       "\" id=\"TimesNewRomanPSMT-36\" transform=\"scale(0.015625)\"/>\r\n",
       "       </defs>\r\n",
       "       <use xlink:href=\"#TimesNewRomanPSMT-36\"/>\r\n",
<<<<<<< HEAD
=======
=======
>>>>>>> Stashed changes
       "       <use style=\"stroke:#000000;stroke-width:0.8;\" x=\"118.743205\" xlink:href=\"#medd7269a5e\" y=\"229.500625\"/>\r\n",
       "      </g>\r\n",
       "     </g>\r\n",
       "     <g id=\"text_2\">\r\n",
       "      <!-- 7.5 -->\r\n",
       "      <g transform=\"translate(109.993205 246.221875)scale(0.14 -0.14)\">\r\n",
       "       <defs>\r\n",
       "        <path d=\"M 644 4238 \r\n",
       "L 2916 4238 \r\n",
       "L 2916 4119 \r\n",
       "L 1503 -88 \r\n",
       "L 1153 -88 \r\n",
       "L 2419 3728 \r\n",
       "L 1253 3728 \r\n",
       "Q 900 3728 750 3644 \r\n",
       "Q 488 3500 328 3200 \r\n",
       "L 238 3234 \r\n",
       "L 644 4238 \r\n",
       "z\r\n",
       "\" id=\"TimesNewRomanPSMT-37\" transform=\"scale(0.015625)\"/>\r\n",
       "       </defs>\r\n",
       "       <use xlink:href=\"#TimesNewRomanPSMT-37\"/>\r\n",
       "       <use x=\"50\" xlink:href=\"#TimesNewRomanPSMT-2e\"/>\r\n",
       "       <use x=\"75\" xlink:href=\"#TimesNewRomanPSMT-35\"/>\r\n",
<<<<<<< Updated upstream
>>>>>>> Stashed changes
=======
>>>>>>> Stashed changes
=======
>>>>>>> parent of 8a35f53 (Редакция №5)
       "      </g>\r\n",
       "     </g>\r\n",
       "    </g>\r\n",
       "    <g id=\"xtick_3\">\r\n",
       "     <g id=\"line2d_5\">\r\n",
<<<<<<< HEAD
<<<<<<< Updated upstream
<<<<<<< Updated upstream
       "      <path clip-path=\"url(#p10a475d21d)\" d=\"M 124.335942 228.80625 \r\n",
       "L 124.335942 11.36625 \r\n",
=======
       "      <path clip-path=\"url(#p7cca1c5b56)\" d=\"M 168.289702 229.500625 \r\n",
       "L 168.289702 12.060625 \r\n",
>>>>>>> Stashed changes
=======
       "      <path clip-path=\"url(#p7cca1c5b56)\" d=\"M 168.289702 229.500625 \r\n",
       "L 168.289702 12.060625 \r\n",
>>>>>>> Stashed changes
=======
       "      <path clip-path=\"url(#p10a475d21d)\" d=\"M 124.335942 228.80625 \r\n",
       "L 124.335942 11.36625 \r\n",
>>>>>>> parent of 8a35f53 (Редакция №5)
       "\" style=\"fill:none;stroke:#b0b0b0;stroke-linecap:square;stroke-width:0.8;\"/>\r\n",
       "     </g>\r\n",
       "     <g id=\"line2d_6\">\r\n",
       "      <g>\r\n",
<<<<<<< HEAD
<<<<<<< Updated upstream
<<<<<<< Updated upstream
=======
>>>>>>> parent of 8a35f53 (Редакция №5)
       "       <use style=\"stroke:#000000;stroke-width:0.8;\" x=\"124.335942\" xlink:href=\"#m01653be17c\" y=\"228.80625\"/>\r\n",
       "      </g>\r\n",
       "     </g>\r\n",
       "     <g id=\"text_3\">\r\n",
       "      <!-- 8 -->\r\n",
       "      <g transform=\"translate(121.335942 244.13875)scale(0.12 -0.12)\">\r\n",
       "       <defs>\r\n",
       "        <path d=\"M 1228 2134 \r\n",
       "Q 725 2547 579 2797 \r\n",
       "Q 434 3047 434 3316 \r\n",
       "Q 434 3728 753 4026 \r\n",
       "Q 1072 4325 1600 4325 \r\n",
       "Q 2113 4325 2425 4047 \r\n",
       "Q 2738 3769 2738 3413 \r\n",
       "Q 2738 3175 2569 2928 \r\n",
       "Q 2400 2681 1866 2347 \r\n",
       "Q 2416 1922 2594 1678 \r\n",
       "Q 2831 1359 2831 1006 \r\n",
       "Q 2831 559 2490 242 \r\n",
       "Q 2150 -75 1597 -75 \r\n",
       "Q 994 -75 656 303 \r\n",
       "Q 388 606 388 966 \r\n",
       "Q 388 1247 577 1523 \r\n",
       "Q 766 1800 1228 2134 \r\n",
       "z\r\n",
       "M 1719 2469 \r\n",
       "Q 2094 2806 2194 3001 \r\n",
       "Q 2294 3197 2294 3444 \r\n",
       "Q 2294 3772 2109 3958 \r\n",
       "Q 1925 4144 1606 4144 \r\n",
       "Q 1288 4144 1088 3959 \r\n",
       "Q 888 3775 888 3528 \r\n",
       "Q 888 3366 970 3203 \r\n",
       "Q 1053 3041 1206 2894 \r\n",
       "L 1719 2469 \r\n",
       "z\r\n",
       "M 1375 2016 \r\n",
       "Q 1116 1797 991 1539 \r\n",
       "Q 866 1281 866 981 \r\n",
       "Q 866 578 1086 336 \r\n",
       "Q 1306 94 1647 94 \r\n",
       "Q 1984 94 2187 284 \r\n",
       "Q 2391 475 2391 747 \r\n",
       "Q 2391 972 2272 1150 \r\n",
       "Q 2050 1481 1375 2016 \r\n",
       "z\r\n",
       "\" id=\"TimesNewRomanPSMT-38\" transform=\"scale(0.015625)\"/>\r\n",
       "       </defs>\r\n",
       "       <use xlink:href=\"#TimesNewRomanPSMT-38\"/>\r\n",
<<<<<<< HEAD
=======
=======
>>>>>>> Stashed changes
       "       <use style=\"stroke:#000000;stroke-width:0.8;\" x=\"168.289702\" xlink:href=\"#medd7269a5e\" y=\"229.500625\"/>\r\n",
       "      </g>\r\n",
       "     </g>\r\n",
       "     <g id=\"text_3\">\r\n",
       "      <!-- 10.0 -->\r\n",
       "      <g transform=\"translate(156.039702 246.221875)scale(0.14 -0.14)\">\r\n",
       "       <defs>\r\n",
       "        <path d=\"M 750 3822 \r\n",
       "L 1781 4325 \r\n",
       "L 1884 4325 \r\n",
       "L 1884 747 \r\n",
       "Q 1884 391 1914 303 \r\n",
       "Q 1944 216 2037 169 \r\n",
       "Q 2131 122 2419 116 \r\n",
       "L 2419 0 \r\n",
       "L 825 0 \r\n",
       "L 825 116 \r\n",
       "Q 1125 122 1212 167 \r\n",
       "Q 1300 213 1334 289 \r\n",
       "Q 1369 366 1369 747 \r\n",
       "L 1369 3034 \r\n",
       "Q 1369 3497 1338 3628 \r\n",
       "Q 1316 3728 1258 3775 \r\n",
       "Q 1200 3822 1119 3822 \r\n",
       "Q 1003 3822 797 3725 \r\n",
       "L 750 3822 \r\n",
       "z\r\n",
       "\" id=\"TimesNewRomanPSMT-31\" transform=\"scale(0.015625)\"/>\r\n",
       "       </defs>\r\n",
       "       <use xlink:href=\"#TimesNewRomanPSMT-31\"/>\r\n",
       "       <use x=\"50\" xlink:href=\"#TimesNewRomanPSMT-30\"/>\r\n",
       "       <use x=\"100\" xlink:href=\"#TimesNewRomanPSMT-2e\"/>\r\n",
       "       <use x=\"125\" xlink:href=\"#TimesNewRomanPSMT-30\"/>\r\n",
<<<<<<< Updated upstream
>>>>>>> Stashed changes
=======
>>>>>>> Stashed changes
=======
>>>>>>> parent of 8a35f53 (Редакция №5)
       "      </g>\r\n",
       "     </g>\r\n",
       "    </g>\r\n",
       "    <g id=\"xtick_4\">\r\n",
       "     <g id=\"line2d_7\">\r\n",
<<<<<<< HEAD
<<<<<<< Updated upstream
<<<<<<< Updated upstream
       "      <path clip-path=\"url(#p10a475d21d)\" d=\"M 163.97314 228.80625 \r\n",
       "L 163.97314 11.36625 \r\n",
=======
       "      <path clip-path=\"url(#p7cca1c5b56)\" d=\"M 217.836199 229.500625 \r\n",
       "L 217.836199 12.060625 \r\n",
>>>>>>> Stashed changes
=======
       "      <path clip-path=\"url(#p7cca1c5b56)\" d=\"M 217.836199 229.500625 \r\n",
       "L 217.836199 12.060625 \r\n",
>>>>>>> Stashed changes
=======
       "      <path clip-path=\"url(#p10a475d21d)\" d=\"M 163.97314 228.80625 \r\n",
       "L 163.97314 11.36625 \r\n",
>>>>>>> parent of 8a35f53 (Редакция №5)
       "\" style=\"fill:none;stroke:#b0b0b0;stroke-linecap:square;stroke-width:0.8;\"/>\r\n",
       "     </g>\r\n",
       "     <g id=\"line2d_8\">\r\n",
       "      <g>\r\n",
<<<<<<< HEAD
<<<<<<< Updated upstream
<<<<<<< Updated upstream
=======
>>>>>>> parent of 8a35f53 (Редакция №5)
       "       <use style=\"stroke:#000000;stroke-width:0.8;\" x=\"163.97314\" xlink:href=\"#m01653be17c\" y=\"228.80625\"/>\r\n",
       "      </g>\r\n",
       "     </g>\r\n",
       "     <g id=\"text_4\">\r\n",
       "      <!-- 10 -->\r\n",
       "      <g transform=\"translate(157.97314 244.13875)scale(0.12 -0.12)\">\r\n",
       "       <defs>\r\n",
       "        <path d=\"M 750 3822 \r\n",
       "L 1781 4325 \r\n",
       "L 1884 4325 \r\n",
       "L 1884 747 \r\n",
       "Q 1884 391 1914 303 \r\n",
       "Q 1944 216 2037 169 \r\n",
       "Q 2131 122 2419 116 \r\n",
       "L 2419 0 \r\n",
       "L 825 0 \r\n",
       "L 825 116 \r\n",
       "Q 1125 122 1212 167 \r\n",
       "Q 1300 213 1334 289 \r\n",
       "Q 1369 366 1369 747 \r\n",
       "L 1369 3034 \r\n",
       "Q 1369 3497 1338 3628 \r\n",
       "Q 1316 3728 1258 3775 \r\n",
       "Q 1200 3822 1119 3822 \r\n",
       "Q 1003 3822 797 3725 \r\n",
       "L 750 3822 \r\n",
       "z\r\n",
       "\" id=\"TimesNewRomanPSMT-31\" transform=\"scale(0.015625)\"/>\r\n",
       "        <path d=\"M 231 2094 \r\n",
       "Q 231 2819 450 3342 \r\n",
       "Q 669 3866 1031 4122 \r\n",
       "Q 1313 4325 1613 4325 \r\n",
       "Q 2100 4325 2488 3828 \r\n",
       "Q 2972 3213 2972 2159 \r\n",
       "Q 2972 1422 2759 906 \r\n",
       "Q 2547 391 2217 158 \r\n",
       "Q 1888 -75 1581 -75 \r\n",
       "Q 975 -75 572 641 \r\n",
       "Q 231 1244 231 2094 \r\n",
       "z\r\n",
       "M 844 2016 \r\n",
       "Q 844 1141 1059 588 \r\n",
       "Q 1238 122 1591 122 \r\n",
       "Q 1759 122 1940 273 \r\n",
       "Q 2122 425 2216 781 \r\n",
       "Q 2359 1319 2359 2297 \r\n",
       "Q 2359 3022 2209 3506 \r\n",
       "Q 2097 3866 1919 4016 \r\n",
       "Q 1791 4119 1609 4119 \r\n",
       "Q 1397 4119 1231 3928 \r\n",
       "Q 1006 3669 925 3112 \r\n",
       "Q 844 2556 844 2016 \r\n",
       "z\r\n",
       "\" id=\"TimesNewRomanPSMT-30\" transform=\"scale(0.015625)\"/>\r\n",
       "       </defs>\r\n",
       "       <use xlink:href=\"#TimesNewRomanPSMT-31\"/>\r\n",
       "       <use x=\"50\" xlink:href=\"#TimesNewRomanPSMT-30\"/>\r\n",
<<<<<<< HEAD
=======
=======
>>>>>>> Stashed changes
       "       <use style=\"stroke:#000000;stroke-width:0.8;\" x=\"217.836199\" xlink:href=\"#medd7269a5e\" y=\"229.500625\"/>\r\n",
       "      </g>\r\n",
       "     </g>\r\n",
       "     <g id=\"text_4\">\r\n",
       "      <!-- 12.5 -->\r\n",
       "      <g transform=\"translate(205.586199 246.221875)scale(0.14 -0.14)\">\r\n",
       "       <defs>\r\n",
       "        <path d=\"M 2934 816 \r\n",
       "L 2638 0 \r\n",
       "L 138 0 \r\n",
       "L 138 116 \r\n",
       "Q 1241 1122 1691 1759 \r\n",
       "Q 2141 2397 2141 2925 \r\n",
       "Q 2141 3328 1894 3587 \r\n",
       "Q 1647 3847 1303 3847 \r\n",
       "Q 991 3847 742 3664 \r\n",
       "Q 494 3481 375 3128 \r\n",
       "L 259 3128 \r\n",
       "Q 338 3706 661 4015 \r\n",
       "Q 984 4325 1469 4325 \r\n",
       "Q 1984 4325 2329 3994 \r\n",
       "Q 2675 3663 2675 3213 \r\n",
       "Q 2675 2891 2525 2569 \r\n",
       "Q 2294 2063 1775 1497 \r\n",
       "Q 997 647 803 472 \r\n",
       "L 1909 472 \r\n",
       "Q 2247 472 2383 497 \r\n",
       "Q 2519 522 2628 598 \r\n",
       "Q 2738 675 2819 816 \r\n",
       "L 2934 816 \r\n",
       "z\r\n",
       "\" id=\"TimesNewRomanPSMT-32\" transform=\"scale(0.015625)\"/>\r\n",
       "       </defs>\r\n",
       "       <use xlink:href=\"#TimesNewRomanPSMT-31\"/>\r\n",
       "       <use x=\"50\" xlink:href=\"#TimesNewRomanPSMT-32\"/>\r\n",
       "       <use x=\"100\" xlink:href=\"#TimesNewRomanPSMT-2e\"/>\r\n",
       "       <use x=\"125\" xlink:href=\"#TimesNewRomanPSMT-35\"/>\r\n",
<<<<<<< Updated upstream
>>>>>>> Stashed changes
=======
>>>>>>> Stashed changes
=======
>>>>>>> parent of 8a35f53 (Редакция №5)
       "      </g>\r\n",
       "     </g>\r\n",
       "    </g>\r\n",
       "    <g id=\"xtick_5\">\r\n",
       "     <g id=\"line2d_9\">\r\n",
<<<<<<< HEAD
<<<<<<< Updated upstream
<<<<<<< Updated upstream
       "      <path clip-path=\"url(#p10a475d21d)\" d=\"M 203.610337 228.80625 \r\n",
       "L 203.610337 11.36625 \r\n",
=======
       "      <path clip-path=\"url(#p7cca1c5b56)\" d=\"M 267.382696 229.500625 \r\n",
       "L 267.382696 12.060625 \r\n",
>>>>>>> Stashed changes
=======
       "      <path clip-path=\"url(#p7cca1c5b56)\" d=\"M 267.382696 229.500625 \r\n",
       "L 267.382696 12.060625 \r\n",
>>>>>>> Stashed changes
=======
       "      <path clip-path=\"url(#p10a475d21d)\" d=\"M 203.610337 228.80625 \r\n",
       "L 203.610337 11.36625 \r\n",
>>>>>>> parent of 8a35f53 (Редакция №5)
       "\" style=\"fill:none;stroke:#b0b0b0;stroke-linecap:square;stroke-width:0.8;\"/>\r\n",
       "     </g>\r\n",
       "     <g id=\"line2d_10\">\r\n",
       "      <g>\r\n",
<<<<<<< HEAD
<<<<<<< Updated upstream
<<<<<<< Updated upstream
=======
>>>>>>> parent of 8a35f53 (Редакция №5)
       "       <use style=\"stroke:#000000;stroke-width:0.8;\" x=\"203.610337\" xlink:href=\"#m01653be17c\" y=\"228.80625\"/>\r\n",
       "      </g>\r\n",
       "     </g>\r\n",
       "     <g id=\"text_5\">\r\n",
       "      <!-- 12 -->\r\n",
       "      <g transform=\"translate(197.610337 244.13875)scale(0.12 -0.12)\">\r\n",
       "       <defs>\r\n",
       "        <path d=\"M 2934 816 \r\n",
       "L 2638 0 \r\n",
       "L 138 0 \r\n",
       "L 138 116 \r\n",
       "Q 1241 1122 1691 1759 \r\n",
       "Q 2141 2397 2141 2925 \r\n",
       "Q 2141 3328 1894 3587 \r\n",
       "Q 1647 3847 1303 3847 \r\n",
       "Q 991 3847 742 3664 \r\n",
       "Q 494 3481 375 3128 \r\n",
       "L 259 3128 \r\n",
       "Q 338 3706 661 4015 \r\n",
       "Q 984 4325 1469 4325 \r\n",
       "Q 1984 4325 2329 3994 \r\n",
       "Q 2675 3663 2675 3213 \r\n",
       "Q 2675 2891 2525 2569 \r\n",
       "Q 2294 2063 1775 1497 \r\n",
       "Q 997 647 803 472 \r\n",
       "L 1909 472 \r\n",
       "Q 2247 472 2383 497 \r\n",
       "Q 2519 522 2628 598 \r\n",
       "Q 2738 675 2819 816 \r\n",
       "L 2934 816 \r\n",
       "z\r\n",
       "\" id=\"TimesNewRomanPSMT-32\" transform=\"scale(0.015625)\"/>\r\n",
       "       </defs>\r\n",
       "       <use xlink:href=\"#TimesNewRomanPSMT-31\"/>\r\n",
       "       <use x=\"50\" xlink:href=\"#TimesNewRomanPSMT-32\"/>\r\n",
<<<<<<< HEAD
=======
=======
>>>>>>> Stashed changes
       "       <use style=\"stroke:#000000;stroke-width:0.8;\" x=\"267.382696\" xlink:href=\"#medd7269a5e\" y=\"229.500625\"/>\r\n",
       "      </g>\r\n",
       "     </g>\r\n",
       "     <g id=\"text_5\">\r\n",
       "      <!-- 15.0 -->\r\n",
       "      <g transform=\"translate(255.132696 246.221875)scale(0.14 -0.14)\">\r\n",
       "       <use xlink:href=\"#TimesNewRomanPSMT-31\"/>\r\n",
       "       <use x=\"50\" xlink:href=\"#TimesNewRomanPSMT-35\"/>\r\n",
       "       <use x=\"100\" xlink:href=\"#TimesNewRomanPSMT-2e\"/>\r\n",
       "       <use x=\"125\" xlink:href=\"#TimesNewRomanPSMT-30\"/>\r\n",
<<<<<<< Updated upstream
>>>>>>> Stashed changes
=======
>>>>>>> Stashed changes
=======
>>>>>>> parent of 8a35f53 (Редакция №5)
       "      </g>\r\n",
       "     </g>\r\n",
       "    </g>\r\n",
       "    <g id=\"xtick_6\">\r\n",
       "     <g id=\"line2d_11\">\r\n",
<<<<<<< HEAD
<<<<<<< Updated upstream
<<<<<<< Updated upstream
       "      <path clip-path=\"url(#p10a475d21d)\" d=\"M 243.247535 228.80625 \r\n",
       "L 243.247535 11.36625 \r\n",
=======
       "      <path clip-path=\"url(#p7cca1c5b56)\" d=\"M 316.929193 229.500625 \r\n",
       "L 316.929193 12.060625 \r\n",
>>>>>>> Stashed changes
=======
       "      <path clip-path=\"url(#p7cca1c5b56)\" d=\"M 316.929193 229.500625 \r\n",
       "L 316.929193 12.060625 \r\n",
>>>>>>> Stashed changes
=======
       "      <path clip-path=\"url(#p10a475d21d)\" d=\"M 243.247535 228.80625 \r\n",
       "L 243.247535 11.36625 \r\n",
>>>>>>> parent of 8a35f53 (Редакция №5)
       "\" style=\"fill:none;stroke:#b0b0b0;stroke-linecap:square;stroke-width:0.8;\"/>\r\n",
       "     </g>\r\n",
       "     <g id=\"line2d_12\">\r\n",
       "      <g>\r\n",
<<<<<<< HEAD
<<<<<<< Updated upstream
<<<<<<< Updated upstream
=======
>>>>>>> parent of 8a35f53 (Редакция №5)
       "       <use style=\"stroke:#000000;stroke-width:0.8;\" x=\"243.247535\" xlink:href=\"#m01653be17c\" y=\"228.80625\"/>\r\n",
       "      </g>\r\n",
       "     </g>\r\n",
       "     <g id=\"text_6\">\r\n",
       "      <!-- 14 -->\r\n",
       "      <g transform=\"translate(237.247535 244.13875)scale(0.12 -0.12)\">\r\n",
       "       <use xlink:href=\"#TimesNewRomanPSMT-31\"/>\r\n",
       "       <use x=\"50\" xlink:href=\"#TimesNewRomanPSMT-34\"/>\r\n",
<<<<<<< HEAD
=======
=======
>>>>>>> Stashed changes
       "       <use style=\"stroke:#000000;stroke-width:0.8;\" x=\"316.929193\" xlink:href=\"#medd7269a5e\" y=\"229.500625\"/>\r\n",
       "      </g>\r\n",
       "     </g>\r\n",
       "     <g id=\"text_6\">\r\n",
       "      <!-- 17.5 -->\r\n",
       "      <g transform=\"translate(304.679193 246.221875)scale(0.14 -0.14)\">\r\n",
       "       <use xlink:href=\"#TimesNewRomanPSMT-31\"/>\r\n",
       "       <use x=\"50\" xlink:href=\"#TimesNewRomanPSMT-37\"/>\r\n",
       "       <use x=\"100\" xlink:href=\"#TimesNewRomanPSMT-2e\"/>\r\n",
       "       <use x=\"125\" xlink:href=\"#TimesNewRomanPSMT-35\"/>\r\n",
<<<<<<< Updated upstream
>>>>>>> Stashed changes
=======
>>>>>>> Stashed changes
=======
>>>>>>> parent of 8a35f53 (Редакция №5)
       "      </g>\r\n",
       "     </g>\r\n",
       "    </g>\r\n",
       "    <g id=\"xtick_7\">\r\n",
       "     <g id=\"line2d_13\">\r\n",
<<<<<<< HEAD
<<<<<<< Updated upstream
<<<<<<< Updated upstream
       "      <path clip-path=\"url(#p10a475d21d)\" d=\"M 282.884733 228.80625 \r\n",
       "L 282.884733 11.36625 \r\n",
=======
       "      <path clip-path=\"url(#p7cca1c5b56)\" d=\"M 366.47569 229.500625 \r\n",
       "L 366.47569 12.060625 \r\n",
>>>>>>> Stashed changes
=======
       "      <path clip-path=\"url(#p7cca1c5b56)\" d=\"M 366.47569 229.500625 \r\n",
       "L 366.47569 12.060625 \r\n",
>>>>>>> Stashed changes
=======
       "      <path clip-path=\"url(#p10a475d21d)\" d=\"M 282.884733 228.80625 \r\n",
       "L 282.884733 11.36625 \r\n",
>>>>>>> parent of 8a35f53 (Редакция №5)
       "\" style=\"fill:none;stroke:#b0b0b0;stroke-linecap:square;stroke-width:0.8;\"/>\r\n",
       "     </g>\r\n",
       "     <g id=\"line2d_14\">\r\n",
       "      <g>\r\n",
<<<<<<< HEAD
<<<<<<< Updated upstream
<<<<<<< Updated upstream
=======
>>>>>>> parent of 8a35f53 (Редакция №5)
       "       <use style=\"stroke:#000000;stroke-width:0.8;\" x=\"282.884733\" xlink:href=\"#m01653be17c\" y=\"228.80625\"/>\r\n",
       "      </g>\r\n",
       "     </g>\r\n",
       "     <g id=\"text_7\">\r\n",
       "      <!-- 16 -->\r\n",
       "      <g transform=\"translate(276.884733 244.13875)scale(0.12 -0.12)\">\r\n",
       "       <use xlink:href=\"#TimesNewRomanPSMT-31\"/>\r\n",
       "       <use x=\"50\" xlink:href=\"#TimesNewRomanPSMT-36\"/>\r\n",
<<<<<<< HEAD
=======
=======
>>>>>>> Stashed changes
       "       <use style=\"stroke:#000000;stroke-width:0.8;\" x=\"366.47569\" xlink:href=\"#medd7269a5e\" y=\"229.500625\"/>\r\n",
       "      </g>\r\n",
       "     </g>\r\n",
       "     <g id=\"text_7\">\r\n",
       "      <!-- 20.0 -->\r\n",
       "      <g transform=\"translate(354.22569 246.221875)scale(0.14 -0.14)\">\r\n",
       "       <use xlink:href=\"#TimesNewRomanPSMT-32\"/>\r\n",
       "       <use x=\"50\" xlink:href=\"#TimesNewRomanPSMT-30\"/>\r\n",
       "       <use x=\"100\" xlink:href=\"#TimesNewRomanPSMT-2e\"/>\r\n",
       "       <use x=\"125\" xlink:href=\"#TimesNewRomanPSMT-30\"/>\r\n",
<<<<<<< Updated upstream
>>>>>>> Stashed changes
=======
>>>>>>> parent of 8a35f53 (Редакция №5)
       "      </g>\r\n",
       "     </g>\r\n",
       "    </g>\r\n",
       "    <g id=\"xtick_8\">\r\n",
       "     <g id=\"line2d_15\">\r\n",
       "      <path clip-path=\"url(#p10a475d21d)\" d=\"M 322.52193 228.80625 \r\n",
       "L 322.52193 11.36625 \r\n",
       "\" style=\"fill:none;stroke:#b0b0b0;stroke-linecap:square;stroke-width:0.8;\"/>\r\n",
       "     </g>\r\n",
       "     <g id=\"line2d_16\">\r\n",
       "      <g>\r\n",
       "       <use style=\"stroke:#000000;stroke-width:0.8;\" x=\"322.52193\" xlink:href=\"#m01653be17c\" y=\"228.80625\"/>\r\n",
       "      </g>\r\n",
       "     </g>\r\n",
       "     <g id=\"text_8\">\r\n",
       "      <!-- 18 -->\r\n",
       "      <g transform=\"translate(316.52193 244.13875)scale(0.12 -0.12)\">\r\n",
       "       <use xlink:href=\"#TimesNewRomanPSMT-31\"/>\r\n",
       "       <use x=\"50\" xlink:href=\"#TimesNewRomanPSMT-38\"/>\r\n",
       "      </g>\r\n",
       "     </g>\r\n",
       "    </g>\r\n",
       "    <g id=\"xtick_9\">\r\n",
       "     <g id=\"line2d_17\">\r\n",
       "      <path clip-path=\"url(#p10a475d21d)\" d=\"M 362.159128 228.80625 \r\n",
       "L 362.159128 11.36625 \r\n",
       "\" style=\"fill:none;stroke:#b0b0b0;stroke-linecap:square;stroke-width:0.8;\"/>\r\n",
       "     </g>\r\n",
       "     <g id=\"line2d_18\">\r\n",
       "      <g>\r\n",
       "       <use style=\"stroke:#000000;stroke-width:0.8;\" x=\"362.159128\" xlink:href=\"#m01653be17c\" y=\"228.80625\"/>\r\n",
       "      </g>\r\n",
       "     </g>\r\n",
       "     <g id=\"text_9\">\r\n",
       "      <!-- 20 -->\r\n",
       "      <g transform=\"translate(356.159128 244.13875)scale(0.12 -0.12)\">\r\n",
       "       <use xlink:href=\"#TimesNewRomanPSMT-32\"/>\r\n",
       "       <use x=\"50\" xlink:href=\"#TimesNewRomanPSMT-30\"/>\r\n",
=======
>>>>>>> Stashed changes
       "      </g>\r\n",
       "     </g>\r\n",
       "    </g>\r\n",
       "    <g id=\"text_10\">\r\n",
       "     <!-- $\\mathit{p}_{ном},$ $МПа$ -->\r\n",
       "     <g transform=\"translate(184.919375 258.745625)scale(0.12 -0.12)\">\r\n",
       "      <defs>\r\n",
       "       <path d=\"M 1376 2739 \r\n",
       "L 1190 2099 \r\n",
       "Q 1670 2822 2285 2822 \r\n",
       "Q 2637 2822 2829 2611 \r\n",
       "Q 3021 2400 3021 2022 \r\n",
       "Q 3021 1235 2422 582 \r\n",
       "Q 1824 -70 1120 -70 \r\n",
       "Q 890 -70 678 38 \r\n",
       "Q 422 -1018 422 -1024 \r\n",
       "Q 422 -1126 508 -1168 \r\n",
       "Q 595 -1210 819 -1210 \r\n",
       "L 819 -1312 \r\n",
       "L -480 -1312 \r\n",
       "L -480 -1210 \r\n",
       "Q -275 -1203 -188 -1120 \r\n",
       "Q -102 -1037 -45 -806 \r\n",
       "L 691 1958 \r\n",
       "Q 794 2330 794 2413 \r\n",
       "Q 794 2586 512 2586 \r\n",
       "L 371 2586 \r\n",
       "L 358 2682 \r\n",
       "L 1357 2822 \r\n",
       "Q 1389 2822 1389 2797 \r\n",
       "Q 1382 2765 1376 2739 \r\n",
       "z\r\n",
       "M 2445 2003 \r\n",
       "Q 2445 2285 2352 2416 \r\n",
       "Q 2259 2547 2048 2547 \r\n",
       "Q 1798 2547 1548 2329 \r\n",
       "Q 1299 2112 1184 1818 \r\n",
       "Q 1043 1453 905 953 \r\n",
       "Q 768 454 768 294 \r\n",
       "Q 768 186 854 118 \r\n",
       "Q 941 51 1075 51 \r\n",
       "Q 1574 51 2003 659 \r\n",
       "Q 2445 1274 2445 2003 \r\n",
       "z\r\n",
       "\" id=\"STIXGeneral-Italic-70\" transform=\"scale(0.015625)\"/>\r\n",
       "       <path d=\"M 1094 1584 \r\n",
       "L 2331 1584 \r\n",
       "L 2331 2191 \r\n",
       "Q 2331 2463 2309 2545 \r\n",
       "Q 2288 2628 2202 2686 \r\n",
       "Q 2116 2744 1897 2744 \r\n",
       "L 1897 2863 \r\n",
       "L 3281 2863 \r\n",
       "L 3281 2744 \r\n",
       "Q 3088 2744 2998 2700 \r\n",
       "Q 2909 2656 2878 2573 \r\n",
       "Q 2847 2491 2847 2191 \r\n",
       "L 2847 672 \r\n",
       "Q 2847 400 2870 312 \r\n",
       "Q 2894 225 2984 170 \r\n",
       "Q 3075 116 3281 116 \r\n",
       "L 3281 0 \r\n",
       "L 1897 0 \r\n",
       "L 1897 116 \r\n",
       "Q 2156 116 2243 211 \r\n",
       "Q 2331 306 2331 672 \r\n",
       "L 2331 1381 \r\n",
       "L 1094 1381 \r\n",
       "L 1094 672 \r\n",
       "Q 1094 400 1117 312 \r\n",
       "Q 1141 225 1231 170 \r\n",
       "Q 1322 116 1528 116 \r\n",
       "L 1528 0 \r\n",
       "L 144 0 \r\n",
       "L 144 116 \r\n",
       "Q 422 116 500 217 \r\n",
       "Q 578 319 578 672 \r\n",
       "L 578 2191 \r\n",
       "Q 578 2463 554 2550 \r\n",
       "Q 531 2638 440 2691 \r\n",
       "Q 350 2744 144 2744 \r\n",
       "L 144 2863 \r\n",
       "L 1528 2863 \r\n",
       "L 1528 2744 \r\n",
       "Q 1334 2744 1245 2700 \r\n",
       "Q 1156 2656 1125 2573 \r\n",
       "Q 1094 2491 1094 2191 \r\n",
       "L 1094 1584 \r\n",
       "z\r\n",
       "\" id=\"TimesNewRomanPSMT-43d\" transform=\"scale(0.015625)\"/>\r\n",
       "       <path d=\"M 1600 2947 \r\n",
       "Q 2250 2947 2644 2453 \r\n",
       "Q 2978 2031 2978 1484 \r\n",
       "Q 2978 1100 2793 706 \r\n",
       "Q 2609 313 2286 112 \r\n",
       "Q 1963 -88 1566 -88 \r\n",
       "Q 919 -88 538 428 \r\n",
       "Q 216 863 216 1403 \r\n",
       "Q 216 1797 411 2186 \r\n",
       "Q 606 2575 925 2761 \r\n",
       "Q 1244 2947 1600 2947 \r\n",
       "z\r\n",
       "M 1503 2744 \r\n",
       "Q 1338 2744 1170 2645 \r\n",
       "Q 1003 2547 900 2300 \r\n",
       "Q 797 2053 797 1666 \r\n",
       "Q 797 1041 1045 587 \r\n",
       "Q 1294 134 1700 134 \r\n",
       "Q 2003 134 2200 384 \r\n",
       "Q 2397 634 2397 1244 \r\n",
       "Q 2397 2006 2069 2444 \r\n",
       "Q 1847 2744 1503 2744 \r\n",
       "z\r\n",
       "\" id=\"TimesNewRomanPSMT-43e\" transform=\"scale(0.015625)\"/>\r\n",
       "       <path d=\"M 2050 747 \r\n",
       "L 2944 2863 \r\n",
       "L 3909 2863 \r\n",
       "L 3909 2744 \r\n",
       "Q 3697 2744 3626 2701 \r\n",
       "Q 3556 2659 3515 2596 \r\n",
       "Q 3475 2534 3475 2191 \r\n",
       "L 3475 672 \r\n",
       "Q 3475 375 3504 289 \r\n",
       "Q 3534 203 3626 159 \r\n",
       "Q 3719 116 3909 116 \r\n",
       "L 3909 0 \r\n",
       "L 2525 0 \r\n",
       "L 2525 116 \r\n",
       "Q 2781 116 2868 211 \r\n",
       "Q 2956 306 2956 672 \r\n",
       "L 2956 2394 \r\n",
       "L 1944 0 \r\n",
       "L 1834 0 \r\n",
       "L 803 2394 \r\n",
       "L 803 672 \r\n",
       "Q 803 375 834 289 \r\n",
       "Q 866 203 956 159 \r\n",
       "Q 1047 116 1238 116 \r\n",
       "L 1238 0 \r\n",
       "L 144 0 \r\n",
       "L 144 116 \r\n",
       "Q 422 116 500 217 \r\n",
       "Q 578 319 578 672 \r\n",
       "L 578 2191 \r\n",
       "Q 578 2525 543 2586 \r\n",
       "Q 509 2647 437 2695 \r\n",
       "Q 366 2744 144 2744 \r\n",
       "L 144 2863 \r\n",
       "L 1150 2863 \r\n",
       "L 2050 747 \r\n",
       "z\r\n",
       "\" id=\"TimesNewRomanPSMT-43c\" transform=\"scale(0.015625)\"/>\r\n",
       "       <path d=\"M 344 -1066 \r\n",
       "L 344 -928 \r\n",
       "Q 666 -822 842 -598 \r\n",
       "Q 1019 -375 1019 -125 \r\n",
       "Q 1019 -66 991 -25 \r\n",
       "Q 969 3 947 3 \r\n",
       "Q 913 3 797 -59 \r\n",
       "Q 741 -88 678 -88 \r\n",
       "Q 525 -88 434 3 \r\n",
       "Q 344 94 344 253 \r\n",
       "Q 344 406 461 515 \r\n",
       "Q 578 625 747 625 \r\n",
       "Q 953 625 1114 445 \r\n",
       "Q 1275 266 1275 -31 \r\n",
       "Q 1275 -353 1051 -629 \r\n",
       "Q 828 -906 344 -1066 \r\n",
       "z\r\n",
       "\" id=\"TimesNewRomanPSMT-2c\" transform=\"scale(0.015625)\"/>\r\n",
       "       <path id=\"TimesNewRomanPSMT-20\" transform=\"scale(0.015625)\"/>\r\n",
       "       <path d=\"M 2619 0 \r\n",
       "L 981 3566 \r\n",
       "L 981 734 \r\n",
       "Q 981 344 1066 247 \r\n",
       "Q 1181 116 1431 116 \r\n",
       "L 1581 116 \r\n",
       "L 1581 0 \r\n",
       "L 106 0 \r\n",
       "L 106 116 \r\n",
       "L 256 116 \r\n",
       "Q 525 116 638 278 \r\n",
       "Q 706 378 706 734 \r\n",
       "L 706 3503 \r\n",
       "Q 706 3784 644 3909 \r\n",
       "Q 600 4000 483 4061 \r\n",
       "Q 366 4122 106 4122 \r\n",
       "L 106 4238 \r\n",
       "L 1306 4238 \r\n",
       "L 2844 922 \r\n",
       "L 4356 4238 \r\n",
       "L 5556 4238 \r\n",
       "L 5556 4122 \r\n",
       "L 5409 4122 \r\n",
       "Q 5138 4122 5025 3959 \r\n",
       "Q 4956 3859 4956 3503 \r\n",
       "L 4956 734 \r\n",
       "Q 4956 344 5044 247 \r\n",
       "Q 5159 116 5409 116 \r\n",
       "L 5556 116 \r\n",
       "L 5556 0 \r\n",
       "L 3756 0 \r\n",
       "L 3756 116 \r\n",
       "L 3906 116 \r\n",
       "Q 4178 116 4288 278 \r\n",
       "Q 4356 378 4356 734 \r\n",
       "L 4356 3566 \r\n",
       "L 2722 0 \r\n",
       "L 2619 0 \r\n",
       "z\r\n",
       "\" id=\"TimesNewRomanPSMT-41c\" transform=\"scale(0.015625)\"/>\r\n",
       "       <path d=\"M 3294 4006 \r\n",
       "L 1328 4006 \r\n",
       "L 1328 772 \r\n",
       "Q 1328 353 1436 240 \r\n",
       "Q 1544 128 1941 116 \r\n",
       "L 1941 0 \r\n",
       "L 116 0 \r\n",
       "L 116 116 \r\n",
       "Q 509 128 618 240 \r\n",
       "Q 728 353 728 772 \r\n",
       "L 728 3466 \r\n",
       "Q 728 3884 618 3996 \r\n",
       "Q 509 4109 116 4122 \r\n",
       "L 116 4238 \r\n",
       "L 4506 4238 \r\n",
       "L 4506 4122 \r\n",
       "Q 4113 4109 4003 3996 \r\n",
       "Q 3894 3884 3894 3466 \r\n",
       "L 3894 772 \r\n",
       "Q 3894 353 4003 240 \r\n",
       "Q 4113 128 4506 116 \r\n",
       "L 4506 0 \r\n",
       "L 2684 0 \r\n",
       "L 2684 116 \r\n",
       "Q 3075 128 3184 239 \r\n",
       "Q 3294 350 3294 772 \r\n",
       "L 3294 4006 \r\n",
       "z\r\n",
       "\" id=\"TimesNewRomanPSMT-41f\" transform=\"scale(0.015625)\"/>\r\n",
       "       <path d=\"M 1822 413 \r\n",
       "Q 1381 72 1269 19 \r\n",
       "Q 1100 -59 909 -59 \r\n",
       "Q 613 -59 420 144 \r\n",
       "Q 228 347 228 678 \r\n",
       "Q 228 888 322 1041 \r\n",
       "Q 450 1253 767 1440 \r\n",
       "Q 1084 1628 1822 1897 \r\n",
       "L 1822 2009 \r\n",
       "Q 1822 2438 1686 2597 \r\n",
       "Q 1550 2756 1291 2756 \r\n",
       "Q 1094 2756 978 2650 \r\n",
       "Q 859 2544 859 2406 \r\n",
       "L 866 2225 \r\n",
       "Q 866 2081 792 2003 \r\n",
       "Q 719 1925 600 1925 \r\n",
       "Q 484 1925 411 2006 \r\n",
       "Q 338 2088 338 2228 \r\n",
       "Q 338 2497 613 2722 \r\n",
       "Q 888 2947 1384 2947 \r\n",
       "Q 1766 2947 2009 2819 \r\n",
       "Q 2194 2722 2281 2516 \r\n",
       "Q 2338 2381 2338 1966 \r\n",
       "L 2338 994 \r\n",
       "Q 2338 584 2353 492 \r\n",
       "Q 2369 400 2405 369 \r\n",
       "Q 2441 338 2488 338 \r\n",
       "Q 2538 338 2575 359 \r\n",
       "Q 2641 400 2828 588 \r\n",
       "L 2828 413 \r\n",
       "Q 2478 -56 2159 -56 \r\n",
       "Q 2006 -56 1915 50 \r\n",
       "Q 1825 156 1822 413 \r\n",
       "z\r\n",
       "M 1822 616 \r\n",
       "L 1822 1706 \r\n",
       "Q 1350 1519 1213 1441 \r\n",
       "Q 966 1303 859 1153 \r\n",
       "Q 753 1003 753 825 \r\n",
       "Q 753 600 887 451 \r\n",
       "Q 1022 303 1197 303 \r\n",
       "Q 1434 303 1822 616 \r\n",
       "z\r\n",
       "\" id=\"TimesNewRomanPSMT-430\" transform=\"scale(0.015625)\"/>\r\n",
       "      </defs>\r\n",
       "      <use transform=\"translate(0 0.78125)\" xlink:href=\"#STIXGeneral-Italic-70\"/>\r\n",
       "      <use transform=\"translate(50.399994 -24.98125)scale(0.7)\" xlink:href=\"#TimesNewRomanPSMT-43d\"/>\r\n",
       "      <use transform=\"translate(87.860931 -24.98125)scale(0.7)\" xlink:href=\"#TimesNewRomanPSMT-43e\"/>\r\n",
       "      <use transform=\"translate(122.860931 -24.98125)scale(0.7)\" xlink:href=\"#TimesNewRomanPSMT-43c\"/>\r\n",
       "      <use transform=\"translate(171.451556 0.78125)\" xlink:href=\"#TimesNewRomanPSMT-2c\"/>\r\n",
       "      <use transform=\"translate(212.008197 0.78125)\" xlink:href=\"#TimesNewRomanPSMT-20\"/>\r\n",
       "      <use transform=\"translate(237.008197 0.78125)\" xlink:href=\"#TimesNewRomanPSMT-41c\"/>\r\n",
       "      <use transform=\"translate(325.924213 0.78125)\" xlink:href=\"#TimesNewRomanPSMT-41f\"/>\r\n",
       "      <use transform=\"translate(398.14101 0.78125)\" xlink:href=\"#TimesNewRomanPSMT-430\"/>\r\n",
       "     </g>\r\n",
       "    </g>\r\n",
       "   </g>\r\n",
       "   <g id=\"matplotlib.axis_2\">\r\n",
       "    <g id=\"ytick_1\">\r\n",
       "     <g id=\"line2d_19\">\r\n",
       "      <path clip-path=\"url(#p10a475d21d)\" d=\"M 44.099375 228.80625 \r\n",
       "L 378.899375 228.80625 \r\n",
       "\" style=\"fill:none;stroke:#b0b0b0;stroke-linecap:square;stroke-width:0.8;\"/>\r\n",
       "     </g>\r\n",
       "     <g id=\"line2d_20\">\r\n",
       "      <defs>\r\n",
       "       <path d=\"M 0 0 \r\n",
       "L -3.5 0 \r\n",
<<<<<<< HEAD
<<<<<<< Updated upstream
<<<<<<< Updated upstream
=======
>>>>>>> parent of 8a35f53 (Редакция №5)
       "\" id=\"m5be536aa38\" style=\"stroke:#000000;stroke-width:0.8;\"/>\r\n",
       "      </defs>\r\n",
       "      <g>\r\n",
       "       <use style=\"stroke:#000000;stroke-width:0.8;\" x=\"44.099375\" xlink:href=\"#m5be536aa38\" y=\"228.80625\"/>\r\n",
<<<<<<< HEAD
=======
=======
>>>>>>> Stashed changes
       "\" id=\"m157729f275\" style=\"stroke:#000000;stroke-width:0.8;\"/>\r\n",
       "      </defs>\r\n",
       "      <g>\r\n",
       "       <use style=\"stroke:#000000;stroke-width:0.8;\" x=\"48.415938\" xlink:href=\"#m157729f275\" y=\"229.500625\"/>\r\n",
<<<<<<< Updated upstream
>>>>>>> Stashed changes
=======
>>>>>>> Stashed changes
=======
>>>>>>> parent of 8a35f53 (Редакция №5)
       "      </g>\r\n",
       "     </g>\r\n",
       "     <g id=\"text_11\">\r\n",
       "      <!-- 0.0 -->\r\n",
       "      <g transform=\"translate(22.099375 232.9725)scale(0.12 -0.12)\">\r\n",
       "       <defs>\r\n",
       "        <path d=\"M 800 606 \r\n",
       "Q 947 606 1047 504 \r\n",
       "Q 1147 403 1147 259 \r\n",
       "Q 1147 116 1045 14 \r\n",
       "Q 944 -88 800 -88 \r\n",
       "Q 656 -88 554 14 \r\n",
       "Q 453 116 453 259 \r\n",
       "Q 453 406 554 506 \r\n",
       "Q 656 606 800 606 \r\n",
       "z\r\n",
       "\" id=\"TimesNewRomanPSMT-2e\" transform=\"scale(0.015625)\"/>\r\n",
       "       </defs>\r\n",
<<<<<<< HEAD
=======
       "      <g transform=\"translate(23.915938 234.36125)scale(0.14 -0.14)\">\r\n",
<<<<<<< Updated upstream
>>>>>>> Stashed changes
=======
>>>>>>> Stashed changes
=======
>>>>>>> parent of 8a35f53 (Редакция №5)
       "       <use xlink:href=\"#TimesNewRomanPSMT-30\"/>\r\n",
       "       <use x=\"50\" xlink:href=\"#TimesNewRomanPSMT-2e\"/>\r\n",
       "       <use x=\"75\" xlink:href=\"#TimesNewRomanPSMT-30\"/>\r\n",
       "      </g>\r\n",
       "     </g>\r\n",
       "    </g>\r\n",
       "    <g id=\"ytick_2\">\r\n",
       "     <g id=\"line2d_21\">\r\n",
       "      <path clip-path=\"url(#p10a475d21d)\" d=\"M 44.099375 207.06225 \r\n",
       "L 378.899375 207.06225 \r\n",
       "\" style=\"fill:none;stroke:#b0b0b0;stroke-linecap:square;stroke-width:0.8;\"/>\r\n",
       "     </g>\r\n",
       "     <g id=\"line2d_22\">\r\n",
       "      <g>\r\n",
<<<<<<< HEAD
<<<<<<< Updated upstream
<<<<<<< Updated upstream
       "       <use style=\"stroke:#000000;stroke-width:0.8;\" x=\"44.099375\" xlink:href=\"#m5be536aa38\" y=\"207.06225\"/>\r\n",
=======
       "       <use style=\"stroke:#000000;stroke-width:0.8;\" x=\"48.415938\" xlink:href=\"#m157729f275\" y=\"207.756625\"/>\r\n",
>>>>>>> Stashed changes
=======
       "       <use style=\"stroke:#000000;stroke-width:0.8;\" x=\"48.415938\" xlink:href=\"#m157729f275\" y=\"207.756625\"/>\r\n",
>>>>>>> Stashed changes
=======
       "       <use style=\"stroke:#000000;stroke-width:0.8;\" x=\"44.099375\" xlink:href=\"#m5be536aa38\" y=\"207.06225\"/>\r\n",
>>>>>>> parent of 8a35f53 (Редакция №5)
       "      </g>\r\n",
       "     </g>\r\n",
       "     <g id=\"text_12\">\r\n",
       "      <!-- 0.1 -->\r\n",
       "      <g transform=\"translate(22.099375 211.2285)scale(0.12 -0.12)\">\r\n",
<<<<<<< HEAD
=======
       "      <g transform=\"translate(23.915938 212.61725)scale(0.14 -0.14)\">\r\n",
<<<<<<< Updated upstream
>>>>>>> Stashed changes
=======
>>>>>>> Stashed changes
=======
>>>>>>> parent of 8a35f53 (Редакция №5)
       "       <use xlink:href=\"#TimesNewRomanPSMT-30\"/>\r\n",
       "       <use x=\"50\" xlink:href=\"#TimesNewRomanPSMT-2e\"/>\r\n",
       "       <use x=\"75\" xlink:href=\"#TimesNewRomanPSMT-31\"/>\r\n",
       "      </g>\r\n",
       "     </g>\r\n",
       "    </g>\r\n",
       "    <g id=\"ytick_3\">\r\n",
       "     <g id=\"line2d_23\">\r\n",
       "      <path clip-path=\"url(#p10a475d21d)\" d=\"M 44.099375 185.31825 \r\n",
       "L 378.899375 185.31825 \r\n",
       "\" style=\"fill:none;stroke:#b0b0b0;stroke-linecap:square;stroke-width:0.8;\"/>\r\n",
       "     </g>\r\n",
       "     <g id=\"line2d_24\">\r\n",
       "      <g>\r\n",
<<<<<<< HEAD
<<<<<<< Updated upstream
<<<<<<< Updated upstream
       "       <use style=\"stroke:#000000;stroke-width:0.8;\" x=\"44.099375\" xlink:href=\"#m5be536aa38\" y=\"185.31825\"/>\r\n",
=======
       "       <use style=\"stroke:#000000;stroke-width:0.8;\" x=\"48.415938\" xlink:href=\"#m157729f275\" y=\"186.012625\"/>\r\n",
>>>>>>> Stashed changes
=======
       "       <use style=\"stroke:#000000;stroke-width:0.8;\" x=\"48.415938\" xlink:href=\"#m157729f275\" y=\"186.012625\"/>\r\n",
>>>>>>> Stashed changes
=======
       "       <use style=\"stroke:#000000;stroke-width:0.8;\" x=\"44.099375\" xlink:href=\"#m5be536aa38\" y=\"185.31825\"/>\r\n",
>>>>>>> parent of 8a35f53 (Редакция №5)
       "      </g>\r\n",
       "     </g>\r\n",
       "     <g id=\"text_13\">\r\n",
       "      <!-- 0.2 -->\r\n",
       "      <g transform=\"translate(22.099375 189.4845)scale(0.12 -0.12)\">\r\n",
<<<<<<< HEAD
=======
       "      <g transform=\"translate(23.915938 190.87325)scale(0.14 -0.14)\">\r\n",
<<<<<<< Updated upstream
>>>>>>> Stashed changes
=======
>>>>>>> Stashed changes
=======
>>>>>>> parent of 8a35f53 (Редакция №5)
       "       <use xlink:href=\"#TimesNewRomanPSMT-30\"/>\r\n",
       "       <use x=\"50\" xlink:href=\"#TimesNewRomanPSMT-2e\"/>\r\n",
       "       <use x=\"75\" xlink:href=\"#TimesNewRomanPSMT-32\"/>\r\n",
       "      </g>\r\n",
       "     </g>\r\n",
       "    </g>\r\n",
       "    <g id=\"ytick_4\">\r\n",
       "     <g id=\"line2d_25\">\r\n",
       "      <path clip-path=\"url(#p10a475d21d)\" d=\"M 44.099375 163.57425 \r\n",
       "L 378.899375 163.57425 \r\n",
       "\" style=\"fill:none;stroke:#b0b0b0;stroke-linecap:square;stroke-width:0.8;\"/>\r\n",
       "     </g>\r\n",
       "     <g id=\"line2d_26\">\r\n",
       "      <g>\r\n",
<<<<<<< HEAD
<<<<<<< Updated upstream
<<<<<<< Updated upstream
       "       <use style=\"stroke:#000000;stroke-width:0.8;\" x=\"44.099375\" xlink:href=\"#m5be536aa38\" y=\"163.57425\"/>\r\n",
=======
       "       <use style=\"stroke:#000000;stroke-width:0.8;\" x=\"48.415938\" xlink:href=\"#m157729f275\" y=\"164.268625\"/>\r\n",
>>>>>>> Stashed changes
=======
       "       <use style=\"stroke:#000000;stroke-width:0.8;\" x=\"48.415938\" xlink:href=\"#m157729f275\" y=\"164.268625\"/>\r\n",
>>>>>>> Stashed changes
=======
       "       <use style=\"stroke:#000000;stroke-width:0.8;\" x=\"44.099375\" xlink:href=\"#m5be536aa38\" y=\"163.57425\"/>\r\n",
>>>>>>> parent of 8a35f53 (Редакция №5)
       "      </g>\r\n",
       "     </g>\r\n",
       "     <g id=\"text_14\">\r\n",
       "      <!-- 0.3 -->\r\n",
       "      <g transform=\"translate(22.099375 167.7405)scale(0.12 -0.12)\">\r\n",
       "       <defs>\r\n",
       "        <path d=\"M 325 3431 \r\n",
       "Q 506 3859 782 4092 \r\n",
       "Q 1059 4325 1472 4325 \r\n",
       "Q 1981 4325 2253 3994 \r\n",
       "Q 2459 3747 2459 3466 \r\n",
       "Q 2459 3003 1878 2509 \r\n",
       "Q 2269 2356 2469 2072 \r\n",
       "Q 2669 1788 2669 1403 \r\n",
       "Q 2669 853 2319 450 \r\n",
       "Q 1863 -75 997 -75 \r\n",
       "Q 569 -75 414 31 \r\n",
       "Q 259 138 259 259 \r\n",
       "Q 259 350 332 419 \r\n",
       "Q 406 488 509 488 \r\n",
       "Q 588 488 669 463 \r\n",
       "Q 722 447 909 348 \r\n",
       "Q 1097 250 1169 231 \r\n",
       "Q 1284 197 1416 197 \r\n",
       "Q 1734 197 1970 444 \r\n",
       "Q 2206 691 2206 1028 \r\n",
       "Q 2206 1275 2097 1509 \r\n",
       "Q 2016 1684 1919 1775 \r\n",
       "Q 1784 1900 1550 2001 \r\n",
       "Q 1316 2103 1072 2103 \r\n",
       "L 972 2103 \r\n",
       "L 972 2197 \r\n",
       "Q 1219 2228 1467 2375 \r\n",
       "Q 1716 2522 1828 2728 \r\n",
       "Q 1941 2934 1941 3181 \r\n",
       "Q 1941 3503 1739 3701 \r\n",
       "Q 1538 3900 1238 3900 \r\n",
       "Q 753 3900 428 3381 \r\n",
       "L 325 3431 \r\n",
       "z\r\n",
       "\" id=\"TimesNewRomanPSMT-33\" transform=\"scale(0.015625)\"/>\r\n",
       "       </defs>\r\n",
       "       <use xlink:href=\"#TimesNewRomanPSMT-30\"/>\r\n",
       "       <use x=\"50\" xlink:href=\"#TimesNewRomanPSMT-2e\"/>\r\n",
       "       <use x=\"75\" xlink:href=\"#TimesNewRomanPSMT-33\"/>\r\n",
       "      </g>\r\n",
       "     </g>\r\n",
       "    </g>\r\n",
       "    <g id=\"ytick_5\">\r\n",
       "     <g id=\"line2d_27\">\r\n",
       "      <path clip-path=\"url(#p10a475d21d)\" d=\"M 44.099375 141.83025 \r\n",
       "L 378.899375 141.83025 \r\n",
       "\" style=\"fill:none;stroke:#b0b0b0;stroke-linecap:square;stroke-width:0.8;\"/>\r\n",
       "     </g>\r\n",
       "     <g id=\"line2d_28\">\r\n",
       "      <g>\r\n",
<<<<<<< HEAD
<<<<<<< Updated upstream
<<<<<<< Updated upstream
       "       <use style=\"stroke:#000000;stroke-width:0.8;\" x=\"44.099375\" xlink:href=\"#m5be536aa38\" y=\"141.83025\"/>\r\n",
=======
       "       <use style=\"stroke:#000000;stroke-width:0.8;\" x=\"48.415938\" xlink:href=\"#m157729f275\" y=\"142.524625\"/>\r\n",
>>>>>>> Stashed changes
=======
       "       <use style=\"stroke:#000000;stroke-width:0.8;\" x=\"48.415938\" xlink:href=\"#m157729f275\" y=\"142.524625\"/>\r\n",
>>>>>>> Stashed changes
=======
       "       <use style=\"stroke:#000000;stroke-width:0.8;\" x=\"44.099375\" xlink:href=\"#m5be536aa38\" y=\"141.83025\"/>\r\n",
>>>>>>> parent of 8a35f53 (Редакция №5)
       "      </g>\r\n",
       "     </g>\r\n",
       "     <g id=\"text_15\">\r\n",
       "      <!-- 0.4 -->\r\n",
       "      <g transform=\"translate(22.099375 145.9965)scale(0.12 -0.12)\">\r\n",
<<<<<<< HEAD
=======
       "      <g transform=\"translate(23.915938 147.38525)scale(0.14 -0.14)\">\r\n",
       "       <defs>\r\n",
       "        <path d=\"M 2978 1563 \r\n",
       "L 2978 1119 \r\n",
       "L 2409 1119 \r\n",
       "L 2409 0 \r\n",
       "L 1894 0 \r\n",
       "L 1894 1119 \r\n",
       "L 100 1119 \r\n",
       "L 100 1519 \r\n",
       "L 2066 4325 \r\n",
       "L 2409 4325 \r\n",
       "L 2409 1563 \r\n",
       "L 2978 1563 \r\n",
       "z\r\n",
       "M 1894 1563 \r\n",
       "L 1894 3666 \r\n",
       "L 406 1563 \r\n",
       "L 1894 1563 \r\n",
       "z\r\n",
       "\" id=\"TimesNewRomanPSMT-34\" transform=\"scale(0.015625)\"/>\r\n",
       "       </defs>\r\n",
<<<<<<< Updated upstream
>>>>>>> Stashed changes
=======
>>>>>>> Stashed changes
=======
>>>>>>> parent of 8a35f53 (Редакция №5)
       "       <use xlink:href=\"#TimesNewRomanPSMT-30\"/>\r\n",
       "       <use x=\"50\" xlink:href=\"#TimesNewRomanPSMT-2e\"/>\r\n",
       "       <use x=\"75\" xlink:href=\"#TimesNewRomanPSMT-34\"/>\r\n",
       "      </g>\r\n",
       "     </g>\r\n",
       "    </g>\r\n",
       "    <g id=\"ytick_6\">\r\n",
       "     <g id=\"line2d_29\">\r\n",
       "      <path clip-path=\"url(#p10a475d21d)\" d=\"M 44.099375 120.08625 \r\n",
       "L 378.899375 120.08625 \r\n",
       "\" style=\"fill:none;stroke:#b0b0b0;stroke-linecap:square;stroke-width:0.8;\"/>\r\n",
       "     </g>\r\n",
       "     <g id=\"line2d_30\">\r\n",
       "      <g>\r\n",
<<<<<<< HEAD
<<<<<<< Updated upstream
<<<<<<< Updated upstream
       "       <use style=\"stroke:#000000;stroke-width:0.8;\" x=\"44.099375\" xlink:href=\"#m5be536aa38\" y=\"120.08625\"/>\r\n",
=======
       "       <use style=\"stroke:#000000;stroke-width:0.8;\" x=\"48.415938\" xlink:href=\"#m157729f275\" y=\"120.780625\"/>\r\n",
>>>>>>> Stashed changes
=======
       "       <use style=\"stroke:#000000;stroke-width:0.8;\" x=\"48.415938\" xlink:href=\"#m157729f275\" y=\"120.780625\"/>\r\n",
>>>>>>> Stashed changes
=======
       "       <use style=\"stroke:#000000;stroke-width:0.8;\" x=\"44.099375\" xlink:href=\"#m5be536aa38\" y=\"120.08625\"/>\r\n",
>>>>>>> parent of 8a35f53 (Редакция №5)
       "      </g>\r\n",
       "     </g>\r\n",
       "     <g id=\"text_16\">\r\n",
       "      <!-- 0.5 -->\r\n",
       "      <g transform=\"translate(22.099375 124.2525)scale(0.12 -0.12)\">\r\n",
       "       <defs>\r\n",
       "        <path d=\"M 2778 4238 \r\n",
       "L 2534 3706 \r\n",
       "L 1259 3706 \r\n",
       "L 981 3138 \r\n",
       "Q 1809 3016 2294 2522 \r\n",
       "Q 2709 2097 2709 1522 \r\n",
       "Q 2709 1188 2573 903 \r\n",
       "Q 2438 619 2231 419 \r\n",
       "Q 2025 219 1772 97 \r\n",
       "Q 1413 -75 1034 -75 \r\n",
       "Q 653 -75 479 54 \r\n",
       "Q 306 184 306 341 \r\n",
       "Q 306 428 378 495 \r\n",
       "Q 450 563 559 563 \r\n",
       "Q 641 563 702 538 \r\n",
       "Q 763 513 909 409 \r\n",
       "Q 1144 247 1384 247 \r\n",
       "Q 1750 247 2026 523 \r\n",
       "Q 2303 800 2303 1197 \r\n",
       "Q 2303 1581 2056 1914 \r\n",
       "Q 1809 2247 1375 2428 \r\n",
       "Q 1034 2569 447 2591 \r\n",
       "L 1259 4238 \r\n",
       "L 2778 4238 \r\n",
       "z\r\n",
       "\" id=\"TimesNewRomanPSMT-35\" transform=\"scale(0.015625)\"/>\r\n",
       "       </defs>\r\n",
<<<<<<< HEAD
=======
       "      <g transform=\"translate(23.915938 125.64125)scale(0.14 -0.14)\">\r\n",
<<<<<<< Updated upstream
>>>>>>> Stashed changes
=======
>>>>>>> Stashed changes
=======
>>>>>>> parent of 8a35f53 (Редакция №5)
       "       <use xlink:href=\"#TimesNewRomanPSMT-30\"/>\r\n",
       "       <use x=\"50\" xlink:href=\"#TimesNewRomanPSMT-2e\"/>\r\n",
       "       <use x=\"75\" xlink:href=\"#TimesNewRomanPSMT-35\"/>\r\n",
       "      </g>\r\n",
       "     </g>\r\n",
       "    </g>\r\n",
       "    <g id=\"ytick_7\">\r\n",
       "     <g id=\"line2d_31\">\r\n",
       "      <path clip-path=\"url(#p10a475d21d)\" d=\"M 44.099375 98.34225 \r\n",
       "L 378.899375 98.34225 \r\n",
       "\" style=\"fill:none;stroke:#b0b0b0;stroke-linecap:square;stroke-width:0.8;\"/>\r\n",
       "     </g>\r\n",
       "     <g id=\"line2d_32\">\r\n",
       "      <g>\r\n",
<<<<<<< HEAD
<<<<<<< Updated upstream
<<<<<<< Updated upstream
       "       <use style=\"stroke:#000000;stroke-width:0.8;\" x=\"44.099375\" xlink:href=\"#m5be536aa38\" y=\"98.34225\"/>\r\n",
=======
       "       <use style=\"stroke:#000000;stroke-width:0.8;\" x=\"48.415938\" xlink:href=\"#m157729f275\" y=\"99.036625\"/>\r\n",
>>>>>>> Stashed changes
=======
       "       <use style=\"stroke:#000000;stroke-width:0.8;\" x=\"48.415938\" xlink:href=\"#m157729f275\" y=\"99.036625\"/>\r\n",
>>>>>>> Stashed changes
=======
       "       <use style=\"stroke:#000000;stroke-width:0.8;\" x=\"44.099375\" xlink:href=\"#m5be536aa38\" y=\"98.34225\"/>\r\n",
>>>>>>> parent of 8a35f53 (Редакция №5)
       "      </g>\r\n",
       "     </g>\r\n",
       "     <g id=\"text_17\">\r\n",
       "      <!-- 0.6 -->\r\n",
       "      <g transform=\"translate(22.099375 102.5085)scale(0.12 -0.12)\">\r\n",
<<<<<<< HEAD
=======
       "      <g transform=\"translate(23.915938 103.89725)scale(0.14 -0.14)\">\r\n",
       "       <defs>\r\n",
       "        <path d=\"M 2869 4325 \r\n",
       "L 2869 4209 \r\n",
       "Q 2456 4169 2195 4045 \r\n",
       "Q 1934 3922 1679 3669 \r\n",
       "Q 1425 3416 1258 3105 \r\n",
       "Q 1091 2794 978 2366 \r\n",
       "Q 1428 2675 1881 2675 \r\n",
       "Q 2316 2675 2634 2325 \r\n",
       "Q 2953 1975 2953 1425 \r\n",
       "Q 2953 894 2631 456 \r\n",
       "Q 2244 -75 1606 -75 \r\n",
       "Q 1172 -75 869 213 \r\n",
       "Q 275 772 275 1663 \r\n",
       "Q 275 2231 503 2743 \r\n",
       "Q 731 3256 1154 3653 \r\n",
       "Q 1578 4050 1965 4187 \r\n",
       "Q 2353 4325 2688 4325 \r\n",
       "L 2869 4325 \r\n",
       "z\r\n",
       "M 925 2138 \r\n",
       "Q 869 1716 869 1456 \r\n",
       "Q 869 1156 980 804 \r\n",
       "Q 1091 453 1309 247 \r\n",
       "Q 1469 100 1697 100 \r\n",
       "Q 1969 100 2183 356 \r\n",
       "Q 2397 613 2397 1088 \r\n",
       "Q 2397 1622 2184 2012 \r\n",
       "Q 1972 2403 1581 2403 \r\n",
       "Q 1463 2403 1327 2353 \r\n",
       "Q 1191 2303 925 2138 \r\n",
       "z\r\n",
       "\" id=\"TimesNewRomanPSMT-36\" transform=\"scale(0.015625)\"/>\r\n",
       "       </defs>\r\n",
<<<<<<< Updated upstream
>>>>>>> Stashed changes
=======
>>>>>>> Stashed changes
=======
>>>>>>> parent of 8a35f53 (Редакция №5)
       "       <use xlink:href=\"#TimesNewRomanPSMT-30\"/>\r\n",
       "       <use x=\"50\" xlink:href=\"#TimesNewRomanPSMT-2e\"/>\r\n",
       "       <use x=\"75\" xlink:href=\"#TimesNewRomanPSMT-36\"/>\r\n",
       "      </g>\r\n",
       "     </g>\r\n",
       "    </g>\r\n",
       "    <g id=\"ytick_8\">\r\n",
       "     <g id=\"line2d_33\">\r\n",
       "      <path clip-path=\"url(#p10a475d21d)\" d=\"M 44.099375 76.59825 \r\n",
       "L 378.899375 76.59825 \r\n",
       "\" style=\"fill:none;stroke:#b0b0b0;stroke-linecap:square;stroke-width:0.8;\"/>\r\n",
       "     </g>\r\n",
       "     <g id=\"line2d_34\">\r\n",
       "      <g>\r\n",
<<<<<<< HEAD
<<<<<<< Updated upstream
<<<<<<< Updated upstream
       "       <use style=\"stroke:#000000;stroke-width:0.8;\" x=\"44.099375\" xlink:href=\"#m5be536aa38\" y=\"76.59825\"/>\r\n",
=======
       "       <use style=\"stroke:#000000;stroke-width:0.8;\" x=\"48.415938\" xlink:href=\"#m157729f275\" y=\"77.292625\"/>\r\n",
>>>>>>> Stashed changes
=======
       "       <use style=\"stroke:#000000;stroke-width:0.8;\" x=\"48.415938\" xlink:href=\"#m157729f275\" y=\"77.292625\"/>\r\n",
>>>>>>> Stashed changes
=======
       "       <use style=\"stroke:#000000;stroke-width:0.8;\" x=\"44.099375\" xlink:href=\"#m5be536aa38\" y=\"76.59825\"/>\r\n",
>>>>>>> parent of 8a35f53 (Редакция №5)
       "      </g>\r\n",
       "     </g>\r\n",
       "     <g id=\"text_18\">\r\n",
       "      <!-- 0.7 -->\r\n",
       "      <g transform=\"translate(22.099375 80.7645)scale(0.12 -0.12)\">\r\n",
       "       <defs>\r\n",
       "        <path d=\"M 644 4238 \r\n",
       "L 2916 4238 \r\n",
       "L 2916 4119 \r\n",
       "L 1503 -88 \r\n",
       "L 1153 -88 \r\n",
       "L 2419 3728 \r\n",
       "L 1253 3728 \r\n",
       "Q 900 3728 750 3644 \r\n",
       "Q 488 3500 328 3200 \r\n",
       "L 238 3234 \r\n",
       "L 644 4238 \r\n",
       "z\r\n",
       "\" id=\"TimesNewRomanPSMT-37\" transform=\"scale(0.015625)\"/>\r\n",
       "       </defs>\r\n",
<<<<<<< HEAD
=======
       "      <g transform=\"translate(23.915938 82.15325)scale(0.14 -0.14)\">\r\n",
<<<<<<< Updated upstream
>>>>>>> Stashed changes
=======
>>>>>>> Stashed changes
=======
>>>>>>> parent of 8a35f53 (Редакция №5)
       "       <use xlink:href=\"#TimesNewRomanPSMT-30\"/>\r\n",
       "       <use x=\"50\" xlink:href=\"#TimesNewRomanPSMT-2e\"/>\r\n",
       "       <use x=\"75\" xlink:href=\"#TimesNewRomanPSMT-37\"/>\r\n",
       "      </g>\r\n",
       "     </g>\r\n",
       "    </g>\r\n",
       "    <g id=\"ytick_9\">\r\n",
       "     <g id=\"line2d_35\">\r\n",
       "      <path clip-path=\"url(#p10a475d21d)\" d=\"M 44.099375 54.85425 \r\n",
       "L 378.899375 54.85425 \r\n",
       "\" style=\"fill:none;stroke:#b0b0b0;stroke-linecap:square;stroke-width:0.8;\"/>\r\n",
       "     </g>\r\n",
       "     <g id=\"line2d_36\">\r\n",
       "      <g>\r\n",
<<<<<<< HEAD
<<<<<<< Updated upstream
<<<<<<< Updated upstream
       "       <use style=\"stroke:#000000;stroke-width:0.8;\" x=\"44.099375\" xlink:href=\"#m5be536aa38\" y=\"54.85425\"/>\r\n",
=======
       "       <use style=\"stroke:#000000;stroke-width:0.8;\" x=\"48.415938\" xlink:href=\"#m157729f275\" y=\"55.548625\"/>\r\n",
>>>>>>> Stashed changes
=======
       "       <use style=\"stroke:#000000;stroke-width:0.8;\" x=\"48.415938\" xlink:href=\"#m157729f275\" y=\"55.548625\"/>\r\n",
>>>>>>> Stashed changes
=======
       "       <use style=\"stroke:#000000;stroke-width:0.8;\" x=\"44.099375\" xlink:href=\"#m5be536aa38\" y=\"54.85425\"/>\r\n",
>>>>>>> parent of 8a35f53 (Редакция №5)
       "      </g>\r\n",
       "     </g>\r\n",
       "     <g id=\"text_19\">\r\n",
       "      <!-- 0.8 -->\r\n",
       "      <g transform=\"translate(22.099375 59.0205)scale(0.12 -0.12)\">\r\n",
<<<<<<< HEAD
=======
       "      <g transform=\"translate(23.915938 60.40925)scale(0.14 -0.14)\">\r\n",
       "       <defs>\r\n",
       "        <path d=\"M 1228 2134 \r\n",
       "Q 725 2547 579 2797 \r\n",
       "Q 434 3047 434 3316 \r\n",
       "Q 434 3728 753 4026 \r\n",
       "Q 1072 4325 1600 4325 \r\n",
       "Q 2113 4325 2425 4047 \r\n",
       "Q 2738 3769 2738 3413 \r\n",
       "Q 2738 3175 2569 2928 \r\n",
       "Q 2400 2681 1866 2347 \r\n",
       "Q 2416 1922 2594 1678 \r\n",
       "Q 2831 1359 2831 1006 \r\n",
       "Q 2831 559 2490 242 \r\n",
       "Q 2150 -75 1597 -75 \r\n",
       "Q 994 -75 656 303 \r\n",
       "Q 388 606 388 966 \r\n",
       "Q 388 1247 577 1523 \r\n",
       "Q 766 1800 1228 2134 \r\n",
       "z\r\n",
       "M 1719 2469 \r\n",
       "Q 2094 2806 2194 3001 \r\n",
       "Q 2294 3197 2294 3444 \r\n",
       "Q 2294 3772 2109 3958 \r\n",
       "Q 1925 4144 1606 4144 \r\n",
       "Q 1288 4144 1088 3959 \r\n",
       "Q 888 3775 888 3528 \r\n",
       "Q 888 3366 970 3203 \r\n",
       "Q 1053 3041 1206 2894 \r\n",
       "L 1719 2469 \r\n",
       "z\r\n",
       "M 1375 2016 \r\n",
       "Q 1116 1797 991 1539 \r\n",
       "Q 866 1281 866 981 \r\n",
       "Q 866 578 1086 336 \r\n",
       "Q 1306 94 1647 94 \r\n",
       "Q 1984 94 2187 284 \r\n",
       "Q 2391 475 2391 747 \r\n",
       "Q 2391 972 2272 1150 \r\n",
       "Q 2050 1481 1375 2016 \r\n",
       "z\r\n",
       "\" id=\"TimesNewRomanPSMT-38\" transform=\"scale(0.015625)\"/>\r\n",
       "       </defs>\r\n",
<<<<<<< Updated upstream
>>>>>>> Stashed changes
=======
>>>>>>> Stashed changes
=======
>>>>>>> parent of 8a35f53 (Редакция №5)
       "       <use xlink:href=\"#TimesNewRomanPSMT-30\"/>\r\n",
       "       <use x=\"50\" xlink:href=\"#TimesNewRomanPSMT-2e\"/>\r\n",
       "       <use x=\"75\" xlink:href=\"#TimesNewRomanPSMT-38\"/>\r\n",
       "      </g>\r\n",
       "     </g>\r\n",
       "    </g>\r\n",
       "    <g id=\"ytick_10\">\r\n",
       "     <g id=\"line2d_37\">\r\n",
       "      <path clip-path=\"url(#p10a475d21d)\" d=\"M 44.099375 33.11025 \r\n",
       "L 378.899375 33.11025 \r\n",
       "\" style=\"fill:none;stroke:#b0b0b0;stroke-linecap:square;stroke-width:0.8;\"/>\r\n",
       "     </g>\r\n",
       "     <g id=\"line2d_38\">\r\n",
       "      <g>\r\n",
<<<<<<< HEAD
<<<<<<< Updated upstream
<<<<<<< Updated upstream
       "       <use style=\"stroke:#000000;stroke-width:0.8;\" x=\"44.099375\" xlink:href=\"#m5be536aa38\" y=\"33.11025\"/>\r\n",
=======
       "       <use style=\"stroke:#000000;stroke-width:0.8;\" x=\"48.415938\" xlink:href=\"#m157729f275\" y=\"33.804625\"/>\r\n",
>>>>>>> Stashed changes
=======
       "       <use style=\"stroke:#000000;stroke-width:0.8;\" x=\"48.415938\" xlink:href=\"#m157729f275\" y=\"33.804625\"/>\r\n",
>>>>>>> Stashed changes
=======
       "       <use style=\"stroke:#000000;stroke-width:0.8;\" x=\"44.099375\" xlink:href=\"#m5be536aa38\" y=\"33.11025\"/>\r\n",
>>>>>>> parent of 8a35f53 (Редакция №5)
       "      </g>\r\n",
       "     </g>\r\n",
       "     <g id=\"text_20\">\r\n",
       "      <!-- 0.9 -->\r\n",
       "      <g transform=\"translate(22.099375 37.2765)scale(0.12 -0.12)\">\r\n",
       "       <defs>\r\n",
       "        <path d=\"M 338 -88 \r\n",
       "L 338 28 \r\n",
       "Q 744 34 1094 217 \r\n",
       "Q 1444 400 1770 856 \r\n",
       "Q 2097 1313 2225 1859 \r\n",
       "Q 1734 1544 1338 1544 \r\n",
       "Q 891 1544 572 1889 \r\n",
       "Q 253 2234 253 2806 \r\n",
       "Q 253 3363 572 3797 \r\n",
       "Q 956 4325 1575 4325 \r\n",
       "Q 2097 4325 2469 3894 \r\n",
       "Q 2925 3359 2925 2575 \r\n",
       "Q 2925 1869 2578 1258 \r\n",
       "Q 2231 647 1613 244 \r\n",
       "Q 1109 -88 516 -88 \r\n",
       "L 338 -88 \r\n",
       "z\r\n",
       "M 2275 2091 \r\n",
       "Q 2331 2497 2331 2741 \r\n",
       "Q 2331 3044 2228 3395 \r\n",
       "Q 2125 3747 1936 3934 \r\n",
       "Q 1747 4122 1506 4122 \r\n",
       "Q 1228 4122 1018 3872 \r\n",
       "Q 809 3622 809 3128 \r\n",
       "Q 809 2469 1088 2097 \r\n",
       "Q 1291 1828 1588 1828 \r\n",
       "Q 1731 1828 1928 1897 \r\n",
       "Q 2125 1966 2275 2091 \r\n",
       "z\r\n",
       "\" id=\"TimesNewRomanPSMT-39\" transform=\"scale(0.015625)\"/>\r\n",
       "       </defs>\r\n",
       "       <use xlink:href=\"#TimesNewRomanPSMT-30\"/>\r\n",
       "       <use x=\"50\" xlink:href=\"#TimesNewRomanPSMT-2e\"/>\r\n",
       "       <use x=\"75\" xlink:href=\"#TimesNewRomanPSMT-39\"/>\r\n",
       "      </g>\r\n",
       "     </g>\r\n",
       "    </g>\r\n",
       "    <g id=\"ytick_11\">\r\n",
       "     <g id=\"line2d_39\">\r\n",
       "      <path clip-path=\"url(#p10a475d21d)\" d=\"M 44.099375 11.36625 \r\n",
       "L 378.899375 11.36625 \r\n",
       "\" style=\"fill:none;stroke:#b0b0b0;stroke-linecap:square;stroke-width:0.8;\"/>\r\n",
       "     </g>\r\n",
       "     <g id=\"line2d_40\">\r\n",
       "      <g>\r\n",
<<<<<<< HEAD
<<<<<<< Updated upstream
<<<<<<< Updated upstream
       "       <use style=\"stroke:#000000;stroke-width:0.8;\" x=\"44.099375\" xlink:href=\"#m5be536aa38\" y=\"11.36625\"/>\r\n",
=======
       "       <use style=\"stroke:#000000;stroke-width:0.8;\" x=\"48.415938\" xlink:href=\"#m157729f275\" y=\"12.060625\"/>\r\n",
>>>>>>> Stashed changes
=======
       "       <use style=\"stroke:#000000;stroke-width:0.8;\" x=\"48.415938\" xlink:href=\"#m157729f275\" y=\"12.060625\"/>\r\n",
>>>>>>> Stashed changes
=======
       "       <use style=\"stroke:#000000;stroke-width:0.8;\" x=\"44.099375\" xlink:href=\"#m5be536aa38\" y=\"11.36625\"/>\r\n",
>>>>>>> parent of 8a35f53 (Редакция №5)
       "      </g>\r\n",
       "     </g>\r\n",
       "     <g id=\"text_21\">\r\n",
       "      <!-- 1.0 -->\r\n",
       "      <g transform=\"translate(22.099375 15.5325)scale(0.12 -0.12)\">\r\n",
<<<<<<< HEAD
=======
       "      <g transform=\"translate(23.915938 16.92125)scale(0.14 -0.14)\">\r\n",
<<<<<<< Updated upstream
>>>>>>> Stashed changes
=======
>>>>>>> Stashed changes
=======
>>>>>>> parent of 8a35f53 (Редакция №5)
       "       <use xlink:href=\"#TimesNewRomanPSMT-31\"/>\r\n",
       "       <use x=\"50\" xlink:href=\"#TimesNewRomanPSMT-2e\"/>\r\n",
       "       <use x=\"75\" xlink:href=\"#TimesNewRomanPSMT-30\"/>\r\n",
       "      </g>\r\n",
       "     </g>\r\n",
       "    </g>\r\n",
       "    <g id=\"text_22\">\r\n",
       "     <!-- $\\mathit{e_d}$ -->\r\n",
       "     <g style=\"fill:#ff8c00;\" transform=\"translate(15.5325 125.12625)rotate(-90)scale(0.12 -0.12)\">\r\n",
       "      <defs>\r\n",
       "       <path d=\"M 2291 698 \r\n",
       "L 2368 621 \r\n",
       "Q 1805 -70 1062 -70 \r\n",
       "Q 672 -70 435 170 \r\n",
       "Q 198 410 198 806 \r\n",
       "Q 198 1555 796 2188 \r\n",
       "Q 1395 2822 2112 2822 \r\n",
       "Q 2362 2822 2499 2707 \r\n",
       "Q 2637 2592 2637 2387 \r\n",
       "Q 2637 1965 2147 1632 \r\n",
       "Q 1658 1299 819 1190 \r\n",
       "Q 755 1062 755 800 \r\n",
       "Q 755 538 918 378 \r\n",
       "Q 1082 218 1350 218 \r\n",
       "Q 1562 218 1754 317 \r\n",
       "Q 1946 416 2291 698 \r\n",
       "z\r\n",
       "M 973 1613 \r\n",
       "L 864 1331 \r\n",
       "Q 1581 1504 1894 1805 \r\n",
       "Q 2214 2112 2214 2426 \r\n",
       "Q 2214 2675 1990 2675 \r\n",
       "Q 1722 2675 1430 2364 \r\n",
       "Q 1139 2054 973 1613 \r\n",
       "z\r\n",
       "\" id=\"STIXGeneral-Italic-65\" transform=\"scale(0.015625)\"/>\r\n",
       "       <path d=\"M 3334 4371 \r\n",
       "L 3373 4333 \r\n",
       "L 3123 3360 \r\n",
       "L 2739 1958 \r\n",
       "Q 2323 429 2323 384 \r\n",
       "Q 2323 256 2438 256 \r\n",
       "Q 2522 256 2614 336 \r\n",
       "Q 2707 416 2963 710 \r\n",
       "L 3040 646 \r\n",
       "Q 2547 -83 2099 -83 \r\n",
       "Q 1978 -83 1907 -6 \r\n",
       "Q 1837 70 1837 205 \r\n",
       "Q 1837 397 1920 774 \r\n",
       "Q 1645 307 1379 118 \r\n",
       "Q 1114 -70 781 -70 \r\n",
       "Q 461 -70 278 125 \r\n",
       "Q 96 320 96 678 \r\n",
       "Q 96 1440 713 2131 \r\n",
       "Q 1331 2822 1965 2822 \r\n",
       "Q 2163 2822 2256 2732 \r\n",
       "Q 2349 2643 2381 2451 \r\n",
       "L 2387 2451 \r\n",
       "L 2675 3494 \r\n",
       "Q 2765 3808 2765 3949 \r\n",
       "Q 2765 4051 2694 4076 \r\n",
       "Q 2624 4102 2355 4115 \r\n",
       "L 2355 4224 \r\n",
       "Q 2848 4269 3334 4371 \r\n",
       "z\r\n",
       "M 2278 2310 \r\n",
       "Q 2278 2477 2185 2576 \r\n",
       "Q 2093 2675 1978 2675 \r\n",
       "Q 1677 2675 1395 2381 \r\n",
       "Q 1075 2042 864 1571 \r\n",
       "Q 653 1101 653 704 \r\n",
       "Q 653 486 752 361 \r\n",
       "Q 851 237 1024 237 \r\n",
       "Q 1312 237 1606 550 \r\n",
       "Q 1901 864 2089 1350 \r\n",
       "Q 2278 1837 2278 2310 \r\n",
       "z\r\n",
       "\" id=\"STIXGeneral-Italic-64\" transform=\"scale(0.015625)\"/>\r\n",
       "      </defs>\r\n",
       "      <use transform=\"translate(0 0.90625)\" xlink:href=\"#STIXGeneral-Italic-65\"/>\r\n",
       "      <use transform=\"translate(44.399994 -12.321875)scale(0.7)\" xlink:href=\"#STIXGeneral-Italic-64\"/>\r\n",
       "     </g>\r\n",
       "    </g>\r\n",
       "   </g>\r\n",
       "   <g id=\"line2d_41\">\r\n",
       "    <path clip-path=\"url(#p10a475d21d)\" d=\"M 59.317557 126.968853 \r\n",
       "L 69.91207 123.750016 \r\n",
       "L 82.51789 120.210035 \r\n",
       "L 97.619786 116.310109 \r\n",
       "L 115.847599 112.004814 \r\n",
       "L 138.02818 107.24068 \r\n",
       "L 165.259198 101.954411 \r\n",
       "L 199.015486 96.070608 \r\n",
       "L 241.304592 89.498842 \r\n",
       "L 294.898033 82.129856 \r\n",
       "L 363.681193 73.830577 \r\n",
       "\" style=\"fill:none;stroke:#ff8c00;stroke-linecap:square;stroke-width:1.5;\"/>\r\n",
<<<<<<< HEAD
=======
       "   <g id=\"line2d_37\">\r\n",
       "    <path clip-path=\"url(#p7cca1c5b56)\" d=\"M 63.634119 127.663228 \r\n",
       "L 74.228632 124.444391 \r\n",
       "L 86.834452 120.90441 \r\n",
       "L 101.936349 117.004484 \r\n",
       "L 120.164161 112.699189 \r\n",
       "L 142.344742 107.935055 \r\n",
       "L 169.575761 102.648786 \r\n",
       "L 203.332049 96.764983 \r\n",
       "L 245.621155 90.193217 \r\n",
       "L 299.214596 82.824231 \r\n",
       "L 367.997756 74.524952 \r\n",
       "\" style=\"fill:none;stroke:#ff8c00;stroke-linecap:square;stroke-width:1.5;\"/>\r\n",
       "    <defs>\r\n",
       "     <path d=\"M 0 3 \r\n",
       "C 0.795609 3 1.55874 2.683901 2.12132 2.12132 \r\n",
       "C 2.683901 1.55874 3 0.795609 3 0 \r\n",
       "C 3 -0.795609 2.683901 -1.55874 2.12132 -2.12132 \r\n",
       "C 1.55874 -2.683901 0.795609 -3 0 -3 \r\n",
       "C -0.795609 -3 -1.55874 -2.683901 -2.12132 -2.12132 \r\n",
       "C -2.683901 -1.55874 -3 -0.795609 -3 0 \r\n",
       "C -3 0.795609 -2.683901 1.55874 -2.12132 2.12132 \r\n",
       "C -1.55874 2.683901 -0.795609 3 0 3 \r\n",
       "z\r\n",
       "\" id=\"m1d241075cd\" style=\"stroke:#ff8c00;\"/>\r\n",
       "    </defs>\r\n",
       "    <g clip-path=\"url(#p7cca1c5b56)\">\r\n",
       "     <use style=\"fill:#ff8c00;stroke:#ff8c00;\" x=\"63.634119\" xlink:href=\"#m1d241075cd\" y=\"127.663228\"/>\r\n",
       "     <use style=\"fill:#ff8c00;stroke:#ff8c00;\" x=\"74.228632\" xlink:href=\"#m1d241075cd\" y=\"124.444391\"/>\r\n",
       "     <use style=\"fill:#ff8c00;stroke:#ff8c00;\" x=\"86.834452\" xlink:href=\"#m1d241075cd\" y=\"120.90441\"/>\r\n",
       "     <use style=\"fill:#ff8c00;stroke:#ff8c00;\" x=\"101.936349\" xlink:href=\"#m1d241075cd\" y=\"117.004484\"/>\r\n",
       "     <use style=\"fill:#ff8c00;stroke:#ff8c00;\" x=\"120.164161\" xlink:href=\"#m1d241075cd\" y=\"112.699189\"/>\r\n",
       "     <use style=\"fill:#ff8c00;stroke:#ff8c00;\" x=\"142.344742\" xlink:href=\"#m1d241075cd\" y=\"107.935055\"/>\r\n",
       "     <use style=\"fill:#ff8c00;stroke:#ff8c00;\" x=\"169.575761\" xlink:href=\"#m1d241075cd\" y=\"102.648786\"/>\r\n",
       "     <use style=\"fill:#ff8c00;stroke:#ff8c00;\" x=\"203.332049\" xlink:href=\"#m1d241075cd\" y=\"96.764983\"/>\r\n",
       "     <use style=\"fill:#ff8c00;stroke:#ff8c00;\" x=\"245.621155\" xlink:href=\"#m1d241075cd\" y=\"90.193217\"/>\r\n",
       "     <use style=\"fill:#ff8c00;stroke:#ff8c00;\" x=\"299.214596\" xlink:href=\"#m1d241075cd\" y=\"82.824231\"/>\r\n",
       "     <use style=\"fill:#ff8c00;stroke:#ff8c00;\" x=\"367.997756\" xlink:href=\"#m1d241075cd\" y=\"74.524952\"/>\r\n",
       "    </g>\r\n",
<<<<<<< Updated upstream
>>>>>>> Stashed changes
=======
>>>>>>> Stashed changes
=======
>>>>>>> parent of 8a35f53 (Редакция №5)
       "   </g>\r\n",
       "   <g id=\"patch_3\">\r\n",
       "    <path d=\"M 44.099375 228.80625 \r\n",
       "L 44.099375 11.36625 \r\n",
       "\" style=\"fill:none;stroke:#000000;stroke-linecap:square;stroke-linejoin:miter;stroke-width:0.8;\"/>\r\n",
       "   </g>\r\n",
       "   <g id=\"patch_4\">\r\n",
       "    <path d=\"M 378.899375 228.80625 \r\n",
       "L 378.899375 11.36625 \r\n",
       "\" style=\"fill:none;stroke:#000000;stroke-linecap:square;stroke-linejoin:miter;stroke-width:0.8;\"/>\r\n",
       "   </g>\r\n",
       "   <g id=\"patch_5\">\r\n",
<<<<<<< HEAD
<<<<<<< Updated upstream
<<<<<<< Updated upstream
=======
>>>>>>> parent of 8a35f53 (Редакция №5)
       "    <path d=\"M 44.099375 228.80625 \r\n",
       "L 378.899375 228.80625 \r\n",
       "\" style=\"fill:none;stroke:#000000;stroke-linecap:square;stroke-linejoin:miter;stroke-width:0.8;\"/>\r\n",
       "   </g>\r\n",
       "   <g id=\"patch_6\">\r\n",
       "    <path d=\"M 44.099375 11.36625 \r\n",
       "L 378.899375 11.36625 \r\n",
<<<<<<< HEAD
=======
=======
>>>>>>> Stashed changes
       "    <path d=\"M 48.415937 229.500625 \r\n",
       "L 383.215937 229.500625 \r\n",
       "\" style=\"fill:none;stroke:#000000;stroke-linecap:square;stroke-linejoin:miter;stroke-width:0.8;\"/>\r\n",
       "   </g>\r\n",
       "   <g id=\"patch_6\">\r\n",
       "    <path d=\"M 48.415937 12.060625 \r\n",
       "L 383.215937 12.060625 \r\n",
<<<<<<< Updated upstream
>>>>>>> Stashed changes
=======
>>>>>>> Stashed changes
=======
>>>>>>> parent of 8a35f53 (Редакция №5)
       "\" style=\"fill:none;stroke:#000000;stroke-linecap:square;stroke-linejoin:miter;stroke-width:0.8;\"/>\r\n",
       "   </g>\r\n",
       "   <g id=\"legend_1\">\r\n",
       "    <g id=\"patch_7\">\r\n",
       "     <path d=\"M 52.499375 222.80625 \r\n",
       "L 129.539375 222.80625 \r\n",
       "Q 131.939375 222.80625 131.939375 220.40625 \r\n",
       "L 131.939375 203.96625 \r\n",
       "Q 131.939375 201.56625 129.539375 201.56625 \r\n",
       "L 52.499375 201.56625 \r\n",
       "Q 50.099375 201.56625 50.099375 203.96625 \r\n",
       "L 50.099375 220.40625 \r\n",
       "Q 50.099375 222.80625 52.499375 222.80625 \r\n",
       "z\r\n",
       "\" style=\"fill:#ffffff;opacity:0.8;stroke:#cccccc;stroke-linejoin:miter;\"/>\r\n",
       "    </g>\r\n",
       "    <g id=\"line2d_42\">\r\n",
       "     <path d=\"M 54.899375 210.56625 \r\n",
       "L 78.899375 210.56625 \r\n",
       "\" style=\"fill:none;stroke:#ff8c00;stroke-linecap:square;stroke-width:1.5;\"/>\r\n",
       "    </g>\r\n",
       "    <g id=\"line2d_43\"/>\r\n",
       "    <g id=\"text_23\">\r\n",
       "     <!-- $\\mathit{e_d}(\\mathit{p}_{ном})$ -->\r\n",
       "     <g transform=\"translate(88.499375 214.76625)scale(0.12 -0.12)\">\r\n",
       "      <defs>\r\n",
       "       <path d=\"M 1988 -1253 \r\n",
       "L 1988 -1369 \r\n",
       "Q 1516 -1131 1200 -813 \r\n",
       "Q 750 -359 506 256 \r\n",
       "Q 263 872 263 1534 \r\n",
       "Q 263 2503 741 3301 \r\n",
       "Q 1219 4100 1988 4444 \r\n",
       "L 1988 4313 \r\n",
       "Q 1603 4100 1356 3731 \r\n",
       "Q 1109 3363 987 2797 \r\n",
       "Q 866 2231 866 1616 \r\n",
       "Q 866 947 969 400 \r\n",
       "Q 1050 -31 1165 -292 \r\n",
       "Q 1281 -553 1476 -793 \r\n",
       "Q 1672 -1034 1988 -1253 \r\n",
       "z\r\n",
       "\" id=\"TimesNewRomanPSMT-28\" transform=\"scale(0.015625)\"/>\r\n",
       "       <path d=\"M 144 4313 \r\n",
       "L 144 4444 \r\n",
       "Q 619 4209 934 3891 \r\n",
       "Q 1381 3434 1625 2820 \r\n",
       "Q 1869 2206 1869 1541 \r\n",
       "Q 1869 572 1392 -226 \r\n",
       "Q 916 -1025 144 -1369 \r\n",
       "L 144 -1253 \r\n",
       "Q 528 -1038 776 -670 \r\n",
       "Q 1025 -303 1145 264 \r\n",
       "Q 1266 831 1266 1447 \r\n",
       "Q 1266 2113 1163 2663 \r\n",
       "Q 1084 3094 967 3353 \r\n",
       "Q 850 3613 656 3853 \r\n",
       "Q 463 4094 144 4313 \r\n",
       "z\r\n",
       "\" id=\"TimesNewRomanPSMT-29\" transform=\"scale(0.015625)\"/>\r\n",
       "      </defs>\r\n",
       "      <use transform=\"translate(0 0.5625)\" xlink:href=\"#STIXGeneral-Italic-65\"/>\r\n",
       "      <use transform=\"translate(44.399994 -12.665625)scale(0.7)\" xlink:href=\"#STIXGeneral-Italic-64\"/>\r\n",
       "      <use transform=\"translate(83.809358 0.5625)\" xlink:href=\"#TimesNewRomanPSMT-28\"/>\r\n",
       "      <use transform=\"translate(117.110139 0.5625)\" xlink:href=\"#STIXGeneral-Italic-70\"/>\r\n",
       "      <use transform=\"translate(167.510133 -25.2)scale(0.7)\" xlink:href=\"#TimesNewRomanPSMT-43d\"/>\r\n",
       "      <use transform=\"translate(204.971071 -25.2)scale(0.7)\" xlink:href=\"#TimesNewRomanPSMT-43e\"/>\r\n",
       "      <use transform=\"translate(239.971071 -25.2)scale(0.7)\" xlink:href=\"#TimesNewRomanPSMT-43c\"/>\r\n",
       "      <use transform=\"translate(288.561696 0.5625)\" xlink:href=\"#TimesNewRomanPSMT-29\"/>\r\n",
       "     </g>\r\n",
       "    </g>\r\n",
       "   </g>\r\n",
       "  </g>\r\n",
       "  <g id=\"axes_2\">\r\n",
       "   <g id=\"matplotlib.axis_3\">\r\n",
       "    <g id=\"ytick_12\">\r\n",
       "     <g id=\"line2d_44\">\r\n",
       "      <defs>\r\n",
       "       <path d=\"M 0 0 \r\n",
       "L 3.5 0 \r\n",
<<<<<<< HEAD
<<<<<<< Updated upstream
<<<<<<< Updated upstream
=======
>>>>>>> parent of 8a35f53 (Редакция №5)
       "\" id=\"m85dc8f5d83\" style=\"stroke:#000000;stroke-width:0.8;\"/>\r\n",
       "      </defs>\r\n",
       "      <g>\r\n",
       "       <use style=\"stroke:#000000;stroke-width:0.8;\" x=\"378.899375\" xlink:href=\"#m85dc8f5d83\" y=\"228.80625\"/>\r\n",
<<<<<<< HEAD
=======
=======
>>>>>>> Stashed changes
       "\" id=\"m00b72beb4b\" style=\"stroke:#000000;stroke-width:0.8;\"/>\r\n",
       "      </defs>\r\n",
       "      <g>\r\n",
       "       <use style=\"stroke:#000000;stroke-width:0.8;\" x=\"383.215937\" xlink:href=\"#m00b72beb4b\" y=\"229.500625\"/>\r\n",
<<<<<<< Updated upstream
>>>>>>> Stashed changes
=======
>>>>>>> Stashed changes
=======
>>>>>>> parent of 8a35f53 (Редакция №5)
       "      </g>\r\n",
       "     </g>\r\n",
       "     <g id=\"text_24\">\r\n",
       "      <!-- 0.0 -->\r\n",
       "      <g transform=\"translate(385.899375 232.9725)scale(0.12 -0.12)\">\r\n",
<<<<<<< HEAD
=======
       "      <g transform=\"translate(390.215937 234.36125)scale(0.14 -0.14)\">\r\n",
<<<<<<< Updated upstream
>>>>>>> Stashed changes
=======
>>>>>>> Stashed changes
=======
>>>>>>> parent of 8a35f53 (Редакция №5)
       "       <use xlink:href=\"#TimesNewRomanPSMT-30\"/>\r\n",
       "       <use x=\"50\" xlink:href=\"#TimesNewRomanPSMT-2e\"/>\r\n",
       "       <use x=\"75\" xlink:href=\"#TimesNewRomanPSMT-30\"/>\r\n",
       "      </g>\r\n",
       "     </g>\r\n",
       "    </g>\r\n",
       "    <g id=\"ytick_13\">\r\n",
       "     <g id=\"line2d_45\">\r\n",
       "      <g>\r\n",
<<<<<<< HEAD
<<<<<<< Updated upstream
<<<<<<< Updated upstream
       "       <use style=\"stroke:#000000;stroke-width:0.8;\" x=\"378.899375\" xlink:href=\"#m85dc8f5d83\" y=\"207.06225\"/>\r\n",
=======
       "       <use style=\"stroke:#000000;stroke-width:0.8;\" x=\"383.215937\" xlink:href=\"#m00b72beb4b\" y=\"207.756625\"/>\r\n",
>>>>>>> Stashed changes
=======
       "       <use style=\"stroke:#000000;stroke-width:0.8;\" x=\"383.215937\" xlink:href=\"#m00b72beb4b\" y=\"207.756625\"/>\r\n",
>>>>>>> Stashed changes
=======
       "       <use style=\"stroke:#000000;stroke-width:0.8;\" x=\"378.899375\" xlink:href=\"#m85dc8f5d83\" y=\"207.06225\"/>\r\n",
>>>>>>> parent of 8a35f53 (Редакция №5)
       "      </g>\r\n",
       "     </g>\r\n",
       "     <g id=\"text_25\">\r\n",
       "      <!-- 0.1 -->\r\n",
       "      <g transform=\"translate(385.899375 211.2285)scale(0.12 -0.12)\">\r\n",
<<<<<<< HEAD
=======
       "      <g transform=\"translate(390.215937 212.61725)scale(0.14 -0.14)\">\r\n",
<<<<<<< Updated upstream
>>>>>>> Stashed changes
=======
>>>>>>> Stashed changes
=======
>>>>>>> parent of 8a35f53 (Редакция №5)
       "       <use xlink:href=\"#TimesNewRomanPSMT-30\"/>\r\n",
       "       <use x=\"50\" xlink:href=\"#TimesNewRomanPSMT-2e\"/>\r\n",
       "       <use x=\"75\" xlink:href=\"#TimesNewRomanPSMT-31\"/>\r\n",
       "      </g>\r\n",
       "     </g>\r\n",
       "    </g>\r\n",
       "    <g id=\"ytick_14\">\r\n",
       "     <g id=\"line2d_46\">\r\n",
       "      <g>\r\n",
<<<<<<< HEAD
<<<<<<< Updated upstream
<<<<<<< Updated upstream
       "       <use style=\"stroke:#000000;stroke-width:0.8;\" x=\"378.899375\" xlink:href=\"#m85dc8f5d83\" y=\"185.31825\"/>\r\n",
=======
       "       <use style=\"stroke:#000000;stroke-width:0.8;\" x=\"383.215937\" xlink:href=\"#m00b72beb4b\" y=\"186.012625\"/>\r\n",
>>>>>>> Stashed changes
=======
       "       <use style=\"stroke:#000000;stroke-width:0.8;\" x=\"383.215937\" xlink:href=\"#m00b72beb4b\" y=\"186.012625\"/>\r\n",
>>>>>>> Stashed changes
=======
       "       <use style=\"stroke:#000000;stroke-width:0.8;\" x=\"378.899375\" xlink:href=\"#m85dc8f5d83\" y=\"185.31825\"/>\r\n",
>>>>>>> parent of 8a35f53 (Редакция №5)
       "      </g>\r\n",
       "     </g>\r\n",
       "     <g id=\"text_26\">\r\n",
       "      <!-- 0.2 -->\r\n",
       "      <g transform=\"translate(385.899375 189.4845)scale(0.12 -0.12)\">\r\n",
<<<<<<< HEAD
=======
       "      <g transform=\"translate(390.215937 190.87325)scale(0.14 -0.14)\">\r\n",
<<<<<<< Updated upstream
>>>>>>> Stashed changes
=======
>>>>>>> Stashed changes
=======
>>>>>>> parent of 8a35f53 (Редакция №5)
       "       <use xlink:href=\"#TimesNewRomanPSMT-30\"/>\r\n",
       "       <use x=\"50\" xlink:href=\"#TimesNewRomanPSMT-2e\"/>\r\n",
       "       <use x=\"75\" xlink:href=\"#TimesNewRomanPSMT-32\"/>\r\n",
       "      </g>\r\n",
       "     </g>\r\n",
       "    </g>\r\n",
       "    <g id=\"ytick_15\">\r\n",
       "     <g id=\"line2d_47\">\r\n",
       "      <g>\r\n",
<<<<<<< HEAD
<<<<<<< Updated upstream
<<<<<<< Updated upstream
       "       <use style=\"stroke:#000000;stroke-width:0.8;\" x=\"378.899375\" xlink:href=\"#m85dc8f5d83\" y=\"163.57425\"/>\r\n",
=======
       "       <use style=\"stroke:#000000;stroke-width:0.8;\" x=\"383.215937\" xlink:href=\"#m00b72beb4b\" y=\"164.268625\"/>\r\n",
>>>>>>> Stashed changes
=======
       "       <use style=\"stroke:#000000;stroke-width:0.8;\" x=\"383.215937\" xlink:href=\"#m00b72beb4b\" y=\"164.268625\"/>\r\n",
>>>>>>> Stashed changes
=======
       "       <use style=\"stroke:#000000;stroke-width:0.8;\" x=\"378.899375\" xlink:href=\"#m85dc8f5d83\" y=\"163.57425\"/>\r\n",
>>>>>>> parent of 8a35f53 (Редакция №5)
       "      </g>\r\n",
       "     </g>\r\n",
       "     <g id=\"text_27\">\r\n",
       "      <!-- 0.3 -->\r\n",
       "      <g transform=\"translate(385.899375 167.7405)scale(0.12 -0.12)\">\r\n",
<<<<<<< HEAD
=======
       "      <g transform=\"translate(390.215937 169.12925)scale(0.14 -0.14)\">\r\n",
<<<<<<< Updated upstream
>>>>>>> Stashed changes
=======
>>>>>>> Stashed changes
=======
>>>>>>> parent of 8a35f53 (Редакция №5)
       "       <use xlink:href=\"#TimesNewRomanPSMT-30\"/>\r\n",
       "       <use x=\"50\" xlink:href=\"#TimesNewRomanPSMT-2e\"/>\r\n",
       "       <use x=\"75\" xlink:href=\"#TimesNewRomanPSMT-33\"/>\r\n",
       "      </g>\r\n",
       "     </g>\r\n",
       "    </g>\r\n",
       "    <g id=\"ytick_16\">\r\n",
       "     <g id=\"line2d_48\">\r\n",
       "      <g>\r\n",
<<<<<<< HEAD
<<<<<<< Updated upstream
<<<<<<< Updated upstream
       "       <use style=\"stroke:#000000;stroke-width:0.8;\" x=\"378.899375\" xlink:href=\"#m85dc8f5d83\" y=\"141.83025\"/>\r\n",
=======
       "       <use style=\"stroke:#000000;stroke-width:0.8;\" x=\"383.215937\" xlink:href=\"#m00b72beb4b\" y=\"142.524625\"/>\r\n",
>>>>>>> Stashed changes
=======
       "       <use style=\"stroke:#000000;stroke-width:0.8;\" x=\"383.215937\" xlink:href=\"#m00b72beb4b\" y=\"142.524625\"/>\r\n",
>>>>>>> Stashed changes
=======
       "       <use style=\"stroke:#000000;stroke-width:0.8;\" x=\"378.899375\" xlink:href=\"#m85dc8f5d83\" y=\"141.83025\"/>\r\n",
>>>>>>> parent of 8a35f53 (Редакция №5)
       "      </g>\r\n",
       "     </g>\r\n",
       "     <g id=\"text_28\">\r\n",
       "      <!-- 0.4 -->\r\n",
       "      <g transform=\"translate(385.899375 145.9965)scale(0.12 -0.12)\">\r\n",
<<<<<<< HEAD
=======
       "      <g transform=\"translate(390.215937 147.38525)scale(0.14 -0.14)\">\r\n",
<<<<<<< Updated upstream
>>>>>>> Stashed changes
=======
>>>>>>> Stashed changes
=======
>>>>>>> parent of 8a35f53 (Редакция №5)
       "       <use xlink:href=\"#TimesNewRomanPSMT-30\"/>\r\n",
       "       <use x=\"50\" xlink:href=\"#TimesNewRomanPSMT-2e\"/>\r\n",
       "       <use x=\"75\" xlink:href=\"#TimesNewRomanPSMT-34\"/>\r\n",
       "      </g>\r\n",
       "     </g>\r\n",
       "    </g>\r\n",
       "    <g id=\"ytick_17\">\r\n",
       "     <g id=\"line2d_49\">\r\n",
       "      <g>\r\n",
<<<<<<< HEAD
<<<<<<< Updated upstream
<<<<<<< Updated upstream
       "       <use style=\"stroke:#000000;stroke-width:0.8;\" x=\"378.899375\" xlink:href=\"#m85dc8f5d83\" y=\"120.08625\"/>\r\n",
=======
       "       <use style=\"stroke:#000000;stroke-width:0.8;\" x=\"383.215937\" xlink:href=\"#m00b72beb4b\" y=\"120.780625\"/>\r\n",
>>>>>>> Stashed changes
=======
       "       <use style=\"stroke:#000000;stroke-width:0.8;\" x=\"383.215937\" xlink:href=\"#m00b72beb4b\" y=\"120.780625\"/>\r\n",
>>>>>>> Stashed changes
=======
       "       <use style=\"stroke:#000000;stroke-width:0.8;\" x=\"378.899375\" xlink:href=\"#m85dc8f5d83\" y=\"120.08625\"/>\r\n",
>>>>>>> parent of 8a35f53 (Редакция №5)
       "      </g>\r\n",
       "     </g>\r\n",
       "     <g id=\"text_29\">\r\n",
       "      <!-- 0.5 -->\r\n",
       "      <g transform=\"translate(385.899375 124.2525)scale(0.12 -0.12)\">\r\n",
<<<<<<< HEAD
=======
       "      <g transform=\"translate(390.215937 125.64125)scale(0.14 -0.14)\">\r\n",
<<<<<<< Updated upstream
>>>>>>> Stashed changes
=======
>>>>>>> Stashed changes
=======
>>>>>>> parent of 8a35f53 (Редакция №5)
       "       <use xlink:href=\"#TimesNewRomanPSMT-30\"/>\r\n",
       "       <use x=\"50\" xlink:href=\"#TimesNewRomanPSMT-2e\"/>\r\n",
       "       <use x=\"75\" xlink:href=\"#TimesNewRomanPSMT-35\"/>\r\n",
       "      </g>\r\n",
       "     </g>\r\n",
       "    </g>\r\n",
       "    <g id=\"ytick_18\">\r\n",
       "     <g id=\"line2d_50\">\r\n",
       "      <g>\r\n",
<<<<<<< HEAD
<<<<<<< Updated upstream
<<<<<<< Updated upstream
       "       <use style=\"stroke:#000000;stroke-width:0.8;\" x=\"378.899375\" xlink:href=\"#m85dc8f5d83\" y=\"98.34225\"/>\r\n",
=======
       "       <use style=\"stroke:#000000;stroke-width:0.8;\" x=\"383.215937\" xlink:href=\"#m00b72beb4b\" y=\"99.036625\"/>\r\n",
>>>>>>> Stashed changes
=======
       "       <use style=\"stroke:#000000;stroke-width:0.8;\" x=\"383.215937\" xlink:href=\"#m00b72beb4b\" y=\"99.036625\"/>\r\n",
>>>>>>> Stashed changes
=======
       "       <use style=\"stroke:#000000;stroke-width:0.8;\" x=\"378.899375\" xlink:href=\"#m85dc8f5d83\" y=\"98.34225\"/>\r\n",
>>>>>>> parent of 8a35f53 (Редакция №5)
       "      </g>\r\n",
       "     </g>\r\n",
       "     <g id=\"text_30\">\r\n",
       "      <!-- 0.6 -->\r\n",
       "      <g transform=\"translate(385.899375 102.5085)scale(0.12 -0.12)\">\r\n",
<<<<<<< HEAD
=======
       "      <g transform=\"translate(390.215937 103.89725)scale(0.14 -0.14)\">\r\n",
<<<<<<< Updated upstream
>>>>>>> Stashed changes
=======
>>>>>>> Stashed changes
=======
>>>>>>> parent of 8a35f53 (Редакция №5)
       "       <use xlink:href=\"#TimesNewRomanPSMT-30\"/>\r\n",
       "       <use x=\"50\" xlink:href=\"#TimesNewRomanPSMT-2e\"/>\r\n",
       "       <use x=\"75\" xlink:href=\"#TimesNewRomanPSMT-36\"/>\r\n",
       "      </g>\r\n",
       "     </g>\r\n",
       "    </g>\r\n",
       "    <g id=\"ytick_19\">\r\n",
       "     <g id=\"line2d_51\">\r\n",
       "      <g>\r\n",
<<<<<<< HEAD
<<<<<<< Updated upstream
<<<<<<< Updated upstream
       "       <use style=\"stroke:#000000;stroke-width:0.8;\" x=\"378.899375\" xlink:href=\"#m85dc8f5d83\" y=\"76.59825\"/>\r\n",
=======
       "       <use style=\"stroke:#000000;stroke-width:0.8;\" x=\"383.215937\" xlink:href=\"#m00b72beb4b\" y=\"77.292625\"/>\r\n",
>>>>>>> Stashed changes
=======
       "       <use style=\"stroke:#000000;stroke-width:0.8;\" x=\"383.215937\" xlink:href=\"#m00b72beb4b\" y=\"77.292625\"/>\r\n",
>>>>>>> Stashed changes
=======
       "       <use style=\"stroke:#000000;stroke-width:0.8;\" x=\"378.899375\" xlink:href=\"#m85dc8f5d83\" y=\"76.59825\"/>\r\n",
>>>>>>> parent of 8a35f53 (Редакция №5)
       "      </g>\r\n",
       "     </g>\r\n",
       "     <g id=\"text_31\">\r\n",
       "      <!-- 0.7 -->\r\n",
       "      <g transform=\"translate(385.899375 80.7645)scale(0.12 -0.12)\">\r\n",
<<<<<<< HEAD
=======
       "      <g transform=\"translate(390.215937 82.15325)scale(0.14 -0.14)\">\r\n",
<<<<<<< Updated upstream
>>>>>>> Stashed changes
=======
>>>>>>> Stashed changes
=======
>>>>>>> parent of 8a35f53 (Редакция №5)
       "       <use xlink:href=\"#TimesNewRomanPSMT-30\"/>\r\n",
       "       <use x=\"50\" xlink:href=\"#TimesNewRomanPSMT-2e\"/>\r\n",
       "       <use x=\"75\" xlink:href=\"#TimesNewRomanPSMT-37\"/>\r\n",
       "      </g>\r\n",
       "     </g>\r\n",
       "    </g>\r\n",
       "    <g id=\"ytick_20\">\r\n",
       "     <g id=\"line2d_52\">\r\n",
       "      <g>\r\n",
<<<<<<< HEAD
<<<<<<< Updated upstream
<<<<<<< Updated upstream
       "       <use style=\"stroke:#000000;stroke-width:0.8;\" x=\"378.899375\" xlink:href=\"#m85dc8f5d83\" y=\"54.85425\"/>\r\n",
=======
       "       <use style=\"stroke:#000000;stroke-width:0.8;\" x=\"383.215937\" xlink:href=\"#m00b72beb4b\" y=\"55.548625\"/>\r\n",
>>>>>>> Stashed changes
=======
       "       <use style=\"stroke:#000000;stroke-width:0.8;\" x=\"383.215937\" xlink:href=\"#m00b72beb4b\" y=\"55.548625\"/>\r\n",
>>>>>>> Stashed changes
=======
       "       <use style=\"stroke:#000000;stroke-width:0.8;\" x=\"378.899375\" xlink:href=\"#m85dc8f5d83\" y=\"54.85425\"/>\r\n",
>>>>>>> parent of 8a35f53 (Редакция №5)
       "      </g>\r\n",
       "     </g>\r\n",
       "     <g id=\"text_32\">\r\n",
       "      <!-- 0.8 -->\r\n",
       "      <g transform=\"translate(385.899375 59.0205)scale(0.12 -0.12)\">\r\n",
<<<<<<< HEAD
=======
       "      <g transform=\"translate(390.215937 60.40925)scale(0.14 -0.14)\">\r\n",
<<<<<<< Updated upstream
>>>>>>> Stashed changes
=======
>>>>>>> Stashed changes
=======
>>>>>>> parent of 8a35f53 (Редакция №5)
       "       <use xlink:href=\"#TimesNewRomanPSMT-30\"/>\r\n",
       "       <use x=\"50\" xlink:href=\"#TimesNewRomanPSMT-2e\"/>\r\n",
       "       <use x=\"75\" xlink:href=\"#TimesNewRomanPSMT-38\"/>\r\n",
       "      </g>\r\n",
       "     </g>\r\n",
       "    </g>\r\n",
       "    <g id=\"ytick_21\">\r\n",
       "     <g id=\"line2d_53\">\r\n",
       "      <g>\r\n",
<<<<<<< HEAD
<<<<<<< Updated upstream
<<<<<<< Updated upstream
       "       <use style=\"stroke:#000000;stroke-width:0.8;\" x=\"378.899375\" xlink:href=\"#m85dc8f5d83\" y=\"33.11025\"/>\r\n",
=======
       "       <use style=\"stroke:#000000;stroke-width:0.8;\" x=\"383.215937\" xlink:href=\"#m00b72beb4b\" y=\"33.804625\"/>\r\n",
>>>>>>> Stashed changes
=======
       "       <use style=\"stroke:#000000;stroke-width:0.8;\" x=\"383.215937\" xlink:href=\"#m00b72beb4b\" y=\"33.804625\"/>\r\n",
>>>>>>> Stashed changes
=======
       "       <use style=\"stroke:#000000;stroke-width:0.8;\" x=\"378.899375\" xlink:href=\"#m85dc8f5d83\" y=\"33.11025\"/>\r\n",
>>>>>>> parent of 8a35f53 (Редакция №5)
       "      </g>\r\n",
       "     </g>\r\n",
       "     <g id=\"text_33\">\r\n",
       "      <!-- 0.9 -->\r\n",
       "      <g transform=\"translate(385.899375 37.2765)scale(0.12 -0.12)\">\r\n",
<<<<<<< HEAD
=======
       "      <g transform=\"translate(390.215937 38.66525)scale(0.14 -0.14)\">\r\n",
<<<<<<< Updated upstream
>>>>>>> Stashed changes
=======
>>>>>>> Stashed changes
=======
>>>>>>> parent of 8a35f53 (Редакция №5)
       "       <use xlink:href=\"#TimesNewRomanPSMT-30\"/>\r\n",
       "       <use x=\"50\" xlink:href=\"#TimesNewRomanPSMT-2e\"/>\r\n",
       "       <use x=\"75\" xlink:href=\"#TimesNewRomanPSMT-39\"/>\r\n",
       "      </g>\r\n",
       "     </g>\r\n",
       "    </g>\r\n",
       "    <g id=\"ytick_22\">\r\n",
       "     <g id=\"line2d_54\">\r\n",
       "      <g>\r\n",
<<<<<<< HEAD
<<<<<<< Updated upstream
<<<<<<< Updated upstream
       "       <use style=\"stroke:#000000;stroke-width:0.8;\" x=\"378.899375\" xlink:href=\"#m85dc8f5d83\" y=\"11.36625\"/>\r\n",
=======
       "       <use style=\"stroke:#000000;stroke-width:0.8;\" x=\"383.215937\" xlink:href=\"#m00b72beb4b\" y=\"12.060625\"/>\r\n",
>>>>>>> Stashed changes
=======
       "       <use style=\"stroke:#000000;stroke-width:0.8;\" x=\"383.215937\" xlink:href=\"#m00b72beb4b\" y=\"12.060625\"/>\r\n",
>>>>>>> Stashed changes
=======
       "       <use style=\"stroke:#000000;stroke-width:0.8;\" x=\"378.899375\" xlink:href=\"#m85dc8f5d83\" y=\"11.36625\"/>\r\n",
>>>>>>> parent of 8a35f53 (Редакция №5)
       "      </g>\r\n",
       "     </g>\r\n",
       "     <g id=\"text_34\">\r\n",
       "      <!-- 1.0 -->\r\n",
       "      <g transform=\"translate(385.899375 15.5325)scale(0.12 -0.12)\">\r\n",
<<<<<<< HEAD
=======
       "      <g transform=\"translate(390.215937 16.92125)scale(0.14 -0.14)\">\r\n",
<<<<<<< Updated upstream
>>>>>>> Stashed changes
=======
>>>>>>> Stashed changes
=======
>>>>>>> parent of 8a35f53 (Редакция №5)
       "       <use xlink:href=\"#TimesNewRomanPSMT-31\"/>\r\n",
       "       <use x=\"50\" xlink:href=\"#TimesNewRomanPSMT-2e\"/>\r\n",
       "       <use x=\"75\" xlink:href=\"#TimesNewRomanPSMT-30\"/>\r\n",
       "      </g>\r\n",
       "     </g>\r\n",
       "    </g>\r\n",
       "    <g id=\"text_35\">\r\n",
       "     <!-- $\\epsilon_{\\mathit{d}}$ -->\r\n",
       "     <g style=\"fill:#006400;\" transform=\"translate(412.55875 125.06625)rotate(-90)scale(0.12 -0.12)\">\r\n",
       "      <defs>\r\n",
       "       <path d=\"M 988 1516 \r\n",
       "Q 372 1734 372 2178 \r\n",
       "Q 372 2528 698 2737 \r\n",
       "Q 1025 2947 1509 2947 \r\n",
       "Q 1950 2947 2209 2801 \r\n",
       "Q 2469 2656 2469 2453 \r\n",
       "Q 2469 2347 2387 2267 \r\n",
       "Q 2306 2188 2200 2188 \r\n",
       "Q 2025 2188 1913 2431 \r\n",
       "Q 1756 2769 1444 2769 \r\n",
       "Q 1197 2769 1037 2606 \r\n",
       "Q 878 2444 878 2153 \r\n",
       "Q 878 1581 1469 1581 \r\n",
       "Q 1531 1581 1613 1594 \r\n",
       "Q 1753 1613 1831 1613 \r\n",
       "Q 2022 1613 2022 1503 \r\n",
       "Q 2022 1381 1828 1381 \r\n",
       "Q 1759 1381 1622 1403 \r\n",
       "Q 1519 1422 1463 1422 \r\n",
       "Q 838 1422 838 784 \r\n",
       "Q 838 475 1003 286 \r\n",
       "Q 1169 97 1466 97 \r\n",
       "Q 1838 97 1959 481 \r\n",
       "Q 2022 684 2098 762 \r\n",
       "Q 2175 841 2303 841 \r\n",
       "Q 2409 841 2495 764 \r\n",
       "Q 2581 688 2581 569 \r\n",
       "Q 2581 284 2262 98 \r\n",
       "Q 1944 -88 1491 -88 \r\n",
       "Q 994 -88 608 150 \r\n",
       "Q 222 388 222 784 \r\n",
       "Q 222 1281 988 1516 \r\n",
       "z\r\n",
       "\" id=\"TimesNewRomanPSMT-3b5\" transform=\"scale(0.015625)\"/>\r\n",
       "      </defs>\r\n",
       "      <use transform=\"translate(0 0.953125)\" xlink:href=\"#TimesNewRomanPSMT-3b5\"/>\r\n",
       "      <use transform=\"translate(43.495 -24.809375)scale(0.7)\" xlink:href=\"#STIXGeneral-Italic-64\"/>\r\n",
       "     </g>\r\n",
       "    </g>\r\n",
       "   </g>\r\n",
       "   <g id=\"line2d_55\">\r\n",
       "    <path clip-path=\"url(#p10a475d21d)\" d=\"M 59.317557 76.719665 \r\n",
       "L 69.91207 73.467845 \r\n",
       "L 82.51789 70.001637 \r\n",
       "L 97.619786 66.316443 \r\n",
       "L 115.847599 62.410685 \r\n",
       "L 138.02818 58.287415 \r\n",
       "L 165.259198 53.956631 \r\n",
       "L 199.015486 49.438641 \r\n",
       "L 241.304592 44.768938 \r\n",
       "L 294.898033 40.005371 \r\n",
       "L 363.681193 35.238749 \r\n",
       "\" style=\"fill:none;stroke:#006400;stroke-linecap:square;stroke-width:1.5;\"/>\r\n",
<<<<<<< HEAD
=======
       "   <g id=\"line2d_51\">\r\n",
       "    <path clip-path=\"url(#p7cca1c5b56)\" d=\"M 63.634119 77.41404 \r\n",
       "L 74.228632 74.16222 \r\n",
       "L 86.834452 70.696012 \r\n",
       "L 101.936349 67.010818 \r\n",
       "L 120.164161 63.10506 \r\n",
       "L 142.344742 58.98179 \r\n",
       "L 169.575761 54.651006 \r\n",
       "L 203.332049 50.133016 \r\n",
       "L 245.621155 45.463313 \r\n",
       "L 299.214596 40.699746 \r\n",
       "L 367.997756 35.933124 \r\n",
       "\" style=\"fill:none;stroke:#006400;stroke-linecap:square;stroke-width:1.5;\"/>\r\n",
       "    <defs>\r\n",
       "     <path d=\"M 0 3 \r\n",
       "C 0.795609 3 1.55874 2.683901 2.12132 2.12132 \r\n",
       "C 2.683901 1.55874 3 0.795609 3 0 \r\n",
       "C 3 -0.795609 2.683901 -1.55874 2.12132 -2.12132 \r\n",
       "C 1.55874 -2.683901 0.795609 -3 0 -3 \r\n",
       "C -0.795609 -3 -1.55874 -2.683901 -2.12132 -2.12132 \r\n",
       "C -2.683901 -1.55874 -3 -0.795609 -3 0 \r\n",
       "C -3 0.795609 -2.683901 1.55874 -2.12132 2.12132 \r\n",
       "C -1.55874 2.683901 -0.795609 3 0 3 \r\n",
       "z\r\n",
       "\" id=\"mfdc5e502c7\" style=\"stroke:#006400;\"/>\r\n",
       "    </defs>\r\n",
       "    <g clip-path=\"url(#p7cca1c5b56)\">\r\n",
       "     <use style=\"fill:#006400;stroke:#006400;\" x=\"63.634119\" xlink:href=\"#mfdc5e502c7\" y=\"77.41404\"/>\r\n",
       "     <use style=\"fill:#006400;stroke:#006400;\" x=\"74.228632\" xlink:href=\"#mfdc5e502c7\" y=\"74.16222\"/>\r\n",
       "     <use style=\"fill:#006400;stroke:#006400;\" x=\"86.834452\" xlink:href=\"#mfdc5e502c7\" y=\"70.696012\"/>\r\n",
       "     <use style=\"fill:#006400;stroke:#006400;\" x=\"101.936349\" xlink:href=\"#mfdc5e502c7\" y=\"67.010818\"/>\r\n",
       "     <use style=\"fill:#006400;stroke:#006400;\" x=\"120.164161\" xlink:href=\"#mfdc5e502c7\" y=\"63.10506\"/>\r\n",
       "     <use style=\"fill:#006400;stroke:#006400;\" x=\"142.344742\" xlink:href=\"#mfdc5e502c7\" y=\"58.98179\"/>\r\n",
       "     <use style=\"fill:#006400;stroke:#006400;\" x=\"169.575761\" xlink:href=\"#mfdc5e502c7\" y=\"54.651006\"/>\r\n",
       "     <use style=\"fill:#006400;stroke:#006400;\" x=\"203.332049\" xlink:href=\"#mfdc5e502c7\" y=\"50.133016\"/>\r\n",
       "     <use style=\"fill:#006400;stroke:#006400;\" x=\"245.621155\" xlink:href=\"#mfdc5e502c7\" y=\"45.463313\"/>\r\n",
       "     <use style=\"fill:#006400;stroke:#006400;\" x=\"299.214596\" xlink:href=\"#mfdc5e502c7\" y=\"40.699746\"/>\r\n",
       "     <use style=\"fill:#006400;stroke:#006400;\" x=\"367.997756\" xlink:href=\"#mfdc5e502c7\" y=\"35.933124\"/>\r\n",
       "    </g>\r\n",
<<<<<<< Updated upstream
>>>>>>> Stashed changes
=======
>>>>>>> Stashed changes
=======
>>>>>>> parent of 8a35f53 (Редакция №5)
       "   </g>\r\n",
       "   <g id=\"patch_8\">\r\n",
       "    <path d=\"M 44.099375 228.80625 \r\n",
       "L 44.099375 11.36625 \r\n",
       "\" style=\"fill:none;stroke:#000000;stroke-linecap:square;stroke-linejoin:miter;stroke-width:0.8;\"/>\r\n",
       "   </g>\r\n",
       "   <g id=\"patch_9\">\r\n",
       "    <path d=\"M 378.899375 228.80625 \r\n",
       "L 378.899375 11.36625 \r\n",
       "\" style=\"fill:none;stroke:#000000;stroke-linecap:square;stroke-linejoin:miter;stroke-width:0.8;\"/>\r\n",
       "   </g>\r\n",
       "   <g id=\"patch_10\">\r\n",
<<<<<<< HEAD
<<<<<<< Updated upstream
<<<<<<< Updated upstream
=======
>>>>>>> parent of 8a35f53 (Редакция №5)
       "    <path d=\"M 44.099375 228.80625 \r\n",
       "L 378.899375 228.80625 \r\n",
       "\" style=\"fill:none;stroke:#000000;stroke-linecap:square;stroke-linejoin:miter;stroke-width:0.8;\"/>\r\n",
       "   </g>\r\n",
       "   <g id=\"patch_11\">\r\n",
       "    <path d=\"M 44.099375 11.36625 \r\n",
       "L 378.899375 11.36625 \r\n",
<<<<<<< HEAD
=======
=======
>>>>>>> Stashed changes
       "    <path d=\"M 48.415937 229.500625 \r\n",
       "L 383.215937 229.500625 \r\n",
       "\" style=\"fill:none;stroke:#000000;stroke-linecap:square;stroke-linejoin:miter;stroke-width:0.8;\"/>\r\n",
       "   </g>\r\n",
       "   <g id=\"patch_11\">\r\n",
       "    <path d=\"M 48.415937 12.060625 \r\n",
       "L 383.215937 12.060625 \r\n",
<<<<<<< Updated upstream
>>>>>>> Stashed changes
=======
>>>>>>> Stashed changes
=======
>>>>>>> parent of 8a35f53 (Редакция №5)
       "\" style=\"fill:none;stroke:#000000;stroke-linecap:square;stroke-linejoin:miter;stroke-width:0.8;\"/>\r\n",
       "   </g>\r\n",
       "   <g id=\"legend_2\">\r\n",
       "    <g id=\"patch_12\">\r\n",
       "     <path d=\"M 293.579375 222.80625 \r\n",
       "L 370.499375 222.80625 \r\n",
       "Q 372.899375 222.80625 372.899375 220.40625 \r\n",
       "L 372.899375 186.32625 \r\n",
       "Q 372.899375 183.92625 370.499375 183.92625 \r\n",
       "L 293.579375 183.92625 \r\n",
       "Q 291.179375 183.92625 291.179375 186.32625 \r\n",
       "L 291.179375 220.40625 \r\n",
       "Q 291.179375 222.80625 293.579375 222.80625 \r\n",
       "z\r\n",
       "\" style=\"fill:#ffffff;opacity:0.8;stroke:#cccccc;stroke-linejoin:miter;\"/>\r\n",
       "    </g>\r\n",
       "    <g id=\"line2d_56\">\r\n",
       "     <path d=\"M 295.979375 192.92625 \r\n",
       "L 319.979375 192.92625 \r\n",
       "\" style=\"fill:none;stroke:#006400;stroke-linecap:square;stroke-width:1.5;\"/>\r\n",
       "    </g>\r\n",
       "    <g id=\"line2d_57\"/>\r\n",
       "    <g id=\"text_36\">\r\n",
       "     <!-- $\\epsilon_{\\mathit{d}}(\\mathit{p}_{ном})$ -->\r\n",
       "     <g transform=\"translate(329.579375 197.12625)scale(0.12 -0.12)\">\r\n",
<<<<<<< HEAD
=======
       "    <g id=\"line2d_53\">\r\n",
       "     <g>\r\n",
       "      <use style=\"fill:#006400;stroke:#006400;\" x=\"300.475938\" xlink:href=\"#mfdc5e502c7\" y=\"187.640625\"/>\r\n",
       "     </g>\r\n",
       "    </g>\r\n",
       "    <g id=\"text_34\">\r\n",
       "     <!-- $\\epsilon_{\\mathit{d}}(\\mathit{p}_{ном})$ -->\r\n",
       "     <g transform=\"translate(325.675938 192.540625)scale(0.14 -0.14)\">\r\n",
<<<<<<< Updated upstream
>>>>>>> Stashed changes
=======
>>>>>>> Stashed changes
=======
>>>>>>> parent of 8a35f53 (Редакция №5)
       "      <use transform=\"translate(0 0.5625)\" xlink:href=\"#TimesNewRomanPSMT-3b5\"/>\r\n",
       "      <use transform=\"translate(43.495 -25.2)scale(0.7)\" xlink:href=\"#STIXGeneral-Italic-64\"/>\r\n",
       "      <use transform=\"translate(82.788739 0.5625)\" xlink:href=\"#TimesNewRomanPSMT-28\"/>\r\n",
       "      <use transform=\"translate(116.089521 0.5625)\" xlink:href=\"#STIXGeneral-Italic-70\"/>\r\n",
       "      <use transform=\"translate(166.489514 -25.2)scale(0.7)\" xlink:href=\"#TimesNewRomanPSMT-43d\"/>\r\n",
       "      <use transform=\"translate(203.950452 -25.2)scale(0.7)\" xlink:href=\"#TimesNewRomanPSMT-43e\"/>\r\n",
       "      <use transform=\"translate(238.950452 -25.2)scale(0.7)\" xlink:href=\"#TimesNewRomanPSMT-43c\"/>\r\n",
       "      <use transform=\"translate(287.541077 0.5625)\" xlink:href=\"#TimesNewRomanPSMT-29\"/>\r\n",
       "     </g>\r\n",
       "    </g>\r\n",
<<<<<<< Updated upstream
       "    <g id=\"line2d_58\">\r\n",
       "     <path d=\"M 295.979375 210.56625 \r\n",
       "L 319.979375 210.56625 \r\n",
=======
       "    <g id=\"line2d_54\">\r\n",
       "     <path d=\"M 286.475938 208.220625 \r\n",
       "L 314.475938 208.220625 \r\n",
>>>>>>> Stashed changes
       "\" style=\"fill:none;stroke:#0000ff;stroke-linecap:square;stroke-width:1.5;\"/>\r\n",
       "    </g>\r\n",
       "    <g id=\"line2d_59\"/>\r\n",
       "    <g id=\"text_37\">\r\n",
       "     <!-- $\\kappa(\\mathit{p}_{ном})$ -->\r\n",
       "     <g transform=\"translate(329.579375 214.76625)scale(0.12 -0.12)\">\r\n",
       "      <defs>\r\n",
       "       <path d=\"M 1066 2947 \r\n",
       "L 1066 1581 \r\n",
       "L 1878 2441 \r\n",
       "Q 2363 2947 2788 2947 \r\n",
       "Q 2953 2947 3054 2869 \r\n",
       "Q 3156 2791 3156 2666 \r\n",
       "Q 3156 2544 3076 2472 \r\n",
       "Q 2997 2400 2894 2400 \r\n",
       "Q 2803 2400 2653 2481 \r\n",
       "Q 2503 2563 2422 2563 \r\n",
       "Q 2259 2563 2063 2350 \r\n",
       "L 1516 1759 \r\n",
       "L 2547 466 \r\n",
       "Q 2816 128 3259 116 \r\n",
       "L 3259 0 \r\n",
       "L 2247 0 \r\n",
       "L 1066 1534 \r\n",
       "L 1066 0 \r\n",
       "L 547 0 \r\n",
       "L 547 1750 \r\n",
       "Q 547 2266 506 2398 \r\n",
       "Q 466 2531 322 2531 \r\n",
       "Q 234 2531 109 2484 \r\n",
       "L 66 2597 \r\n",
       "L 928 2947 \r\n",
       "L 1066 2947 \r\n",
       "z\r\n",
       "\" id=\"TimesNewRomanPSMT-3ba\" transform=\"scale(0.015625)\"/>\r\n",
       "      </defs>\r\n",
       "      <use transform=\"translate(0 0.5625)\" xlink:href=\"#TimesNewRomanPSMT-3ba\"/>\r\n",
       "      <use transform=\"translate(50.390625 0.5625)\" xlink:href=\"#TimesNewRomanPSMT-28\"/>\r\n",
       "      <use transform=\"translate(83.691406 0.5625)\" xlink:href=\"#STIXGeneral-Italic-70\"/>\r\n",
       "      <use transform=\"translate(134.0914 -25.2)scale(0.7)\" xlink:href=\"#TimesNewRomanPSMT-43d\"/>\r\n",
       "      <use transform=\"translate(171.552338 -25.2)scale(0.7)\" xlink:href=\"#TimesNewRomanPSMT-43e\"/>\r\n",
       "      <use transform=\"translate(206.552338 -25.2)scale(0.7)\" xlink:href=\"#TimesNewRomanPSMT-43c\"/>\r\n",
       "      <use transform=\"translate(255.142963 0.5625)\" xlink:href=\"#TimesNewRomanPSMT-29\"/>\r\n",
       "     </g>\r\n",
       "    </g>\r\n",
       "   </g>\r\n",
       "  </g>\r\n",
       "  <g id=\"axes_3\">\r\n",
       "   <g id=\"matplotlib.axis_4\">\r\n",
       "    <g id=\"ytick_23\">\r\n",
       "     <g id=\"line2d_60\">\r\n",
       "      <g>\r\n",
<<<<<<< HEAD
<<<<<<< Updated upstream
<<<<<<< Updated upstream
       "       <use style=\"stroke:#000000;stroke-width:0.8;\" x=\"438.899375\" xlink:href=\"#m85dc8f5d83\" y=\"228.80625\"/>\r\n",
=======
       "       <use style=\"stroke:#000000;stroke-width:0.8;\" x=\"443.215937\" xlink:href=\"#m00b72beb4b\" y=\"229.500625\"/>\r\n",
>>>>>>> Stashed changes
=======
       "       <use style=\"stroke:#000000;stroke-width:0.8;\" x=\"443.215937\" xlink:href=\"#m00b72beb4b\" y=\"229.500625\"/>\r\n",
>>>>>>> Stashed changes
=======
       "       <use style=\"stroke:#000000;stroke-width:0.8;\" x=\"438.899375\" xlink:href=\"#m85dc8f5d83\" y=\"228.80625\"/>\r\n",
>>>>>>> parent of 8a35f53 (Редакция №5)
       "      </g>\r\n",
       "     </g>\r\n",
       "     <g id=\"text_38\">\r\n",
       "      <!-- 35.0 -->\r\n",
       "      <g transform=\"translate(445.899375 232.9725)scale(0.12 -0.12)\">\r\n",
<<<<<<< HEAD
=======
       "      <g transform=\"translate(450.215937 234.36125)scale(0.14 -0.14)\">\r\n",
<<<<<<< Updated upstream
>>>>>>> Stashed changes
=======
>>>>>>> Stashed changes
=======
>>>>>>> parent of 8a35f53 (Редакция №5)
       "       <use xlink:href=\"#TimesNewRomanPSMT-33\"/>\r\n",
       "       <use x=\"50\" xlink:href=\"#TimesNewRomanPSMT-35\"/>\r\n",
       "       <use x=\"100\" xlink:href=\"#TimesNewRomanPSMT-2e\"/>\r\n",
       "       <use x=\"125\" xlink:href=\"#TimesNewRomanPSMT-30\"/>\r\n",
       "      </g>\r\n",
       "     </g>\r\n",
       "    </g>\r\n",
       "    <g id=\"ytick_24\">\r\n",
       "     <g id=\"line2d_61\">\r\n",
       "      <g>\r\n",
<<<<<<< HEAD
<<<<<<< Updated upstream
<<<<<<< Updated upstream
       "       <use style=\"stroke:#000000;stroke-width:0.8;\" x=\"438.899375\" xlink:href=\"#m85dc8f5d83\" y=\"207.06225\"/>\r\n",
=======
       "       <use style=\"stroke:#000000;stroke-width:0.8;\" x=\"443.215937\" xlink:href=\"#m00b72beb4b\" y=\"207.756625\"/>\r\n",
>>>>>>> Stashed changes
=======
       "       <use style=\"stroke:#000000;stroke-width:0.8;\" x=\"443.215937\" xlink:href=\"#m00b72beb4b\" y=\"207.756625\"/>\r\n",
>>>>>>> Stashed changes
=======
       "       <use style=\"stroke:#000000;stroke-width:0.8;\" x=\"438.899375\" xlink:href=\"#m85dc8f5d83\" y=\"207.06225\"/>\r\n",
>>>>>>> parent of 8a35f53 (Редакция №5)
       "      </g>\r\n",
       "     </g>\r\n",
       "     <g id=\"text_39\">\r\n",
       "      <!-- 37.5 -->\r\n",
       "      <g transform=\"translate(445.899375 211.2285)scale(0.12 -0.12)\">\r\n",
<<<<<<< HEAD
=======
       "      <g transform=\"translate(450.215937 212.61725)scale(0.14 -0.14)\">\r\n",
<<<<<<< Updated upstream
>>>>>>> Stashed changes
=======
>>>>>>> Stashed changes
=======
>>>>>>> parent of 8a35f53 (Редакция №5)
       "       <use xlink:href=\"#TimesNewRomanPSMT-33\"/>\r\n",
       "       <use x=\"50\" xlink:href=\"#TimesNewRomanPSMT-37\"/>\r\n",
       "       <use x=\"100\" xlink:href=\"#TimesNewRomanPSMT-2e\"/>\r\n",
       "       <use x=\"125\" xlink:href=\"#TimesNewRomanPSMT-35\"/>\r\n",
       "      </g>\r\n",
       "     </g>\r\n",
       "    </g>\r\n",
       "    <g id=\"ytick_25\">\r\n",
       "     <g id=\"line2d_62\">\r\n",
       "      <g>\r\n",
<<<<<<< HEAD
<<<<<<< Updated upstream
<<<<<<< Updated upstream
       "       <use style=\"stroke:#000000;stroke-width:0.8;\" x=\"438.899375\" xlink:href=\"#m85dc8f5d83\" y=\"185.31825\"/>\r\n",
=======
       "       <use style=\"stroke:#000000;stroke-width:0.8;\" x=\"443.215937\" xlink:href=\"#m00b72beb4b\" y=\"186.012625\"/>\r\n",
>>>>>>> Stashed changes
=======
       "       <use style=\"stroke:#000000;stroke-width:0.8;\" x=\"443.215937\" xlink:href=\"#m00b72beb4b\" y=\"186.012625\"/>\r\n",
>>>>>>> Stashed changes
=======
       "       <use style=\"stroke:#000000;stroke-width:0.8;\" x=\"438.899375\" xlink:href=\"#m85dc8f5d83\" y=\"185.31825\"/>\r\n",
>>>>>>> parent of 8a35f53 (Редакция №5)
       "      </g>\r\n",
       "     </g>\r\n",
       "     <g id=\"text_40\">\r\n",
       "      <!-- 40.0 -->\r\n",
       "      <g transform=\"translate(445.899375 189.4845)scale(0.12 -0.12)\">\r\n",
<<<<<<< HEAD
=======
       "      <g transform=\"translate(450.215937 190.87325)scale(0.14 -0.14)\">\r\n",
<<<<<<< Updated upstream
>>>>>>> Stashed changes
=======
>>>>>>> Stashed changes
=======
>>>>>>> parent of 8a35f53 (Редакция №5)
       "       <use xlink:href=\"#TimesNewRomanPSMT-34\"/>\r\n",
       "       <use x=\"50\" xlink:href=\"#TimesNewRomanPSMT-30\"/>\r\n",
       "       <use x=\"100\" xlink:href=\"#TimesNewRomanPSMT-2e\"/>\r\n",
       "       <use x=\"125\" xlink:href=\"#TimesNewRomanPSMT-30\"/>\r\n",
       "      </g>\r\n",
       "     </g>\r\n",
       "    </g>\r\n",
       "    <g id=\"ytick_26\">\r\n",
       "     <g id=\"line2d_63\">\r\n",
       "      <g>\r\n",
<<<<<<< HEAD
<<<<<<< Updated upstream
<<<<<<< Updated upstream
       "       <use style=\"stroke:#000000;stroke-width:0.8;\" x=\"438.899375\" xlink:href=\"#m85dc8f5d83\" y=\"163.57425\"/>\r\n",
=======
       "       <use style=\"stroke:#000000;stroke-width:0.8;\" x=\"443.215937\" xlink:href=\"#m00b72beb4b\" y=\"164.268625\"/>\r\n",
>>>>>>> Stashed changes
=======
       "       <use style=\"stroke:#000000;stroke-width:0.8;\" x=\"443.215937\" xlink:href=\"#m00b72beb4b\" y=\"164.268625\"/>\r\n",
>>>>>>> Stashed changes
=======
       "       <use style=\"stroke:#000000;stroke-width:0.8;\" x=\"438.899375\" xlink:href=\"#m85dc8f5d83\" y=\"163.57425\"/>\r\n",
>>>>>>> parent of 8a35f53 (Редакция №5)
       "      </g>\r\n",
       "     </g>\r\n",
       "     <g id=\"text_41\">\r\n",
       "      <!-- 42.5 -->\r\n",
       "      <g transform=\"translate(445.899375 167.7405)scale(0.12 -0.12)\">\r\n",
<<<<<<< HEAD
=======
       "      <g transform=\"translate(450.215937 169.12925)scale(0.14 -0.14)\">\r\n",
<<<<<<< Updated upstream
>>>>>>> Stashed changes
=======
>>>>>>> Stashed changes
=======
>>>>>>> parent of 8a35f53 (Редакция №5)
       "       <use xlink:href=\"#TimesNewRomanPSMT-34\"/>\r\n",
       "       <use x=\"50\" xlink:href=\"#TimesNewRomanPSMT-32\"/>\r\n",
       "       <use x=\"100\" xlink:href=\"#TimesNewRomanPSMT-2e\"/>\r\n",
       "       <use x=\"125\" xlink:href=\"#TimesNewRomanPSMT-35\"/>\r\n",
       "      </g>\r\n",
       "     </g>\r\n",
       "    </g>\r\n",
       "    <g id=\"ytick_27\">\r\n",
       "     <g id=\"line2d_64\">\r\n",
       "      <g>\r\n",
<<<<<<< HEAD
<<<<<<< Updated upstream
<<<<<<< Updated upstream
       "       <use style=\"stroke:#000000;stroke-width:0.8;\" x=\"438.899375\" xlink:href=\"#m85dc8f5d83\" y=\"141.83025\"/>\r\n",
=======
       "       <use style=\"stroke:#000000;stroke-width:0.8;\" x=\"443.215937\" xlink:href=\"#m00b72beb4b\" y=\"142.524625\"/>\r\n",
>>>>>>> Stashed changes
=======
       "       <use style=\"stroke:#000000;stroke-width:0.8;\" x=\"443.215937\" xlink:href=\"#m00b72beb4b\" y=\"142.524625\"/>\r\n",
>>>>>>> Stashed changes
=======
       "       <use style=\"stroke:#000000;stroke-width:0.8;\" x=\"438.899375\" xlink:href=\"#m85dc8f5d83\" y=\"141.83025\"/>\r\n",
>>>>>>> parent of 8a35f53 (Редакция №5)
       "      </g>\r\n",
       "     </g>\r\n",
       "     <g id=\"text_42\">\r\n",
       "      <!-- 45.0 -->\r\n",
       "      <g transform=\"translate(445.899375 145.9965)scale(0.12 -0.12)\">\r\n",
<<<<<<< HEAD
=======
       "      <g transform=\"translate(450.215937 147.38525)scale(0.14 -0.14)\">\r\n",
<<<<<<< Updated upstream
>>>>>>> Stashed changes
=======
>>>>>>> Stashed changes
=======
>>>>>>> parent of 8a35f53 (Редакция №5)
       "       <use xlink:href=\"#TimesNewRomanPSMT-34\"/>\r\n",
       "       <use x=\"50\" xlink:href=\"#TimesNewRomanPSMT-35\"/>\r\n",
       "       <use x=\"100\" xlink:href=\"#TimesNewRomanPSMT-2e\"/>\r\n",
       "       <use x=\"125\" xlink:href=\"#TimesNewRomanPSMT-30\"/>\r\n",
       "      </g>\r\n",
       "     </g>\r\n",
       "    </g>\r\n",
       "    <g id=\"ytick_28\">\r\n",
       "     <g id=\"line2d_65\">\r\n",
       "      <g>\r\n",
<<<<<<< HEAD
<<<<<<< Updated upstream
<<<<<<< Updated upstream
       "       <use style=\"stroke:#000000;stroke-width:0.8;\" x=\"438.899375\" xlink:href=\"#m85dc8f5d83\" y=\"120.08625\"/>\r\n",
=======
       "       <use style=\"stroke:#000000;stroke-width:0.8;\" x=\"443.215937\" xlink:href=\"#m00b72beb4b\" y=\"120.780625\"/>\r\n",
>>>>>>> Stashed changes
=======
       "       <use style=\"stroke:#000000;stroke-width:0.8;\" x=\"443.215937\" xlink:href=\"#m00b72beb4b\" y=\"120.780625\"/>\r\n",
>>>>>>> Stashed changes
=======
       "       <use style=\"stroke:#000000;stroke-width:0.8;\" x=\"438.899375\" xlink:href=\"#m85dc8f5d83\" y=\"120.08625\"/>\r\n",
>>>>>>> parent of 8a35f53 (Редакция №5)
       "      </g>\r\n",
       "     </g>\r\n",
       "     <g id=\"text_43\">\r\n",
       "      <!-- 47.5 -->\r\n",
       "      <g transform=\"translate(445.899375 124.2525)scale(0.12 -0.12)\">\r\n",
<<<<<<< HEAD
=======
       "      <g transform=\"translate(450.215937 125.64125)scale(0.14 -0.14)\">\r\n",
<<<<<<< Updated upstream
>>>>>>> Stashed changes
=======
>>>>>>> Stashed changes
=======
>>>>>>> parent of 8a35f53 (Редакция №5)
       "       <use xlink:href=\"#TimesNewRomanPSMT-34\"/>\r\n",
       "       <use x=\"50\" xlink:href=\"#TimesNewRomanPSMT-37\"/>\r\n",
       "       <use x=\"100\" xlink:href=\"#TimesNewRomanPSMT-2e\"/>\r\n",
       "       <use x=\"125\" xlink:href=\"#TimesNewRomanPSMT-35\"/>\r\n",
       "      </g>\r\n",
       "     </g>\r\n",
       "    </g>\r\n",
       "    <g id=\"ytick_29\">\r\n",
       "     <g id=\"line2d_66\">\r\n",
       "      <g>\r\n",
<<<<<<< HEAD
<<<<<<< Updated upstream
<<<<<<< Updated upstream
       "       <use style=\"stroke:#000000;stroke-width:0.8;\" x=\"438.899375\" xlink:href=\"#m85dc8f5d83\" y=\"98.34225\"/>\r\n",
=======
       "       <use style=\"stroke:#000000;stroke-width:0.8;\" x=\"443.215937\" xlink:href=\"#m00b72beb4b\" y=\"99.036625\"/>\r\n",
>>>>>>> Stashed changes
=======
       "       <use style=\"stroke:#000000;stroke-width:0.8;\" x=\"443.215937\" xlink:href=\"#m00b72beb4b\" y=\"99.036625\"/>\r\n",
>>>>>>> Stashed changes
=======
       "       <use style=\"stroke:#000000;stroke-width:0.8;\" x=\"438.899375\" xlink:href=\"#m85dc8f5d83\" y=\"98.34225\"/>\r\n",
>>>>>>> parent of 8a35f53 (Редакция №5)
       "      </g>\r\n",
       "     </g>\r\n",
       "     <g id=\"text_44\">\r\n",
       "      <!-- 50.0 -->\r\n",
       "      <g transform=\"translate(445.899375 102.5085)scale(0.12 -0.12)\">\r\n",
<<<<<<< HEAD
=======
       "      <g transform=\"translate(450.215937 103.89725)scale(0.14 -0.14)\">\r\n",
<<<<<<< Updated upstream
>>>>>>> Stashed changes
=======
>>>>>>> Stashed changes
=======
>>>>>>> parent of 8a35f53 (Редакция №5)
       "       <use xlink:href=\"#TimesNewRomanPSMT-35\"/>\r\n",
       "       <use x=\"50\" xlink:href=\"#TimesNewRomanPSMT-30\"/>\r\n",
       "       <use x=\"100\" xlink:href=\"#TimesNewRomanPSMT-2e\"/>\r\n",
       "       <use x=\"125\" xlink:href=\"#TimesNewRomanPSMT-30\"/>\r\n",
       "      </g>\r\n",
       "     </g>\r\n",
       "    </g>\r\n",
       "    <g id=\"ytick_30\">\r\n",
       "     <g id=\"line2d_67\">\r\n",
       "      <g>\r\n",
<<<<<<< HEAD
<<<<<<< Updated upstream
<<<<<<< Updated upstream
       "       <use style=\"stroke:#000000;stroke-width:0.8;\" x=\"438.899375\" xlink:href=\"#m85dc8f5d83\" y=\"76.59825\"/>\r\n",
=======
       "       <use style=\"stroke:#000000;stroke-width:0.8;\" x=\"443.215937\" xlink:href=\"#m00b72beb4b\" y=\"77.292625\"/>\r\n",
>>>>>>> Stashed changes
=======
       "       <use style=\"stroke:#000000;stroke-width:0.8;\" x=\"443.215937\" xlink:href=\"#m00b72beb4b\" y=\"77.292625\"/>\r\n",
>>>>>>> Stashed changes
=======
       "       <use style=\"stroke:#000000;stroke-width:0.8;\" x=\"438.899375\" xlink:href=\"#m85dc8f5d83\" y=\"76.59825\"/>\r\n",
>>>>>>> parent of 8a35f53 (Редакция №5)
       "      </g>\r\n",
       "     </g>\r\n",
       "     <g id=\"text_45\">\r\n",
       "      <!-- 52.5 -->\r\n",
       "      <g transform=\"translate(445.899375 80.7645)scale(0.12 -0.12)\">\r\n",
<<<<<<< HEAD
=======
       "      <g transform=\"translate(450.215937 82.15325)scale(0.14 -0.14)\">\r\n",
<<<<<<< Updated upstream
>>>>>>> Stashed changes
=======
>>>>>>> Stashed changes
=======
>>>>>>> parent of 8a35f53 (Редакция №5)
       "       <use xlink:href=\"#TimesNewRomanPSMT-35\"/>\r\n",
       "       <use x=\"50\" xlink:href=\"#TimesNewRomanPSMT-32\"/>\r\n",
       "       <use x=\"100\" xlink:href=\"#TimesNewRomanPSMT-2e\"/>\r\n",
       "       <use x=\"125\" xlink:href=\"#TimesNewRomanPSMT-35\"/>\r\n",
       "      </g>\r\n",
       "     </g>\r\n",
       "    </g>\r\n",
       "    <g id=\"ytick_31\">\r\n",
       "     <g id=\"line2d_68\">\r\n",
       "      <g>\r\n",
<<<<<<< HEAD
<<<<<<< Updated upstream
<<<<<<< Updated upstream
       "       <use style=\"stroke:#000000;stroke-width:0.8;\" x=\"438.899375\" xlink:href=\"#m85dc8f5d83\" y=\"54.85425\"/>\r\n",
=======
       "       <use style=\"stroke:#000000;stroke-width:0.8;\" x=\"443.215937\" xlink:href=\"#m00b72beb4b\" y=\"55.548625\"/>\r\n",
>>>>>>> Stashed changes
=======
       "       <use style=\"stroke:#000000;stroke-width:0.8;\" x=\"443.215937\" xlink:href=\"#m00b72beb4b\" y=\"55.548625\"/>\r\n",
>>>>>>> Stashed changes
=======
       "       <use style=\"stroke:#000000;stroke-width:0.8;\" x=\"438.899375\" xlink:href=\"#m85dc8f5d83\" y=\"54.85425\"/>\r\n",
>>>>>>> parent of 8a35f53 (Редакция №5)
       "      </g>\r\n",
       "     </g>\r\n",
       "     <g id=\"text_46\">\r\n",
       "      <!-- 55.0 -->\r\n",
       "      <g transform=\"translate(445.899375 59.0205)scale(0.12 -0.12)\">\r\n",
<<<<<<< HEAD
=======
       "      <g transform=\"translate(450.215937 60.40925)scale(0.14 -0.14)\">\r\n",
<<<<<<< Updated upstream
>>>>>>> Stashed changes
=======
>>>>>>> Stashed changes
=======
>>>>>>> parent of 8a35f53 (Редакция №5)
       "       <use xlink:href=\"#TimesNewRomanPSMT-35\"/>\r\n",
       "       <use x=\"50\" xlink:href=\"#TimesNewRomanPSMT-35\"/>\r\n",
       "       <use x=\"100\" xlink:href=\"#TimesNewRomanPSMT-2e\"/>\r\n",
       "       <use x=\"125\" xlink:href=\"#TimesNewRomanPSMT-30\"/>\r\n",
       "      </g>\r\n",
       "     </g>\r\n",
       "    </g>\r\n",
       "    <g id=\"ytick_32\">\r\n",
       "     <g id=\"line2d_69\">\r\n",
       "      <g>\r\n",
<<<<<<< HEAD
<<<<<<< Updated upstream
<<<<<<< Updated upstream
       "       <use style=\"stroke:#000000;stroke-width:0.8;\" x=\"438.899375\" xlink:href=\"#m85dc8f5d83\" y=\"33.11025\"/>\r\n",
=======
       "       <use style=\"stroke:#000000;stroke-width:0.8;\" x=\"443.215937\" xlink:href=\"#m00b72beb4b\" y=\"33.804625\"/>\r\n",
>>>>>>> Stashed changes
=======
       "       <use style=\"stroke:#000000;stroke-width:0.8;\" x=\"443.215937\" xlink:href=\"#m00b72beb4b\" y=\"33.804625\"/>\r\n",
>>>>>>> Stashed changes
=======
       "       <use style=\"stroke:#000000;stroke-width:0.8;\" x=\"438.899375\" xlink:href=\"#m85dc8f5d83\" y=\"33.11025\"/>\r\n",
>>>>>>> parent of 8a35f53 (Редакция №5)
       "      </g>\r\n",
       "     </g>\r\n",
       "     <g id=\"text_47\">\r\n",
       "      <!-- 57.5 -->\r\n",
       "      <g transform=\"translate(445.899375 37.2765)scale(0.12 -0.12)\">\r\n",
<<<<<<< HEAD
=======
       "      <g transform=\"translate(450.215937 38.66525)scale(0.14 -0.14)\">\r\n",
<<<<<<< Updated upstream
>>>>>>> Stashed changes
=======
>>>>>>> Stashed changes
=======
>>>>>>> parent of 8a35f53 (Редакция №5)
       "       <use xlink:href=\"#TimesNewRomanPSMT-35\"/>\r\n",
       "       <use x=\"50\" xlink:href=\"#TimesNewRomanPSMT-37\"/>\r\n",
       "       <use x=\"100\" xlink:href=\"#TimesNewRomanPSMT-2e\"/>\r\n",
       "       <use x=\"125\" xlink:href=\"#TimesNewRomanPSMT-35\"/>\r\n",
       "      </g>\r\n",
       "     </g>\r\n",
       "    </g>\r\n",
       "    <g id=\"ytick_33\">\r\n",
       "     <g id=\"line2d_70\">\r\n",
       "      <g>\r\n",
<<<<<<< HEAD
<<<<<<< Updated upstream
<<<<<<< Updated upstream
       "       <use style=\"stroke:#000000;stroke-width:0.8;\" x=\"438.899375\" xlink:href=\"#m85dc8f5d83\" y=\"11.36625\"/>\r\n",
=======
       "       <use style=\"stroke:#000000;stroke-width:0.8;\" x=\"443.215937\" xlink:href=\"#m00b72beb4b\" y=\"12.060625\"/>\r\n",
>>>>>>> Stashed changes
=======
       "       <use style=\"stroke:#000000;stroke-width:0.8;\" x=\"443.215937\" xlink:href=\"#m00b72beb4b\" y=\"12.060625\"/>\r\n",
>>>>>>> Stashed changes
=======
       "       <use style=\"stroke:#000000;stroke-width:0.8;\" x=\"438.899375\" xlink:href=\"#m85dc8f5d83\" y=\"11.36625\"/>\r\n",
>>>>>>> parent of 8a35f53 (Редакция №5)
       "      </g>\r\n",
       "     </g>\r\n",
       "     <g id=\"text_48\">\r\n",
       "      <!-- 60.0 -->\r\n",
       "      <g transform=\"translate(445.899375 15.5325)scale(0.12 -0.12)\">\r\n",
<<<<<<< HEAD
=======
       "      <g transform=\"translate(450.215937 16.92125)scale(0.14 -0.14)\">\r\n",
<<<<<<< Updated upstream
>>>>>>> Stashed changes
=======
>>>>>>> Stashed changes
=======
>>>>>>> parent of 8a35f53 (Редакция №5)
       "       <use xlink:href=\"#TimesNewRomanPSMT-36\"/>\r\n",
       "       <use x=\"50\" xlink:href=\"#TimesNewRomanPSMT-30\"/>\r\n",
       "       <use x=\"100\" xlink:href=\"#TimesNewRomanPSMT-2e\"/>\r\n",
       "       <use x=\"125\" xlink:href=\"#TimesNewRomanPSMT-30\"/>\r\n",
       "      </g>\r\n",
       "     </g>\r\n",
       "    </g>\r\n",
       "    <g id=\"text_49\">\r\n",
       "     <!-- $\\kappa$ -->\r\n",
       "     <g style=\"fill:#0000ff;\" transform=\"translate(479.231875 123.14625)rotate(-90)scale(0.12 -0.12)\">\r\n",
<<<<<<< HEAD
=======
       "     <g style=\"fill:#0000ff;\" transform=\"translate(488.437187 124.350625)rotate(-90)scale(0.14 -0.14)\">\r\n",
<<<<<<< Updated upstream
>>>>>>> Stashed changes
=======
>>>>>>> Stashed changes
=======
>>>>>>> parent of 8a35f53 (Редакция №5)
       "      <use transform=\"translate(0 0.953125)\" xlink:href=\"#TimesNewRomanPSMT-3ba\"/>\r\n",
       "     </g>\r\n",
       "    </g>\r\n",
       "   </g>\r\n",
       "   <g id=\"line2d_71\">\r\n",
       "    <path clip-path=\"url(#p10a475d21d)\" d=\"M 59.317557 146.2661 \r\n",
       "L 69.91207 149.131493 \r\n",
       "L 82.51789 150.842951 \r\n",
       "L 97.619786 151.125684 \r\n",
       "L 115.847599 149.606152 \r\n",
       "L 138.02818 145.762066 \r\n",
       "L 165.259198 138.838859 \r\n",
       "L 199.015486 127.703111 \r\n",
       "L 241.304592 110.569527 \r\n",
       "L 294.898033 84.453085 \r\n",
       "L 363.681193 43.959292 \r\n",
       "\" style=\"fill:none;stroke:#0000ff;stroke-linecap:square;stroke-width:1.5;\"/>\r\n",
<<<<<<< HEAD
=======
       "   <g id=\"line2d_67\">\r\n",
       "    <path clip-path=\"url(#p7cca1c5b56)\" d=\"M 63.634119 146.960475 \r\n",
       "L 74.228632 149.825868 \r\n",
       "L 86.834452 151.537326 \r\n",
       "L 101.936349 151.820059 \r\n",
       "L 120.164161 150.300527 \r\n",
       "L 142.344742 146.456441 \r\n",
       "L 169.575761 139.533234 \r\n",
       "L 203.332049 128.397486 \r\n",
       "L 245.621155 111.263902 \r\n",
       "L 299.214596 85.14746 \r\n",
       "L 367.997756 44.653667 \r\n",
       "\" style=\"fill:none;stroke:#0000ff;stroke-linecap:square;stroke-width:1.5;\"/>\r\n",
       "    <g clip-path=\"url(#p7cca1c5b56)\">\r\n",
       "     <use style=\"fill:#0000ff;stroke:#0000ff;\" x=\"63.634119\" xlink:href=\"#me0a85cfe06\" y=\"146.960475\"/>\r\n",
       "     <use style=\"fill:#0000ff;stroke:#0000ff;\" x=\"74.228632\" xlink:href=\"#me0a85cfe06\" y=\"149.825868\"/>\r\n",
       "     <use style=\"fill:#0000ff;stroke:#0000ff;\" x=\"86.834452\" xlink:href=\"#me0a85cfe06\" y=\"151.537326\"/>\r\n",
       "     <use style=\"fill:#0000ff;stroke:#0000ff;\" x=\"101.936349\" xlink:href=\"#me0a85cfe06\" y=\"151.820059\"/>\r\n",
       "     <use style=\"fill:#0000ff;stroke:#0000ff;\" x=\"120.164161\" xlink:href=\"#me0a85cfe06\" y=\"150.300527\"/>\r\n",
       "     <use style=\"fill:#0000ff;stroke:#0000ff;\" x=\"142.344742\" xlink:href=\"#me0a85cfe06\" y=\"146.456441\"/>\r\n",
       "     <use style=\"fill:#0000ff;stroke:#0000ff;\" x=\"169.575761\" xlink:href=\"#me0a85cfe06\" y=\"139.533234\"/>\r\n",
       "     <use style=\"fill:#0000ff;stroke:#0000ff;\" x=\"203.332049\" xlink:href=\"#me0a85cfe06\" y=\"128.397486\"/>\r\n",
       "     <use style=\"fill:#0000ff;stroke:#0000ff;\" x=\"245.621155\" xlink:href=\"#me0a85cfe06\" y=\"111.263902\"/>\r\n",
       "     <use style=\"fill:#0000ff;stroke:#0000ff;\" x=\"299.214596\" xlink:href=\"#me0a85cfe06\" y=\"85.14746\"/>\r\n",
       "     <use style=\"fill:#0000ff;stroke:#0000ff;\" x=\"367.997756\" xlink:href=\"#me0a85cfe06\" y=\"44.653667\"/>\r\n",
       "    </g>\r\n",
<<<<<<< Updated upstream
>>>>>>> Stashed changes
=======
>>>>>>> Stashed changes
=======
>>>>>>> parent of 8a35f53 (Редакция №5)
       "   </g>\r\n",
       "   <g id=\"patch_13\">\r\n",
       "    <path d=\"M 44.099375 228.80625 \r\n",
       "L 44.099375 11.36625 \r\n",
       "\" style=\"fill:none;stroke:#000000;stroke-linecap:square;stroke-linejoin:miter;stroke-width:0.8;\"/>\r\n",
       "   </g>\r\n",
       "   <g id=\"patch_14\">\r\n",
       "    <path d=\"M 438.899375 228.80625 \r\n",
       "L 438.899375 11.36625 \r\n",
       "\" style=\"fill:none;stroke:#000000;stroke-linecap:square;stroke-linejoin:miter;stroke-width:0.8;\"/>\r\n",
       "   </g>\r\n",
       "   <g id=\"patch_15\">\r\n",
<<<<<<< HEAD
<<<<<<< Updated upstream
<<<<<<< Updated upstream
=======
>>>>>>> parent of 8a35f53 (Редакция №5)
       "    <path d=\"M 44.099375 228.80625 \r\n",
       "L 378.899375 228.80625 \r\n",
       "\" style=\"fill:none;stroke:#000000;stroke-linecap:square;stroke-linejoin:miter;stroke-width:0.8;\"/>\r\n",
       "   </g>\r\n",
       "   <g id=\"patch_16\">\r\n",
       "    <path d=\"M 44.099375 11.36625 \r\n",
       "L 378.899375 11.36625 \r\n",
<<<<<<< HEAD
=======
=======
>>>>>>> Stashed changes
       "    <path d=\"M 48.415937 229.500625 \r\n",
       "L 383.215937 229.500625 \r\n",
       "\" style=\"fill:none;stroke:#000000;stroke-linecap:square;stroke-linejoin:miter;stroke-width:0.8;\"/>\r\n",
       "   </g>\r\n",
       "   <g id=\"patch_16\">\r\n",
       "    <path d=\"M 48.415937 12.060625 \r\n",
       "L 383.215937 12.060625 \r\n",
<<<<<<< Updated upstream
>>>>>>> Stashed changes
=======
>>>>>>> Stashed changes
=======
>>>>>>> parent of 8a35f53 (Редакция №5)
       "\" style=\"fill:none;stroke:#000000;stroke-linecap:square;stroke-linejoin:miter;stroke-width:0.8;\"/>\r\n",
       "   </g>\r\n",
       "  </g>\r\n",
       " </g>\r\n",
       " <defs>\r\n",
<<<<<<< HEAD
<<<<<<< Updated upstream
<<<<<<< Updated upstream
       "  <clipPath id=\"p10a475d21d\">\r\n",
       "   <rect height=\"217.44\" width=\"334.8\" x=\"44.099375\" y=\"11.36625\"/>\r\n",
=======
=======
>>>>>>> Stashed changes
       "  <clipPath id=\"p7cca1c5b56\">\r\n",
       "   <rect height=\"217.44\" width=\"334.8\" x=\"48.415938\" y=\"12.060625\"/>\r\n",
>>>>>>> Stashed changes
=======
       "  <clipPath id=\"p10a475d21d\">\r\n",
       "   <rect height=\"217.44\" width=\"334.8\" x=\"44.099375\" y=\"11.36625\"/>\r\n",
>>>>>>> parent of 8a35f53 (Редакция №5)
       "  </clipPath>\r\n",
       " </defs>\r\n",
       "</svg>\r\n"
      ],
      "text/plain": [
       "<Figure size 432x288 with 3 Axes>"
      ]
     },
     "metadata": {},
     "output_type": "display_data"
    }
   ],
   "source": [
    "fig = plt.figure()\n",
    "fig.patch.set_facecolor('white')\n",
    "host = fig.add_subplot(111)\n",
    "\n",
    "par1 = host.twinx()\n",
    "par2 = host.twinx()\n",
    "\n",
    "# host.set_xlim(0, 20)\n",
    "\n",
    "elim = (0, 1)\n",
    "epslim = (0, 1)\n",
    "kappalim = (35, 60)\n",
    "\n",
    "host.set_ylim(*elim)\n",
    "par1.set_ylim(*epslim)\n",
    "par2.set_ylim(*kappalim)\n",
    "\n",
    "n = 11\n",
    "host.yaxis.set_ticks(np.linspace(*elim, n))\n",
    "par1.yaxis.set_ticks(np.linspace(*epslim, n))\n",
    "par2.yaxis.set_ticks(np.linspace(*kappalim, n))\n",
    "\n",
    "host.set_xlabel(\"$\\mathit{p}_{ном},$ $МПа$\")\n",
    "host.set_ylabel(\"$\\mathit{e_d}$\")\n",
    "par1.set_ylabel(\"$\\epsilon_{\\mathit{d}}$\")\n",
    "par2.set_ylabel(\"$\\kappa$\")\n",
    "\n",
    "color1 = 'darkorange'\n",
    "color2 = 'darkgreen'\n",
    "color3 = 'blue'\n",
    "\n",
    "p1, = host.plot(p_nom_fit, e_d_fit, color=color1,\n",
    "                label=\"$\\mathit{e_d}(\\mathit{p}_{ном})$\")\n",
    "p2, = par1.plot(p_nom_fit, eps_omega_arr, color=color2,\n",
    "                label=\"$\\epsilon_{\\mathit{d}}(\\mathit{p}_{ном})$\")\n",
    "p3, = par2.plot(p_nom_fit, kappa_arr, color=color3,\n",
    "                label=\"$\\kappa(\\mathit{p}_{ном})$\")\n",
    "\n",
    "lns = [p1]\n",
    "lns2 = [p2, p3]\n",
    "host.legend(handles=lns, loc='lower left')\n",
    "par1.legend(handles=lns2, loc='lower right')\n",
    "par2.spines['right'].set_position(('outward', 60))\n",
    "\n",
    "host.yaxis.label.set_color(p1.get_color())\n",
    "par1.yaxis.label.set_color(p2.get_color())\n",
    "par2.yaxis.label.set_color(p3.get_color())\n",
    "\n",
    "host.grid()\n",
    "# plt.savefig(f'ed_epsomega_kappa(pnom).png', dpi =300, bbox_inches='tight')\n",
    "plt.show()"
   ]
  },
  {
   "cell_type": "markdown",
   "id": "d99da1a0",
   "metadata": {},
   "source": [
    "# Определение проектных параметров ДУ минимальной массы"
   ]
  },
  {
   "cell_type": "markdown",
   "id": "53612b2e",
   "metadata": {},
   "source": [
    "## Исходные данные"
   ]
  },
  {
   "cell_type": "code",
<<<<<<< HEAD
<<<<<<< Updated upstream
<<<<<<< Updated upstream
=======
>>>>>>> parent of 8a35f53 (Редакция №5)
   "execution_count": 17,
   "id": "0a6d072f",
   "metadata": {
    "ExecuteTime": {
     "end_time": "2021-12-19T09:39:14.231376Z",
     "start_time": "2021-12-19T09:39:14.216453Z"
<<<<<<< HEAD
=======
   "execution_count": 41,
   "id": "0a6d072f",
   "metadata": {
    "ExecuteTime": {
     "end_time": "2021-12-21T16:16:11.785075Z",
     "start_time": "2021-12-21T16:16:11.740959Z"
>>>>>>> Stashed changes
=======
   "execution_count": 41,
   "id": "0a6d072f",
   "metadata": {
    "ExecuteTime": {
     "end_time": "2021-12-21T16:16:11.785075Z",
     "start_time": "2021-12-21T16:16:11.740959Z"
>>>>>>> Stashed changes
=======
>>>>>>> parent of 8a35f53 (Редакция №5)
    }
   },
   "outputs": [],
   "source": [
    "delta_p1, delta_p2 = 6, 6\n",
    "delta_zks = 1\n",
    "delta_vks = 15\n",
    "delta_ps1 = 6\n",
    "delta_ps2 = 3\n",
    "\n",
    "ro_pks = 1500\n",
    "ro_zks = 920\n",
    "ro_ps = 1750\n",
    "ro_vks = 2200\n",
    "\n",
    "sigma_vr = 1830\n",
    "sigma_02 = 1830\n",
    "\n",
    "k_1 = 1.1\n",
    "k_2 = 1.2\n",
    "etta = 1.25\n",
    "\n",
    "D_t = 0.002\n",
    "nu = 0.29\n",
    "T_0 = 293.15\n",
    "T_ref = 293.15\n",
    "kappa_por = 100\n",
    "tetta_1 = np.radians(30)\n",
    "tetta_2 = np.radians(15)\n",
    "# l_ob = l_zar\n",
    "\n",
    "\n",
    "def fi_kappa(kappa):\n",
    "    if kappa > kappa_por:\n",
    "        return 1 + 0.003 * (kappa - kappa_por)\n",
    "    else:\n",
    "        return 1\n",
    "\n",
    "\n",
    "def u(p):\n",
    "    return u_1 * (p) ** mu"
   ]
  },
  {
   "cell_type": "markdown",
   "id": "2a1512e1",
   "metadata": {},
   "source": [
    "## Решение"
   ]
  },
  {
   "cell_type": "code",
<<<<<<< HEAD
<<<<<<< Updated upstream
<<<<<<< Updated upstream
=======
>>>>>>> parent of 8a35f53 (Редакция №5)
   "execution_count": 18,
   "id": "a2010ec4",
   "metadata": {},
   "outputs": [
    {
     "ename": "NameError",
     "evalue": "name 'kappa' is not defined",
     "output_type": "error",
     "traceback": [
      "\u001b[1;31m---------------------------------------------------------------------------\u001b[0m",
      "\u001b[1;31mNameError\u001b[0m                                 Traceback (most recent call last)",
      "\u001b[1;32m~\\AppData\\Local\\Temp/ipykernel_15248/248659356.py\u001b[0m in \u001b[0;36m<module>\u001b[1;34m\u001b[0m\n\u001b[0;32m      1\u001b[0m \u001b[0mp_50\u001b[0m \u001b[1;33m=\u001b[0m \u001b[0mp_nom\u001b[0m \u001b[1;33m*\u001b[0m \u001b[0mnp\u001b[0m\u001b[1;33m.\u001b[0m\u001b[0mexp\u001b[0m\u001b[1;33m(\u001b[0m\u001b[1;33m(\u001b[0m\u001b[0mD_t\u001b[0m \u001b[1;33m*\u001b[0m \u001b[1;33m(\u001b[0m\u001b[0mT_0\u001b[0m \u001b[1;33m-\u001b[0m \u001b[0mT_ref\u001b[0m\u001b[1;33m)\u001b[0m\u001b[1;33m)\u001b[0m \u001b[1;33m/\u001b[0m \u001b[1;33m(\u001b[0m\u001b[1;36m1\u001b[0m\u001b[1;33m-\u001b[0m\u001b[0mnu\u001b[0m\u001b[1;33m)\u001b[0m\u001b[1;33m)\u001b[0m \u001b[1;33m*\u001b[0m\u001b[0;31m \u001b[0m\u001b[0;31m\\\u001b[0m\u001b[1;33m\u001b[0m\u001b[1;33m\u001b[0m\u001b[0m\n\u001b[1;32m----> 2\u001b[1;33m     \u001b[0mfi_kappa\u001b[0m\u001b[1;33m(\u001b[0m\u001b[0mkappa\u001b[0m\u001b[1;33m)\u001b[0m \u001b[1;33m**\u001b[0m \u001b[1;33m(\u001b[0m\u001b[1;36m1\u001b[0m \u001b[1;33m/\u001b[0m \u001b[1;33m(\u001b[0m\u001b[1;36m1\u001b[0m\u001b[1;33m-\u001b[0m\u001b[0mnu\u001b[0m\u001b[1;33m)\u001b[0m\u001b[1;33m)\u001b[0m\u001b[1;33m\u001b[0m\u001b[1;33m\u001b[0m\u001b[0m\n\u001b[0m\u001b[0;32m      3\u001b[0m \u001b[1;33m\u001b[0m\u001b[0m\n\u001b[0;32m      4\u001b[0m \u001b[0mp_p\u001b[0m \u001b[1;33m=\u001b[0m \u001b[0mp_50\u001b[0m \u001b[1;33m*\u001b[0m \u001b[0msigma_vr\u001b[0m \u001b[1;33m/\u001b[0m \u001b[0msigma_02\u001b[0m \u001b[1;33m*\u001b[0m \u001b[0mk_1\u001b[0m \u001b[1;33m*\u001b[0m \u001b[0mk_2\u001b[0m \u001b[1;33m*\u001b[0m \u001b[0metta\u001b[0m\u001b[1;33m\u001b[0m\u001b[1;33m\u001b[0m\u001b[0m\n\u001b[0;32m      5\u001b[0m \u001b[1;33m\u001b[0m\u001b[0m\n",
      "\u001b[1;31mNameError\u001b[0m: name 'kappa' is not defined"
     ]
<<<<<<< HEAD
=======
=======
>>>>>>> Stashed changes
   "execution_count": 42,
   "id": "a2010ec4",
   "metadata": {
    "ExecuteTime": {
     "end_time": "2021-12-21T16:16:11.808015Z",
     "start_time": "2021-12-21T16:16:11.790062Z"
<<<<<<< Updated upstream
>>>>>>> Stashed changes
=======
>>>>>>> Stashed changes
=======
>>>>>>> parent of 8a35f53 (Редакция №5)
    }
   ],
   "source": [
    "p_50 = p_nom * np.exp((D_t * (T_0 - T_ref)) / (1-nu)) * \\\n",
    "    fi_kappa(kappa) ** (1 / (1-nu))\n",
    "\n",
    "p_p = p_50 * sigma_vr / sigma_02 * k_1 * k_2 * etta\n",
    "\n",
    "b = D_n / 4\n",
    "\n",
    "delta_ob = D_n / 2 * p_p / sigma_vr * ((D_n / b)**2/24 + 1 / 3)\n",
    "\n",
    "D_a = np.sqrt(4 / np.pi * f_a * F_m)\n",
    "\n",
    "D_kr = D_a / np.sqrt(v_a)\n",
    "\n",
    "m_dv_0 = sum(ro * V)\n",
    "\n",
    "m_dv = m_dv_0 + omega\n",
    "alpha_dv = m_dv_0 / omega\n",
    "l_dv = b + b * np.sqrt(1 - (D_v0 / D_n)**2) + l_ob + (D_vh - D_kr) / \\\n",
    "    (2 * np.tan(tetta_1)) + l_st + (D_a - D_kr) / (2 * np.tan(tetta_2))"
   ]
  },
  {
   "cell_type": "markdown",
   "id": "03d87965",
   "metadata": {},
   "source": [
    "## Вычисление объёмов элементов конструкции РДТТ"
   ]
  },
  {
   "cell_type": "markdown",
   "id": "ecfebced",
   "metadata": {},
   "source": [
    "### Тестовая задача"
   ]
  },
  {
   "cell_type": "code",
<<<<<<< HEAD
<<<<<<< Updated upstream
<<<<<<< Updated upstream
=======
>>>>>>> parent of 8a35f53 (Редакция №5)
   "execution_count": 19,
   "id": "e1a67cbd",
   "metadata": {
    "ExecuteTime": {
     "end_time": "2021-12-19T14:11:00.025009Z",
     "start_time": "2021-12-19T14:10:59.984115Z"
<<<<<<< HEAD
=======
=======
>>>>>>> Stashed changes
   "execution_count": 43,
   "id": "e1a67cbd",
   "metadata": {
    "ExecuteTime": {
     "end_time": "2021-12-21T16:16:11.886872Z",
     "start_time": "2021-12-21T16:16:11.816025Z"
<<<<<<< Updated upstream
>>>>>>> Stashed changes
=======
>>>>>>> Stashed changes
=======
>>>>>>> parent of 8a35f53 (Редакция №5)
    }
   },
   "outputs": [],
   "source": [
    "class Volume():\n",
    "    def __init__(self, INIT):\n",
    "        self.D_n = INIT[0]\n",
    "        self.l_ob = INIT[1]\n",
    "        self.delta_ob = INIT[2]\n",
    "        self.delta_zks = INIT[3]\n",
    "        self.b_1 = INIT[4]\n",
    "        self.b_2 = INIT[5]\n",
    "        self.delta_dn1 = INIT[6]\n",
    "        self.delta_dn2 = INIT[7]\n",
    "        self.delta_p1 = INIT[8]\n",
    "        self.delta_p2 = INIT[9]\n",
    "        self.d = INIT[10]\n",
    "        self.D_vh = INIT[11]\n",
    "        self.D_vih = INIT[12]\n",
    "        self.D_kr = INIT[13]\n",
    "        self.tetta_1 = INIT[14]\n",
    "        self.tetta_2 = INIT[15]\n",
    "        self.l_kr = INIT[16]\n",
    "        self.delta_s1 = INIT[17]\n",
    "        self.delta_s2 = INIT[18]\n",
    "        self.delta_st = INIT[19]\n",
    "        self.delta_ps1 = INIT[20]\n",
    "        self.delta_ps2 = INIT[21]\n",
    "        self.delta_vks = INIT[22]\n",
    "\n",
    "    def cil_ks(self):\n",
    "        d_ob = self.D_n - 2 * self.delta_ob\n",
    "        S_ob = np.pi / 4 * (self.D_n ** 2 - d_ob ** 2)\n",
    "        V_ob = S_ob * self.l_ob\n",
    "        d_zks = d_ob - 2 * self.delta_zks\n",
    "        S_zks = np.pi / 4 * (d_ob ** 2 - d_zks ** 2)\n",
    "        V_zks = S_zks * self.l_ob\n",
    "        return V_ob, V_zks\n",
    "#     def el_dn(self):\n",
    "#         d = self.D_n - 2 * self.delta_ob - 2 * self.delta_zks\n",
    "#         S = np.pi / 4 * (self.D_n - d)\n",
    "#         V_zks = S * self.l_ob\n",
    "#         return V_zks\n",
    "\n",
    "    def cil_st(self):\n",
    "        d_st = self.D_kr - 2 * self.delta_st\n",
    "        S_st = np.pi / 4 * (self.D_kr ** 2 - d_st ** 2)\n",
    "        V_st = S_st * self.l_kr\n",
    "        d_vks = d_st - 2 * self.delta_vks\n",
    "        S_vks = np.pi / 4 * (d_st ** 2 - d_vks ** 2)\n",
    "        V_vks = S_vks * self.l_kr\n",
    "        return V_st, V_vks\n",
    "\n",
    "    def ell_pd(self):\n",
    "        V_dn1 = 2 / 3 * np.pi * self.delta_dn1 * (self.D_n**2/4+self.D_n*self.b_1-(self.D_n+self.b_1) * self.delta_dn1+ self.delta_dn1**2)\n",
    "        V_p1 = 2 / 3 * np.pi * self.delta_p1 * ((self.D_n - 2 *self.delta_dn1)**2/4+(self.D_n-2*self.delta_dn1)*self.b_1-(self.D_n - 2*self.delta_dn1+self.b_1) * self.delta_p1+ self.delta_p1**2)\n",
    "        return V_dn1, V_p1\n",
    "    def kon_1(self):\n",
    "        l_s1 = ((self.D_vh - self.D_kr) / 2) / np.tan(self.tetta_1)\n",
    "        V_s1_n = 1 / 3 * np.pi * l_s1 * \\\n",
    "            ((self.D_vh / 2)**2 + (self.D_kr / 2) **\n",
    "             2 + (self.D_vh / 2) * (self.D_vh / 2))\n",
    "        V_s1_vn = 1 / 3 * np.pi * l_s1 * \\\n",
    "            (((self.D_vh - self.delta_s1) / 2)**2 + ((self.D_kr - self.delta_s1) / 2) **\n",
    "             2 + ((self.D_vh - self.delta_s1) / 2) * ((self.D_vh - self.delta_s1) / 2))\n",
    "        V_s1 = V_s1_n - V_s1_vn\n",
    "\n",
    "        V_ps1_n = V_s1_vn\n",
    "        V_ps1_vn = 1 / 3 * np.pi * l_s1 * \\\n",
    "            (((self.D_vh - self.delta_s1 - self.delta_ps1) / 2)**2 + ((self.D_kr - self.delta_s1 - self.delta_ps1) / 2) **\n",
    "             2 + ((self.D_vh - self.delta_s1 - self.delta_ps1) / 2) * ((self.D_vh - self.delta_s1 - self.delta_ps1) / 2))\n",
    "        V_ps1 = V_ps1_n - V_ps1_vn\n",
    "        return V_s1, V_ps1"
   ]
  },
  {
   "cell_type": "code",
<<<<<<< HEAD
<<<<<<< Updated upstream
<<<<<<< Updated upstream
=======
>>>>>>> parent of 8a35f53 (Редакция №5)
   "execution_count": 20,
   "id": "28e694b8",
   "metadata": {
    "ExecuteTime": {
     "end_time": "2021-12-19T14:11:00.417196Z",
     "start_time": "2021-12-19T14:11:00.404231Z"
    }
   },
   "outputs": [
    {
     "ename": "NameError",
     "evalue": "name 'delta_ob' is not defined",
     "output_type": "error",
     "traceback": [
      "\u001b[1;31m---------------------------------------------------------------------------\u001b[0m",
      "\u001b[1;31mNameError\u001b[0m                                 Traceback (most recent call last)",
      "\u001b[1;32m~\\AppData\\Local\\Temp/ipykernel_15248/1404982301.py\u001b[0m in \u001b[0;36m<module>\u001b[1;34m\u001b[0m\n\u001b[1;32m----> 1\u001b[1;33m \u001b[0md_ob\u001b[0m \u001b[1;33m=\u001b[0m \u001b[0mD_n\u001b[0m \u001b[1;33m-\u001b[0m \u001b[1;36m2\u001b[0m \u001b[1;33m*\u001b[0m \u001b[0mdelta_ob\u001b[0m\u001b[1;33m\u001b[0m\u001b[1;33m\u001b[0m\u001b[0m\n\u001b[0m\u001b[0;32m      2\u001b[0m \u001b[0mS_ob\u001b[0m \u001b[1;33m=\u001b[0m \u001b[0mnp\u001b[0m\u001b[1;33m.\u001b[0m\u001b[0mpi\u001b[0m \u001b[1;33m/\u001b[0m \u001b[1;36m4\u001b[0m \u001b[1;33m*\u001b[0m \u001b[1;33m(\u001b[0m\u001b[0mD_n\u001b[0m\u001b[1;33m**\u001b[0m\u001b[1;36m2\u001b[0m \u001b[1;33m-\u001b[0m \u001b[0md_ob\u001b[0m\u001b[1;33m**\u001b[0m\u001b[1;36m2\u001b[0m\u001b[1;33m)\u001b[0m\u001b[1;33m\u001b[0m\u001b[1;33m\u001b[0m\u001b[0m\n\u001b[0;32m      3\u001b[0m \u001b[0mV_ob\u001b[0m \u001b[1;33m=\u001b[0m \u001b[0mS_ob\u001b[0m \u001b[1;33m*\u001b[0m \u001b[0ml_ob\u001b[0m\u001b[1;33m\u001b[0m\u001b[1;33m\u001b[0m\u001b[0m\n\u001b[0;32m      4\u001b[0m \u001b[1;33m\u001b[0m\u001b[0m\n\u001b[0;32m      5\u001b[0m \u001b[0md_zks\u001b[0m \u001b[1;33m=\u001b[0m \u001b[0md_ob\u001b[0m \u001b[1;33m-\u001b[0m \u001b[1;36m2\u001b[0m \u001b[1;33m*\u001b[0m \u001b[0mdelta_zks\u001b[0m\u001b[1;33m\u001b[0m\u001b[1;33m\u001b[0m\u001b[0m\n",
      "\u001b[1;31mNameError\u001b[0m: name 'delta_ob' is not defined"
<<<<<<< HEAD
=======
=======
>>>>>>> Stashed changes
   "execution_count": 44,
   "id": "adebdbf4",
   "metadata": {
    "ExecuteTime": {
     "end_time": "2021-12-21T16:16:11.918749Z",
     "start_time": "2021-12-21T16:16:11.889826Z"
    },
    "scrolled": true
   },
   "outputs": [
    {
     "name": "stdout",
     "output_type": "stream",
     "text": [
      "V_об = [ 4215227.41956802  4527065.38195249  4891837.35311916  5320825.53171063\n",
      "  5828499.65235935  6433634.2697663   7160904.78154801  8043209.43735307\n",
      "  9125117.33788549 10468107.73449071 12158742.79694325]\n",
      "V_зкс = [2972916.25347599 2867222.94363515 2762797.55446507 2659830.58962617\n",
      " 2558525.52703609 2459103.76450075 2361811.04251213 2266926.04409534\n",
      " 2174772.26488232 2085734.92172767 2000285.88131749]\n",
      "V_дн1 = [ 547123.66933165  608698.17736971  681856.42956247  769349.44563642\n",
      "  874733.0407113  1002646.05507087 1159199.55245262 1352526.80055693\n",
      " 1593568.2749185  1897202.7934694  2283890.97168555]\n",
      "V_п1 = [2254265.05463972 2251253.5963196  2247672.94372153 2243386.88324408\n",
      " 2238218.88004519 2231937.88000909 2224238.28415796 2214711.35703612\n",
      " 2202803.88153562 2187757.57681427 2168519.12275278]\n",
      "V_дн2 = [ 443624.1436509   493476.57261031  552687.82515027  623472.84299654\n",
      "  708691.01958995  812067.06610151  938498.72839214 1094489.41483608\n",
      " 1288761.64677547 1533133.34294397 1843776.04984576]\n",
      "V_п2 = [1814853.46385475 1811855.7675705  1808291.55174408 1804025.27188762\n",
      " 1798881.27382898 1792629.67771579 1784966.47308701 1775485.10849372\n",
      " 1763635.42512675 1748663.51552119 1729522.46732364]\n",
      "V_ст = [45456.94035321 45975.88266625 46666.62020178 47566.95558543\n",
      " 48727.03129307 50214.42164345 52121.76406194 54578.42181092\n",
      " 57768.68391896 61960.80872509 67554.49929991]\n",
      "V_вкс = [130441.33340266 116802.83595038 104006.70532191  92074.10952032\n",
      "  81016.4043414   70835.47607838  61524.1979658   53066.99478332\n",
      "  45440.50829839  38614.35445973  32551.96148238]\n",
      "V_с1 = [ 428750.78551207  481435.73116519  544359.77566798  620105.05665256\n",
      "  712076.77310701  824825.07538674  964519.51631818 1139662.84935207\n",
      " 1362189.74814398 1649201.84879408 2025787.46319792]\n",
      "V_пс1 = [865119.64395614 870532.19085011 875608.12449703 880339.11729306\n",
      " 884720.76452454 888752.44675237 892437.14667279 895781.22268529\n",
      " 898794.14209483 901488.17758209 903878.07128389]\n",
      "V_с2 = [ 69662.08602118  80442.71678582  93270.97614588 108663.97332442\n",
      " 127303.22379416 150098.73788822 178283.38225748 213554.68000125\n",
      " 258292.81299736 315904.45060333 391380.82506348]\n",
      "V_пс2 = [141913.97430399 146865.39431009 151493.82420637 155792.12153485\n",
      " 159756.92019151 163388.49405309 166690.57645166 169670.13764467\n",
      " 172337.12309989 174704.15609611 176786.20882303]\n"
<<<<<<< Updated upstream
>>>>>>> Stashed changes
=======
>>>>>>> Stashed changes
=======
>>>>>>> parent of 8a35f53 (Редакция №5)
     ]
    }
   ],
   "source": [
    "d_ob = D_n - 2 * delta_ob\n",
    "S_ob = np.pi / 4 * (D_n**2 - d_ob**2)\n",
    "V_ob = S_ob * l_ob\n",
    "\n",
    "d_zks = d_ob - 2 * delta_zks\n",
    "S_zks = np.pi / 4 * (d_ob**2 - d_zks**2)\n",
    "V_zks = S_zks * l_ob\n",
    "print(V_ob, V_zks)"
   ]
  },
  {
   "cell_type": "code",
   "execution_count": null,
   "id": "adebdbf4",
   "metadata": {
    "ExecuteTime": {
     "end_time": "2021-12-19T14:11:00.873602Z",
     "start_time": "2021-12-19T14:11:00.853655Z"
    }
   },
   "outputs": [],
   "source": [
    "D_n = 200\n",
    "l_ob = 1200\n",
    "delta_ob = 2\n",
    "delta_zks = 2\n",
    "b_1 = 50\n",
    "b_2 = 50\n",
    "delta_dn1 = 2\n",
    "delta_dn2 = 2\n",
    "delta_p1 = 6\n",
    "delta_p2 = 6\n",
    "d = 100\n",
    "\n",
    "\n",
    "D_vh = 100\n",
    "D_vih = 150\n",
    "D_kr = 50\n",
    "tetta_1 = np.radians(30)\n",
    "tetta_2 = np.radians(15)\n",
    "l_kr = 25\n",
    "delta_s1 = 4\n",
    "delta_s2 = 2\n",
    "delta_st = 6\n",
    "delta_ps1 = 8\n",
    "delta_ps2 = 4\n",
    "delta_vks = 12\n",
    "INIT_V = [D_n, l_ob, delta_ob, delta_zks, b_1, b_2, delta_dn1, delta_dn2, delta_p1, delta_p2, d, D_vh,\n",
    "          D_vih, D_kr, tetta_1, tetta_2, l_kr, delta_s1, delta_s2, delta_st, delta_ps1, delta_ps2, delta_vks]\n",
    "V_ob = Volume(INIT_V).cil_ks()\n",
    "print(V_ob)\n",
    "V_st = Volume(INIT_V).cil_st()\n",
    "\\print(V_st)\n",
    "V_kon_1 = Volume(INIT_V).kon_1()\n",
    "print(V_kon_1)\n",
    "V_dn_1 = Volume(INIT_V).ell_pd()\n",
    "print(V_dn_1)"
   ]
  },
  {
   "cell_type": "code",
   "execution_count": null,
   "id": "e1b710dc",
   "metadata": {},
   "outputs": [],
   "source": []
  },
  {
   "cell_type": "code",
   "execution_count": null,
   "id": "5dc797ac",
   "metadata": {},
   "outputs": [],
   "source": []
  },
  {
   "cell_type": "code",
<<<<<<< Updated upstream
   "execution_count": null,
   "id": "dc2eb157",
   "metadata": {},
   "outputs": [],
   "source": []
<<<<<<< HEAD
=======
=======
>>>>>>> Stashed changes
   "execution_count": 45,
   "id": "3bfbcb87",
   "metadata": {
    "ExecuteTime": {
     "end_time": "2021-12-21T16:16:11.981618Z",
     "start_time": "2021-12-21T16:16:11.923736Z"
    }
   },
   "outputs": [
    {
     "data": {
      "text/html": [
       "<div>\n",
       "<style scoped>\n",
       "    .dataframe tbody tr th:only-of-type {\n",
       "        vertical-align: middle;\n",
       "    }\n",
       "\n",
       "    .dataframe tbody tr th {\n",
       "        vertical-align: top;\n",
       "    }\n",
       "\n",
       "    .dataframe thead th {\n",
       "        text-align: right;\n",
       "    }\n",
       "</style>\n",
       "<table border=\"1\" class=\"dataframe\">\n",
       "  <thead>\n",
       "    <tr style=\"text-align: right;\">\n",
       "      <th></th>\n",
       "      <th>delta_ob_arr, мм</th>\n",
       "      <th>D_kr_arr, мм</th>\n",
       "      <th>m_dv_0, кг</th>\n",
       "      <th>m_dv_arr, кг</th>\n",
       "      <th>alpha_dv_arr</th>\n",
       "      <th>l_dv_arr, мм</th>\n",
       "      <th>c_dv_arr</th>\n",
       "    </tr>\n",
       "  </thead>\n",
       "  <tbody>\n",
       "    <tr>\n",
       "      <th>1</th>\n",
       "      <td>1.412</td>\n",
       "      <td>67.282</td>\n",
       "      <td>55.737</td>\n",
       "      <td>151.548</td>\n",
       "      <td>0.582</td>\n",
       "      <td>2187.662</td>\n",
       "      <td>1.104</td>\n",
       "    </tr>\n",
       "    <tr>\n",
       "      <th>2</th>\n",
       "      <td>1.572</td>\n",
       "      <td>63.306</td>\n",
       "      <td>59.419</td>\n",
       "      <td>153.850</td>\n",
       "      <td>0.629</td>\n",
       "      <td>2143.818</td>\n",
       "      <td>1.101</td>\n",
       "    </tr>\n",
       "    <tr>\n",
       "      <th>3</th>\n",
       "      <td>1.763</td>\n",
       "      <td>59.361</td>\n",
       "      <td>63.775</td>\n",
       "      <td>156.856</td>\n",
       "      <td>0.685</td>\n",
       "      <td>2100.645</td>\n",
       "      <td>1.101</td>\n",
       "    </tr>\n",
       "    <tr>\n",
       "      <th>4</th>\n",
       "      <td>1.991</td>\n",
       "      <td>55.460</td>\n",
       "      <td>68.956</td>\n",
       "      <td>160.716</td>\n",
       "      <td>0.751</td>\n",
       "      <td>2058.225</td>\n",
       "      <td>1.103</td>\n",
       "    </tr>\n",
       "    <tr>\n",
       "      <th>5</th>\n",
       "      <td>2.266</td>\n",
       "      <td>51.616</td>\n",
       "      <td>75.156</td>\n",
       "      <td>165.625</td>\n",
       "      <td>0.831</td>\n",
       "      <td>2016.655</td>\n",
       "      <td>1.108</td>\n",
       "    </tr>\n",
       "    <tr>\n",
       "      <th>6</th>\n",
       "      <td>2.601</td>\n",
       "      <td>47.841</td>\n",
       "      <td>82.629</td>\n",
       "      <td>171.837</td>\n",
       "      <td>0.926</td>\n",
       "      <td>1976.051</td>\n",
       "      <td>1.118</td>\n",
       "    </tr>\n",
       "    <tr>\n",
       "      <th>7</th>\n",
       "      <td>3.012</td>\n",
       "      <td>44.147</td>\n",
       "      <td>91.713</td>\n",
       "      <td>179.686</td>\n",
       "      <td>1.043</td>\n",
       "      <td>1936.550</td>\n",
       "      <td>1.131</td>\n",
       "    </tr>\n",
       "    <tr>\n",
       "      <th>8</th>\n",
       "      <td>3.522</td>\n",
       "      <td>40.547</td>\n",
       "      <td>102.857</td>\n",
       "      <td>189.624</td>\n",
       "      <td>1.185</td>\n",
       "      <td>1898.323</td>\n",
       "      <td>1.151</td>\n",
       "    </tr>\n",
       "    <tr>\n",
       "      <th>9</th>\n",
       "      <td>4.160</td>\n",
       "      <td>37.051</td>\n",
       "      <td>116.673</td>\n",
       "      <td>202.262</td>\n",
       "      <td>1.363</td>\n",
       "      <td>1861.588</td>\n",
       "      <td>1.177</td>\n",
       "    </tr>\n",
       "    <tr>\n",
       "      <th>10</th>\n",
       "      <td>4.969</td>\n",
       "      <td>33.672</td>\n",
       "      <td>134.011</td>\n",
       "      <td>218.448</td>\n",
       "      <td>1.587</td>\n",
       "      <td>1826.625</td>\n",
       "      <td>1.212</td>\n",
       "    </tr>\n",
       "    <tr>\n",
       "      <th>11</th>\n",
       "      <td>6.008</td>\n",
       "      <td>30.418</td>\n",
       "      <td>156.065</td>\n",
       "      <td>239.376</td>\n",
       "      <td>1.873</td>\n",
       "      <td>1793.808</td>\n",
       "      <td>1.257</td>\n",
       "    </tr>\n",
       "  </tbody>\n",
       "</table>\n",
       "</div>"
      ],
      "text/plain": [
       "    delta_ob_arr, мм  D_kr_arr, мм  m_dv_0, кг  m_dv_arr, кг  alpha_dv_arr  \\\n",
       "1            1.412          67.282      55.737       151.548         0.582   \n",
       "2            1.572          63.306      59.419       153.850         0.629   \n",
       "3            1.763          59.361      63.775       156.856         0.685   \n",
       "4            1.991          55.460      68.956       160.716         0.751   \n",
       "5            2.266          51.616      75.156       165.625         0.831   \n",
       "6            2.601          47.841      82.629       171.837         0.926   \n",
       "7            3.012          44.147      91.713       179.686         1.043   \n",
       "8            3.522          40.547     102.857       189.624         1.185   \n",
       "9            4.160          37.051     116.673       202.262         1.363   \n",
       "10           4.969          33.672     134.011       218.448         1.587   \n",
       "11           6.008          30.418     156.065       239.376         1.873   \n",
       "\n",
       "    l_dv_arr, мм  c_dv_arr  \n",
       "1       2187.662     1.104  \n",
       "2       2143.818     1.101  \n",
       "3       2100.645     1.101  \n",
       "4       2058.225     1.103  \n",
       "5       2016.655     1.108  \n",
       "6       1976.051     1.118  \n",
       "7       1936.550     1.131  \n",
       "8       1898.323     1.151  \n",
       "9       1861.588     1.177  \n",
       "10      1826.625     1.212  \n",
       "11      1793.808     1.257  "
      ]
     },
     "metadata": {},
     "output_type": "display_data"
    }
   ],
   "source": [
    "ro_kor_arr = np.array([7800 * 1e-9]*11)\n",
    "ro_zks_arr = np.array([ro_zks * 1e-9]*11)\n",
    "ro_p_arr = np.array([ro_p * 1e-9]*11)\n",
    "ro_vks_arr = np.array([ro_vks * 1e-9]*11)\n",
    "ro_ps_arr = np.array([ro_ps * 1e-9]*11)\n",
    "ro_cil = np.array([ro_kor_arr, ro_zks_arr])\n",
    "ro_dn_1 = np.array([ro_kor_arr, ro_p_arr])\n",
    "ro_dn_2 = np.array([ro_kor_arr, ro_p_arr])\n",
    "ro_st = np.array([ro_kor_arr, ro_vks_arr])\n",
    "ro_kon_1 = np.array([ro_kor_arr, ro_ps_arr])\n",
    "ro_kon_2 = np.array([ro_kor_arr, ro_ps_arr])\n",
    "ro = np.array([ro_cil, ro_dn_1, ro_dn_2, ro_st, ro_kon_1, ro_kon_2])\n",
    "V = np.array([V_cil, V_dn_1, V_dn_2, V_st, V_kon_1, V_kon_2])\n",
    "m_dv_i = ro * V\n",
    "m_dv_zer = [[0] for i in range(len(ro_kor_arr))]\n",
    "for i in range(len(V)):\n",
    "    m_dv_zer[i] = m_dv_i[i][0] + m_dv_i[i][1]\n",
    "m_dv_0 = sum(m_dv_zer)\n",
    "\n",
    "m_dv_arr = m_dv_0 + omega_arr\n",
    "alpha_dv_arr = m_dv_0 / omega_arr\n",
    "l_dv_arr = b + b * np.sqrt(1 - (D_vh / D_n)**2) + l_ob_arr + (D_vh - D_kr) / \\\n",
    "    (2 * np.tan(tetta_1)) + (D_a_arr - D_kr) / (2 * np.tan(tetta_2))\n",
    "\n",
    "# определение критерия\n",
    "c_dv_arr = np.sqrt(m_dv_arr / min(m_dv_arr) * l_dv_arr / min(l_dv_arr))\n",
    "c_dv_opt = min(c_dv_arr)\n",
    "m_dv_opt = m_dv_arr[c_dv_opt == c_dv_arr]\n",
    "l_dv_opt = l_dv_arr[c_dv_opt == c_dv_arr]\n",
    "p_nom_opt = p_nom_arr[c_dv_opt == c_dv_arr]\n",
    "\n",
    "data_3 = [np.round(delta_ob_arr, 3), np.round(D_kr_arr, 3), np.round(m_dv_0, 3), np.round(\n",
    "    m_dv_arr, 3), np.round(alpha_dv_arr, 3), np.round(l_dv_arr, 3), np.round(c_dv_arr, 3)]\n",
    "data_3_show = pd.DataFrame(data_3, index=[\"delta_ob_arr, мм\", \"D_kr_arr, мм\", \"m_dv_0, кг\", \"m_dv_arr, кг\",\n",
    "                                          \"alpha_dv_arr\", \"l_dv_arr, мм\", \"c_dv_arr\"], columns=[i for i in range(1, len(e_d_fit)+1)]).T\n",
    "# pd.set_option('display.float_format', '{:.5}'.format)\n",
    "display(data_3_show)\n",
    "\n",
    "# data_3_show.to_excel('data_3.xlsx')\n"
   ]
  },
  {
   "cell_type": "code",
   "execution_count": 64,
   "id": "ebb71189",
   "metadata": {
    "ExecuteTime": {
     "end_time": "2021-12-21T16:16:13.453656Z",
     "start_time": "2021-12-21T16:16:11.984572Z"
    }
   },
   "outputs": [
    {
     "data": {
      "image/svg+xml": [
       "<?xml version=\"1.0\" encoding=\"utf-8\" standalone=\"no\"?>\r\n",
       "<!DOCTYPE svg PUBLIC \"-//W3C//DTD SVG 1.1//EN\"\r\n",
       "  \"http://www.w3.org/Graphics/SVG/1.1/DTD/svg11.dtd\">\r\n",
       "<svg height=\"486.155937pt\" version=\"1.1\" viewBox=\"0 0 496.075938 486.155937\" width=\"496.075938pt\" xmlns=\"http://www.w3.org/2000/svg\" xmlns:xlink=\"http://www.w3.org/1999/xlink\">\r\n",
       " <metadata>\r\n",
       "  <rdf:RDF xmlns:cc=\"http://creativecommons.org/ns#\" xmlns:dc=\"http://purl.org/dc/elements/1.1/\" xmlns:rdf=\"http://www.w3.org/1999/02/22-rdf-syntax-ns#\">\r\n",
       "   <cc:Work>\r\n",
       "    <dc:type rdf:resource=\"http://purl.org/dc/dcmitype/StillImage\"/>\r\n",
       "    <dc:date>2021-12-22T11:25:28.595485</dc:date>\r\n",
       "    <dc:format>image/svg+xml</dc:format>\r\n",
       "    <dc:creator>\r\n",
       "     <cc:Agent>\r\n",
       "      <dc:title>Matplotlib v3.4.3, https://matplotlib.org/</dc:title>\r\n",
       "     </cc:Agent>\r\n",
       "    </dc:creator>\r\n",
       "   </cc:Work>\r\n",
       "  </rdf:RDF>\r\n",
       " </metadata>\r\n",
       " <defs>\r\n",
       "  <style type=\"text/css\">*{stroke-linecap:butt;stroke-linejoin:round;}</style>\r\n",
       " </defs>\r\n",
       " <g id=\"figure_1\">\r\n",
       "  <g id=\"patch_1\">\r\n",
       "   <path d=\"M 0 486.155937 \r\n",
       "L 496.075938 486.155937 \r\n",
       "L 496.075938 0 \r\n",
       "L 0 0 \r\n",
       "z\r\n",
       "\" style=\"fill:#ffffff;\"/>\r\n",
       "  </g>\r\n",
       "  <g id=\"axes_1\">\r\n",
       "   <g id=\"patch_2\">\r\n",
       "    <path d=\"M 23.915938 442.08 \r\n",
       "L 470.315937 442.08 \r\n",
       "L 470.315937 7.2 \r\n",
       "L 23.915938 7.2 \r\n",
       "z\r\n",
       "\" style=\"fill:#ffffff;\"/>\r\n",
       "   </g>\r\n",
       "   <g id=\"matplotlib.axis_1\">\r\n",
       "    <g id=\"xtick_1\">\r\n",
       "     <g id=\"line2d_1\">\r\n",
       "      <path clip-path=\"url(#p0ee68fb445)\" d=\"M 25.198834 442.08 \r\n",
       "L 25.198834 7.2 \r\n",
       "\" style=\"fill:none;stroke:#b0b0b0;stroke-linecap:square;stroke-width:0.8;\"/>\r\n",
       "     </g>\r\n",
       "     <g id=\"line2d_2\">\r\n",
       "      <defs>\r\n",
       "       <path d=\"M 0 0 \r\n",
       "L 0 3.5 \r\n",
       "\" id=\"m58a9e72b30\" style=\"stroke:#000000;stroke-width:0.8;\"/>\r\n",
       "      </defs>\r\n",
       "      <g>\r\n",
       "       <use style=\"stroke:#000000;stroke-width:0.8;\" x=\"25.198834\" xlink:href=\"#m58a9e72b30\" y=\"442.08\"/>\r\n",
       "      </g>\r\n",
       "     </g>\r\n",
       "     <g id=\"text_1\">\r\n",
       "      <!-- 4 -->\r\n",
       "      <g transform=\"translate(21.698834 458.80125)scale(0.14 -0.14)\">\r\n",
       "       <defs>\r\n",
       "        <path d=\"M 2978 1563 \r\n",
       "L 2978 1119 \r\n",
       "L 2409 1119 \r\n",
       "L 2409 0 \r\n",
       "L 1894 0 \r\n",
       "L 1894 1119 \r\n",
       "L 100 1119 \r\n",
       "L 100 1519 \r\n",
       "L 2066 4325 \r\n",
       "L 2409 4325 \r\n",
       "L 2409 1563 \r\n",
       "L 2978 1563 \r\n",
       "z\r\n",
       "M 1894 1563 \r\n",
       "L 1894 3666 \r\n",
       "L 406 1563 \r\n",
       "L 1894 1563 \r\n",
       "z\r\n",
       "\" id=\"TimesNewRomanPSMT-34\" transform=\"scale(0.015625)\"/>\r\n",
       "       </defs>\r\n",
       "       <use xlink:href=\"#TimesNewRomanPSMT-34\"/>\r\n",
       "      </g>\r\n",
       "     </g>\r\n",
       "    </g>\r\n",
       "    <g id=\"xtick_2\">\r\n",
       "     <g id=\"line2d_3\">\r\n",
       "      <path clip-path=\"url(#p0ee68fb445)\" d=\"M 78.048431 442.08 \r\n",
       "L 78.048431 7.2 \r\n",
       "\" style=\"fill:none;stroke:#b0b0b0;stroke-linecap:square;stroke-width:0.8;\"/>\r\n",
       "     </g>\r\n",
       "     <g id=\"line2d_4\">\r\n",
       "      <g>\r\n",
       "       <use style=\"stroke:#000000;stroke-width:0.8;\" x=\"78.048431\" xlink:href=\"#m58a9e72b30\" y=\"442.08\"/>\r\n",
       "      </g>\r\n",
       "     </g>\r\n",
       "     <g id=\"text_2\">\r\n",
       "      <!-- 6 -->\r\n",
       "      <g transform=\"translate(74.548431 458.80125)scale(0.14 -0.14)\">\r\n",
       "       <defs>\r\n",
       "        <path d=\"M 2869 4325 \r\n",
       "L 2869 4209 \r\n",
       "Q 2456 4169 2195 4045 \r\n",
       "Q 1934 3922 1679 3669 \r\n",
       "Q 1425 3416 1258 3105 \r\n",
       "Q 1091 2794 978 2366 \r\n",
       "Q 1428 2675 1881 2675 \r\n",
       "Q 2316 2675 2634 2325 \r\n",
       "Q 2953 1975 2953 1425 \r\n",
       "Q 2953 894 2631 456 \r\n",
       "Q 2244 -75 1606 -75 \r\n",
       "Q 1172 -75 869 213 \r\n",
       "Q 275 772 275 1663 \r\n",
       "Q 275 2231 503 2743 \r\n",
       "Q 731 3256 1154 3653 \r\n",
       "Q 1578 4050 1965 4187 \r\n",
       "Q 2353 4325 2688 4325 \r\n",
       "L 2869 4325 \r\n",
       "z\r\n",
       "M 925 2138 \r\n",
       "Q 869 1716 869 1456 \r\n",
       "Q 869 1156 980 804 \r\n",
       "Q 1091 453 1309 247 \r\n",
       "Q 1469 100 1697 100 \r\n",
       "Q 1969 100 2183 356 \r\n",
       "Q 2397 613 2397 1088 \r\n",
       "Q 2397 1622 2184 2012 \r\n",
       "Q 1972 2403 1581 2403 \r\n",
       "Q 1463 2403 1327 2353 \r\n",
       "Q 1191 2303 925 2138 \r\n",
       "z\r\n",
       "\" id=\"TimesNewRomanPSMT-36\" transform=\"scale(0.015625)\"/>\r\n",
       "       </defs>\r\n",
       "       <use xlink:href=\"#TimesNewRomanPSMT-36\"/>\r\n",
       "      </g>\r\n",
       "     </g>\r\n",
       "    </g>\r\n",
       "    <g id=\"xtick_3\">\r\n",
       "     <g id=\"line2d_5\">\r\n",
       "      <path clip-path=\"url(#p0ee68fb445)\" d=\"M 130.898027 442.08 \r\n",
       "L 130.898027 7.2 \r\n",
       "\" style=\"fill:none;stroke:#b0b0b0;stroke-linecap:square;stroke-width:0.8;\"/>\r\n",
       "     </g>\r\n",
       "     <g id=\"line2d_6\">\r\n",
       "      <g>\r\n",
       "       <use style=\"stroke:#000000;stroke-width:0.8;\" x=\"130.898027\" xlink:href=\"#m58a9e72b30\" y=\"442.08\"/>\r\n",
       "      </g>\r\n",
       "     </g>\r\n",
       "     <g id=\"text_3\">\r\n",
       "      <!-- 8 -->\r\n",
       "      <g transform=\"translate(127.398027 458.80125)scale(0.14 -0.14)\">\r\n",
       "       <defs>\r\n",
       "        <path d=\"M 1228 2134 \r\n",
       "Q 725 2547 579 2797 \r\n",
       "Q 434 3047 434 3316 \r\n",
       "Q 434 3728 753 4026 \r\n",
       "Q 1072 4325 1600 4325 \r\n",
       "Q 2113 4325 2425 4047 \r\n",
       "Q 2738 3769 2738 3413 \r\n",
       "Q 2738 3175 2569 2928 \r\n",
       "Q 2400 2681 1866 2347 \r\n",
       "Q 2416 1922 2594 1678 \r\n",
       "Q 2831 1359 2831 1006 \r\n",
       "Q 2831 559 2490 242 \r\n",
       "Q 2150 -75 1597 -75 \r\n",
       "Q 994 -75 656 303 \r\n",
       "Q 388 606 388 966 \r\n",
       "Q 388 1247 577 1523 \r\n",
       "Q 766 1800 1228 2134 \r\n",
       "z\r\n",
       "M 1719 2469 \r\n",
       "Q 2094 2806 2194 3001 \r\n",
       "Q 2294 3197 2294 3444 \r\n",
       "Q 2294 3772 2109 3958 \r\n",
       "Q 1925 4144 1606 4144 \r\n",
       "Q 1288 4144 1088 3959 \r\n",
       "Q 888 3775 888 3528 \r\n",
       "Q 888 3366 970 3203 \r\n",
       "Q 1053 3041 1206 2894 \r\n",
       "L 1719 2469 \r\n",
       "z\r\n",
       "M 1375 2016 \r\n",
       "Q 1116 1797 991 1539 \r\n",
       "Q 866 1281 866 981 \r\n",
       "Q 866 578 1086 336 \r\n",
       "Q 1306 94 1647 94 \r\n",
       "Q 1984 94 2187 284 \r\n",
       "Q 2391 475 2391 747 \r\n",
       "Q 2391 972 2272 1150 \r\n",
       "Q 2050 1481 1375 2016 \r\n",
       "z\r\n",
       "\" id=\"TimesNewRomanPSMT-38\" transform=\"scale(0.015625)\"/>\r\n",
       "       </defs>\r\n",
       "       <use xlink:href=\"#TimesNewRomanPSMT-38\"/>\r\n",
       "      </g>\r\n",
       "     </g>\r\n",
       "    </g>\r\n",
       "    <g id=\"xtick_4\">\r\n",
       "     <g id=\"line2d_7\">\r\n",
       "      <path clip-path=\"url(#p0ee68fb445)\" d=\"M 183.747624 442.08 \r\n",
       "L 183.747624 7.2 \r\n",
       "\" style=\"fill:none;stroke:#b0b0b0;stroke-linecap:square;stroke-width:0.8;\"/>\r\n",
       "     </g>\r\n",
       "     <g id=\"line2d_8\">\r\n",
       "      <g>\r\n",
       "       <use style=\"stroke:#000000;stroke-width:0.8;\" x=\"183.747624\" xlink:href=\"#m58a9e72b30\" y=\"442.08\"/>\r\n",
       "      </g>\r\n",
       "     </g>\r\n",
       "     <g id=\"text_4\">\r\n",
       "      <!-- 10 -->\r\n",
       "      <g transform=\"translate(176.747624 458.80125)scale(0.14 -0.14)\">\r\n",
       "       <defs>\r\n",
       "        <path d=\"M 750 3822 \r\n",
       "L 1781 4325 \r\n",
       "L 1884 4325 \r\n",
       "L 1884 747 \r\n",
       "Q 1884 391 1914 303 \r\n",
       "Q 1944 216 2037 169 \r\n",
       "Q 2131 122 2419 116 \r\n",
       "L 2419 0 \r\n",
       "L 825 0 \r\n",
       "L 825 116 \r\n",
       "Q 1125 122 1212 167 \r\n",
       "Q 1300 213 1334 289 \r\n",
       "Q 1369 366 1369 747 \r\n",
       "L 1369 3034 \r\n",
       "Q 1369 3497 1338 3628 \r\n",
       "Q 1316 3728 1258 3775 \r\n",
       "Q 1200 3822 1119 3822 \r\n",
       "Q 1003 3822 797 3725 \r\n",
       "L 750 3822 \r\n",
       "z\r\n",
       "\" id=\"TimesNewRomanPSMT-31\" transform=\"scale(0.015625)\"/>\r\n",
       "        <path d=\"M 231 2094 \r\n",
       "Q 231 2819 450 3342 \r\n",
       "Q 669 3866 1031 4122 \r\n",
       "Q 1313 4325 1613 4325 \r\n",
       "Q 2100 4325 2488 3828 \r\n",
       "Q 2972 3213 2972 2159 \r\n",
       "Q 2972 1422 2759 906 \r\n",
       "Q 2547 391 2217 158 \r\n",
       "Q 1888 -75 1581 -75 \r\n",
       "Q 975 -75 572 641 \r\n",
       "Q 231 1244 231 2094 \r\n",
       "z\r\n",
       "M 844 2016 \r\n",
       "Q 844 1141 1059 588 \r\n",
       "Q 1238 122 1591 122 \r\n",
       "Q 1759 122 1940 273 \r\n",
       "Q 2122 425 2216 781 \r\n",
       "Q 2359 1319 2359 2297 \r\n",
       "Q 2359 3022 2209 3506 \r\n",
       "Q 2097 3866 1919 4016 \r\n",
       "Q 1791 4119 1609 4119 \r\n",
       "Q 1397 4119 1231 3928 \r\n",
       "Q 1006 3669 925 3112 \r\n",
       "Q 844 2556 844 2016 \r\n",
       "z\r\n",
       "\" id=\"TimesNewRomanPSMT-30\" transform=\"scale(0.015625)\"/>\r\n",
       "       </defs>\r\n",
       "       <use xlink:href=\"#TimesNewRomanPSMT-31\"/>\r\n",
       "       <use x=\"50\" xlink:href=\"#TimesNewRomanPSMT-30\"/>\r\n",
       "      </g>\r\n",
       "     </g>\r\n",
       "    </g>\r\n",
       "    <g id=\"xtick_5\">\r\n",
       "     <g id=\"line2d_9\">\r\n",
       "      <path clip-path=\"url(#p0ee68fb445)\" d=\"M 236.597221 442.08 \r\n",
       "L 236.597221 7.2 \r\n",
       "\" style=\"fill:none;stroke:#b0b0b0;stroke-linecap:square;stroke-width:0.8;\"/>\r\n",
       "     </g>\r\n",
       "     <g id=\"line2d_10\">\r\n",
       "      <g>\r\n",
       "       <use style=\"stroke:#000000;stroke-width:0.8;\" x=\"236.597221\" xlink:href=\"#m58a9e72b30\" y=\"442.08\"/>\r\n",
       "      </g>\r\n",
       "     </g>\r\n",
       "     <g id=\"text_5\">\r\n",
       "      <!-- 12 -->\r\n",
       "      <g transform=\"translate(229.597221 458.80125)scale(0.14 -0.14)\">\r\n",
       "       <defs>\r\n",
       "        <path d=\"M 2934 816 \r\n",
       "L 2638 0 \r\n",
       "L 138 0 \r\n",
       "L 138 116 \r\n",
       "Q 1241 1122 1691 1759 \r\n",
       "Q 2141 2397 2141 2925 \r\n",
       "Q 2141 3328 1894 3587 \r\n",
       "Q 1647 3847 1303 3847 \r\n",
       "Q 991 3847 742 3664 \r\n",
       "Q 494 3481 375 3128 \r\n",
       "L 259 3128 \r\n",
       "Q 338 3706 661 4015 \r\n",
       "Q 984 4325 1469 4325 \r\n",
       "Q 1984 4325 2329 3994 \r\n",
       "Q 2675 3663 2675 3213 \r\n",
       "Q 2675 2891 2525 2569 \r\n",
       "Q 2294 2063 1775 1497 \r\n",
       "Q 997 647 803 472 \r\n",
       "L 1909 472 \r\n",
       "Q 2247 472 2383 497 \r\n",
       "Q 2519 522 2628 598 \r\n",
       "Q 2738 675 2819 816 \r\n",
       "L 2934 816 \r\n",
       "z\r\n",
       "\" id=\"TimesNewRomanPSMT-32\" transform=\"scale(0.015625)\"/>\r\n",
       "       </defs>\r\n",
       "       <use xlink:href=\"#TimesNewRomanPSMT-31\"/>\r\n",
       "       <use x=\"50\" xlink:href=\"#TimesNewRomanPSMT-32\"/>\r\n",
       "      </g>\r\n",
       "     </g>\r\n",
       "    </g>\r\n",
       "    <g id=\"xtick_6\">\r\n",
       "     <g id=\"line2d_11\">\r\n",
       "      <path clip-path=\"url(#p0ee68fb445)\" d=\"M 289.446817 442.08 \r\n",
       "L 289.446817 7.2 \r\n",
       "\" style=\"fill:none;stroke:#b0b0b0;stroke-linecap:square;stroke-width:0.8;\"/>\r\n",
       "     </g>\r\n",
       "     <g id=\"line2d_12\">\r\n",
       "      <g>\r\n",
       "       <use style=\"stroke:#000000;stroke-width:0.8;\" x=\"289.446817\" xlink:href=\"#m58a9e72b30\" y=\"442.08\"/>\r\n",
       "      </g>\r\n",
       "     </g>\r\n",
       "     <g id=\"text_6\">\r\n",
       "      <!-- 14 -->\r\n",
       "      <g transform=\"translate(282.446817 458.80125)scale(0.14 -0.14)\">\r\n",
       "       <use xlink:href=\"#TimesNewRomanPSMT-31\"/>\r\n",
       "       <use x=\"50\" xlink:href=\"#TimesNewRomanPSMT-34\"/>\r\n",
       "      </g>\r\n",
       "     </g>\r\n",
       "    </g>\r\n",
       "    <g id=\"xtick_7\">\r\n",
       "     <g id=\"line2d_13\">\r\n",
       "      <path clip-path=\"url(#p0ee68fb445)\" d=\"M 342.296414 442.08 \r\n",
       "L 342.296414 7.2 \r\n",
       "\" style=\"fill:none;stroke:#b0b0b0;stroke-linecap:square;stroke-width:0.8;\"/>\r\n",
       "     </g>\r\n",
       "     <g id=\"line2d_14\">\r\n",
       "      <g>\r\n",
       "       <use style=\"stroke:#000000;stroke-width:0.8;\" x=\"342.296414\" xlink:href=\"#m58a9e72b30\" y=\"442.08\"/>\r\n",
       "      </g>\r\n",
       "     </g>\r\n",
       "     <g id=\"text_7\">\r\n",
       "      <!-- 16 -->\r\n",
       "      <g transform=\"translate(335.296414 458.80125)scale(0.14 -0.14)\">\r\n",
       "       <use xlink:href=\"#TimesNewRomanPSMT-31\"/>\r\n",
       "       <use x=\"50\" xlink:href=\"#TimesNewRomanPSMT-36\"/>\r\n",
       "      </g>\r\n",
       "     </g>\r\n",
       "    </g>\r\n",
       "    <g id=\"xtick_8\">\r\n",
       "     <g id=\"line2d_15\">\r\n",
       "      <path clip-path=\"url(#p0ee68fb445)\" d=\"M 395.146011 442.08 \r\n",
       "L 395.146011 7.2 \r\n",
       "\" style=\"fill:none;stroke:#b0b0b0;stroke-linecap:square;stroke-width:0.8;\"/>\r\n",
       "     </g>\r\n",
       "     <g id=\"line2d_16\">\r\n",
       "      <g>\r\n",
       "       <use style=\"stroke:#000000;stroke-width:0.8;\" x=\"395.146011\" xlink:href=\"#m58a9e72b30\" y=\"442.08\"/>\r\n",
       "      </g>\r\n",
       "     </g>\r\n",
       "     <g id=\"text_8\">\r\n",
       "      <!-- 18 -->\r\n",
       "      <g transform=\"translate(388.146011 458.80125)scale(0.14 -0.14)\">\r\n",
       "       <use xlink:href=\"#TimesNewRomanPSMT-31\"/>\r\n",
       "       <use x=\"50\" xlink:href=\"#TimesNewRomanPSMT-38\"/>\r\n",
       "      </g>\r\n",
       "     </g>\r\n",
       "    </g>\r\n",
       "    <g id=\"xtick_9\">\r\n",
       "     <g id=\"line2d_17\">\r\n",
       "      <path clip-path=\"url(#p0ee68fb445)\" d=\"M 447.995608 442.08 \r\n",
       "L 447.995608 7.2 \r\n",
       "\" style=\"fill:none;stroke:#b0b0b0;stroke-linecap:square;stroke-width:0.8;\"/>\r\n",
       "     </g>\r\n",
       "     <g id=\"line2d_18\">\r\n",
       "      <g>\r\n",
       "       <use style=\"stroke:#000000;stroke-width:0.8;\" x=\"447.995608\" xlink:href=\"#m58a9e72b30\" y=\"442.08\"/>\r\n",
       "      </g>\r\n",
       "     </g>\r\n",
       "     <g id=\"text_9\">\r\n",
       "      <!-- 20 -->\r\n",
       "      <g transform=\"translate(440.995608 458.80125)scale(0.14 -0.14)\">\r\n",
       "       <use xlink:href=\"#TimesNewRomanPSMT-32\"/>\r\n",
       "       <use x=\"50\" xlink:href=\"#TimesNewRomanPSMT-30\"/>\r\n",
       "      </g>\r\n",
       "     </g>\r\n",
       "    </g>\r\n",
       "    <g id=\"text_10\">\r\n",
       "     <!-- $\\mathit{p}_{ном},$ $МПа$ -->\r\n",
       "     <g transform=\"translate(216.105938 475.175937)scale(0.14 -0.14)\">\r\n",
       "      <defs>\r\n",
       "       <path d=\"M 1376 2739 \r\n",
       "L 1190 2099 \r\n",
       "Q 1670 2822 2285 2822 \r\n",
       "Q 2637 2822 2829 2611 \r\n",
       "Q 3021 2400 3021 2022 \r\n",
       "Q 3021 1235 2422 582 \r\n",
       "Q 1824 -70 1120 -70 \r\n",
       "Q 890 -70 678 38 \r\n",
       "Q 422 -1018 422 -1024 \r\n",
       "Q 422 -1126 508 -1168 \r\n",
       "Q 595 -1210 819 -1210 \r\n",
       "L 819 -1312 \r\n",
       "L -480 -1312 \r\n",
       "L -480 -1210 \r\n",
       "Q -275 -1203 -188 -1120 \r\n",
       "Q -102 -1037 -45 -806 \r\n",
       "L 691 1958 \r\n",
       "Q 794 2330 794 2413 \r\n",
       "Q 794 2586 512 2586 \r\n",
       "L 371 2586 \r\n",
       "L 358 2682 \r\n",
       "L 1357 2822 \r\n",
       "Q 1389 2822 1389 2797 \r\n",
       "Q 1382 2765 1376 2739 \r\n",
       "z\r\n",
       "M 2445 2003 \r\n",
       "Q 2445 2285 2352 2416 \r\n",
       "Q 2259 2547 2048 2547 \r\n",
       "Q 1798 2547 1548 2329 \r\n",
       "Q 1299 2112 1184 1818 \r\n",
       "Q 1043 1453 905 953 \r\n",
       "Q 768 454 768 294 \r\n",
       "Q 768 186 854 118 \r\n",
       "Q 941 51 1075 51 \r\n",
       "Q 1574 51 2003 659 \r\n",
       "Q 2445 1274 2445 2003 \r\n",
       "z\r\n",
       "\" id=\"STIXGeneral-Italic-70\" transform=\"scale(0.015625)\"/>\r\n",
       "       <path d=\"M 1094 1584 \r\n",
       "L 2331 1584 \r\n",
       "L 2331 2191 \r\n",
       "Q 2331 2463 2309 2545 \r\n",
       "Q 2288 2628 2202 2686 \r\n",
       "Q 2116 2744 1897 2744 \r\n",
       "L 1897 2863 \r\n",
       "L 3281 2863 \r\n",
       "L 3281 2744 \r\n",
       "Q 3088 2744 2998 2700 \r\n",
       "Q 2909 2656 2878 2573 \r\n",
       "Q 2847 2491 2847 2191 \r\n",
       "L 2847 672 \r\n",
       "Q 2847 400 2870 312 \r\n",
       "Q 2894 225 2984 170 \r\n",
       "Q 3075 116 3281 116 \r\n",
       "L 3281 0 \r\n",
       "L 1897 0 \r\n",
       "L 1897 116 \r\n",
       "Q 2156 116 2243 211 \r\n",
       "Q 2331 306 2331 672 \r\n",
       "L 2331 1381 \r\n",
       "L 1094 1381 \r\n",
       "L 1094 672 \r\n",
       "Q 1094 400 1117 312 \r\n",
       "Q 1141 225 1231 170 \r\n",
       "Q 1322 116 1528 116 \r\n",
       "L 1528 0 \r\n",
       "L 144 0 \r\n",
       "L 144 116 \r\n",
       "Q 422 116 500 217 \r\n",
       "Q 578 319 578 672 \r\n",
       "L 578 2191 \r\n",
       "Q 578 2463 554 2550 \r\n",
       "Q 531 2638 440 2691 \r\n",
       "Q 350 2744 144 2744 \r\n",
       "L 144 2863 \r\n",
       "L 1528 2863 \r\n",
       "L 1528 2744 \r\n",
       "Q 1334 2744 1245 2700 \r\n",
       "Q 1156 2656 1125 2573 \r\n",
       "Q 1094 2491 1094 2191 \r\n",
       "L 1094 1584 \r\n",
       "z\r\n",
       "\" id=\"TimesNewRomanPSMT-43d\" transform=\"scale(0.015625)\"/>\r\n",
       "       <path d=\"M 1600 2947 \r\n",
       "Q 2250 2947 2644 2453 \r\n",
       "Q 2978 2031 2978 1484 \r\n",
       "Q 2978 1100 2793 706 \r\n",
       "Q 2609 313 2286 112 \r\n",
       "Q 1963 -88 1566 -88 \r\n",
       "Q 919 -88 538 428 \r\n",
       "Q 216 863 216 1403 \r\n",
       "Q 216 1797 411 2186 \r\n",
       "Q 606 2575 925 2761 \r\n",
       "Q 1244 2947 1600 2947 \r\n",
       "z\r\n",
       "M 1503 2744 \r\n",
       "Q 1338 2744 1170 2645 \r\n",
       "Q 1003 2547 900 2300 \r\n",
       "Q 797 2053 797 1666 \r\n",
       "Q 797 1041 1045 587 \r\n",
       "Q 1294 134 1700 134 \r\n",
       "Q 2003 134 2200 384 \r\n",
       "Q 2397 634 2397 1244 \r\n",
       "Q 2397 2006 2069 2444 \r\n",
       "Q 1847 2744 1503 2744 \r\n",
       "z\r\n",
       "\" id=\"TimesNewRomanPSMT-43e\" transform=\"scale(0.015625)\"/>\r\n",
       "       <path d=\"M 2050 747 \r\n",
       "L 2944 2863 \r\n",
       "L 3909 2863 \r\n",
       "L 3909 2744 \r\n",
       "Q 3697 2744 3626 2701 \r\n",
       "Q 3556 2659 3515 2596 \r\n",
       "Q 3475 2534 3475 2191 \r\n",
       "L 3475 672 \r\n",
       "Q 3475 375 3504 289 \r\n",
       "Q 3534 203 3626 159 \r\n",
       "Q 3719 116 3909 116 \r\n",
       "L 3909 0 \r\n",
       "L 2525 0 \r\n",
       "L 2525 116 \r\n",
       "Q 2781 116 2868 211 \r\n",
       "Q 2956 306 2956 672 \r\n",
       "L 2956 2394 \r\n",
       "L 1944 0 \r\n",
       "L 1834 0 \r\n",
       "L 803 2394 \r\n",
       "L 803 672 \r\n",
       "Q 803 375 834 289 \r\n",
       "Q 866 203 956 159 \r\n",
       "Q 1047 116 1238 116 \r\n",
       "L 1238 0 \r\n",
       "L 144 0 \r\n",
       "L 144 116 \r\n",
       "Q 422 116 500 217 \r\n",
       "Q 578 319 578 672 \r\n",
       "L 578 2191 \r\n",
       "Q 578 2525 543 2586 \r\n",
       "Q 509 2647 437 2695 \r\n",
       "Q 366 2744 144 2744 \r\n",
       "L 144 2863 \r\n",
       "L 1150 2863 \r\n",
       "L 2050 747 \r\n",
       "z\r\n",
       "\" id=\"TimesNewRomanPSMT-43c\" transform=\"scale(0.015625)\"/>\r\n",
       "       <path d=\"M 344 -1066 \r\n",
       "L 344 -928 \r\n",
       "Q 666 -822 842 -598 \r\n",
       "Q 1019 -375 1019 -125 \r\n",
       "Q 1019 -66 991 -25 \r\n",
       "Q 969 3 947 3 \r\n",
       "Q 913 3 797 -59 \r\n",
       "Q 741 -88 678 -88 \r\n",
       "Q 525 -88 434 3 \r\n",
       "Q 344 94 344 253 \r\n",
       "Q 344 406 461 515 \r\n",
       "Q 578 625 747 625 \r\n",
       "Q 953 625 1114 445 \r\n",
       "Q 1275 266 1275 -31 \r\n",
       "Q 1275 -353 1051 -629 \r\n",
       "Q 828 -906 344 -1066 \r\n",
       "z\r\n",
       "\" id=\"TimesNewRomanPSMT-2c\" transform=\"scale(0.015625)\"/>\r\n",
       "       <path id=\"TimesNewRomanPSMT-20\" transform=\"scale(0.015625)\"/>\r\n",
       "       <path d=\"M 2619 0 \r\n",
       "L 981 3566 \r\n",
       "L 981 734 \r\n",
       "Q 981 344 1066 247 \r\n",
       "Q 1181 116 1431 116 \r\n",
       "L 1581 116 \r\n",
       "L 1581 0 \r\n",
       "L 106 0 \r\n",
       "L 106 116 \r\n",
       "L 256 116 \r\n",
       "Q 525 116 638 278 \r\n",
       "Q 706 378 706 734 \r\n",
       "L 706 3503 \r\n",
       "Q 706 3784 644 3909 \r\n",
       "Q 600 4000 483 4061 \r\n",
       "Q 366 4122 106 4122 \r\n",
       "L 106 4238 \r\n",
       "L 1306 4238 \r\n",
       "L 2844 922 \r\n",
       "L 4356 4238 \r\n",
       "L 5556 4238 \r\n",
       "L 5556 4122 \r\n",
       "L 5409 4122 \r\n",
       "Q 5138 4122 5025 3959 \r\n",
       "Q 4956 3859 4956 3503 \r\n",
       "L 4956 734 \r\n",
       "Q 4956 344 5044 247 \r\n",
       "Q 5159 116 5409 116 \r\n",
       "L 5556 116 \r\n",
       "L 5556 0 \r\n",
       "L 3756 0 \r\n",
       "L 3756 116 \r\n",
       "L 3906 116 \r\n",
       "Q 4178 116 4288 278 \r\n",
       "Q 4356 378 4356 734 \r\n",
       "L 4356 3566 \r\n",
       "L 2722 0 \r\n",
       "L 2619 0 \r\n",
       "z\r\n",
       "\" id=\"TimesNewRomanPSMT-41c\" transform=\"scale(0.015625)\"/>\r\n",
       "       <path d=\"M 3294 4006 \r\n",
       "L 1328 4006 \r\n",
       "L 1328 772 \r\n",
       "Q 1328 353 1436 240 \r\n",
       "Q 1544 128 1941 116 \r\n",
       "L 1941 0 \r\n",
       "L 116 0 \r\n",
       "L 116 116 \r\n",
       "Q 509 128 618 240 \r\n",
       "Q 728 353 728 772 \r\n",
       "L 728 3466 \r\n",
       "Q 728 3884 618 3996 \r\n",
       "Q 509 4109 116 4122 \r\n",
       "L 116 4238 \r\n",
       "L 4506 4238 \r\n",
       "L 4506 4122 \r\n",
       "Q 4113 4109 4003 3996 \r\n",
       "Q 3894 3884 3894 3466 \r\n",
       "L 3894 772 \r\n",
       "Q 3894 353 4003 240 \r\n",
       "Q 4113 128 4506 116 \r\n",
       "L 4506 0 \r\n",
       "L 2684 0 \r\n",
       "L 2684 116 \r\n",
       "Q 3075 128 3184 239 \r\n",
       "Q 3294 350 3294 772 \r\n",
       "L 3294 4006 \r\n",
       "z\r\n",
       "\" id=\"TimesNewRomanPSMT-41f\" transform=\"scale(0.015625)\"/>\r\n",
       "       <path d=\"M 1822 413 \r\n",
       "Q 1381 72 1269 19 \r\n",
       "Q 1100 -59 909 -59 \r\n",
       "Q 613 -59 420 144 \r\n",
       "Q 228 347 228 678 \r\n",
       "Q 228 888 322 1041 \r\n",
       "Q 450 1253 767 1440 \r\n",
       "Q 1084 1628 1822 1897 \r\n",
       "L 1822 2009 \r\n",
       "Q 1822 2438 1686 2597 \r\n",
       "Q 1550 2756 1291 2756 \r\n",
       "Q 1094 2756 978 2650 \r\n",
       "Q 859 2544 859 2406 \r\n",
       "L 866 2225 \r\n",
       "Q 866 2081 792 2003 \r\n",
       "Q 719 1925 600 1925 \r\n",
       "Q 484 1925 411 2006 \r\n",
       "Q 338 2088 338 2228 \r\n",
       "Q 338 2497 613 2722 \r\n",
       "Q 888 2947 1384 2947 \r\n",
       "Q 1766 2947 2009 2819 \r\n",
       "Q 2194 2722 2281 2516 \r\n",
       "Q 2338 2381 2338 1966 \r\n",
       "L 2338 994 \r\n",
       "Q 2338 584 2353 492 \r\n",
       "Q 2369 400 2405 369 \r\n",
       "Q 2441 338 2488 338 \r\n",
       "Q 2538 338 2575 359 \r\n",
       "Q 2641 400 2828 588 \r\n",
       "L 2828 413 \r\n",
       "Q 2478 -56 2159 -56 \r\n",
       "Q 2006 -56 1915 50 \r\n",
       "Q 1825 156 1822 413 \r\n",
       "z\r\n",
       "M 1822 616 \r\n",
       "L 1822 1706 \r\n",
       "Q 1350 1519 1213 1441 \r\n",
       "Q 966 1303 859 1153 \r\n",
       "Q 753 1003 753 825 \r\n",
       "Q 753 600 887 451 \r\n",
       "Q 1022 303 1197 303 \r\n",
       "Q 1434 303 1822 616 \r\n",
       "z\r\n",
       "\" id=\"TimesNewRomanPSMT-430\" transform=\"scale(0.015625)\"/>\r\n",
       "      </defs>\r\n",
       "      <use transform=\"translate(0 0.78125)\" xlink:href=\"#STIXGeneral-Italic-70\"/>\r\n",
       "      <use transform=\"translate(50.399994 -24.98125)scale(0.7)\" xlink:href=\"#TimesNewRomanPSMT-43d\"/>\r\n",
       "      <use transform=\"translate(87.860931 -24.98125)scale(0.7)\" xlink:href=\"#TimesNewRomanPSMT-43e\"/>\r\n",
       "      <use transform=\"translate(122.860931 -24.98125)scale(0.7)\" xlink:href=\"#TimesNewRomanPSMT-43c\"/>\r\n",
       "      <use transform=\"translate(171.451556 0.78125)\" xlink:href=\"#TimesNewRomanPSMT-2c\"/>\r\n",
       "      <use transform=\"translate(212.008197 0.78125)\" xlink:href=\"#TimesNewRomanPSMT-20\"/>\r\n",
       "      <use transform=\"translate(237.008197 0.78125)\" xlink:href=\"#TimesNewRomanPSMT-41c\"/>\r\n",
       "      <use transform=\"translate(325.924213 0.78125)\" xlink:href=\"#TimesNewRomanPSMT-41f\"/>\r\n",
       "      <use transform=\"translate(398.14101 0.78125)\" xlink:href=\"#TimesNewRomanPSMT-430\"/>\r\n",
       "     </g>\r\n",
       "    </g>\r\n",
       "   </g>\r\n",
       "   <g id=\"matplotlib.axis_2\">\r\n",
       "    <g id=\"text_11\">\r\n",
       "     <!-- $\\mathit{m}_{дв},$ $кг$ -->\r\n",
       "     <g style=\"fill:#ff8c00;\" transform=\"translate(15.015938 245.71)rotate(-90)scale(0.14 -0.14)\">\r\n",
       "      <defs>\r\n",
       "       <path d=\"M 4506 672 \r\n",
       "L 4474 627 \r\n",
       "Q 3981 -58 3552 -58 \r\n",
       "Q 3296 -58 3296 237 \r\n",
       "Q 3296 333 3379 659 \r\n",
       "L 3750 2112 \r\n",
       "Q 3795 2291 3795 2355 \r\n",
       "Q 3795 2413 3756 2451 \r\n",
       "Q 3718 2490 3667 2490 \r\n",
       "Q 3366 2490 2829 1741 \r\n",
       "Q 2592 1408 2457 1072 \r\n",
       "Q 2323 736 2138 0 \r\n",
       "L 1658 0 \r\n",
       "L 1830 595 \r\n",
       "Q 2266 2099 2266 2330 \r\n",
       "Q 2266 2490 2125 2490 \r\n",
       "Q 1965 2490 1702 2237 \r\n",
       "Q 1440 1984 1171 1574 \r\n",
       "Q 1011 1325 899 1043 \r\n",
       "Q 787 762 557 0 \r\n",
       "L 77 0 \r\n",
       "L 352 922 \r\n",
       "Q 704 2093 704 2381 \r\n",
       "Q 704 2522 442 2522 \r\n",
       "L 282 2522 \r\n",
       "L 282 2624 \r\n",
       "L 1318 2822 \r\n",
       "L 1338 2810 \r\n",
       "L 966 1472 \r\n",
       "Q 1798 2822 2374 2822 \r\n",
       "Q 2560 2822 2659 2720 \r\n",
       "Q 2758 2618 2758 2438 \r\n",
       "Q 2758 2195 2502 1466 \r\n",
       "Q 2842 2003 3069 2275 \r\n",
       "Q 3296 2547 3526 2694 \r\n",
       "Q 3731 2822 3930 2822 \r\n",
       "Q 4102 2822 4201 2710 \r\n",
       "Q 4301 2598 4301 2419 \r\n",
       "Q 4301 2336 4282 2240 \r\n",
       "L 3846 634 \r\n",
       "Q 3782 390 3782 346 \r\n",
       "Q 3782 243 3859 243 \r\n",
       "Q 4000 243 4275 582 \r\n",
       "L 4410 749 \r\n",
       "L 4506 672 \r\n",
       "z\r\n",
       "\" id=\"STIXGeneral-Italic-6d\" transform=\"scale(0.015625)\"/>\r\n",
       "       <path d=\"M 591 2863 \r\n",
       "L 3116 2863 \r\n",
       "L 3116 2744 \r\n",
       "Q 2903 2744 2833 2701 \r\n",
       "Q 2763 2659 2722 2596 \r\n",
       "Q 2681 2534 2681 2191 \r\n",
       "L 2681 775 \r\n",
       "Q 2681 328 2757 226 \r\n",
       "Q 2834 125 3116 116 \r\n",
       "L 3116 -794 \r\n",
       "L 2997 -794 \r\n",
       "Q 2984 -538 2870 -347 \r\n",
       "Q 2756 -156 2553 -78 \r\n",
       "Q 2350 0 1953 0 \r\n",
       "L 1216 0 \r\n",
       "Q 872 0 678 -61 \r\n",
       "Q 484 -122 354 -315 \r\n",
       "Q 225 -509 197 -794 \r\n",
       "L 81 -794 \r\n",
       "L 81 116 \r\n",
       "Q 338 125 547 319 \r\n",
       "Q 756 513 915 1078 \r\n",
       "Q 1075 1644 1075 2191 \r\n",
       "Q 1075 2728 591 2744 \r\n",
       "L 591 2863 \r\n",
       "z\r\n",
       "M 1281 2659 \r\n",
       "L 1281 2488 \r\n",
       "Q 1281 953 725 203 \r\n",
       "L 1788 203 \r\n",
       "Q 2075 203 2119 251 \r\n",
       "Q 2163 300 2163 609 \r\n",
       "L 2163 2659 \r\n",
       "L 1281 2659 \r\n",
       "z\r\n",
       "\" id=\"TimesNewRomanPSMT-434\" transform=\"scale(0.015625)\"/>\r\n",
       "       <path d=\"M 2016 1513 \r\n",
       "Q 2800 1350 2800 778 \r\n",
       "Q 2800 388 2473 194 \r\n",
       "Q 2147 0 1563 0 \r\n",
       "L 150 0 \r\n",
       "L 150 116 \r\n",
       "Q 428 116 501 220 \r\n",
       "Q 575 325 575 672 \r\n",
       "L 575 2191 \r\n",
       "Q 575 2528 542 2587 \r\n",
       "Q 509 2647 439 2695 \r\n",
       "Q 369 2744 150 2744 \r\n",
       "L 150 2863 \r\n",
       "L 1469 2863 \r\n",
       "Q 1850 2863 2086 2803 \r\n",
       "Q 2322 2744 2473 2569 \r\n",
       "Q 2625 2394 2625 2144 \r\n",
       "Q 2625 1656 2016 1513 \r\n",
       "z\r\n",
       "M 1094 1584 \r\n",
       "Q 1231 1581 1259 1581 \r\n",
       "Q 1688 1581 1878 1745 \r\n",
       "Q 2069 1909 2069 2144 \r\n",
       "Q 2069 2416 1875 2537 \r\n",
       "Q 1681 2659 1256 2659 \r\n",
       "L 1094 2659 \r\n",
       "L 1094 1584 \r\n",
       "z\r\n",
       "M 1094 253 \r\n",
       "Q 1250 203 1466 203 \r\n",
       "Q 1838 203 2019 365 \r\n",
       "Q 2200 528 2200 784 \r\n",
       "Q 2200 1072 1965 1225 \r\n",
       "Q 1731 1378 1316 1378 \r\n",
       "Q 1213 1378 1094 1372 \r\n",
       "L 1094 253 \r\n",
       "z\r\n",
       "\" id=\"TimesNewRomanPSMT-432\" transform=\"scale(0.015625)\"/>\r\n",
       "       <path d=\"M 3072 0 \r\n",
       "L 2228 0 \r\n",
       "Q 1834 572 1516 1172 \r\n",
       "Q 1441 1309 1380 1376 \r\n",
       "Q 1319 1444 1213 1444 \r\n",
       "Q 1175 1444 1094 1438 \r\n",
       "L 1094 672 \r\n",
       "Q 1094 363 1130 277 \r\n",
       "Q 1166 191 1259 153 \r\n",
       "Q 1353 116 1575 116 \r\n",
       "L 1575 0 \r\n",
       "L 144 0 \r\n",
       "L 144 116 \r\n",
       "Q 422 116 500 217 \r\n",
       "Q 578 319 578 672 \r\n",
       "L 578 2191 \r\n",
       "Q 578 2525 543 2586 \r\n",
       "Q 509 2647 437 2695 \r\n",
       "Q 366 2744 144 2744 \r\n",
       "L 144 2863 \r\n",
       "L 1575 2863 \r\n",
       "L 1575 2744 \r\n",
       "Q 1316 2744 1255 2706 \r\n",
       "Q 1194 2669 1144 2614 \r\n",
       "Q 1094 2559 1094 2191 \r\n",
       "L 1094 1628 \r\n",
       "Q 1166 1622 1191 1622 \r\n",
       "Q 1381 1622 1548 1730 \r\n",
       "Q 1716 1838 1847 2188 \r\n",
       "Q 1969 2519 2048 2634 \r\n",
       "Q 2128 2750 2270 2823 \r\n",
       "Q 2413 2897 2569 2897 \r\n",
       "Q 2738 2897 2838 2815 \r\n",
       "Q 2938 2734 2938 2603 \r\n",
       "Q 2938 2494 2866 2417 \r\n",
       "Q 2794 2341 2666 2341 \r\n",
       "Q 2597 2341 2494 2378 \r\n",
       "Q 2363 2425 2294 2425 \r\n",
       "Q 2150 2425 2056 2178 \r\n",
       "Q 1950 1894 1900 1811 \r\n",
       "Q 1850 1728 1709 1591 \r\n",
       "Q 1806 1563 1920 1447 \r\n",
       "Q 2034 1331 2344 788 \r\n",
       "Q 2591 353 2714 237 \r\n",
       "Q 2838 122 3072 116 \r\n",
       "L 3072 0 \r\n",
       "z\r\n",
       "\" id=\"TimesNewRomanPSMT-43a\" transform=\"scale(0.015625)\"/>\r\n",
       "       <path d=\"M 2469 2863 \r\n",
       "L 2584 2081 \r\n",
       "L 2447 2081 \r\n",
       "Q 2328 2469 2208 2564 \r\n",
       "Q 2088 2659 1700 2659 \r\n",
       "L 1094 2659 \r\n",
       "L 1094 672 \r\n",
       "Q 1094 341 1128 277 \r\n",
       "Q 1163 213 1236 164 \r\n",
       "Q 1309 116 1528 116 \r\n",
       "L 1528 0 \r\n",
       "L 97 0 \r\n",
       "L 97 116 \r\n",
       "Q 403 122 490 211 \r\n",
       "Q 578 300 578 672 \r\n",
       "L 578 2191 \r\n",
       "Q 578 2494 543 2580 \r\n",
       "Q 509 2666 423 2703 \r\n",
       "Q 338 2741 97 2744 \r\n",
       "L 97 2863 \r\n",
       "L 2469 2863 \r\n",
       "z\r\n",
       "\" id=\"TimesNewRomanPSMT-433\" transform=\"scale(0.015625)\"/>\r\n",
       "      </defs>\r\n",
       "      <use transform=\"translate(0 0.734375)\" xlink:href=\"#STIXGeneral-Italic-6d\"/>\r\n",
       "      <use transform=\"translate(72.199982 -25.028125)scale(0.7)\" xlink:href=\"#TimesNewRomanPSMT-434\"/>\r\n",
       "      <use transform=\"translate(107.815216 -25.028125)scale(0.7)\" xlink:href=\"#TimesNewRomanPSMT-432\"/>\r\n",
       "      <use transform=\"translate(145.160724 0.734375)\" xlink:href=\"#TimesNewRomanPSMT-2c\"/>\r\n",
       "      <use transform=\"translate(185.717365 0.734375)\" xlink:href=\"#TimesNewRomanPSMT-20\"/>\r\n",
       "      <use transform=\"translate(210.717365 0.734375)\" xlink:href=\"#TimesNewRomanPSMT-43a\"/>\r\n",
       "      <use transform=\"translate(259.301349 0.734375)\" xlink:href=\"#TimesNewRomanPSMT-433\"/>\r\n",
       "     </g>\r\n",
       "    </g>\r\n",
       "   </g>\r\n",
       "   <g id=\"line2d_19\">\r\n",
       "    <path clip-path=\"url(#p0ee68fb445)\" d=\"M 44.206847 422.312727 \r\n",
       "L 58.332864 411.951842 \r\n",
       "L 75.140624 398.422277 \r\n",
       "L 95.276486 381.046255 \r\n",
       "L 119.580236 358.948867 \r\n",
       "L 149.154344 330.987708 \r\n",
       "L 185.462368 295.652328 \r\n",
       "L 230.470753 250.918071 \r\n",
       "L 286.856227 194.02951 \r\n",
       "L 358.314148 121.172721 \r\n",
       "L 450.025028 26.967273 \r\n",
       "\" style=\"fill:none;stroke:#ff8c00;stroke-linecap:square;stroke-width:1.5;\"/>\r\n",
       "    <defs>\r\n",
       "     <path d=\"M 0 3 \r\n",
       "C 0.795609 3 1.55874 2.683901 2.12132 2.12132 \r\n",
       "C 2.683901 1.55874 3 0.795609 3 0 \r\n",
       "C 3 -0.795609 2.683901 -1.55874 2.12132 -2.12132 \r\n",
       "C 1.55874 -2.683901 0.795609 -3 0 -3 \r\n",
       "C -0.795609 -3 -1.55874 -2.683901 -2.12132 -2.12132 \r\n",
       "C -2.683901 -1.55874 -3 -0.795609 -3 0 \r\n",
       "C -3 0.795609 -2.683901 1.55874 -2.12132 2.12132 \r\n",
       "C -1.55874 2.683901 -0.795609 3 0 3 \r\n",
       "z\r\n",
       "\" id=\"m881e762e43\" style=\"stroke:#ff8c00;\"/>\r\n",
       "    </defs>\r\n",
       "    <g clip-path=\"url(#p0ee68fb445)\">\r\n",
       "     <use style=\"fill:#ff8c00;stroke:#ff8c00;\" x=\"44.206847\" xlink:href=\"#m881e762e43\" y=\"422.312727\"/>\r\n",
       "     <use style=\"fill:#ff8c00;stroke:#ff8c00;\" x=\"58.332864\" xlink:href=\"#m881e762e43\" y=\"411.951842\"/>\r\n",
       "     <use style=\"fill:#ff8c00;stroke:#ff8c00;\" x=\"75.140624\" xlink:href=\"#m881e762e43\" y=\"398.422277\"/>\r\n",
       "     <use style=\"fill:#ff8c00;stroke:#ff8c00;\" x=\"95.276486\" xlink:href=\"#m881e762e43\" y=\"381.046255\"/>\r\n",
       "     <use style=\"fill:#ff8c00;stroke:#ff8c00;\" x=\"119.580236\" xlink:href=\"#m881e762e43\" y=\"358.948867\"/>\r\n",
       "     <use style=\"fill:#ff8c00;stroke:#ff8c00;\" x=\"149.154344\" xlink:href=\"#m881e762e43\" y=\"330.987708\"/>\r\n",
       "     <use style=\"fill:#ff8c00;stroke:#ff8c00;\" x=\"185.462368\" xlink:href=\"#m881e762e43\" y=\"295.652328\"/>\r\n",
       "     <use style=\"fill:#ff8c00;stroke:#ff8c00;\" x=\"230.470753\" xlink:href=\"#m881e762e43\" y=\"250.918071\"/>\r\n",
       "     <use style=\"fill:#ff8c00;stroke:#ff8c00;\" x=\"286.856227\" xlink:href=\"#m881e762e43\" y=\"194.02951\"/>\r\n",
       "     <use style=\"fill:#ff8c00;stroke:#ff8c00;\" x=\"358.314148\" xlink:href=\"#m881e762e43\" y=\"121.172721\"/>\r\n",
       "     <use style=\"fill:#ff8c00;stroke:#ff8c00;\" x=\"450.025028\" xlink:href=\"#m881e762e43\" y=\"26.967273\"/>\r\n",
       "    </g>\r\n",
       "   </g>\r\n",
       "   <g id=\"line2d_20\">\r\n",
       "    <defs>\r\n",
       "     <path d=\"M 0 -6 \r\n",
       "L -1.347084 -1.854102 \r\n",
       "L -5.706339 -1.854102 \r\n",
       "L -2.179628 0.708204 \r\n",
       "L -3.526712 4.854102 \r\n",
       "L -0 2.291796 \r\n",
       "L 3.526712 4.854102 \r\n",
       "L 2.179628 0.708204 \r\n",
       "L 5.706339 -1.854102 \r\n",
       "L 1.347084 -1.854102 \r\n",
       "z\r\n",
       "\" id=\"m8585fbc359\" style=\"stroke:#ff8c00;stroke-linejoin:bevel;\"/>\r\n",
       "    </defs>\r\n",
       "    <g clip-path=\"url(#p0ee68fb445)\">\r\n",
       "     <use style=\"fill:#ff8c00;stroke:#ff8c00;stroke-linejoin:bevel;\" x=\"75.140624\" xlink:href=\"#m8585fbc359\" y=\"398.422277\"/>\r\n",
       "    </g>\r\n",
       "   </g>\r\n",
       "   <g id=\"patch_3\">\r\n",
       "    <path d=\"M 23.915938 442.08 \r\n",
       "L 23.915938 7.2 \r\n",
       "\" style=\"fill:none;stroke:#000000;stroke-linecap:square;stroke-linejoin:miter;stroke-width:0.8;\"/>\r\n",
       "   </g>\r\n",
       "   <g id=\"patch_4\">\r\n",
       "    <path d=\"M 470.315937 442.08 \r\n",
       "L 470.315937 7.2 \r\n",
       "\" style=\"fill:none;stroke:#000000;stroke-linecap:square;stroke-linejoin:miter;stroke-width:0.8;\"/>\r\n",
       "   </g>\r\n",
       "   <g id=\"patch_5\">\r\n",
       "    <path d=\"M 23.915937 442.08 \r\n",
       "L 470.315937 442.08 \r\n",
       "\" style=\"fill:none;stroke:#000000;stroke-linecap:square;stroke-linejoin:miter;stroke-width:0.8;\"/>\r\n",
       "   </g>\r\n",
       "   <g id=\"patch_6\">\r\n",
       "    <path d=\"M 23.915937 7.2 \r\n",
       "L 470.315937 7.2 \r\n",
       "\" style=\"fill:none;stroke:#000000;stroke-linecap:square;stroke-linejoin:miter;stroke-width:0.8;\"/>\r\n",
       "   </g>\r\n",
       "   <g id=\"legend_1\">\r\n",
       "    <g id=\"patch_7\">\r\n",
       "     <path d=\"M 33.715938 435.08 \r\n",
       "L 216.275938 435.08 \r\n",
       "Q 219.075938 435.08 219.075938 432.28 \r\n",
       "L 219.075938 390.28 \r\n",
       "Q 219.075938 387.48 216.275938 387.48 \r\n",
       "L 33.715938 387.48 \r\n",
       "Q 30.915938 387.48 30.915938 390.28 \r\n",
       "L 30.915938 432.28 \r\n",
       "Q 30.915938 435.08 33.715938 435.08 \r\n",
       "z\r\n",
       "\" style=\"fill:#ffffff;opacity:0.8;stroke:#cccccc;stroke-linejoin:miter;\"/>\r\n",
       "    </g>\r\n",
       "    <g id=\"line2d_21\">\r\n",
       "     <path d=\"M 36.515938 397.98 \r\n",
       "L 64.515938 397.98 \r\n",
       "\" style=\"fill:none;stroke:#ff8c00;stroke-linecap:square;stroke-width:1.5;\"/>\r\n",
       "    </g>\r\n",
       "    <g id=\"line2d_22\">\r\n",
       "     <g>\r\n",
       "      <use style=\"fill:#ff8c00;stroke:#ff8c00;\" x=\"50.515938\" xlink:href=\"#m881e762e43\" y=\"397.98\"/>\r\n",
       "     </g>\r\n",
       "    </g>\r\n",
       "    <g id=\"text_12\">\r\n",
       "     <!-- $\\mathit{m}_{дв}(\\mathit{p}_{ном})$ -->\r\n",
       "     <g transform=\"translate(75.715938 402.88)scale(0.14 -0.14)\">\r\n",
       "      <defs>\r\n",
       "       <path d=\"M 1988 -1253 \r\n",
       "L 1988 -1369 \r\n",
       "Q 1516 -1131 1200 -813 \r\n",
       "Q 750 -359 506 256 \r\n",
       "Q 263 872 263 1534 \r\n",
       "Q 263 2503 741 3301 \r\n",
       "Q 1219 4100 1988 4444 \r\n",
       "L 1988 4313 \r\n",
       "Q 1603 4100 1356 3731 \r\n",
       "Q 1109 3363 987 2797 \r\n",
       "Q 866 2231 866 1616 \r\n",
       "Q 866 947 969 400 \r\n",
       "Q 1050 -31 1165 -292 \r\n",
       "Q 1281 -553 1476 -793 \r\n",
       "Q 1672 -1034 1988 -1253 \r\n",
       "z\r\n",
       "\" id=\"TimesNewRomanPSMT-28\" transform=\"scale(0.015625)\"/>\r\n",
       "       <path d=\"M 144 4313 \r\n",
       "L 144 4444 \r\n",
       "Q 619 4209 934 3891 \r\n",
       "Q 1381 3434 1625 2820 \r\n",
       "Q 1869 2206 1869 1541 \r\n",
       "Q 1869 572 1392 -226 \r\n",
       "Q 916 -1025 144 -1369 \r\n",
       "L 144 -1253 \r\n",
       "Q 528 -1038 776 -670 \r\n",
       "Q 1025 -303 1145 264 \r\n",
       "Q 1266 831 1266 1447 \r\n",
       "Q 1266 2113 1163 2663 \r\n",
       "Q 1084 3094 967 3353 \r\n",
       "Q 850 3613 656 3853 \r\n",
       "Q 463 4094 144 4313 \r\n",
       "z\r\n",
       "\" id=\"TimesNewRomanPSMT-29\" transform=\"scale(0.015625)\"/>\r\n",
       "      </defs>\r\n",
       "      <use transform=\"translate(0 0.5625)\" xlink:href=\"#STIXGeneral-Italic-6d\"/>\r\n",
       "      <use transform=\"translate(72.199982 -25.2)scale(0.7)\" xlink:href=\"#TimesNewRomanPSMT-434\"/>\r\n",
       "      <use transform=\"translate(107.815216 -25.2)scale(0.7)\" xlink:href=\"#TimesNewRomanPSMT-432\"/>\r\n",
       "      <use transform=\"translate(145.160724 0.5625)\" xlink:href=\"#TimesNewRomanPSMT-28\"/>\r\n",
       "      <use transform=\"translate(178.461505 0.5625)\" xlink:href=\"#STIXGeneral-Italic-70\"/>\r\n",
       "      <use transform=\"translate(228.861499 -25.2)scale(0.7)\" xlink:href=\"#TimesNewRomanPSMT-43d\"/>\r\n",
       "      <use transform=\"translate(266.322437 -25.2)scale(0.7)\" xlink:href=\"#TimesNewRomanPSMT-43e\"/>\r\n",
       "      <use transform=\"translate(301.322437 -25.2)scale(0.7)\" xlink:href=\"#TimesNewRomanPSMT-43c\"/>\r\n",
       "      <use transform=\"translate(349.913062 0.5625)\" xlink:href=\"#TimesNewRomanPSMT-29\"/>\r\n",
       "     </g>\r\n",
       "    </g>\r\n",
       "    <g id=\"line2d_23\"/>\r\n",
       "    <g id=\"line2d_24\">\r\n",
       "     <g>\r\n",
       "      <use style=\"fill:#ff8c00;stroke:#ff8c00;stroke-linejoin:bevel;\" x=\"50.515938\" xlink:href=\"#m8585fbc359\" y=\"419.68\"/>\r\n",
       "     </g>\r\n",
       "    </g>\r\n",
       "    <g id=\"text_13\">\r\n",
       "     <!-- $Минимум$ $критерия$ $\\mathit{c}_{дв}$ -->\r\n",
       "     <g transform=\"translate(75.715938 424.58)scale(0.14 -0.14)\">\r\n",
       "      <defs>\r\n",
       "       <path d=\"M 1094 881 \r\n",
       "L 2331 2313 \r\n",
       "Q 2325 2553 2240 2647 \r\n",
       "Q 2156 2741 1950 2744 \r\n",
       "L 1950 2863 \r\n",
       "L 3281 2863 \r\n",
       "L 3281 2744 \r\n",
       "Q 3072 2744 3000 2701 \r\n",
       "Q 2928 2659 2887 2596 \r\n",
       "Q 2847 2534 2847 2191 \r\n",
       "L 2847 672 \r\n",
       "Q 2847 341 2881 277 \r\n",
       "Q 2916 213 2989 164 \r\n",
       "Q 3063 116 3281 116 \r\n",
       "L 3281 0 \r\n",
       "L 1897 0 \r\n",
       "L 1897 116 \r\n",
       "Q 2156 116 2243 211 \r\n",
       "Q 2331 306 2331 672 \r\n",
       "L 2331 2019 \r\n",
       "L 1094 584 \r\n",
       "Q 1100 319 1169 219 \r\n",
       "Q 1238 119 1466 116 \r\n",
       "L 1466 0 \r\n",
       "L 144 0 \r\n",
       "L 144 116 \r\n",
       "Q 422 116 500 217 \r\n",
       "Q 578 319 578 672 \r\n",
       "L 578 2191 \r\n",
       "Q 578 2525 543 2586 \r\n",
       "Q 509 2647 437 2695 \r\n",
       "Q 366 2744 144 2744 \r\n",
       "L 144 2863 \r\n",
       "L 1528 2863 \r\n",
       "L 1528 2744 \r\n",
       "Q 1319 2744 1247 2701 \r\n",
       "Q 1175 2659 1134 2596 \r\n",
       "Q 1094 2534 1094 2191 \r\n",
       "L 1094 881 \r\n",
       "z\r\n",
       "\" id=\"TimesNewRomanPSMT-438\" transform=\"scale(0.015625)\"/>\r\n",
       "       <path d=\"M 38 2863 \r\n",
       "L 1372 2863 \r\n",
       "L 1372 2747 \r\n",
       "L 1306 2747 \r\n",
       "Q 1166 2747 1095 2686 \r\n",
       "Q 1025 2625 1025 2534 \r\n",
       "Q 1025 2413 1128 2197 \r\n",
       "L 1825 753 \r\n",
       "L 2466 2334 \r\n",
       "Q 2519 2463 2519 2588 \r\n",
       "Q 2519 2644 2497 2672 \r\n",
       "Q 2472 2706 2419 2726 \r\n",
       "Q 2366 2747 2231 2747 \r\n",
       "L 2231 2863 \r\n",
       "L 3163 2863 \r\n",
       "L 3163 2747 \r\n",
       "Q 3047 2734 2984 2696 \r\n",
       "Q 2922 2659 2847 2556 \r\n",
       "Q 2819 2513 2741 2316 \r\n",
       "L 1575 -541 \r\n",
       "Q 1406 -956 1132 -1168 \r\n",
       "Q 859 -1381 606 -1381 \r\n",
       "Q 422 -1381 303 -1275 \r\n",
       "Q 184 -1169 184 -1031 \r\n",
       "Q 184 -900 270 -820 \r\n",
       "Q 356 -741 506 -741 \r\n",
       "Q 609 -741 788 -809 \r\n",
       "Q 913 -856 944 -856 \r\n",
       "Q 1038 -856 1148 -759 \r\n",
       "Q 1259 -663 1372 -384 \r\n",
       "L 1575 113 \r\n",
       "L 547 2272 \r\n",
       "Q 500 2369 397 2513 \r\n",
       "Q 319 2622 269 2659 \r\n",
       "Q 197 2709 38 2747 \r\n",
       "L 38 2863 \r\n",
       "z\r\n",
       "\" id=\"TimesNewRomanPSMT-443\" transform=\"scale(0.015625)\"/>\r\n",
       "       <path d=\"M -6 2578 \r\n",
       "L 875 2934 \r\n",
       "L 994 2934 \r\n",
       "L 994 2266 \r\n",
       "Q 1216 2644 1439 2795 \r\n",
       "Q 1663 2947 1909 2947 \r\n",
       "Q 2341 2947 2628 2609 \r\n",
       "Q 2981 2197 2981 1534 \r\n",
       "Q 2981 794 2556 309 \r\n",
       "Q 2206 -88 1675 -88 \r\n",
       "Q 1444 -88 1275 -22 \r\n",
       "Q 1150 25 994 166 \r\n",
       "L 994 -706 \r\n",
       "Q 994 -1000 1030 -1079 \r\n",
       "Q 1066 -1159 1155 -1206 \r\n",
       "Q 1244 -1253 1478 -1253 \r\n",
       "L 1478 -1369 \r\n",
       "L -22 -1369 \r\n",
       "L -22 -1253 \r\n",
       "L 56 -1253 \r\n",
       "Q 228 -1256 350 -1188 \r\n",
       "Q 409 -1153 442 -1076 \r\n",
       "Q 475 -1000 475 -688 \r\n",
       "L 475 2019 \r\n",
       "Q 475 2297 450 2372 \r\n",
       "Q 425 2447 370 2484 \r\n",
       "Q 316 2522 222 2522 \r\n",
       "Q 147 2522 31 2478 \r\n",
       "L -6 2578 \r\n",
       "z\r\n",
       "M 994 2081 \r\n",
       "L 994 1013 \r\n",
       "Q 994 666 1022 556 \r\n",
       "Q 1066 375 1236 237 \r\n",
       "Q 1406 100 1666 100 \r\n",
       "Q 1978 100 2172 344 \r\n",
       "Q 2425 663 2425 1241 \r\n",
       "Q 2425 1897 2138 2250 \r\n",
       "Q 1938 2494 1663 2494 \r\n",
       "Q 1513 2494 1366 2419 \r\n",
       "Q 1253 2363 994 2081 \r\n",
       "z\r\n",
       "\" id=\"TimesNewRomanPSMT-440\" transform=\"scale(0.015625)\"/>\r\n",
       "       <path d=\"M 156 2863 \r\n",
       "L 2631 2863 \r\n",
       "L 2756 2088 \r\n",
       "L 2616 2088 \r\n",
       "Q 2578 2322 2490 2450 \r\n",
       "Q 2403 2578 2290 2618 \r\n",
       "Q 2178 2659 1906 2659 \r\n",
       "L 1656 2659 \r\n",
       "L 1656 672 \r\n",
       "Q 1656 353 1695 267 \r\n",
       "Q 1734 181 1821 153 \r\n",
       "Q 1909 125 2222 116 \r\n",
       "L 2222 0 \r\n",
       "L 666 0 \r\n",
       "L 666 116 \r\n",
       "Q 966 122 1052 212 \r\n",
       "Q 1138 303 1138 672 \r\n",
       "L 1138 2659 \r\n",
       "L 881 2659 \r\n",
       "Q 613 2659 516 2626 \r\n",
       "Q 419 2594 330 2470 \r\n",
       "Q 241 2347 178 2088 \r\n",
       "L 38 2088 \r\n",
       "L 156 2863 \r\n",
       "z\r\n",
       "\" id=\"TimesNewRomanPSMT-442\" transform=\"scale(0.015625)\"/>\r\n",
       "       <path d=\"M 681 1784 \r\n",
       "Q 678 1147 991 784 \r\n",
       "Q 1303 422 1725 422 \r\n",
       "Q 2006 422 2214 576 \r\n",
       "Q 2422 731 2563 1106 \r\n",
       "L 2659 1044 \r\n",
       "Q 2594 616 2278 264 \r\n",
       "Q 1963 -88 1488 -88 \r\n",
       "Q 972 -88 605 314 \r\n",
       "Q 238 716 238 1394 \r\n",
       "Q 238 2128 614 2539 \r\n",
       "Q 991 2950 1559 2950 \r\n",
       "Q 2041 2950 2350 2633 \r\n",
       "Q 2659 2316 2659 1784 \r\n",
       "L 681 1784 \r\n",
       "z\r\n",
       "M 681 1966 \r\n",
       "L 2006 1966 \r\n",
       "Q 1991 2241 1941 2353 \r\n",
       "Q 1863 2528 1708 2628 \r\n",
       "Q 1553 2728 1384 2728 \r\n",
       "Q 1125 2728 920 2526 \r\n",
       "Q 716 2325 681 1966 \r\n",
       "z\r\n",
       "\" id=\"TimesNewRomanPSMT-435\" transform=\"scale(0.015625)\"/>\r\n",
       "       <path d=\"M 2800 2863 \r\n",
       "L 2800 2744 \r\n",
       "Q 2606 2744 2514 2691 \r\n",
       "Q 2422 2638 2394 2556 \r\n",
       "Q 2366 2475 2366 2191 \r\n",
       "L 2366 672 \r\n",
       "Q 2366 400 2391 314 \r\n",
       "Q 2416 228 2511 172 \r\n",
       "Q 2606 116 2800 116 \r\n",
       "L 2800 0 \r\n",
       "L 1416 0 \r\n",
       "L 1416 116 \r\n",
       "Q 1675 116 1762 211 \r\n",
       "Q 1850 306 1850 672 \r\n",
       "L 1850 1294 \r\n",
       "L 1722 1291 \r\n",
       "Q 1694 1291 1622 1294 \r\n",
       "L 709 0 \r\n",
       "L -3 0 \r\n",
       "L -3 116 \r\n",
       "Q 153 116 214 158 \r\n",
       "Q 275 200 441 434 \r\n",
       "L 1109 1378 \r\n",
       "Q 391 1628 391 2144 \r\n",
       "Q 391 2434 648 2648 \r\n",
       "Q 906 2863 1528 2863 \r\n",
       "L 2800 2863 \r\n",
       "z\r\n",
       "M 1850 2625 \r\n",
       "Q 1728 2659 1619 2659 \r\n",
       "Q 1303 2659 1147 2503 \r\n",
       "Q 991 2347 991 2131 \r\n",
       "Q 991 1856 1212 1675 \r\n",
       "Q 1434 1494 1772 1494 \r\n",
       "Q 1806 1494 1850 1500 \r\n",
       "L 1850 2625 \r\n",
       "z\r\n",
       "\" id=\"TimesNewRomanPSMT-44f\" transform=\"scale(0.015625)\"/>\r\n",
       "       <path d=\"M 2240 685 \r\n",
       "L 2342 621 \r\n",
       "Q 2048 250 1769 90 \r\n",
       "Q 1491 -70 1133 -70 \r\n",
       "Q 678 -70 435 179 \r\n",
       "Q 192 429 192 915 \r\n",
       "Q 192 1344 409 1744 \r\n",
       "Q 627 2144 979 2432 \r\n",
       "Q 1472 2822 2048 2822 \r\n",
       "Q 2342 2822 2531 2675 \r\n",
       "Q 2720 2528 2720 2304 \r\n",
       "Q 2720 2176 2630 2086 \r\n",
       "Q 2541 1997 2413 1997 \r\n",
       "Q 2285 1997 2224 2070 \r\n",
       "Q 2163 2144 2163 2253 \r\n",
       "Q 2163 2310 2211 2403 \r\n",
       "Q 2259 2496 2259 2560 \r\n",
       "Q 2259 2688 2022 2688 \r\n",
       "Q 1619 2688 1325 2381 \r\n",
       "Q 742 1766 742 890 \r\n",
       "Q 742 544 889 352 \r\n",
       "Q 1037 160 1312 160 \r\n",
       "Q 1562 160 1766 281 \r\n",
       "Q 1971 403 2240 685 \r\n",
       "z\r\n",
       "\" id=\"STIXGeneral-Italic-63\" transform=\"scale(0.015625)\"/>\r\n",
       "      </defs>\r\n",
       "      <use transform=\"translate(0 0.78125)\" xlink:href=\"#TimesNewRomanPSMT-41c\"/>\r\n",
       "      <use transform=\"translate(88.916016 0.78125)\" xlink:href=\"#TimesNewRomanPSMT-438\"/>\r\n",
       "      <use transform=\"translate(142.431641 0.78125)\" xlink:href=\"#TimesNewRomanPSMT-43d\"/>\r\n",
       "      <use transform=\"translate(195.947266 0.78125)\" xlink:href=\"#TimesNewRomanPSMT-438\"/>\r\n",
       "      <use transform=\"translate(249.462891 0.78125)\" xlink:href=\"#TimesNewRomanPSMT-43c\"/>\r\n",
       "      <use transform=\"translate(312.744141 0.78125)\" xlink:href=\"#TimesNewRomanPSMT-443\"/>\r\n",
       "      <use transform=\"translate(362.744141 0.78125)\" xlink:href=\"#TimesNewRomanPSMT-43c\"/>\r\n",
       "      <use transform=\"translate(426.025391 0.78125)\" xlink:href=\"#TimesNewRomanPSMT-20\"/>\r\n",
       "      <use transform=\"translate(451.025391 0.78125)\" xlink:href=\"#TimesNewRomanPSMT-43a\"/>\r\n",
       "      <use transform=\"translate(499.609375 0.78125)\" xlink:href=\"#TimesNewRomanPSMT-440\"/>\r\n",
       "      <use transform=\"translate(549.609375 0.78125)\" xlink:href=\"#TimesNewRomanPSMT-438\"/>\r\n",
       "      <use transform=\"translate(603.125 0.78125)\" xlink:href=\"#TimesNewRomanPSMT-442\"/>\r\n",
       "      <use transform=\"translate(646.826172 0.78125)\" xlink:href=\"#TimesNewRomanPSMT-435\"/>\r\n",
       "      <use transform=\"translate(691.210938 0.78125)\" xlink:href=\"#TimesNewRomanPSMT-440\"/>\r\n",
       "      <use transform=\"translate(741.210938 0.78125)\" xlink:href=\"#TimesNewRomanPSMT-438\"/>\r\n",
       "      <use transform=\"translate(794.726562 0.78125)\" xlink:href=\"#TimesNewRomanPSMT-44f\"/>\r\n",
       "      <use transform=\"translate(840.722656 0.78125)\" xlink:href=\"#TimesNewRomanPSMT-20\"/>\r\n",
       "      <use transform=\"translate(865.722656 0.78125)\" xlink:href=\"#STIXGeneral-Italic-63\"/>\r\n",
       "      <use transform=\"translate(910.12265 -24.98125)scale(0.7)\" xlink:href=\"#TimesNewRomanPSMT-434\"/>\r\n",
       "      <use transform=\"translate(945.737885 -24.98125)scale(0.7)\" xlink:href=\"#TimesNewRomanPSMT-432\"/>\r\n",
       "     </g>\r\n",
       "    </g>\r\n",
       "   </g>\r\n",
       "  </g>\r\n",
       "  <g id=\"axes_2\">\r\n",
       "   <g id=\"matplotlib.axis_3\">\r\n",
       "    <g id=\"text_14\">\r\n",
       "     <!-- $\\mathit{l}_{дв},$ $м$ -->\r\n",
       "     <g style=\"fill:#006400;\" transform=\"translate(483.975937 240.74)rotate(-90)scale(0.14 -0.14)\">\r\n",
       "      <defs>\r\n",
       "       <path d=\"M 1786 4339 \r\n",
       "L 806 595 \r\n",
       "Q 755 410 755 320 \r\n",
       "Q 755 205 864 205 \r\n",
       "Q 1037 205 1293 570 \r\n",
       "L 1453 794 \r\n",
       "L 1542 730 \r\n",
       "Q 1254 275 1046 102 \r\n",
       "Q 838 -70 576 -70 \r\n",
       "Q 262 -70 262 288 \r\n",
       "Q 262 397 288 480 \r\n",
       "L 1165 3834 \r\n",
       "Q 1184 3898 1184 3955 \r\n",
       "Q 1184 4096 870 4096 \r\n",
       "L 755 4096 \r\n",
       "L 755 4198 \r\n",
       "Q 1203 4250 1747 4371 \r\n",
       "L 1786 4339 \r\n",
       "z\r\n",
       "\" id=\"STIXGeneral-Italic-6c\" transform=\"scale(0.015625)\"/>\r\n",
       "      </defs>\r\n",
       "      <use transform=\"translate(0 0.703125)\" xlink:href=\"#STIXGeneral-Italic-6c\"/>\r\n",
       "      <use transform=\"translate(27.799988 -25.059375)scale(0.7)\" xlink:href=\"#TimesNewRomanPSMT-434\"/>\r\n",
       "      <use transform=\"translate(63.415222 -25.059375)scale(0.7)\" xlink:href=\"#TimesNewRomanPSMT-432\"/>\r\n",
       "      <use transform=\"translate(100.76073 0.703125)\" xlink:href=\"#TimesNewRomanPSMT-2c\"/>\r\n",
       "      <use transform=\"translate(141.317371 0.703125)\" xlink:href=\"#TimesNewRomanPSMT-20\"/>\r\n",
       "      <use transform=\"translate(166.317371 0.703125)\" xlink:href=\"#TimesNewRomanPSMT-43c\"/>\r\n",
       "     </g>\r\n",
       "    </g>\r\n",
       "   </g>\r\n",
       "   <g id=\"line2d_25\">\r\n",
       "    <path clip-path=\"url(#p0ee68fb445)\" d=\"M 44.206847 26.967273 \r\n",
       "L 58.332864 70.976802 \r\n",
       "L 75.140624 114.31394 \r\n",
       "L 95.276486 156.894496 \r\n",
       "L 119.580236 198.621321 \r\n",
       "L 149.154344 239.379574 \r\n",
       "L 185.462368 279.030324 \r\n",
       "L 230.470753 317.401665 \r\n",
       "L 286.856227 354.276011 \r\n",
       "L 358.314148 389.371358 \r\n",
       "L 450.025028 422.312727 \r\n",
       "\" style=\"fill:none;stroke:#006400;stroke-linecap:square;stroke-width:1.5;\"/>\r\n",
       "    <defs>\r\n",
       "     <path d=\"M 0 3 \r\n",
       "C 0.795609 3 1.55874 2.683901 2.12132 2.12132 \r\n",
       "C 2.683901 1.55874 3 0.795609 3 0 \r\n",
       "C 3 -0.795609 2.683901 -1.55874 2.12132 -2.12132 \r\n",
       "C 1.55874 -2.683901 0.795609 -3 0 -3 \r\n",
       "C -0.795609 -3 -1.55874 -2.683901 -2.12132 -2.12132 \r\n",
       "C -2.683901 -1.55874 -3 -0.795609 -3 0 \r\n",
       "C -3 0.795609 -2.683901 1.55874 -2.12132 2.12132 \r\n",
       "C -1.55874 2.683901 -0.795609 3 0 3 \r\n",
       "z\r\n",
       "\" id=\"m6c29018c04\" style=\"stroke:#006400;\"/>\r\n",
       "    </defs>\r\n",
       "    <g clip-path=\"url(#p0ee68fb445)\">\r\n",
       "     <use style=\"fill:#006400;stroke:#006400;\" x=\"44.206847\" xlink:href=\"#m6c29018c04\" y=\"26.967273\"/>\r\n",
       "     <use style=\"fill:#006400;stroke:#006400;\" x=\"58.332864\" xlink:href=\"#m6c29018c04\" y=\"70.976802\"/>\r\n",
       "     <use style=\"fill:#006400;stroke:#006400;\" x=\"75.140624\" xlink:href=\"#m6c29018c04\" y=\"114.31394\"/>\r\n",
       "     <use style=\"fill:#006400;stroke:#006400;\" x=\"95.276486\" xlink:href=\"#m6c29018c04\" y=\"156.894496\"/>\r\n",
       "     <use style=\"fill:#006400;stroke:#006400;\" x=\"119.580236\" xlink:href=\"#m6c29018c04\" y=\"198.621321\"/>\r\n",
       "     <use style=\"fill:#006400;stroke:#006400;\" x=\"149.154344\" xlink:href=\"#m6c29018c04\" y=\"239.379574\"/>\r\n",
       "     <use style=\"fill:#006400;stroke:#006400;\" x=\"185.462368\" xlink:href=\"#m6c29018c04\" y=\"279.030324\"/>\r\n",
       "     <use style=\"fill:#006400;stroke:#006400;\" x=\"230.470753\" xlink:href=\"#m6c29018c04\" y=\"317.401665\"/>\r\n",
       "     <use style=\"fill:#006400;stroke:#006400;\" x=\"286.856227\" xlink:href=\"#m6c29018c04\" y=\"354.276011\"/>\r\n",
       "     <use style=\"fill:#006400;stroke:#006400;\" x=\"358.314148\" xlink:href=\"#m6c29018c04\" y=\"389.371358\"/>\r\n",
       "     <use style=\"fill:#006400;stroke:#006400;\" x=\"450.025028\" xlink:href=\"#m6c29018c04\" y=\"422.312727\"/>\r\n",
       "    </g>\r\n",
       "   </g>\r\n",
       "   <g id=\"line2d_26\">\r\n",
       "    <defs>\r\n",
       "     <path d=\"M 0 -6 \r\n",
       "L -1.347084 -1.854102 \r\n",
       "L -5.706339 -1.854102 \r\n",
       "L -2.179628 0.708204 \r\n",
       "L -3.526712 4.854102 \r\n",
       "L -0 2.291796 \r\n",
       "L 3.526712 4.854102 \r\n",
       "L 2.179628 0.708204 \r\n",
       "L 5.706339 -1.854102 \r\n",
       "L 1.347084 -1.854102 \r\n",
       "z\r\n",
       "\" id=\"mc2c05d3709\" style=\"stroke:#006400;stroke-linejoin:bevel;\"/>\r\n",
       "    </defs>\r\n",
       "    <g clip-path=\"url(#p0ee68fb445)\">\r\n",
       "     <use style=\"fill:#006400;stroke:#006400;stroke-linejoin:bevel;\" x=\"75.140624\" xlink:href=\"#mc2c05d3709\" y=\"114.31394\"/>\r\n",
       "    </g>\r\n",
       "   </g>\r\n",
       "   <g id=\"patch_8\">\r\n",
       "    <path d=\"M 23.915938 442.08 \r\n",
       "L 23.915938 7.2 \r\n",
       "\" style=\"fill:none;stroke:#000000;stroke-linecap:square;stroke-linejoin:miter;stroke-width:0.8;\"/>\r\n",
       "   </g>\r\n",
       "   <g id=\"patch_9\">\r\n",
       "    <path d=\"M 470.315937 442.08 \r\n",
       "L 470.315937 7.2 \r\n",
       "\" style=\"fill:none;stroke:#000000;stroke-linecap:square;stroke-linejoin:miter;stroke-width:0.8;\"/>\r\n",
       "   </g>\r\n",
       "   <g id=\"patch_10\">\r\n",
       "    <path d=\"M 23.915937 442.08 \r\n",
       "L 470.315937 442.08 \r\n",
       "\" style=\"fill:none;stroke:#000000;stroke-linecap:square;stroke-linejoin:miter;stroke-width:0.8;\"/>\r\n",
       "   </g>\r\n",
       "   <g id=\"patch_11\">\r\n",
       "    <path d=\"M 23.915937 7.2 \r\n",
       "L 470.315937 7.2 \r\n",
       "\" style=\"fill:none;stroke:#000000;stroke-linecap:square;stroke-linejoin:miter;stroke-width:0.8;\"/>\r\n",
       "   </g>\r\n",
       "   <g id=\"legend_2\">\r\n",
       "    <g id=\"patch_12\">\r\n",
       "     <path d=\"M 277.955937 435.08 \r\n",
       "L 460.515937 435.08 \r\n",
       "Q 463.315937 435.08 463.315937 432.28 \r\n",
       "L 463.315937 390.28 \r\n",
       "Q 463.315937 387.48 460.515937 387.48 \r\n",
       "L 277.955937 387.48 \r\n",
       "Q 275.155937 387.48 275.155937 390.28 \r\n",
       "L 275.155937 432.28 \r\n",
       "Q 275.155937 435.08 277.955937 435.08 \r\n",
       "z\r\n",
       "\" style=\"fill:#ffffff;opacity:0.8;stroke:#cccccc;stroke-linejoin:miter;\"/>\r\n",
       "    </g>\r\n",
       "    <g id=\"line2d_27\">\r\n",
       "     <path d=\"M 280.755937 397.98 \r\n",
       "L 308.755937 397.98 \r\n",
       "\" style=\"fill:none;stroke:#006400;stroke-linecap:square;stroke-width:1.5;\"/>\r\n",
       "    </g>\r\n",
       "    <g id=\"line2d_28\">\r\n",
       "     <g>\r\n",
       "      <use style=\"fill:#006400;stroke:#006400;\" x=\"294.755937\" xlink:href=\"#m6c29018c04\" y=\"397.98\"/>\r\n",
       "     </g>\r\n",
       "    </g>\r\n",
       "    <g id=\"text_15\">\r\n",
       "     <!-- $\\mathit{l}_{дв}(\\mathit{p}_{ном})$ -->\r\n",
       "     <g transform=\"translate(319.955937 402.88)scale(0.14 -0.14)\">\r\n",
       "      <use transform=\"translate(0 0.5625)\" xlink:href=\"#STIXGeneral-Italic-6c\"/>\r\n",
       "      <use transform=\"translate(27.799988 -25.2)scale(0.7)\" xlink:href=\"#TimesNewRomanPSMT-434\"/>\r\n",
       "      <use transform=\"translate(63.415222 -25.2)scale(0.7)\" xlink:href=\"#TimesNewRomanPSMT-432\"/>\r\n",
       "      <use transform=\"translate(100.76073 0.5625)\" xlink:href=\"#TimesNewRomanPSMT-28\"/>\r\n",
       "      <use transform=\"translate(134.061511 0.5625)\" xlink:href=\"#STIXGeneral-Italic-70\"/>\r\n",
       "      <use transform=\"translate(184.461505 -25.2)scale(0.7)\" xlink:href=\"#TimesNewRomanPSMT-43d\"/>\r\n",
       "      <use transform=\"translate(221.922443 -25.2)scale(0.7)\" xlink:href=\"#TimesNewRomanPSMT-43e\"/>\r\n",
       "      <use transform=\"translate(256.922443 -25.2)scale(0.7)\" xlink:href=\"#TimesNewRomanPSMT-43c\"/>\r\n",
       "      <use transform=\"translate(305.513068 0.5625)\" xlink:href=\"#TimesNewRomanPSMT-29\"/>\r\n",
       "     </g>\r\n",
       "    </g>\r\n",
       "    <g id=\"line2d_29\"/>\r\n",
       "    <g id=\"line2d_30\">\r\n",
       "     <g>\r\n",
       "      <use style=\"fill:#006400;stroke:#006400;stroke-linejoin:bevel;\" x=\"294.755937\" xlink:href=\"#mc2c05d3709\" y=\"419.68\"/>\r\n",
       "     </g>\r\n",
       "    </g>\r\n",
       "    <g id=\"text_16\">\r\n",
       "     <!-- $Минимум$ $критерия$ $\\mathit{c}_{дв}$ -->\r\n",
       "     <g transform=\"translate(319.955937 424.58)scale(0.14 -0.14)\">\r\n",
       "      <use transform=\"translate(0 0.78125)\" xlink:href=\"#TimesNewRomanPSMT-41c\"/>\r\n",
       "      <use transform=\"translate(88.916016 0.78125)\" xlink:href=\"#TimesNewRomanPSMT-438\"/>\r\n",
       "      <use transform=\"translate(142.431641 0.78125)\" xlink:href=\"#TimesNewRomanPSMT-43d\"/>\r\n",
       "      <use transform=\"translate(195.947266 0.78125)\" xlink:href=\"#TimesNewRomanPSMT-438\"/>\r\n",
       "      <use transform=\"translate(249.462891 0.78125)\" xlink:href=\"#TimesNewRomanPSMT-43c\"/>\r\n",
       "      <use transform=\"translate(312.744141 0.78125)\" xlink:href=\"#TimesNewRomanPSMT-443\"/>\r\n",
       "      <use transform=\"translate(362.744141 0.78125)\" xlink:href=\"#TimesNewRomanPSMT-43c\"/>\r\n",
       "      <use transform=\"translate(426.025391 0.78125)\" xlink:href=\"#TimesNewRomanPSMT-20\"/>\r\n",
       "      <use transform=\"translate(451.025391 0.78125)\" xlink:href=\"#TimesNewRomanPSMT-43a\"/>\r\n",
       "      <use transform=\"translate(499.609375 0.78125)\" xlink:href=\"#TimesNewRomanPSMT-440\"/>\r\n",
       "      <use transform=\"translate(549.609375 0.78125)\" xlink:href=\"#TimesNewRomanPSMT-438\"/>\r\n",
       "      <use transform=\"translate(603.125 0.78125)\" xlink:href=\"#TimesNewRomanPSMT-442\"/>\r\n",
       "      <use transform=\"translate(646.826172 0.78125)\" xlink:href=\"#TimesNewRomanPSMT-435\"/>\r\n",
       "      <use transform=\"translate(691.210938 0.78125)\" xlink:href=\"#TimesNewRomanPSMT-440\"/>\r\n",
       "      <use transform=\"translate(741.210938 0.78125)\" xlink:href=\"#TimesNewRomanPSMT-438\"/>\r\n",
       "      <use transform=\"translate(794.726562 0.78125)\" xlink:href=\"#TimesNewRomanPSMT-44f\"/>\r\n",
       "      <use transform=\"translate(840.722656 0.78125)\" xlink:href=\"#TimesNewRomanPSMT-20\"/>\r\n",
       "      <use transform=\"translate(865.722656 0.78125)\" xlink:href=\"#STIXGeneral-Italic-63\"/>\r\n",
       "      <use transform=\"translate(910.12265 -24.98125)scale(0.7)\" xlink:href=\"#TimesNewRomanPSMT-434\"/>\r\n",
       "      <use transform=\"translate(945.737885 -24.98125)scale(0.7)\" xlink:href=\"#TimesNewRomanPSMT-432\"/>\r\n",
       "     </g>\r\n",
       "    </g>\r\n",
       "   </g>\r\n",
       "  </g>\r\n",
       " </g>\r\n",
       " <defs>\r\n",
       "  <clipPath id=\"p0ee68fb445\">\r\n",
       "   <rect height=\"434.88\" width=\"446.4\" x=\"23.915938\" y=\"7.2\"/>\r\n",
       "  </clipPath>\r\n",
       " </defs>\r\n",
       "</svg>\r\n"
      ],
      "text/plain": [
       "<Figure size 576x576 with 2 Axes>"
      ]
     },
     "metadata": {},
     "output_type": "display_data"
    },
    {
     "data": {
      "image/svg+xml": [
       "<?xml version=\"1.0\" encoding=\"utf-8\" standalone=\"no\"?>\r\n",
       "<!DOCTYPE svg PUBLIC \"-//W3C//DTD SVG 1.1//EN\"\r\n",
       "  \"http://www.w3.org/Graphics/SVG/1.1/DTD/svg11.dtd\">\r\n",
       "<svg height=\"324.475937pt\" version=\"1.1\" viewBox=\"0 0 396.982523 324.475937\" width=\"396.982523pt\" xmlns=\"http://www.w3.org/2000/svg\" xmlns:xlink=\"http://www.w3.org/1999/xlink\">\r\n",
       " <metadata>\r\n",
       "  <rdf:RDF xmlns:cc=\"http://creativecommons.org/ns#\" xmlns:dc=\"http://purl.org/dc/elements/1.1/\" xmlns:rdf=\"http://www.w3.org/1999/02/22-rdf-syntax-ns#\">\r\n",
       "   <cc:Work>\r\n",
       "    <dc:type rdf:resource=\"http://purl.org/dc/dcmitype/StillImage\"/>\r\n",
       "    <dc:date>2021-12-22T11:25:28.788307</dc:date>\r\n",
       "    <dc:format>image/svg+xml</dc:format>\r\n",
       "    <dc:creator>\r\n",
       "     <cc:Agent>\r\n",
       "      <dc:title>Matplotlib v3.4.3, https://matplotlib.org/</dc:title>\r\n",
       "     </cc:Agent>\r\n",
       "    </dc:creator>\r\n",
       "   </cc:Work>\r\n",
       "  </rdf:RDF>\r\n",
       " </metadata>\r\n",
       " <defs>\r\n",
       "  <style type=\"text/css\">*{stroke-linecap:butt;stroke-linejoin:round;}</style>\r\n",
       " </defs>\r\n",
       " <g id=\"figure_1\">\r\n",
       "  <g id=\"patch_1\">\r\n",
       "   <path d=\"M 0 324.475937 \r\n",
       "L 396.982523 324.475937 \r\n",
       "L 396.982523 0 \r\n",
       "L 0 0 \r\n",
       "z\r\n",
       "\" style=\"fill:#ffffff;\"/>\r\n",
       "  </g>\r\n",
       "  <g id=\"axes_1\">\r\n",
       "   <g id=\"patch_2\">\r\n",
       "    <path d=\"M 51.915938 279 \r\n",
       "L 386.715937 279 \r\n",
       "L 386.715937 7.2 \r\n",
       "L 51.915938 7.2 \r\n",
       "z\r\n",
       "\" style=\"fill:#ffffff;\"/>\r\n",
       "   </g>\r\n",
       "   <g id=\"matplotlib.axis_1\">\r\n",
       "    <g id=\"xtick_1\">\r\n",
       "     <g id=\"line2d_1\">\r\n",
       "      <path clip-path=\"url(#p9af6b527ce)\" d=\"M 71.919418 279 \r\n",
       "L 71.919418 7.2 \r\n",
       "\" style=\"fill:none;stroke:#b0b0b0;stroke-linecap:square;stroke-width:0.8;\"/>\r\n",
       "     </g>\r\n",
       "     <g id=\"line2d_2\">\r\n",
       "      <defs>\r\n",
       "       <path d=\"M 0 0 \r\n",
       "L 0 3.5 \r\n",
       "\" id=\"mebe2cf01c6\" style=\"stroke:#000000;stroke-width:0.8;\"/>\r\n",
       "      </defs>\r\n",
       "      <g>\r\n",
       "       <use style=\"stroke:#000000;stroke-width:0.8;\" x=\"71.919418\" xlink:href=\"#mebe2cf01c6\" y=\"279\"/>\r\n",
       "      </g>\r\n",
       "     </g>\r\n",
       "     <g id=\"text_1\">\r\n",
       "      <!-- 1.8 -->\r\n",
       "      <g transform=\"translate(63.169418 295.72125)scale(0.14 -0.14)\">\r\n",
       "       <defs>\r\n",
       "        <path d=\"M 750 3822 \r\n",
       "L 1781 4325 \r\n",
       "L 1884 4325 \r\n",
       "L 1884 747 \r\n",
       "Q 1884 391 1914 303 \r\n",
       "Q 1944 216 2037 169 \r\n",
       "Q 2131 122 2419 116 \r\n",
       "L 2419 0 \r\n",
       "L 825 0 \r\n",
       "L 825 116 \r\n",
       "Q 1125 122 1212 167 \r\n",
       "Q 1300 213 1334 289 \r\n",
       "Q 1369 366 1369 747 \r\n",
       "L 1369 3034 \r\n",
       "Q 1369 3497 1338 3628 \r\n",
       "Q 1316 3728 1258 3775 \r\n",
       "Q 1200 3822 1119 3822 \r\n",
       "Q 1003 3822 797 3725 \r\n",
       "L 750 3822 \r\n",
       "z\r\n",
       "\" id=\"TimesNewRomanPSMT-31\" transform=\"scale(0.015625)\"/>\r\n",
       "        <path d=\"M 800 606 \r\n",
       "Q 947 606 1047 504 \r\n",
       "Q 1147 403 1147 259 \r\n",
       "Q 1147 116 1045 14 \r\n",
       "Q 944 -88 800 -88 \r\n",
       "Q 656 -88 554 14 \r\n",
       "Q 453 116 453 259 \r\n",
       "Q 453 406 554 506 \r\n",
       "Q 656 606 800 606 \r\n",
       "z\r\n",
       "\" id=\"TimesNewRomanPSMT-2e\" transform=\"scale(0.015625)\"/>\r\n",
       "        <path d=\"M 1228 2134 \r\n",
       "Q 725 2547 579 2797 \r\n",
       "Q 434 3047 434 3316 \r\n",
       "Q 434 3728 753 4026 \r\n",
       "Q 1072 4325 1600 4325 \r\n",
       "Q 2113 4325 2425 4047 \r\n",
       "Q 2738 3769 2738 3413 \r\n",
       "Q 2738 3175 2569 2928 \r\n",
       "Q 2400 2681 1866 2347 \r\n",
       "Q 2416 1922 2594 1678 \r\n",
       "Q 2831 1359 2831 1006 \r\n",
       "Q 2831 559 2490 242 \r\n",
       "Q 2150 -75 1597 -75 \r\n",
       "Q 994 -75 656 303 \r\n",
       "Q 388 606 388 966 \r\n",
       "Q 388 1247 577 1523 \r\n",
       "Q 766 1800 1228 2134 \r\n",
       "z\r\n",
       "M 1719 2469 \r\n",
       "Q 2094 2806 2194 3001 \r\n",
       "Q 2294 3197 2294 3444 \r\n",
       "Q 2294 3772 2109 3958 \r\n",
       "Q 1925 4144 1606 4144 \r\n",
       "Q 1288 4144 1088 3959 \r\n",
       "Q 888 3775 888 3528 \r\n",
       "Q 888 3366 970 3203 \r\n",
       "Q 1053 3041 1206 2894 \r\n",
       "L 1719 2469 \r\n",
       "z\r\n",
       "M 1375 2016 \r\n",
       "Q 1116 1797 991 1539 \r\n",
       "Q 866 1281 866 981 \r\n",
       "Q 866 578 1086 336 \r\n",
       "Q 1306 94 1647 94 \r\n",
       "Q 1984 94 2187 284 \r\n",
       "Q 2391 475 2391 747 \r\n",
       "Q 2391 972 2272 1150 \r\n",
       "Q 2050 1481 1375 2016 \r\n",
       "z\r\n",
       "\" id=\"TimesNewRomanPSMT-38\" transform=\"scale(0.015625)\"/>\r\n",
       "       </defs>\r\n",
       "       <use xlink:href=\"#TimesNewRomanPSMT-31\"/>\r\n",
       "       <use x=\"50\" xlink:href=\"#TimesNewRomanPSMT-2e\"/>\r\n",
       "       <use x=\"75\" xlink:href=\"#TimesNewRomanPSMT-38\"/>\r\n",
       "      </g>\r\n",
       "     </g>\r\n",
       "    </g>\r\n",
       "    <g id=\"xtick_2\">\r\n",
       "     <g id=\"line2d_3\">\r\n",
       "      <path clip-path=\"url(#p9af6b527ce)\" d=\"M 149.197694 279 \r\n",
       "L 149.197694 7.2 \r\n",
       "\" style=\"fill:none;stroke:#b0b0b0;stroke-linecap:square;stroke-width:0.8;\"/>\r\n",
       "     </g>\r\n",
       "     <g id=\"line2d_4\">\r\n",
       "      <g>\r\n",
       "       <use style=\"stroke:#000000;stroke-width:0.8;\" x=\"149.197694\" xlink:href=\"#mebe2cf01c6\" y=\"279\"/>\r\n",
       "      </g>\r\n",
       "     </g>\r\n",
       "     <g id=\"text_2\">\r\n",
       "      <!-- 1.9 -->\r\n",
       "      <g transform=\"translate(140.447694 295.72125)scale(0.14 -0.14)\">\r\n",
       "       <defs>\r\n",
       "        <path d=\"M 338 -88 \r\n",
       "L 338 28 \r\n",
       "Q 744 34 1094 217 \r\n",
       "Q 1444 400 1770 856 \r\n",
       "Q 2097 1313 2225 1859 \r\n",
       "Q 1734 1544 1338 1544 \r\n",
       "Q 891 1544 572 1889 \r\n",
       "Q 253 2234 253 2806 \r\n",
       "Q 253 3363 572 3797 \r\n",
       "Q 956 4325 1575 4325 \r\n",
       "Q 2097 4325 2469 3894 \r\n",
       "Q 2925 3359 2925 2575 \r\n",
       "Q 2925 1869 2578 1258 \r\n",
       "Q 2231 647 1613 244 \r\n",
       "Q 1109 -88 516 -88 \r\n",
       "L 338 -88 \r\n",
       "z\r\n",
       "M 2275 2091 \r\n",
       "Q 2331 2497 2331 2741 \r\n",
       "Q 2331 3044 2228 3395 \r\n",
       "Q 2125 3747 1936 3934 \r\n",
       "Q 1747 4122 1506 4122 \r\n",
       "Q 1228 4122 1018 3872 \r\n",
       "Q 809 3622 809 3128 \r\n",
       "Q 809 2469 1088 2097 \r\n",
       "Q 1291 1828 1588 1828 \r\n",
       "Q 1731 1828 1928 1897 \r\n",
       "Q 2125 1966 2275 2091 \r\n",
       "z\r\n",
       "\" id=\"TimesNewRomanPSMT-39\" transform=\"scale(0.015625)\"/>\r\n",
       "       </defs>\r\n",
       "       <use xlink:href=\"#TimesNewRomanPSMT-31\"/>\r\n",
       "       <use x=\"50\" xlink:href=\"#TimesNewRomanPSMT-2e\"/>\r\n",
       "       <use x=\"75\" xlink:href=\"#TimesNewRomanPSMT-39\"/>\r\n",
       "      </g>\r\n",
       "     </g>\r\n",
       "    </g>\r\n",
       "    <g id=\"xtick_3\">\r\n",
       "     <g id=\"line2d_5\">\r\n",
       "      <path clip-path=\"url(#p9af6b527ce)\" d=\"M 226.475971 279 \r\n",
       "L 226.475971 7.2 \r\n",
       "\" style=\"fill:none;stroke:#b0b0b0;stroke-linecap:square;stroke-width:0.8;\"/>\r\n",
       "     </g>\r\n",
       "     <g id=\"line2d_6\">\r\n",
       "      <g>\r\n",
       "       <use style=\"stroke:#000000;stroke-width:0.8;\" x=\"226.475971\" xlink:href=\"#mebe2cf01c6\" y=\"279\"/>\r\n",
       "      </g>\r\n",
       "     </g>\r\n",
       "     <g id=\"text_3\">\r\n",
       "      <!-- 2.0 -->\r\n",
       "      <g transform=\"translate(217.725971 295.72125)scale(0.14 -0.14)\">\r\n",
       "       <defs>\r\n",
       "        <path d=\"M 2934 816 \r\n",
       "L 2638 0 \r\n",
       "L 138 0 \r\n",
       "L 138 116 \r\n",
       "Q 1241 1122 1691 1759 \r\n",
       "Q 2141 2397 2141 2925 \r\n",
       "Q 2141 3328 1894 3587 \r\n",
       "Q 1647 3847 1303 3847 \r\n",
       "Q 991 3847 742 3664 \r\n",
       "Q 494 3481 375 3128 \r\n",
       "L 259 3128 \r\n",
       "Q 338 3706 661 4015 \r\n",
       "Q 984 4325 1469 4325 \r\n",
       "Q 1984 4325 2329 3994 \r\n",
       "Q 2675 3663 2675 3213 \r\n",
       "Q 2675 2891 2525 2569 \r\n",
       "Q 2294 2063 1775 1497 \r\n",
       "Q 997 647 803 472 \r\n",
       "L 1909 472 \r\n",
       "Q 2247 472 2383 497 \r\n",
       "Q 2519 522 2628 598 \r\n",
       "Q 2738 675 2819 816 \r\n",
       "L 2934 816 \r\n",
       "z\r\n",
       "\" id=\"TimesNewRomanPSMT-32\" transform=\"scale(0.015625)\"/>\r\n",
       "        <path d=\"M 231 2094 \r\n",
       "Q 231 2819 450 3342 \r\n",
       "Q 669 3866 1031 4122 \r\n",
       "Q 1313 4325 1613 4325 \r\n",
       "Q 2100 4325 2488 3828 \r\n",
       "Q 2972 3213 2972 2159 \r\n",
       "Q 2972 1422 2759 906 \r\n",
       "Q 2547 391 2217 158 \r\n",
       "Q 1888 -75 1581 -75 \r\n",
       "Q 975 -75 572 641 \r\n",
       "Q 231 1244 231 2094 \r\n",
       "z\r\n",
       "M 844 2016 \r\n",
       "Q 844 1141 1059 588 \r\n",
       "Q 1238 122 1591 122 \r\n",
       "Q 1759 122 1940 273 \r\n",
       "Q 2122 425 2216 781 \r\n",
       "Q 2359 1319 2359 2297 \r\n",
       "Q 2359 3022 2209 3506 \r\n",
       "Q 2097 3866 1919 4016 \r\n",
       "Q 1791 4119 1609 4119 \r\n",
       "Q 1397 4119 1231 3928 \r\n",
       "Q 1006 3669 925 3112 \r\n",
       "Q 844 2556 844 2016 \r\n",
       "z\r\n",
       "\" id=\"TimesNewRomanPSMT-30\" transform=\"scale(0.015625)\"/>\r\n",
       "       </defs>\r\n",
       "       <use xlink:href=\"#TimesNewRomanPSMT-32\"/>\r\n",
       "       <use x=\"50\" xlink:href=\"#TimesNewRomanPSMT-2e\"/>\r\n",
       "       <use x=\"75\" xlink:href=\"#TimesNewRomanPSMT-30\"/>\r\n",
       "      </g>\r\n",
       "     </g>\r\n",
       "    </g>\r\n",
       "    <g id=\"xtick_4\">\r\n",
       "     <g id=\"line2d_7\">\r\n",
       "      <path clip-path=\"url(#p9af6b527ce)\" d=\"M 303.754247 279 \r\n",
       "L 303.754247 7.2 \r\n",
       "\" style=\"fill:none;stroke:#b0b0b0;stroke-linecap:square;stroke-width:0.8;\"/>\r\n",
       "     </g>\r\n",
       "     <g id=\"line2d_8\">\r\n",
       "      <g>\r\n",
       "       <use style=\"stroke:#000000;stroke-width:0.8;\" x=\"303.754247\" xlink:href=\"#mebe2cf01c6\" y=\"279\"/>\r\n",
       "      </g>\r\n",
       "     </g>\r\n",
       "     <g id=\"text_4\">\r\n",
       "      <!-- 2.1 -->\r\n",
       "      <g transform=\"translate(295.004247 295.72125)scale(0.14 -0.14)\">\r\n",
       "       <use xlink:href=\"#TimesNewRomanPSMT-32\"/>\r\n",
       "       <use x=\"50\" xlink:href=\"#TimesNewRomanPSMT-2e\"/>\r\n",
       "       <use x=\"75\" xlink:href=\"#TimesNewRomanPSMT-31\"/>\r\n",
       "      </g>\r\n",
       "     </g>\r\n",
       "    </g>\r\n",
       "    <g id=\"xtick_5\">\r\n",
       "     <g id=\"line2d_9\">\r\n",
       "      <path clip-path=\"url(#p9af6b527ce)\" d=\"M 381.032523 279 \r\n",
       "L 381.032523 7.2 \r\n",
       "\" style=\"fill:none;stroke:#b0b0b0;stroke-linecap:square;stroke-width:0.8;\"/>\r\n",
       "     </g>\r\n",
       "     <g id=\"line2d_10\">\r\n",
       "      <g>\r\n",
       "       <use style=\"stroke:#000000;stroke-width:0.8;\" x=\"381.032523\" xlink:href=\"#mebe2cf01c6\" y=\"279\"/>\r\n",
       "      </g>\r\n",
       "     </g>\r\n",
       "     <g id=\"text_5\">\r\n",
       "      <!-- 2.2 -->\r\n",
       "      <g transform=\"translate(372.282523 295.72125)scale(0.14 -0.14)\">\r\n",
       "       <use xlink:href=\"#TimesNewRomanPSMT-32\"/>\r\n",
       "       <use x=\"50\" xlink:href=\"#TimesNewRomanPSMT-2e\"/>\r\n",
       "       <use x=\"75\" xlink:href=\"#TimesNewRomanPSMT-32\"/>\r\n",
       "      </g>\r\n",
       "     </g>\r\n",
       "    </g>\r\n",
       "    <g id=\"text_6\">\r\n",
       "     <!-- $\\mathit{l}_{дв},$ $м$ -->\r\n",
       "     <g transform=\"translate(203.215938 312.375937)scale(0.14 -0.14)\">\r\n",
       "      <defs>\r\n",
       "       <path d=\"M 1786 4339 \r\n",
       "L 806 595 \r\n",
       "Q 755 410 755 320 \r\n",
       "Q 755 205 864 205 \r\n",
       "Q 1037 205 1293 570 \r\n",
       "L 1453 794 \r\n",
       "L 1542 730 \r\n",
       "Q 1254 275 1046 102 \r\n",
       "Q 838 -70 576 -70 \r\n",
       "Q 262 -70 262 288 \r\n",
       "Q 262 397 288 480 \r\n",
       "L 1165 3834 \r\n",
       "Q 1184 3898 1184 3955 \r\n",
       "Q 1184 4096 870 4096 \r\n",
       "L 755 4096 \r\n",
       "L 755 4198 \r\n",
       "Q 1203 4250 1747 4371 \r\n",
       "L 1786 4339 \r\n",
       "z\r\n",
       "\" id=\"STIXGeneral-Italic-6c\" transform=\"scale(0.015625)\"/>\r\n",
       "       <path d=\"M 591 2863 \r\n",
       "L 3116 2863 \r\n",
       "L 3116 2744 \r\n",
       "Q 2903 2744 2833 2701 \r\n",
       "Q 2763 2659 2722 2596 \r\n",
       "Q 2681 2534 2681 2191 \r\n",
       "L 2681 775 \r\n",
       "Q 2681 328 2757 226 \r\n",
       "Q 2834 125 3116 116 \r\n",
       "L 3116 -794 \r\n",
       "L 2997 -794 \r\n",
       "Q 2984 -538 2870 -347 \r\n",
       "Q 2756 -156 2553 -78 \r\n",
       "Q 2350 0 1953 0 \r\n",
       "L 1216 0 \r\n",
       "Q 872 0 678 -61 \r\n",
       "Q 484 -122 354 -315 \r\n",
       "Q 225 -509 197 -794 \r\n",
       "L 81 -794 \r\n",
       "L 81 116 \r\n",
       "Q 338 125 547 319 \r\n",
       "Q 756 513 915 1078 \r\n",
       "Q 1075 1644 1075 2191 \r\n",
       "Q 1075 2728 591 2744 \r\n",
       "L 591 2863 \r\n",
       "z\r\n",
       "M 1281 2659 \r\n",
       "L 1281 2488 \r\n",
       "Q 1281 953 725 203 \r\n",
       "L 1788 203 \r\n",
       "Q 2075 203 2119 251 \r\n",
       "Q 2163 300 2163 609 \r\n",
       "L 2163 2659 \r\n",
       "L 1281 2659 \r\n",
       "z\r\n",
       "\" id=\"TimesNewRomanPSMT-434\" transform=\"scale(0.015625)\"/>\r\n",
       "       <path d=\"M 2016 1513 \r\n",
       "Q 2800 1350 2800 778 \r\n",
       "Q 2800 388 2473 194 \r\n",
       "Q 2147 0 1563 0 \r\n",
       "L 150 0 \r\n",
       "L 150 116 \r\n",
       "Q 428 116 501 220 \r\n",
       "Q 575 325 575 672 \r\n",
       "L 575 2191 \r\n",
       "Q 575 2528 542 2587 \r\n",
       "Q 509 2647 439 2695 \r\n",
       "Q 369 2744 150 2744 \r\n",
       "L 150 2863 \r\n",
       "L 1469 2863 \r\n",
       "Q 1850 2863 2086 2803 \r\n",
       "Q 2322 2744 2473 2569 \r\n",
       "Q 2625 2394 2625 2144 \r\n",
       "Q 2625 1656 2016 1513 \r\n",
       "z\r\n",
       "M 1094 1584 \r\n",
       "Q 1231 1581 1259 1581 \r\n",
       "Q 1688 1581 1878 1745 \r\n",
       "Q 2069 1909 2069 2144 \r\n",
       "Q 2069 2416 1875 2537 \r\n",
       "Q 1681 2659 1256 2659 \r\n",
       "L 1094 2659 \r\n",
       "L 1094 1584 \r\n",
       "z\r\n",
       "M 1094 253 \r\n",
       "Q 1250 203 1466 203 \r\n",
       "Q 1838 203 2019 365 \r\n",
       "Q 2200 528 2200 784 \r\n",
       "Q 2200 1072 1965 1225 \r\n",
       "Q 1731 1378 1316 1378 \r\n",
       "Q 1213 1378 1094 1372 \r\n",
       "L 1094 253 \r\n",
       "z\r\n",
       "\" id=\"TimesNewRomanPSMT-432\" transform=\"scale(0.015625)\"/>\r\n",
       "       <path d=\"M 344 -1066 \r\n",
       "L 344 -928 \r\n",
       "Q 666 -822 842 -598 \r\n",
       "Q 1019 -375 1019 -125 \r\n",
       "Q 1019 -66 991 -25 \r\n",
       "Q 969 3 947 3 \r\n",
       "Q 913 3 797 -59 \r\n",
       "Q 741 -88 678 -88 \r\n",
       "Q 525 -88 434 3 \r\n",
       "Q 344 94 344 253 \r\n",
       "Q 344 406 461 515 \r\n",
       "Q 578 625 747 625 \r\n",
       "Q 953 625 1114 445 \r\n",
       "Q 1275 266 1275 -31 \r\n",
       "Q 1275 -353 1051 -629 \r\n",
       "Q 828 -906 344 -1066 \r\n",
       "z\r\n",
       "\" id=\"TimesNewRomanPSMT-2c\" transform=\"scale(0.015625)\"/>\r\n",
       "       <path id=\"TimesNewRomanPSMT-20\" transform=\"scale(0.015625)\"/>\r\n",
       "       <path d=\"M 2050 747 \r\n",
       "L 2944 2863 \r\n",
       "L 3909 2863 \r\n",
       "L 3909 2744 \r\n",
       "Q 3697 2744 3626 2701 \r\n",
       "Q 3556 2659 3515 2596 \r\n",
       "Q 3475 2534 3475 2191 \r\n",
       "L 3475 672 \r\n",
       "Q 3475 375 3504 289 \r\n",
       "Q 3534 203 3626 159 \r\n",
       "Q 3719 116 3909 116 \r\n",
       "L 3909 0 \r\n",
       "L 2525 0 \r\n",
       "L 2525 116 \r\n",
       "Q 2781 116 2868 211 \r\n",
       "Q 2956 306 2956 672 \r\n",
       "L 2956 2394 \r\n",
       "L 1944 0 \r\n",
       "L 1834 0 \r\n",
       "L 803 2394 \r\n",
       "L 803 672 \r\n",
       "Q 803 375 834 289 \r\n",
       "Q 866 203 956 159 \r\n",
       "Q 1047 116 1238 116 \r\n",
       "L 1238 0 \r\n",
       "L 144 0 \r\n",
       "L 144 116 \r\n",
       "Q 422 116 500 217 \r\n",
       "Q 578 319 578 672 \r\n",
       "L 578 2191 \r\n",
       "Q 578 2525 543 2586 \r\n",
       "Q 509 2647 437 2695 \r\n",
       "Q 366 2744 144 2744 \r\n",
       "L 144 2863 \r\n",
       "L 1150 2863 \r\n",
       "L 2050 747 \r\n",
       "z\r\n",
       "\" id=\"TimesNewRomanPSMT-43c\" transform=\"scale(0.015625)\"/>\r\n",
       "      </defs>\r\n",
       "      <use transform=\"translate(0 0.703125)\" xlink:href=\"#STIXGeneral-Italic-6c\"/>\r\n",
       "      <use transform=\"translate(27.799988 -25.059375)scale(0.7)\" xlink:href=\"#TimesNewRomanPSMT-434\"/>\r\n",
       "      <use transform=\"translate(63.415222 -25.059375)scale(0.7)\" xlink:href=\"#TimesNewRomanPSMT-432\"/>\r\n",
       "      <use transform=\"translate(100.76073 0.703125)\" xlink:href=\"#TimesNewRomanPSMT-2c\"/>\r\n",
       "      <use transform=\"translate(141.317371 0.703125)\" xlink:href=\"#TimesNewRomanPSMT-20\"/>\r\n",
       "      <use transform=\"translate(166.317371 0.703125)\" xlink:href=\"#TimesNewRomanPSMT-43c\"/>\r\n",
       "     </g>\r\n",
       "    </g>\r\n",
       "   </g>\r\n",
       "   <g id=\"matplotlib.axis_2\">\r\n",
       "    <g id=\"ytick_1\">\r\n",
       "     <g id=\"line2d_11\">\r\n",
       "      <path clip-path=\"url(#p9af6b527ce)\" d=\"M 51.915938 242.867648 \r\n",
       "L 386.715937 242.867648 \r\n",
       "\" style=\"fill:none;stroke:#b0b0b0;stroke-linecap:square;stroke-width:0.8;\"/>\r\n",
       "     </g>\r\n",
       "     <g id=\"line2d_12\">\r\n",
       "      <defs>\r\n",
       "       <path d=\"M 0 0 \r\n",
       "L -3.5 0 \r\n",
       "\" id=\"mc3a0cf1fc2\" style=\"stroke:#000000;stroke-width:0.8;\"/>\r\n",
       "      </defs>\r\n",
       "      <g>\r\n",
       "       <use style=\"stroke:#000000;stroke-width:0.8;\" x=\"51.915938\" xlink:href=\"#mc3a0cf1fc2\" y=\"242.867648\"/>\r\n",
       "      </g>\r\n",
       "     </g>\r\n",
       "     <g id=\"text_7\">\r\n",
       "      <!-- 160 -->\r\n",
       "      <g transform=\"translate(23.915938 247.728273)scale(0.14 -0.14)\">\r\n",
       "       <defs>\r\n",
       "        <path d=\"M 2869 4325 \r\n",
       "L 2869 4209 \r\n",
       "Q 2456 4169 2195 4045 \r\n",
       "Q 1934 3922 1679 3669 \r\n",
       "Q 1425 3416 1258 3105 \r\n",
       "Q 1091 2794 978 2366 \r\n",
       "Q 1428 2675 1881 2675 \r\n",
       "Q 2316 2675 2634 2325 \r\n",
       "Q 2953 1975 2953 1425 \r\n",
       "Q 2953 894 2631 456 \r\n",
       "Q 2244 -75 1606 -75 \r\n",
       "Q 1172 -75 869 213 \r\n",
       "Q 275 772 275 1663 \r\n",
       "Q 275 2231 503 2743 \r\n",
       "Q 731 3256 1154 3653 \r\n",
       "Q 1578 4050 1965 4187 \r\n",
       "Q 2353 4325 2688 4325 \r\n",
       "L 2869 4325 \r\n",
       "z\r\n",
       "M 925 2138 \r\n",
       "Q 869 1716 869 1456 \r\n",
       "Q 869 1156 980 804 \r\n",
       "Q 1091 453 1309 247 \r\n",
       "Q 1469 100 1697 100 \r\n",
       "Q 1969 100 2183 356 \r\n",
       "Q 2397 613 2397 1088 \r\n",
       "Q 2397 1622 2184 2012 \r\n",
       "Q 1972 2403 1581 2403 \r\n",
       "Q 1463 2403 1327 2353 \r\n",
       "Q 1191 2303 925 2138 \r\n",
       "z\r\n",
       "\" id=\"TimesNewRomanPSMT-36\" transform=\"scale(0.015625)\"/>\r\n",
       "       </defs>\r\n",
       "       <use xlink:href=\"#TimesNewRomanPSMT-31\"/>\r\n",
       "       <use x=\"50\" xlink:href=\"#TimesNewRomanPSMT-36\"/>\r\n",
       "       <use x=\"100\" xlink:href=\"#TimesNewRomanPSMT-30\"/>\r\n",
       "      </g>\r\n",
       "     </g>\r\n",
       "    </g>\r\n",
       "    <g id=\"ytick_2\">\r\n",
       "     <g id=\"line2d_13\">\r\n",
       "      <path clip-path=\"url(#p9af6b527ce)\" d=\"M 51.915938 186.600632 \r\n",
       "L 386.715937 186.600632 \r\n",
       "\" style=\"fill:none;stroke:#b0b0b0;stroke-linecap:square;stroke-width:0.8;\"/>\r\n",
       "     </g>\r\n",
       "     <g id=\"line2d_14\">\r\n",
       "      <g>\r\n",
       "       <use style=\"stroke:#000000;stroke-width:0.8;\" x=\"51.915938\" xlink:href=\"#mc3a0cf1fc2\" y=\"186.600632\"/>\r\n",
       "      </g>\r\n",
       "     </g>\r\n",
       "     <g id=\"text_8\">\r\n",
       "      <!-- 180 -->\r\n",
       "      <g transform=\"translate(23.915938 191.461257)scale(0.14 -0.14)\">\r\n",
       "       <use xlink:href=\"#TimesNewRomanPSMT-31\"/>\r\n",
       "       <use x=\"50\" xlink:href=\"#TimesNewRomanPSMT-38\"/>\r\n",
       "       <use x=\"100\" xlink:href=\"#TimesNewRomanPSMT-30\"/>\r\n",
       "      </g>\r\n",
       "     </g>\r\n",
       "    </g>\r\n",
       "    <g id=\"ytick_3\">\r\n",
       "     <g id=\"line2d_15\">\r\n",
       "      <path clip-path=\"url(#p9af6b527ce)\" d=\"M 51.915938 130.333615 \r\n",
       "L 386.715937 130.333615 \r\n",
       "\" style=\"fill:none;stroke:#b0b0b0;stroke-linecap:square;stroke-width:0.8;\"/>\r\n",
       "     </g>\r\n",
       "     <g id=\"line2d_16\">\r\n",
       "      <g>\r\n",
       "       <use style=\"stroke:#000000;stroke-width:0.8;\" x=\"51.915938\" xlink:href=\"#mc3a0cf1fc2\" y=\"130.333615\"/>\r\n",
       "      </g>\r\n",
       "     </g>\r\n",
       "     <g id=\"text_9\">\r\n",
       "      <!-- 200 -->\r\n",
       "      <g transform=\"translate(23.915938 135.19424)scale(0.14 -0.14)\">\r\n",
       "       <use xlink:href=\"#TimesNewRomanPSMT-32\"/>\r\n",
       "       <use x=\"50\" xlink:href=\"#TimesNewRomanPSMT-30\"/>\r\n",
       "       <use x=\"100\" xlink:href=\"#TimesNewRomanPSMT-30\"/>\r\n",
       "      </g>\r\n",
       "     </g>\r\n",
       "    </g>\r\n",
       "    <g id=\"ytick_4\">\r\n",
       "     <g id=\"line2d_17\">\r\n",
       "      <path clip-path=\"url(#p9af6b527ce)\" d=\"M 51.915938 74.066599 \r\n",
       "L 386.715937 74.066599 \r\n",
       "\" style=\"fill:none;stroke:#b0b0b0;stroke-linecap:square;stroke-width:0.8;\"/>\r\n",
       "     </g>\r\n",
       "     <g id=\"line2d_18\">\r\n",
       "      <g>\r\n",
       "       <use style=\"stroke:#000000;stroke-width:0.8;\" x=\"51.915938\" xlink:href=\"#mc3a0cf1fc2\" y=\"74.066599\"/>\r\n",
       "      </g>\r\n",
       "     </g>\r\n",
       "     <g id=\"text_10\">\r\n",
       "      <!-- 220 -->\r\n",
       "      <g transform=\"translate(23.915938 78.927224)scale(0.14 -0.14)\">\r\n",
       "       <use xlink:href=\"#TimesNewRomanPSMT-32\"/>\r\n",
       "       <use x=\"50\" xlink:href=\"#TimesNewRomanPSMT-32\"/>\r\n",
       "       <use x=\"100\" xlink:href=\"#TimesNewRomanPSMT-30\"/>\r\n",
       "      </g>\r\n",
       "     </g>\r\n",
       "    </g>\r\n",
       "    <g id=\"ytick_5\">\r\n",
       "     <g id=\"line2d_19\">\r\n",
       "      <path clip-path=\"url(#p9af6b527ce)\" d=\"M 51.915938 17.799582 \r\n",
       "L 386.715937 17.799582 \r\n",
       "\" style=\"fill:none;stroke:#b0b0b0;stroke-linecap:square;stroke-width:0.8;\"/>\r\n",
       "     </g>\r\n",
       "     <g id=\"line2d_20\">\r\n",
       "      <g>\r\n",
       "       <use style=\"stroke:#000000;stroke-width:0.8;\" x=\"51.915938\" xlink:href=\"#mc3a0cf1fc2\" y=\"17.799582\"/>\r\n",
       "      </g>\r\n",
       "     </g>\r\n",
       "     <g id=\"text_11\">\r\n",
       "      <!-- 240 -->\r\n",
       "      <g transform=\"translate(23.915938 22.660207)scale(0.14 -0.14)\">\r\n",
       "       <defs>\r\n",
       "        <path d=\"M 2978 1563 \r\n",
       "L 2978 1119 \r\n",
       "L 2409 1119 \r\n",
       "L 2409 0 \r\n",
       "L 1894 0 \r\n",
       "L 1894 1119 \r\n",
       "L 100 1119 \r\n",
       "L 100 1519 \r\n",
       "L 2066 4325 \r\n",
       "L 2409 4325 \r\n",
       "L 2409 1563 \r\n",
       "L 2978 1563 \r\n",
       "z\r\n",
       "M 1894 1563 \r\n",
       "L 1894 3666 \r\n",
       "L 406 1563 \r\n",
       "L 1894 1563 \r\n",
       "z\r\n",
       "\" id=\"TimesNewRomanPSMT-34\" transform=\"scale(0.015625)\"/>\r\n",
       "       </defs>\r\n",
       "       <use xlink:href=\"#TimesNewRomanPSMT-32\"/>\r\n",
       "       <use x=\"50\" xlink:href=\"#TimesNewRomanPSMT-34\"/>\r\n",
       "       <use x=\"100\" xlink:href=\"#TimesNewRomanPSMT-30\"/>\r\n",
       "      </g>\r\n",
       "     </g>\r\n",
       "    </g>\r\n",
       "    <g id=\"text_12\">\r\n",
       "     <!-- $\\mathit{m}_{дв},$ $кг$ -->\r\n",
       "     <g transform=\"translate(15.015937 164.17)rotate(-90)scale(0.14 -0.14)\">\r\n",
       "      <defs>\r\n",
       "       <path d=\"M 4506 672 \r\n",
       "L 4474 627 \r\n",
       "Q 3981 -58 3552 -58 \r\n",
       "Q 3296 -58 3296 237 \r\n",
       "Q 3296 333 3379 659 \r\n",
       "L 3750 2112 \r\n",
       "Q 3795 2291 3795 2355 \r\n",
       "Q 3795 2413 3756 2451 \r\n",
       "Q 3718 2490 3667 2490 \r\n",
       "Q 3366 2490 2829 1741 \r\n",
       "Q 2592 1408 2457 1072 \r\n",
       "Q 2323 736 2138 0 \r\n",
       "L 1658 0 \r\n",
       "L 1830 595 \r\n",
       "Q 2266 2099 2266 2330 \r\n",
       "Q 2266 2490 2125 2490 \r\n",
       "Q 1965 2490 1702 2237 \r\n",
       "Q 1440 1984 1171 1574 \r\n",
       "Q 1011 1325 899 1043 \r\n",
       "Q 787 762 557 0 \r\n",
       "L 77 0 \r\n",
       "L 352 922 \r\n",
       "Q 704 2093 704 2381 \r\n",
       "Q 704 2522 442 2522 \r\n",
       "L 282 2522 \r\n",
       "L 282 2624 \r\n",
       "L 1318 2822 \r\n",
       "L 1338 2810 \r\n",
       "L 966 1472 \r\n",
       "Q 1798 2822 2374 2822 \r\n",
       "Q 2560 2822 2659 2720 \r\n",
       "Q 2758 2618 2758 2438 \r\n",
       "Q 2758 2195 2502 1466 \r\n",
       "Q 2842 2003 3069 2275 \r\n",
       "Q 3296 2547 3526 2694 \r\n",
       "Q 3731 2822 3930 2822 \r\n",
       "Q 4102 2822 4201 2710 \r\n",
       "Q 4301 2598 4301 2419 \r\n",
       "Q 4301 2336 4282 2240 \r\n",
       "L 3846 634 \r\n",
       "Q 3782 390 3782 346 \r\n",
       "Q 3782 243 3859 243 \r\n",
       "Q 4000 243 4275 582 \r\n",
       "L 4410 749 \r\n",
       "L 4506 672 \r\n",
       "z\r\n",
       "\" id=\"STIXGeneral-Italic-6d\" transform=\"scale(0.015625)\"/>\r\n",
       "       <path d=\"M 3072 0 \r\n",
       "L 2228 0 \r\n",
       "Q 1834 572 1516 1172 \r\n",
       "Q 1441 1309 1380 1376 \r\n",
       "Q 1319 1444 1213 1444 \r\n",
       "Q 1175 1444 1094 1438 \r\n",
       "L 1094 672 \r\n",
       "Q 1094 363 1130 277 \r\n",
       "Q 1166 191 1259 153 \r\n",
       "Q 1353 116 1575 116 \r\n",
       "L 1575 0 \r\n",
       "L 144 0 \r\n",
       "L 144 116 \r\n",
       "Q 422 116 500 217 \r\n",
       "Q 578 319 578 672 \r\n",
       "L 578 2191 \r\n",
       "Q 578 2525 543 2586 \r\n",
       "Q 509 2647 437 2695 \r\n",
       "Q 366 2744 144 2744 \r\n",
       "L 144 2863 \r\n",
       "L 1575 2863 \r\n",
       "L 1575 2744 \r\n",
       "Q 1316 2744 1255 2706 \r\n",
       "Q 1194 2669 1144 2614 \r\n",
       "Q 1094 2559 1094 2191 \r\n",
       "L 1094 1628 \r\n",
       "Q 1166 1622 1191 1622 \r\n",
       "Q 1381 1622 1548 1730 \r\n",
       "Q 1716 1838 1847 2188 \r\n",
       "Q 1969 2519 2048 2634 \r\n",
       "Q 2128 2750 2270 2823 \r\n",
       "Q 2413 2897 2569 2897 \r\n",
       "Q 2738 2897 2838 2815 \r\n",
       "Q 2938 2734 2938 2603 \r\n",
       "Q 2938 2494 2866 2417 \r\n",
       "Q 2794 2341 2666 2341 \r\n",
       "Q 2597 2341 2494 2378 \r\n",
       "Q 2363 2425 2294 2425 \r\n",
       "Q 2150 2425 2056 2178 \r\n",
       "Q 1950 1894 1900 1811 \r\n",
       "Q 1850 1728 1709 1591 \r\n",
       "Q 1806 1563 1920 1447 \r\n",
       "Q 2034 1331 2344 788 \r\n",
       "Q 2591 353 2714 237 \r\n",
       "Q 2838 122 3072 116 \r\n",
       "L 3072 0 \r\n",
       "z\r\n",
       "\" id=\"TimesNewRomanPSMT-43a\" transform=\"scale(0.015625)\"/>\r\n",
       "       <path d=\"M 2469 2863 \r\n",
       "L 2584 2081 \r\n",
       "L 2447 2081 \r\n",
       "Q 2328 2469 2208 2564 \r\n",
       "Q 2088 2659 1700 2659 \r\n",
       "L 1094 2659 \r\n",
       "L 1094 672 \r\n",
       "Q 1094 341 1128 277 \r\n",
       "Q 1163 213 1236 164 \r\n",
       "Q 1309 116 1528 116 \r\n",
       "L 1528 0 \r\n",
       "L 97 0 \r\n",
       "L 97 116 \r\n",
       "Q 403 122 490 211 \r\n",
       "Q 578 300 578 672 \r\n",
       "L 578 2191 \r\n",
       "Q 578 2494 543 2580 \r\n",
       "Q 509 2666 423 2703 \r\n",
       "Q 338 2741 97 2744 \r\n",
       "L 97 2863 \r\n",
       "L 2469 2863 \r\n",
       "z\r\n",
       "\" id=\"TimesNewRomanPSMT-433\" transform=\"scale(0.015625)\"/>\r\n",
       "      </defs>\r\n",
       "      <use transform=\"translate(0 0.734375)\" xlink:href=\"#STIXGeneral-Italic-6d\"/>\r\n",
       "      <use transform=\"translate(72.199982 -25.028125)scale(0.7)\" xlink:href=\"#TimesNewRomanPSMT-434\"/>\r\n",
       "      <use transform=\"translate(107.815216 -25.028125)scale(0.7)\" xlink:href=\"#TimesNewRomanPSMT-432\"/>\r\n",
       "      <use transform=\"translate(145.160724 0.734375)\" xlink:href=\"#TimesNewRomanPSMT-2c\"/>\r\n",
       "      <use transform=\"translate(185.717365 0.734375)\" xlink:href=\"#TimesNewRomanPSMT-20\"/>\r\n",
       "      <use transform=\"translate(210.717365 0.734375)\" xlink:href=\"#TimesNewRomanPSMT-43a\"/>\r\n",
       "      <use transform=\"translate(259.301349 0.734375)\" xlink:href=\"#TimesNewRomanPSMT-433\"/>\r\n",
       "     </g>\r\n",
       "    </g>\r\n",
       "   </g>\r\n",
       "   <g id=\"line2d_21\">\r\n",
       "    <path clip-path=\"url(#p9af6b527ce)\" d=\"M 371.497756 266.645455 \r\n",
       "L 337.616248 260.169901 \r\n",
       "L 304.252391 251.713923 \r\n",
       "L 271.471003 240.853909 \r\n",
       "L 239.346874 227.043042 \r\n",
       "L 207.968418 209.567317 \r\n",
       "L 177.442592 187.482705 \r\n",
       "L 147.901742 159.523794 \r\n",
       "L 119.513379 123.968443 \r\n",
       "L 92.494611 78.432951 \r\n",
       "L 67.134119 19.554545 \r\n",
       "\" style=\"fill:none;stroke:#0000ff;stroke-linecap:square;stroke-width:1.5;\"/>\r\n",
       "    <defs>\r\n",
       "     <path d=\"M 0 3 \r\n",
       "C 0.795609 3 1.55874 2.683901 2.12132 2.12132 \r\n",
       "C 2.683901 1.55874 3 0.795609 3 0 \r\n",
       "C 3 -0.795609 2.683901 -1.55874 2.12132 -2.12132 \r\n",
       "C 1.55874 -2.683901 0.795609 -3 0 -3 \r\n",
       "C -0.795609 -3 -1.55874 -2.683901 -2.12132 -2.12132 \r\n",
       "C -2.683901 -1.55874 -3 -0.795609 -3 0 \r\n",
       "C -3 0.795609 -2.683901 1.55874 -2.12132 2.12132 \r\n",
       "C -1.55874 2.683901 -0.795609 3 0 3 \r\n",
       "z\r\n",
       "\" id=\"m9497ab41ee\" style=\"stroke:#0000ff;\"/>\r\n",
       "    </defs>\r\n",
       "    <g clip-path=\"url(#p9af6b527ce)\">\r\n",
       "     <use style=\"fill:#0000ff;stroke:#0000ff;\" x=\"371.497756\" xlink:href=\"#m9497ab41ee\" y=\"266.645455\"/>\r\n",
       "     <use style=\"fill:#0000ff;stroke:#0000ff;\" x=\"337.616248\" xlink:href=\"#m9497ab41ee\" y=\"260.169901\"/>\r\n",
       "     <use style=\"fill:#0000ff;stroke:#0000ff;\" x=\"304.252391\" xlink:href=\"#m9497ab41ee\" y=\"251.713923\"/>\r\n",
       "     <use style=\"fill:#0000ff;stroke:#0000ff;\" x=\"271.471003\" xlink:href=\"#m9497ab41ee\" y=\"240.853909\"/>\r\n",
       "     <use style=\"fill:#0000ff;stroke:#0000ff;\" x=\"239.346874\" xlink:href=\"#m9497ab41ee\" y=\"227.043042\"/>\r\n",
       "     <use style=\"fill:#0000ff;stroke:#0000ff;\" x=\"207.968418\" xlink:href=\"#m9497ab41ee\" y=\"209.567317\"/>\r\n",
       "     <use style=\"fill:#0000ff;stroke:#0000ff;\" x=\"177.442592\" xlink:href=\"#m9497ab41ee\" y=\"187.482705\"/>\r\n",
       "     <use style=\"fill:#0000ff;stroke:#0000ff;\" x=\"147.901742\" xlink:href=\"#m9497ab41ee\" y=\"159.523794\"/>\r\n",
       "     <use style=\"fill:#0000ff;stroke:#0000ff;\" x=\"119.513379\" xlink:href=\"#m9497ab41ee\" y=\"123.968443\"/>\r\n",
       "     <use style=\"fill:#0000ff;stroke:#0000ff;\" x=\"92.494611\" xlink:href=\"#m9497ab41ee\" y=\"78.432951\"/>\r\n",
       "     <use style=\"fill:#0000ff;stroke:#0000ff;\" x=\"67.134119\" xlink:href=\"#m9497ab41ee\" y=\"19.554545\"/>\r\n",
       "    </g>\r\n",
       "   </g>\r\n",
       "   <g id=\"line2d_22\">\r\n",
       "    <defs>\r\n",
       "     <path d=\"M 0 -6 \r\n",
       "L -1.347084 -1.854102 \r\n",
       "L -5.706339 -1.854102 \r\n",
       "L -2.179628 0.708204 \r\n",
       "L -3.526712 4.854102 \r\n",
       "L -0 2.291796 \r\n",
       "L 3.526712 4.854102 \r\n",
       "L 2.179628 0.708204 \r\n",
       "L 5.706339 -1.854102 \r\n",
       "L 1.347084 -1.854102 \r\n",
       "z\r\n",
       "\" id=\"mbc4b552b03\" style=\"stroke:#0000ff;stroke-linejoin:bevel;\"/>\r\n",
       "    </defs>\r\n",
       "    <g clip-path=\"url(#p9af6b527ce)\">\r\n",
       "     <use style=\"fill:#0000ff;stroke:#0000ff;stroke-linejoin:bevel;\" x=\"304.252391\" xlink:href=\"#mbc4b552b03\" y=\"251.713923\"/>\r\n",
       "    </g>\r\n",
       "   </g>\r\n",
       "   <g id=\"patch_3\">\r\n",
       "    <path d=\"M 51.915938 279 \r\n",
       "L 51.915938 7.2 \r\n",
       "\" style=\"fill:none;stroke:#000000;stroke-linecap:square;stroke-linejoin:miter;stroke-width:0.8;\"/>\r\n",
       "   </g>\r\n",
       "   <g id=\"patch_4\">\r\n",
       "    <path d=\"M 386.715937 279 \r\n",
       "L 386.715937 7.2 \r\n",
       "\" style=\"fill:none;stroke:#000000;stroke-linecap:square;stroke-linejoin:miter;stroke-width:0.8;\"/>\r\n",
       "   </g>\r\n",
       "   <g id=\"patch_5\">\r\n",
       "    <path d=\"M 51.915937 279 \r\n",
       "L 386.715937 279 \r\n",
       "\" style=\"fill:none;stroke:#000000;stroke-linecap:square;stroke-linejoin:miter;stroke-width:0.8;\"/>\r\n",
       "   </g>\r\n",
       "   <g id=\"patch_6\">\r\n",
       "    <path d=\"M 51.915937 7.2 \r\n",
       "L 386.715937 7.2 \r\n",
       "\" style=\"fill:none;stroke:#000000;stroke-linecap:square;stroke-linejoin:miter;stroke-width:0.8;\"/>\r\n",
       "   </g>\r\n",
       "   <g id=\"legend_1\">\r\n",
       "    <g id=\"patch_7\">\r\n",
       "     <path d=\"M 194.355938 40.1 \r\n",
       "L 376.915937 40.1 \r\n",
       "Q 379.715937 40.1 379.715937 37.3 \r\n",
       "L 379.715937 17 \r\n",
       "Q 379.715937 14.2 376.915937 14.2 \r\n",
       "L 194.355938 14.2 \r\n",
       "Q 191.555937 14.2 191.555937 17 \r\n",
       "L 191.555937 37.3 \r\n",
       "Q 191.555937 40.1 194.355938 40.1 \r\n",
       "z\r\n",
       "\" style=\"fill:#ffffff;opacity:0.8;stroke:#cccccc;stroke-linejoin:miter;\"/>\r\n",
       "    </g>\r\n",
       "    <g id=\"line2d_23\"/>\r\n",
       "    <g id=\"line2d_24\">\r\n",
       "     <g>\r\n",
       "      <use style=\"fill:#0000ff;stroke:#0000ff;stroke-linejoin:bevel;\" x=\"211.155937\" xlink:href=\"#mbc4b552b03\" y=\"24.7\"/>\r\n",
       "     </g>\r\n",
       "    </g>\r\n",
       "    <g id=\"text_13\">\r\n",
       "     <!-- $Минимум$ $критерия$ $\\mathit{c}_{дв}$ -->\r\n",
       "     <g transform=\"translate(236.355937 29.6)scale(0.14 -0.14)\">\r\n",
       "      <defs>\r\n",
       "       <path d=\"M 2619 0 \r\n",
       "L 981 3566 \r\n",
       "L 981 734 \r\n",
       "Q 981 344 1066 247 \r\n",
       "Q 1181 116 1431 116 \r\n",
       "L 1581 116 \r\n",
       "L 1581 0 \r\n",
       "L 106 0 \r\n",
       "L 106 116 \r\n",
       "L 256 116 \r\n",
       "Q 525 116 638 278 \r\n",
       "Q 706 378 706 734 \r\n",
       "L 706 3503 \r\n",
       "Q 706 3784 644 3909 \r\n",
       "Q 600 4000 483 4061 \r\n",
       "Q 366 4122 106 4122 \r\n",
       "L 106 4238 \r\n",
       "L 1306 4238 \r\n",
       "L 2844 922 \r\n",
       "L 4356 4238 \r\n",
       "L 5556 4238 \r\n",
       "L 5556 4122 \r\n",
       "L 5409 4122 \r\n",
       "Q 5138 4122 5025 3959 \r\n",
       "Q 4956 3859 4956 3503 \r\n",
       "L 4956 734 \r\n",
       "Q 4956 344 5044 247 \r\n",
       "Q 5159 116 5409 116 \r\n",
       "L 5556 116 \r\n",
       "L 5556 0 \r\n",
       "L 3756 0 \r\n",
       "L 3756 116 \r\n",
       "L 3906 116 \r\n",
       "Q 4178 116 4288 278 \r\n",
       "Q 4356 378 4356 734 \r\n",
       "L 4356 3566 \r\n",
       "L 2722 0 \r\n",
       "L 2619 0 \r\n",
       "z\r\n",
       "\" id=\"TimesNewRomanPSMT-41c\" transform=\"scale(0.015625)\"/>\r\n",
       "       <path d=\"M 1094 881 \r\n",
       "L 2331 2313 \r\n",
       "Q 2325 2553 2240 2647 \r\n",
       "Q 2156 2741 1950 2744 \r\n",
       "L 1950 2863 \r\n",
       "L 3281 2863 \r\n",
       "L 3281 2744 \r\n",
       "Q 3072 2744 3000 2701 \r\n",
       "Q 2928 2659 2887 2596 \r\n",
       "Q 2847 2534 2847 2191 \r\n",
       "L 2847 672 \r\n",
       "Q 2847 341 2881 277 \r\n",
       "Q 2916 213 2989 164 \r\n",
       "Q 3063 116 3281 116 \r\n",
       "L 3281 0 \r\n",
       "L 1897 0 \r\n",
       "L 1897 116 \r\n",
       "Q 2156 116 2243 211 \r\n",
       "Q 2331 306 2331 672 \r\n",
       "L 2331 2019 \r\n",
       "L 1094 584 \r\n",
       "Q 1100 319 1169 219 \r\n",
       "Q 1238 119 1466 116 \r\n",
       "L 1466 0 \r\n",
       "L 144 0 \r\n",
       "L 144 116 \r\n",
       "Q 422 116 500 217 \r\n",
       "Q 578 319 578 672 \r\n",
       "L 578 2191 \r\n",
       "Q 578 2525 543 2586 \r\n",
       "Q 509 2647 437 2695 \r\n",
       "Q 366 2744 144 2744 \r\n",
       "L 144 2863 \r\n",
       "L 1528 2863 \r\n",
       "L 1528 2744 \r\n",
       "Q 1319 2744 1247 2701 \r\n",
       "Q 1175 2659 1134 2596 \r\n",
       "Q 1094 2534 1094 2191 \r\n",
       "L 1094 881 \r\n",
       "z\r\n",
       "\" id=\"TimesNewRomanPSMT-438\" transform=\"scale(0.015625)\"/>\r\n",
       "       <path d=\"M 1094 1584 \r\n",
       "L 2331 1584 \r\n",
       "L 2331 2191 \r\n",
       "Q 2331 2463 2309 2545 \r\n",
       "Q 2288 2628 2202 2686 \r\n",
       "Q 2116 2744 1897 2744 \r\n",
       "L 1897 2863 \r\n",
       "L 3281 2863 \r\n",
       "L 3281 2744 \r\n",
       "Q 3088 2744 2998 2700 \r\n",
       "Q 2909 2656 2878 2573 \r\n",
       "Q 2847 2491 2847 2191 \r\n",
       "L 2847 672 \r\n",
       "Q 2847 400 2870 312 \r\n",
       "Q 2894 225 2984 170 \r\n",
       "Q 3075 116 3281 116 \r\n",
       "L 3281 0 \r\n",
       "L 1897 0 \r\n",
       "L 1897 116 \r\n",
       "Q 2156 116 2243 211 \r\n",
       "Q 2331 306 2331 672 \r\n",
       "L 2331 1381 \r\n",
       "L 1094 1381 \r\n",
       "L 1094 672 \r\n",
       "Q 1094 400 1117 312 \r\n",
       "Q 1141 225 1231 170 \r\n",
       "Q 1322 116 1528 116 \r\n",
       "L 1528 0 \r\n",
       "L 144 0 \r\n",
       "L 144 116 \r\n",
       "Q 422 116 500 217 \r\n",
       "Q 578 319 578 672 \r\n",
       "L 578 2191 \r\n",
       "Q 578 2463 554 2550 \r\n",
       "Q 531 2638 440 2691 \r\n",
       "Q 350 2744 144 2744 \r\n",
       "L 144 2863 \r\n",
       "L 1528 2863 \r\n",
       "L 1528 2744 \r\n",
       "Q 1334 2744 1245 2700 \r\n",
       "Q 1156 2656 1125 2573 \r\n",
       "Q 1094 2491 1094 2191 \r\n",
       "L 1094 1584 \r\n",
       "z\r\n",
       "\" id=\"TimesNewRomanPSMT-43d\" transform=\"scale(0.015625)\"/>\r\n",
       "       <path d=\"M 38 2863 \r\n",
       "L 1372 2863 \r\n",
       "L 1372 2747 \r\n",
       "L 1306 2747 \r\n",
       "Q 1166 2747 1095 2686 \r\n",
       "Q 1025 2625 1025 2534 \r\n",
       "Q 1025 2413 1128 2197 \r\n",
       "L 1825 753 \r\n",
       "L 2466 2334 \r\n",
       "Q 2519 2463 2519 2588 \r\n",
       "Q 2519 2644 2497 2672 \r\n",
       "Q 2472 2706 2419 2726 \r\n",
       "Q 2366 2747 2231 2747 \r\n",
       "L 2231 2863 \r\n",
       "L 3163 2863 \r\n",
       "L 3163 2747 \r\n",
       "Q 3047 2734 2984 2696 \r\n",
       "Q 2922 2659 2847 2556 \r\n",
       "Q 2819 2513 2741 2316 \r\n",
       "L 1575 -541 \r\n",
       "Q 1406 -956 1132 -1168 \r\n",
       "Q 859 -1381 606 -1381 \r\n",
       "Q 422 -1381 303 -1275 \r\n",
       "Q 184 -1169 184 -1031 \r\n",
       "Q 184 -900 270 -820 \r\n",
       "Q 356 -741 506 -741 \r\n",
       "Q 609 -741 788 -809 \r\n",
       "Q 913 -856 944 -856 \r\n",
       "Q 1038 -856 1148 -759 \r\n",
       "Q 1259 -663 1372 -384 \r\n",
       "L 1575 113 \r\n",
       "L 547 2272 \r\n",
       "Q 500 2369 397 2513 \r\n",
       "Q 319 2622 269 2659 \r\n",
       "Q 197 2709 38 2747 \r\n",
       "L 38 2863 \r\n",
       "z\r\n",
       "\" id=\"TimesNewRomanPSMT-443\" transform=\"scale(0.015625)\"/>\r\n",
       "       <path d=\"M -6 2578 \r\n",
       "L 875 2934 \r\n",
       "L 994 2934 \r\n",
       "L 994 2266 \r\n",
       "Q 1216 2644 1439 2795 \r\n",
       "Q 1663 2947 1909 2947 \r\n",
       "Q 2341 2947 2628 2609 \r\n",
       "Q 2981 2197 2981 1534 \r\n",
       "Q 2981 794 2556 309 \r\n",
       "Q 2206 -88 1675 -88 \r\n",
       "Q 1444 -88 1275 -22 \r\n",
       "Q 1150 25 994 166 \r\n",
       "L 994 -706 \r\n",
       "Q 994 -1000 1030 -1079 \r\n",
       "Q 1066 -1159 1155 -1206 \r\n",
       "Q 1244 -1253 1478 -1253 \r\n",
       "L 1478 -1369 \r\n",
       "L -22 -1369 \r\n",
       "L -22 -1253 \r\n",
       "L 56 -1253 \r\n",
       "Q 228 -1256 350 -1188 \r\n",
       "Q 409 -1153 442 -1076 \r\n",
       "Q 475 -1000 475 -688 \r\n",
       "L 475 2019 \r\n",
       "Q 475 2297 450 2372 \r\n",
       "Q 425 2447 370 2484 \r\n",
       "Q 316 2522 222 2522 \r\n",
       "Q 147 2522 31 2478 \r\n",
       "L -6 2578 \r\n",
       "z\r\n",
       "M 994 2081 \r\n",
       "L 994 1013 \r\n",
       "Q 994 666 1022 556 \r\n",
       "Q 1066 375 1236 237 \r\n",
       "Q 1406 100 1666 100 \r\n",
       "Q 1978 100 2172 344 \r\n",
       "Q 2425 663 2425 1241 \r\n",
       "Q 2425 1897 2138 2250 \r\n",
       "Q 1938 2494 1663 2494 \r\n",
       "Q 1513 2494 1366 2419 \r\n",
       "Q 1253 2363 994 2081 \r\n",
       "z\r\n",
       "\" id=\"TimesNewRomanPSMT-440\" transform=\"scale(0.015625)\"/>\r\n",
       "       <path d=\"M 156 2863 \r\n",
       "L 2631 2863 \r\n",
       "L 2756 2088 \r\n",
       "L 2616 2088 \r\n",
       "Q 2578 2322 2490 2450 \r\n",
       "Q 2403 2578 2290 2618 \r\n",
       "Q 2178 2659 1906 2659 \r\n",
       "L 1656 2659 \r\n",
       "L 1656 672 \r\n",
       "Q 1656 353 1695 267 \r\n",
       "Q 1734 181 1821 153 \r\n",
       "Q 1909 125 2222 116 \r\n",
       "L 2222 0 \r\n",
       "L 666 0 \r\n",
       "L 666 116 \r\n",
       "Q 966 122 1052 212 \r\n",
       "Q 1138 303 1138 672 \r\n",
       "L 1138 2659 \r\n",
       "L 881 2659 \r\n",
       "Q 613 2659 516 2626 \r\n",
       "Q 419 2594 330 2470 \r\n",
       "Q 241 2347 178 2088 \r\n",
       "L 38 2088 \r\n",
       "L 156 2863 \r\n",
       "z\r\n",
       "\" id=\"TimesNewRomanPSMT-442\" transform=\"scale(0.015625)\"/>\r\n",
       "       <path d=\"M 681 1784 \r\n",
       "Q 678 1147 991 784 \r\n",
       "Q 1303 422 1725 422 \r\n",
       "Q 2006 422 2214 576 \r\n",
       "Q 2422 731 2563 1106 \r\n",
       "L 2659 1044 \r\n",
       "Q 2594 616 2278 264 \r\n",
       "Q 1963 -88 1488 -88 \r\n",
       "Q 972 -88 605 314 \r\n",
       "Q 238 716 238 1394 \r\n",
       "Q 238 2128 614 2539 \r\n",
       "Q 991 2950 1559 2950 \r\n",
       "Q 2041 2950 2350 2633 \r\n",
       "Q 2659 2316 2659 1784 \r\n",
       "L 681 1784 \r\n",
       "z\r\n",
       "M 681 1966 \r\n",
       "L 2006 1966 \r\n",
       "Q 1991 2241 1941 2353 \r\n",
       "Q 1863 2528 1708 2628 \r\n",
       "Q 1553 2728 1384 2728 \r\n",
       "Q 1125 2728 920 2526 \r\n",
       "Q 716 2325 681 1966 \r\n",
       "z\r\n",
       "\" id=\"TimesNewRomanPSMT-435\" transform=\"scale(0.015625)\"/>\r\n",
       "       <path d=\"M 2800 2863 \r\n",
       "L 2800 2744 \r\n",
       "Q 2606 2744 2514 2691 \r\n",
       "Q 2422 2638 2394 2556 \r\n",
       "Q 2366 2475 2366 2191 \r\n",
       "L 2366 672 \r\n",
       "Q 2366 400 2391 314 \r\n",
       "Q 2416 228 2511 172 \r\n",
       "Q 2606 116 2800 116 \r\n",
       "L 2800 0 \r\n",
       "L 1416 0 \r\n",
       "L 1416 116 \r\n",
       "Q 1675 116 1762 211 \r\n",
       "Q 1850 306 1850 672 \r\n",
       "L 1850 1294 \r\n",
       "L 1722 1291 \r\n",
       "Q 1694 1291 1622 1294 \r\n",
       "L 709 0 \r\n",
       "L -3 0 \r\n",
       "L -3 116 \r\n",
       "Q 153 116 214 158 \r\n",
       "Q 275 200 441 434 \r\n",
       "L 1109 1378 \r\n",
       "Q 391 1628 391 2144 \r\n",
       "Q 391 2434 648 2648 \r\n",
       "Q 906 2863 1528 2863 \r\n",
       "L 2800 2863 \r\n",
       "z\r\n",
       "M 1850 2625 \r\n",
       "Q 1728 2659 1619 2659 \r\n",
       "Q 1303 2659 1147 2503 \r\n",
       "Q 991 2347 991 2131 \r\n",
       "Q 991 1856 1212 1675 \r\n",
       "Q 1434 1494 1772 1494 \r\n",
       "Q 1806 1494 1850 1500 \r\n",
       "L 1850 2625 \r\n",
       "z\r\n",
       "\" id=\"TimesNewRomanPSMT-44f\" transform=\"scale(0.015625)\"/>\r\n",
       "       <path d=\"M 2240 685 \r\n",
       "L 2342 621 \r\n",
       "Q 2048 250 1769 90 \r\n",
       "Q 1491 -70 1133 -70 \r\n",
       "Q 678 -70 435 179 \r\n",
       "Q 192 429 192 915 \r\n",
       "Q 192 1344 409 1744 \r\n",
       "Q 627 2144 979 2432 \r\n",
       "Q 1472 2822 2048 2822 \r\n",
       "Q 2342 2822 2531 2675 \r\n",
       "Q 2720 2528 2720 2304 \r\n",
       "Q 2720 2176 2630 2086 \r\n",
       "Q 2541 1997 2413 1997 \r\n",
       "Q 2285 1997 2224 2070 \r\n",
       "Q 2163 2144 2163 2253 \r\n",
       "Q 2163 2310 2211 2403 \r\n",
       "Q 2259 2496 2259 2560 \r\n",
       "Q 2259 2688 2022 2688 \r\n",
       "Q 1619 2688 1325 2381 \r\n",
       "Q 742 1766 742 890 \r\n",
       "Q 742 544 889 352 \r\n",
       "Q 1037 160 1312 160 \r\n",
       "Q 1562 160 1766 281 \r\n",
       "Q 1971 403 2240 685 \r\n",
       "z\r\n",
       "\" id=\"STIXGeneral-Italic-63\" transform=\"scale(0.015625)\"/>\r\n",
       "      </defs>\r\n",
       "      <use transform=\"translate(0 0.78125)\" xlink:href=\"#TimesNewRomanPSMT-41c\"/>\r\n",
       "      <use transform=\"translate(88.916016 0.78125)\" xlink:href=\"#TimesNewRomanPSMT-438\"/>\r\n",
       "      <use transform=\"translate(142.431641 0.78125)\" xlink:href=\"#TimesNewRomanPSMT-43d\"/>\r\n",
       "      <use transform=\"translate(195.947266 0.78125)\" xlink:href=\"#TimesNewRomanPSMT-438\"/>\r\n",
       "      <use transform=\"translate(249.462891 0.78125)\" xlink:href=\"#TimesNewRomanPSMT-43c\"/>\r\n",
       "      <use transform=\"translate(312.744141 0.78125)\" xlink:href=\"#TimesNewRomanPSMT-443\"/>\r\n",
       "      <use transform=\"translate(362.744141 0.78125)\" xlink:href=\"#TimesNewRomanPSMT-43c\"/>\r\n",
       "      <use transform=\"translate(426.025391 0.78125)\" xlink:href=\"#TimesNewRomanPSMT-20\"/>\r\n",
       "      <use transform=\"translate(451.025391 0.78125)\" xlink:href=\"#TimesNewRomanPSMT-43a\"/>\r\n",
       "      <use transform=\"translate(499.609375 0.78125)\" xlink:href=\"#TimesNewRomanPSMT-440\"/>\r\n",
       "      <use transform=\"translate(549.609375 0.78125)\" xlink:href=\"#TimesNewRomanPSMT-438\"/>\r\n",
       "      <use transform=\"translate(603.125 0.78125)\" xlink:href=\"#TimesNewRomanPSMT-442\"/>\r\n",
       "      <use transform=\"translate(646.826172 0.78125)\" xlink:href=\"#TimesNewRomanPSMT-435\"/>\r\n",
       "      <use transform=\"translate(691.210938 0.78125)\" xlink:href=\"#TimesNewRomanPSMT-440\"/>\r\n",
       "      <use transform=\"translate(741.210938 0.78125)\" xlink:href=\"#TimesNewRomanPSMT-438\"/>\r\n",
       "      <use transform=\"translate(794.726562 0.78125)\" xlink:href=\"#TimesNewRomanPSMT-44f\"/>\r\n",
       "      <use transform=\"translate(840.722656 0.78125)\" xlink:href=\"#TimesNewRomanPSMT-20\"/>\r\n",
       "      <use transform=\"translate(865.722656 0.78125)\" xlink:href=\"#STIXGeneral-Italic-63\"/>\r\n",
       "      <use transform=\"translate(910.12265 -24.98125)scale(0.7)\" xlink:href=\"#TimesNewRomanPSMT-434\"/>\r\n",
       "      <use transform=\"translate(945.737885 -24.98125)scale(0.7)\" xlink:href=\"#TimesNewRomanPSMT-432\"/>\r\n",
       "     </g>\r\n",
       "    </g>\r\n",
       "   </g>\r\n",
       "  </g>\r\n",
       " </g>\r\n",
       " <defs>\r\n",
       "  <clipPath id=\"p9af6b527ce\">\r\n",
       "   <rect height=\"271.8\" width=\"334.8\" x=\"51.915938\" y=\"7.2\"/>\r\n",
       "  </clipPath>\r\n",
       " </defs>\r\n",
       "</svg>\r\n"
      ],
      "text/plain": [
       "<Figure size 432x360 with 1 Axes>"
      ]
     },
     "metadata": {},
     "output_type": "display_data"
    }
   ],
   "source": [
    "fig = plt.figure(figsize=(8, 8))\n",
    "fig.patch.set_facecolor('white')\n",
    "host = fig.add_subplot(111)\n",
    "\n",
    "par1 = host.twinx()\n",
    "\n",
    "# host.set_xlim(0, 20)\n",
    "\n",
    "mdvlim = (940, 1100)\n",
    "ldvlim = (2.8, 3.8)\n",
    "\n",
    "#host.set_ylim(*mdvlim)\n",
    "#par1.set_ylim(*ldvlim)\n",
    "\n",
    "n = 11\n",
    "host.yaxis.set_ticks(np.linspace(*mdvlim, n))\n",
    "par1.yaxis.set_ticks(np.linspace(*ldvlim, n))\n",
    "\n",
    "host.set_xlabel(\"$\\mathit{p}_{ном},$ $МПа$\")\n",
    "host.set_ylabel(\"$\\mathit{m}_{дв},$ $кг$\")\n",
    "par1.set_ylabel(\"$\\mathit{l}_{дв},$ $м$\")\n",
    "\n",
    "color1 = 'darkorange'\n",
    "color2 = 'darkgreen'\n",
    "color3 = 'blue'\n",
    "\n",
    "p1, = host.plot(p_nom_fit, m_dv_arr, color=color1,\n",
    "                label=\"$\\mathit{m}_{дв}(\\mathit{p}_{ном})$\", marker='o')\n",
    "p2, = par1.plot(p_nom_fit, l_dv_arr / 1e3, color=color2,\n",
    "                label=\"$\\mathit{l}_{дв}(\\mathit{p}_{ном})$\", marker='o')\n",
    "p3, = host.plot(p_nom_opt, m_dv_opt, marker='*', color=color1, linestyle='None',\n",
    "                markersize=12, label=\"$Минимум$ $критерия$ $\\mathit{c}_{дв}$\")\n",
    "p4, = par1.plot(p_nom_opt, l_dv_opt / 1e3, marker='*', color=color2, linestyle='None',\n",
    "                markersize=12, label=\"$Минимум$ $критерия$ $\\mathit{c}_{дв}$\")\n",
    "lns = [p1, p3]\n",
    "lns2 = [p2, p4]\n",
    "host.legend(handles=lns, loc='lower left')\n",
    "par1.legend(handles=lns2, loc='lower right')\n",
    "\n",
    "host.yaxis.label.set_color(p1.get_color())\n",
    "par1.yaxis.label.set_color(p2.get_color())\n",
    "host.grid()\n",
    "# plt.savefig(f'm_dv__l_dv(pnom).png', dpi =300, bbox_inches='tight')\n",
    "plt.show()\n",
    "\n",
    "f = figure(figsize=(6, 5))\n",
    "f.patch.set_facecolor('white')\n",
    "plt.plot(l_dv_arr * 1e-3, m_dv_arr, color='b', marker='o')\n",
    "plt.plot(l_dv_opt*1e-3, m_dv_opt, marker='*', markersize=12, color='b', linestyle='None',\n",
    "         label=\"$Минимум$ $критерия$ $\\mathit{c}_{дв}$\")\n",
    "plt.xlabel('$\\mathit{l}_{дв},$ $м$')\n",
    "plt.ylabel('$\\mathit{m}_{дв},$ $кг$')\n",
    "# установка шага сетки\n",
    "major_yticks3 = np.arange(972, 1068 + 1, 16)\n",
    "#plt.yticks(major_yticks3)\n",
    "major_xticks3 = np.arange(3, 3.8+0.1, 0.1)\n",
    "#plt.xticks(major_xticks3)\n",
    "plt.legend()\n",
    "plt.grid()\n",
    "# plt.savefig(f'm_dv(l_dv).png', dpi =300, bbox_inches='tight')\n",
    "plt.show()"
   ]
>>>>>>> Stashed changes
=======
>>>>>>> parent of 8a35f53 (Редакция №5)
  },
  {
   "cell_type": "code",
   "execution_count": null,
   "id": "aee81b46",
   "metadata": {},
   "outputs": [],
   "source": []
  }
 ],
 "metadata": {
  "kernelspec": {
   "display_name": "Python 3 (ipykernel)",
   "language": "python",
   "name": "python3"
  },
  "language_info": {
   "codemirror_mode": {
    "name": "ipython",
    "version": 3
   },
   "file_extension": ".py",
   "mimetype": "text/x-python",
   "name": "python",
   "nbconvert_exporter": "python",
   "pygments_lexer": "ipython3",
   "version": "3.9.5"
  },
  "toc": {
   "base_numbering": 1,
   "nav_menu": {},
   "number_sections": true,
   "sideBar": true,
   "skip_h1_title": false,
   "title_cell": "Table of Contents",
   "title_sidebar": "Contents",
   "toc_cell": false,
   "toc_position": {
    "height": "535.617px",
    "left": "73px",
    "top": "130.6px",
    "width": "245.75px"
   },
   "toc_section_display": true,
   "toc_window_display": true
  }
 },
 "nbformat": 4,
 "nbformat_minor": 5
}
