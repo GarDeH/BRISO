{
 "cells": [
  {
   "cell_type": "code",
   "execution_count": null,
   "id": "97541cfd",
   "metadata": {},
   "outputs": [],
   "source": [
    "import numpy as np\n",
    "import pandas as pd\n",
    "import matplotlib.pyplot as plt\n",
    "import OZVB_DU\n",
    "from matplotlib.pylab import figure\n",
    "%config InlineBackend.figure_format = 'svg'  # векторный формат\n",
    "\n",
    "rc = {'font.family': 'serif',\n",
    "      'font.serif': 'Times New Roman',\n",
    "      'font.variant': 'normal',\n",
    "      'font.weight':  'normal',\n",
    "      'font.stretch': 'normal',\n",
    "      'font.style': 'normal',\n",
    "      'font.size':    14.0,\n",
    "      'mathtext.default': 'regular',\n",
    "      'mathtext.fontset': 'stix'}\n",
    "plt.rcParams.update(rc)"
   ]
  },
  {
   "cell_type": "code",
   "execution_count": null,
   "id": "f6214b39",
   "metadata": {},
   "outputs": [],
   "source": [
    "# Тестовая задача (щелевой заряд)\n",
    "INIT_4 = {'kappa_0': 60.2, 'l_gr': 1.176, 'shape': 'slot', 'a_': 0.3, 'a': 0.36, 'c': 0.012, 'r_': 0.12, 'alpha_1': 1.405, 'tetta': 32, 'R': 0.05,\n",
    "          'r': 6, 'z_1': 0.0664, 'z_2': 0.0619, 'z_3': 0.06, 'ro_t': 1770, 'omega_opt': [50], 'count': 4,\n",
    "          'D_ks': 192, 'D_kr_opt': [50], 'e_d_opt': [0.417], 'z_0': 0.06, 'epsilon_f': 0.86, 'epsilon_w': 0.83,\n",
    "          'p_ref_t': 98066.5, 'p_h': 1e5, 'T_deg': [273.15-50, 273.15+20, 273.15+50], 'T_s': 750, 'T_ref': 273.15+20,\n",
    "          'c_p_nach': 1004.5, 'R_nach': 287, 'p_ref_v': 1e6, 'ro_v': 1850, 'u_1_v': 16.9, 'nu_v': 0.22, 'D_t_v': 0.0028, 'T_p_v': 2543.3,\n",
    "          'mu_g': 0.6193*1e-4, 'lamda_g': 0.0871, 'c_p_v': 1311.4, 'c_p_g_v': 896.32, 'z_0_v': 0.55634, 'R_g_v': 317.47,\n",
    "          'T_p_1': 3415, 'n_t': 1.1493, 'n_kr': 1.1305, 'u_1_t': 2.9, 'nu_t': 0.3, 'D_t_t': 0.002, 'c_p_1': 2070.7,\n",
    "          'c_t': 1377, 'lamda_t': 0.24, 'kappa_ref': 100, 'z_0_t': 0.31699, 'R_t': 441.74, 'e_v_0': 0.75, 'm_v': 0.15,\n",
    "          'f_cut': 0.1, 'F_cut': 0.00289}\n",
    "\n",
    "res_4 = get_p_graph(INIT_4).get_result()"
   ]
  }
 ],
 "metadata": {
  "kernelspec": {
   "display_name": "Python 3",
   "language": "python",
   "name": "python3"
  },
  "language_info": {
   "codemirror_mode": {
    "name": "ipython",
    "version": 3
   },
   "file_extension": ".py",
   "mimetype": "text/x-python",
   "name": "python",
   "nbconvert_exporter": "python",
   "pygments_lexer": "ipython3",
   "version": "3.8.8"
  },
  "toc": {
   "base_numbering": 1,
   "nav_menu": {},
   "number_sections": false,
   "sideBar": true,
   "skip_h1_title": false,
   "title_cell": "Table of Contents",
   "title_sidebar": "Contents",
   "toc_cell": false,
   "toc_position": {},
   "toc_section_display": true,
   "toc_window_display": false
  }
 },
 "nbformat": 4,
 "nbformat_minor": 5
}
