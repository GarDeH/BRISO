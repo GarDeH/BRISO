{
 "cells": [
  {
   "cell_type": "code",
   "execution_count": 85,
   "metadata": {
    "ExecuteTime": {
     "end_time": "2021-12-16T17:55:10.036401Z",
     "start_time": "2021-12-16T17:55:10.019445Z"
    }
   },
   "outputs": [],
   "source": [
    "import numpy as np\n",
    "import matplotlib.pyplot as plt\n",
    "from scipy.integrate import ode\n",
    "\n",
    "import numpy as np\n",
    "import math \n",
    "import matplotlib.pyplot as plt\n",
    "import matplotlib as mpl\n",
    "import pandas as pd\n"
   ]
  },
  {
   "cell_type": "code",
   "execution_count": 86,
   "metadata": {
    "ExecuteTime": {
     "end_time": "2021-12-16T17:55:10.464258Z",
     "start_time": "2021-12-16T17:55:10.449297Z"
    }
   },
   "outputs": [],
   "source": [
    "#исходные данные для основного заряда\n",
    "delta = 1750\n",
    "omega = 100 \n",
    "a = 0.45\n",
    "c = 0.01\n",
    "D = 0.24 #диаметр камеры сгорания\n",
    "d = 0.06\n",
    "z_0 = 0.09 #e_0 для основного заряда\n",
    "e_0=z_0\n",
    "n = 4"
   ]
  },
  {
   "cell_type": "code",
   "execution_count": 87,
   "metadata": {
    "ExecuteTime": {
     "end_time": "2021-12-16T17:55:10.969906Z",
     "start_time": "2021-12-16T17:55:10.951953Z"
    }
   },
   "outputs": [],
   "source": [
    "# Исходные данные\n",
    "p_ref_t=98100\n",
    "p_ref_B=1e6\n",
    "p_h=1e5\n",
    "p_nom_0=10*1e6\n",
    "\n",
    "T_0=223.15 + 100 #-50\n",
    "T_s=750\n",
    "T_ref=293.15\n",
    "\n",
    "c_p_nach=1004.5\n",
    "R_nach=287\n",
    "\n",
    "rho_B=1850\n",
    "T_p_0=2543.3\n",
    "\n",
    "mu_g=0.6193*1e-4\n",
    "lamda_g=0.0871\n",
    "\n",
    "u_1_B=16.9*1e-3\n",
    "nu_B=0.22\n",
    "D_t_B=0.0028\n",
    "\n",
    "c_p_0= 1314\n",
    "\n",
    "z_0_Bospl=0.55634 # конденсированная фаза при горении вопсламенителя - из Терры\n",
    "R_Bospl=317.47 #газовая постоянная продуктов сгорания воспламенителя - из Терры\n",
    "R_0=R_Bospl*(1-z_0_Bospl)\n",
    "\n",
    "\n",
    "z_0_Topl=0.32146 # конденсированная фаза при горении основного заряда - из Терры\n",
    "R_Topl=440.63 #газовая постоянная продуктов сгорания основного заряда - из Терры\n",
    "R_1=R_Topl*(1-z_0_Topl)\n",
    "\n",
    "T_p_1=3425.7\n",
    "n_t=1.1346 #показатель политропы топлива\n",
    "\n",
    "#параметры закона горения\n",
    "u_1_t=2.9*1e-3\n",
    "nu_t=0.3\n",
    "D_t_t=0.002\n",
    "\n",
    "c_p_1= 1932.8\n",
    "\n",
    "c_t, lamda_t, rho_t= 1377, 0.24, delta\n",
    "\n",
    "kappa_ref=100"
   ]
  },
  {
   "cell_type": "code",
   "execution_count": 88,
   "metadata": {
    "ExecuteTime": {
     "end_time": "2021-12-16T17:55:11.942349Z",
     "start_time": "2021-12-16T17:55:11.878476Z"
    }
   },
   "outputs": [],
   "source": [
    "global W\n",
    "def S_g_B(e, e_B_0):\n",
    "    global W\n",
    "    e0 = e_B_0\n",
    "    d = e_B_0*5\n",
    "    #d = 0.21 * 1e-3\n",
    "    c = e_B_0*0.8\n",
    "    h  = e0 - c/2\n",
    "    def R(d, h, e0):\n",
    "        r = d/2\n",
    "        return (r**2 + h**2)/2/h\n",
    "    def S1(e, e0):\n",
    "        r = d/2\n",
    "        return 4*np.pi*(R(d, h, e0)-e)*h1(e, e0) + 2*np.pi*(r - e)*c1(e, e0)\n",
    "    def h1(e, e0):\n",
    "        r = d/2\n",
    "        return (R(d, h, e0) - e) - np.sqrt((R(d, h, e0) - e)**2 - (r - e)**2)\n",
    "    def c1(e, e0):\n",
    "        return 2*(e0 - e - h1(e, e0))\n",
    "    def S2(e, e0):\n",
    "        return 4*np.pi*(R(d, h, e0) - e)*(e0 - e)\n",
    "    def e1(e, e0):\n",
    "        r = d/2\n",
    "        return ((R(d, h, e0)**2 - r**2) - (R(d, h, e0) - e0)**2)/(2*(R(d, h, e0) - r))\n",
    "    ee = e1(e, e0)\n",
    "    def WW(e, e0):\n",
    "        r = d/2\n",
    "        return np.pi*r**2*c + 2*np.pi*h**2*(R(d, h, e0) - h/3)\n",
    "    W = WW(e, e0)\n",
    "    if e < ee:\n",
    "        return S1(e, e0)\n",
    "    else:\n",
    "        return S2(e, e0)\n",
    "#предварительные вычисления\n",
    "A_n=(n_t*(2/(n_t+1))**((n_t+1)/(n_t-1)))**0.5\n",
    "S_g_sr=omega/(rho_t*e_0)\n",
    "F_sv=np.pi*d**2/4\n",
    "\n",
    "\n",
    "def X(G_B,T,G_t,dQ_t_dt,F_q_1_):\n",
    "    x=G_B*c_p_0*(T_p_0-T)+G_t*(T_p_1-T)-dQ_t_dt*F_q_1_\n",
    "    return x\n",
    "def Y(G_B,T,G_t,p,rho,G):\n",
    "    y= G_B*R_0*T+G_t*R_1*T-p/rho*G-p*(G_B/rho_B + G_t/rho_t)\n",
    "    return y\n",
    "\n",
    "#закон горения\n",
    "def U_t(p, u_1,nu,T):\n",
    "    return u_1_t*(p/p_ref_t)**nu_t*np.exp(D_t_t*(T_0-T_ref))\n",
    "def U_B(p, u_1,nu,T):\n",
    "    return u_1_B*(p/p_ref_B)**nu_B*np.exp(D_t_B*(T_0-T_ref))\n",
    "\n",
    "def FI_kappa(kappa):\n",
    "    return 1\n",
    "#return max(1, 1+0.003*(kappa-kappa_ref))\n",
    "def Kappa(S_g_0, F_sv): #параметр Победоносцева\n",
    "    return S_g_0/F_sv\n",
    "\n",
    "#переключатели\n",
    "etta_T_s=(T_s-T_0)**2\n",
    "def F_q_1(etta_t):\n",
    "    if etta_t < etta_T_s:\n",
    "        return 1\n",
    "    else:\n",
    "        return 0\n",
    "def F_0(e):\n",
    "    if e <= e_B_0:\n",
    "        return 1\n",
    "    else:\n",
    "        return 0\n",
    "def F_1(etta_T, e):\n",
    "    if etta_T >= etta_T_s and e <= e_0:\n",
    "        return 1\n",
    "    else:\n",
    "        return 0\n",
    "\n",
    "#расчёт теплового потока\n",
    "def q(etta_T, G_B, T):\n",
    "    Pr=(c_p_0*mu_g)/lamda_g\n",
    "    rho_v=G_B/F_sv\n",
    "    Re=(rho_v*d)/mu_g\n",
    "    Nu=0.023*Re**0.8*Pr*0.4\n",
    "    alpha=Nu*lamda_g/d\n",
    "    return alpha*(T-(T_0+etta_T**0.5))\n",
    "def Pi(lamda, k):\n",
    "    return (1 - (k-1)/(k+1)*lamda**2)**(k/(k-1))\n",
    "\n",
    "def G_(p,R,T, k):    #расход через сопло\n",
    "    if p*Pi(1,k) < p_h:\n",
    "        return ((p*F_kr)/(np.sqrt(R*T)))*(p_h/p)**(1/n)*np.sqrt(2*n/(n-1)*np.abs(1-(p_h/p)**((n-1)/n)))\n",
    "    else:\n",
    "        return (A_n*F_kr*p)/((R*T)**0.5)\n",
    "def G_b(S,u, F_0): #расход от воспламенителя\n",
    "    return S*u*rho_B*F_0\n",
    "def G_topl(S,u,fi_kappa, f_1):#расход от основного заряда\n",
    "    return S*u*rho_t*f_1*fi_kappa\n",
    "\n",
    "# горение основного заряда\n",
    "\n",
    "beta = np.pi/n\n",
    "F = np.pi*(D**2)/4\n",
    "c_ = c/D\n",
    "d_ = d/D\n",
    "a_ = 0.3\n",
    "\n",
    "epsilon_f = 1 - d_**2\n",
    "f_cut = (n/math.pi) * (c_*np.sqrt(1 - c_**2) - c_*np.sqrt(d_**2 - c_**2) + np.arcsin(c_) - d_**2 * np.arcsin(c_/d_))\n",
    "epsilon_w = epsilon_f - a_*f_cut\n",
    "F_cut = F*f_cut\n",
    "z_1 = 0.5*(d*np.sin(beta)-c)/(1-np.sin(beta))\n",
    "z_2 = (D*np.sin(beta)-c)/2\n",
    "#длина заряда\n",
    "l_gr=omega/(delta * epsilon_w * F)\n",
    "\n",
    "def S_g_t(z): #зависимость площади поверхности горения основного заряда\n",
    "    def e_1(d, beta, c):\n",
    "        return 0.5*((d*np.sin(beta) - c)/(1 - np.sin(beta)))\n",
    "\n",
    "    def e_2(D, beta, c):\n",
    "        return 0.5*(D*np.sin(beta) - c)\n",
    "\n",
    "    def S_a(z):\n",
    "        if np.pi*(d + 2*z)*(l_gr - a - z):\n",
    "            return np.pi*(d + 2*z)*(l_gr - a - z)\n",
    "        else:\n",
    "            return 0\n",
    "\n",
    "    def S_b(z):\n",
    "        if z > z_1:\n",
    "            return 0\n",
    "        else:\n",
    "            return n*(beta - fi_1(z))*(d + 2*z)*a \n",
    "\n",
    "    def fi_1(z):\n",
    "        return np.arcsin((c + 2*z)/(d + 2*z))\n",
    "\n",
    "    def S_c(z):\n",
    "        if z >= 0 and z <= z_1:\n",
    "            return 2*n*a*b1(z)\n",
    "        elif z_1 < z and z <= z_2:\n",
    "            return 2*n*a*b2(z)\n",
    "        elif z > z_2:\n",
    "            return 0\n",
    "        else:\n",
    "            return 0 ### ???\n",
    "\n",
    "    def b1(z):\n",
    "        return 0.5*(np.sqrt(D**2 - (c + 2*z)**2) - np.sqrt((d + 2*z)**2 - (c + 2*z)**2))\n",
    "\n",
    "    def b2(z):\n",
    "        return 0.5*(np.sqrt(D**2 - (c + z*2)**2) - (c + 2*z)*np.tan(beta)**(-1))\n",
    "\n",
    "    def S_d(z):\n",
    "        if np.pi/4*(D**2 - (d + 2*z)**2):\n",
    "            return np.pi/4*(D**2 - (d + 2*z)**2)\n",
    "        else:\n",
    "            return 0\n",
    "\n",
    "    def S(z):\n",
    "        return S_a(z) + S_b(z) + S_c(z) + S_d(z)\n",
    "\n",
    "    e1 = e_1(d, beta, c)\n",
    "    e2 = e_2(D, beta, c)\n",
    "\n",
    "    return S(z)\n",
    "# перерасчёт номинального давления в зависимости от начальной температуры и параметра Победоносцева\n",
    "p_nom=p_nom_0*np.exp((D_t_t*(T_0-T_ref))/(1-nu_t))\n",
    "#*(FI_kappa(Kappa(S_g_t(0),F_sv)))**(1/(1-nu_t))\n",
    "F_kr=(S_g_sr*U_t(p_nom,u_1_t,nu_t,T_ref)*rho_t*(R_1*T_p_1)**0.5)/(A_n*p_nom)\n",
    "#Начальные условия\n",
    "W_0=np.pi*D**3/12+np.pi*D**2/4*l_gr-omega/rho_t\n",
    "INIT_1=np.array([1e5, T_0, W_0,c_p_nach, R_nach,0,0,0])"
   ]
  },
  {
   "cell_type": "code",
   "execution_count": 89,
   "metadata": {
    "ExecuteTime": {
     "end_time": "2021-12-16T17:55:12.577610Z",
     "start_time": "2021-12-16T17:55:12.550679Z"
    }
   },
   "outputs": [],
   "source": [
    "def rk4(init, sys, t0, dt, n, stop):\n",
    "    \n",
    "    # declaration\n",
    "    \n",
    "    t = np.zeros(n)\n",
    "    m = len(init) + 1\n",
    "    res = np.zeros((n, m))\n",
    "    \n",
    "    # initialization\n",
    "    \n",
    "    i = 0\n",
    "    X = init\n",
    "    t[i] = t0\n",
    "    res[i, 0] = t[i]\n",
    "    res[i, 1:m] = X\n",
    "    \n",
    "    # main loop\n",
    "    #while stop(t[i], X) > 0 and i < n - 1:\n",
    "    while i < n - 1:\n",
    "        k1 = sys(t[i], X)\n",
    "        k2 = sys(t[i] + 0.5*dt, X + k1*0.5*dt)\n",
    "        k3 = sys(t[i] + 0.5*dt, X + k2*0.5*dt)\n",
    "        k4 = sys(t[i] + dt, X + k3*dt)\n",
    "        i += 1\n",
    "        X += (k1 + 2*k2 + 2*k3 + k4)*dt/6\n",
    "        t[i] = t[i - 1] + dt\n",
    "        res[i, 0] = t[i]\n",
    "        res[i, 1:m] = X\n",
    "        \n",
    "    return res[0:i + 1, :]"
   ]
  },
  {
   "cell_type": "code",
   "execution_count": 90,
   "metadata": {
    "ExecuteTime": {
     "end_time": "2021-12-16T17:55:13.961951Z",
     "start_time": "2021-12-16T17:55:13.942959Z"
    }
   },
   "outputs": [],
   "source": [
    "def System(t, y):\n",
    "    p,T,W,c_p,R,e_B,e,etta_T=y\n",
    "    k=c_p/(c_p-R)\n",
    "    rho=p/(R*T)\n",
    "    f_q_1=F_q_1(etta_T)\n",
    "    f_0=F_0(e_B)\n",
    "    f_1=F_1(etta_T,e)\n",
    "    S_0=S_g_t(0)\n",
    "\n",
    "    u_B=U_B(p, u_1_B,nu_B,T)\n",
    "    u=U_t(p, u_1_t,nu_t,T)\n",
    "    S_B=N*S_g_B(e_B,e_B_0)\n",
    "    S_t=S_g_t(e)\n",
    "    d_kan_=d+2*e\n",
    "    F_kan=np.pi*d_kan_**2/4\n",
    "    kappa=Kappa(S_t, F_kan)\n",
    "    fi_kappa=FI_kappa(kappa)\n",
    "\n",
    "    G_B=G_b(N*S_g_B(e_B,e_B_0),u_B, f_0)\n",
    "    G_t=G_topl(S_g_t(e),u,fi_kappa, f_1)\n",
    "    G=G_(p,R,T,k)\n",
    "\n",
    "    q_1=q(etta_T, G_B, T)\n",
    "    dQ_t_dt=q_1*S_0\n",
    "\n",
    "\n",
    "    x=X(G_B,T,G_t,dQ_t_dt,f_q_1)\n",
    "    y_=Y(G_B,T,G_t,p,rho,G)\n",
    "\n",
    "    dp_dt=(k-1)/W*(x+y_*k/(k-1))\n",
    "    dT_dt=(k - 1)/(rho*W*R)*(x+y_)\n",
    "    dW_dt=G_B/rho_B+G_t/rho_t\n",
    "    dc_p_dt=1/(rho*W)*(G_B*(c_p_0-c_p)+G_t*(c_p_1-c_p))\n",
    "    dR_dt=1/(rho*W)*(G_B*(R_0-R)+G_t*(R_1-R))\n",
    "    de_b_dt=u_B*f_0\n",
    "    de_dt=u*fi_kappa*f_1\n",
    "    detta_T_dt=(2*q_1**2)/(c_t*lamda_t*rho_t)*f_q_1\n",
    "\n",
    "    return np.array([dp_dt,dT_dt,dW_dt, dc_p_dt ,dR_dt, de_b_dt, de_dt, detta_T_dt])"
   ]
  },
  {
   "cell_type": "code",
   "execution_count": 34,
   "metadata": {
    "ExecuteTime": {
     "end_time": "2021-12-16T17:10:33.829866Z",
     "start_time": "2021-12-16T17:10:33.802937Z"
    }
   },
   "outputs": [],
   "source": []
  },
  {
   "cell_type": "code",
   "execution_count": null,
   "metadata": {},
   "outputs": [],
   "source": []
  },
  {
   "cell_type": "code",
   "execution_count": 133,
   "metadata": {
    "ExecuteTime": {
     "end_time": "2021-12-16T19:35:18.576835Z",
     "start_time": "2021-12-16T19:35:18.557885Z"
    }
   },
   "outputs": [],
   "source": [
    "def calc(N, e_B_0):\n",
    "   #предварительные вычисления\n",
    "    A_n=(n_t*(2/(n_t+1))**((n_t+1)/(n_t-1)))**0.5\n",
    "    S_g_sr=omega/(rho_t*e_0)\n",
    "    F_sv=np.pi*d**2/4 \n",
    "    \n",
    "    F_kr=(S_g_sr*U_t(p_nom,u_1_t,nu_t,T_ref)*rho_t*(R_1*T_p_1)**0.5)/(A_n*p_nom)\n",
    "    \n",
    "    etta_T_s=(T_s-T_0)**2\n",
    "    \n",
    "    # горение основного заряда\n",
    "    beta = np.pi/n\n",
    "    F = np.pi*(D**2)/4\n",
    "    c_ = c/D\n",
    "    d_ = d/D\n",
    "    a_ = 0.3\n",
    "    epsilon_f = 1 - d_**2\n",
    "    f_cut = (n/math.pi) * (c_*np.sqrt(1 - c_**2) - c_*np.sqrt(d_**2 - c_**2) + np.arcsin(c_) - d_**2 * np.arcsin(c_/d_))\n",
    "    epsilon_w = epsilon_f - a_*f_cut\n",
    "    F_cut = F*f_cut\n",
    "    z_1 = 0.5*(d*np.sin(beta)-c)/(1-np.sin(beta))\n",
    "    z_2 = (D*np.sin(beta)-c)/2\n",
    "    #длина заряда\n",
    "    l_gr=omega/(delta * epsilon_w * F)\n",
    "    \n",
    "    \n",
    "    #сначала интегрируем до \n",
    "    t_k_1=0.25\n",
    "    #с шагом\n",
    "    d_t_1=5*1e-5\n",
    "    \n",
    "    #Начальные условия\n",
    "    W_0=np.pi*D**3/12+np.pi*D**2/4*l_gr-omega/rho_t\n",
    "    INIT_1=np.array([1e5, T_0, W_0,c_p_nach, R_nach,0,0,0])\n",
    "\n",
    "    Res=rk4(INIT_1, System, 0, d_t_1, int(t_k_1/d_t_1), stop=1)\n",
    "    e_topl=Res[:,7]\n",
    "    p_kam=Res[:,1]\n",
    "    e_vospl=Res[:,6]\n",
    "    t_kam=Res[:,0]\n",
    "    \n",
    "    ind = 0\n",
    "    for i in range(len(e_topl)):\n",
    "        if e_topl[i] != 0:\n",
    "            ind = i\n",
    "            break\n",
    "    p_kam[ind]\n",
    "    p_nom_2 = sum(p_kam[ind:])/len(p_kam[ind:])\n",
    "    \n",
    "    W_sgor_v=0\n",
    "    for i in range(ind-1):\n",
    "        dW=S_g_B(e_vospl[i], e_B_0)*(e_vospl[i+1]-e_vospl[i])\n",
    "        W_sgor_v+=dW\n",
    "    W_sgor_v=W_sgor_v/e_vospl[ind]\n",
    "    \n",
    "    mass_otnos=W_sgor_v*N\n",
    "    t_sgor=t_kam[ind]\n",
    "    \n",
    "    if e_topl[len(e_topl)//3] > 0:\n",
    "        if e_B_0 < 0 or W_sgor_v/(W*N) >0.9:\n",
    "            return [[0, max(p_kam)*100] , mass_otnos, t_sgor]\n",
    "        else:\n",
    "            return [[1, max(p_kam)/p_nom_2], mass_otnos, t_sgor]\n",
    "    else:\n",
    "        return [[0, max(p_kam)*100], mass_otnos, t_sgor]\n",
    "    #print(len(T_kam),len(t_kam))"
   ]
  },
  {
   "cell_type": "code",
   "execution_count": null,
   "metadata": {
    "ExecuteTime": {
     "start_time": "2021-12-16T19:35:19.219Z"
    }
   },
   "outputs": [
    {
     "name": "stderr",
     "output_type": "stream",
     "text": [
      "<ipython-input-88-7956602c322f>:51: RuntimeWarning: invalid value encountered in double_scalars\n",
      "  return u_1_B*(p/p_ref_B)**nu_B*np.exp(D_t_B*(T_0-T_ref))\n",
      "<ipython-input-88-7956602c322f>:49: RuntimeWarning: invalid value encountered in double_scalars\n",
      "  return u_1_t*(p/p_ref_t)**nu_t*np.exp(D_t_t*(T_0-T_ref))\n",
      "<ipython-input-88-7956602c322f>:90: RuntimeWarning: invalid value encountered in double_scalars\n",
      "  return ((p*F_kr)/(np.sqrt(R*T)))*(p_h/p)**(1/n)*np.sqrt(2*n/(n-1)*np.abs(1-(p_h/p)**((n-1)/n)))\n"
     ]
    }
   ],
   "source": [
    "res, NN, e_BB, NN1, e_BB1, p_p_nom = [], [], [], [], [], []\n",
    "p_p_min, NN_min, e_BB_min = 100, 0, 0\n",
    "k = 0\n",
    "cr_1 = []\n",
    "z, xx, yy, xx1, yy1 = [], [], [], [], []\n",
    "\n",
    "N_opt= 1337\n",
    "e_B_0_opt= 0.00145\n",
    "mass_otn=[]\n",
    "t_sgor=[]\n",
    "\n",
    "for i in range(0, 10, 1):\n",
    "    N = N_opt - 200 + 40*i\n",
    "    for j in range(0, 10, 1):\n",
    "        e_B_0 = e_B_0_opt - 0.00036 + 0.00009*j\n",
    "        cr_1.append(calc(N, e_B_0)[0])\n",
    "        #print(cr_1)\n",
    "        if cr_1[k][0] != 0:\n",
    "            NN.append(N)\n",
    "            e_BB.append(e_B_0)\n",
    "            p_p_nom.append(cr_1[k][1])\n",
    "            mass_otn.append(calc(N, e_B_0)[1])\n",
    "            t_sgor.append(calc(N, e_B_0)[2])\n",
    "            if p_p_nom[-1] < p_p_min:\n",
    "                p_p_min = p_p_nom[-1]\n",
    "                NN_min = NN[-1]\n",
    "                e_BB_min = e_BB[-1]\n",
    "        else:\n",
    "            NN1.append(N)\n",
    "            e_BB1.append(e_B_0)\n",
    "        k += 1"
   ]
  },
  {
   "cell_type": "code",
   "execution_count": 104,
   "metadata": {
    "ExecuteTime": {
     "end_time": "2021-12-16T18:14:43.166058Z",
     "start_time": "2021-12-16T18:14:43.150097Z"
    }
   },
   "outputs": [
    {
     "name": "stdout",
     "output_type": "stream",
     "text": [
      "[(1, 1.843978498375366), (1, 1.845437042464459), (1, 1.8463772733064496), (1, 1.8468187704885757), (1, 1.8468319463972238), (1, 1.8460133073351361), (1, 1.8450762280184536), (1, 1.8437199302060385), (1, 1.8419935975967612), (1, 1.8395730193900035), (1, 1.8817168689850015), (1, 1.8826756431054927), (1, 1.8830970571261962), (1, 1.8830036838367572), (1, 1.882448823743306), (1, 1.8814366952517498), (1, 1.8795934375121586), (1, 1.8776811862550928), (1, 1.8753732974233306), (1, 1.8722963836873132), (1, 1.9174652237502188), (1, 1.9175643808732181), (1, 1.917443258606994), (1, 1.9168242980439534), (1, 1.9157136993774926), (1, 1.9137324780571257), (1, 1.9116588315103702), (1, 1.9088198551780773), (1, 1.9058593403679767), (1, 1.9025733644621614), (1, 1.9503866933523542), (1, 1.9502710634696352), (1, 1.9496199660877138), (1, 1.948096357248724), (1, 1.9463510031547637), (1, 1.9441430365734342), (1, 1.9411327747179756), (1, 1.9380079975343178), (1, 1.9341252204327881), (1, 1.9301754629385521), (1, 1.9816863922251744), (1, 1.9810536268592938), (1, 1.9794402513315126), (1, 1.9776550007713989), (1, 1.9750043174827454), (1, 1.9721886540761577), (1, 1.9685569698928311), (1, 1.9648128984772493), (1, 1.960300904353515), (1, 1.9557265604947742), (1, 2.0108111973948923), (1, 2.0095808693443176), (1, 2.007416219425579), (1, 2.0050295836536187), (1, 2.001763066400487), (1, 1.9983326560269221), (1, 1.9940754277426893), (1, 1.9897093262783903), (1, 1.9845661728360717), (1, 1.979365822066287), (1, 2.038255007729136), (1, 2.036432049538929), (1, 2.033658980634185), (1, 2.0306636989074236), (1, 2.0267767063399105), (1, 2.022727997522067), (1, 2.0178424708818983), (1, 2.0128526829319404), (1, 2.0070781790364935), (1, 2.0012891966333344), (1, 2.0641081344909105), (1, 2.061684538602805), (1, 2.058297664791459), (1, 2.0546895020404863), (1, 2.0501784149452558), (1, 2.0455092481987207), (1, 2.0399947478792284), (1, 2.034418872687821), (1, 2.0280008145406296), (1, 2.021191688031138), (1, 2.0884822143542454), (1, 2.08549628589884), (1, 2.0814477519073757), (1, 2.0772646167318354), (1, 2.0720871178708498), (1, 2.0664577515828118), (1, 2.0606789601567224), (1, 2.0540775046141224), (1, 2.047447159785865), (1, 2.0400006019558257), (1, 2.111507065828122), (1, 2.107499782432466), (1, 2.103240112120871), (1, 2.098028613247132), (1, 2.0926347573795128), (1, 2.0863532311573945), (1, 2.0796083605424336), (1, 2.072752069488452), (1, 2.0650983267888394), (1, 2.0570673915646065)]\n"
     ]
    }
   ],
   "source": []
  },
  {
   "cell_type": "code",
   "execution_count": 129,
   "metadata": {
    "ExecuteTime": {
     "end_time": "2021-12-16T19:23:39.413446Z",
     "start_time": "2021-12-16T19:23:39.398441Z"
    }
   },
   "outputs": [],
   "source": [
    "rc = {\"font.family\" : \"serif\", \n",
    "      \"mathtext.fontset\" : \"stix\"}\n",
    "plt.rcParams.update(rc)\n",
    "plt.rcParams[\"font.serif\"] = [\"Times New Roman\"] + plt.rcParams[\"font.serif\"]\n",
    "\n",
    "\n",
    "mass_otn=mass_otn[:]*N"
   ]
  },
  {
   "cell_type": "code",
   "execution_count": 132,
   "metadata": {
    "ExecuteTime": {
     "end_time": "2021-12-16T19:28:37.491155Z",
     "start_time": "2021-12-16T19:28:37.006370Z"
    }
   },
   "outputs": [
    {
     "data": {
      "image/png": "[encoded data removed]",
      "text/plain": [
       "<Figure size 648x504 with 2 Axes>"
      ]
     },
     "metadata": {
      "needs_background": "light"
     },
     "output_type": "display_data"
    },
    {
     "ename": "ValueError",
     "evalue": "'c' argument has 105402 elements, which is inconsistent with 'x' and 'y' with size 66.",
     "output_type": "error",
     "traceback": [
      "\u001b[1;31m---------------------------------------------------------------------------\u001b[0m",
      "\u001b[1;31mValueError\u001b[0m                                Traceback (most recent call last)",
      "\u001b[1;32mF:\\Anaconda\\lib\\site-packages\\matplotlib\\axes\\_axes.py\u001b[0m in \u001b[0;36m_parse_scatter_color_args\u001b[1;34m(c, edgecolors, kwargs, xsize, get_next_color_func)\u001b[0m\n\u001b[0;32m   4290\u001b[0m             \u001b[1;32mtry\u001b[0m\u001b[1;33m:\u001b[0m  \u001b[1;31m# Is 'c' acceptable as PathCollection facecolors?\u001b[0m\u001b[1;33m\u001b[0m\u001b[1;33m\u001b[0m\u001b[0m\n\u001b[1;32m-> 4291\u001b[1;33m                 \u001b[0mcolors\u001b[0m \u001b[1;33m=\u001b[0m \u001b[0mmcolors\u001b[0m\u001b[1;33m.\u001b[0m\u001b[0mto_rgba_array\u001b[0m\u001b[1;33m(\u001b[0m\u001b[0mc\u001b[0m\u001b[1;33m)\u001b[0m\u001b[1;33m\u001b[0m\u001b[1;33m\u001b[0m\u001b[0m\n\u001b[0m\u001b[0;32m   4292\u001b[0m             \u001b[1;32mexcept\u001b[0m \u001b[1;33m(\u001b[0m\u001b[0mTypeError\u001b[0m\u001b[1;33m,\u001b[0m \u001b[0mValueError\u001b[0m\u001b[1;33m)\u001b[0m \u001b[1;32mas\u001b[0m \u001b[0merr\u001b[0m\u001b[1;33m:\u001b[0m\u001b[1;33m\u001b[0m\u001b[1;33m\u001b[0m\u001b[0m\n",
      "\u001b[1;32mF:\\Anaconda\\lib\\site-packages\\matplotlib\\colors.py\u001b[0m in \u001b[0;36mto_rgba_array\u001b[1;34m(c, alpha)\u001b[0m\n\u001b[0;32m    340\u001b[0m     \u001b[1;32melse\u001b[0m\u001b[1;33m:\u001b[0m\u001b[1;33m\u001b[0m\u001b[1;33m\u001b[0m\u001b[0m\n\u001b[1;32m--> 341\u001b[1;33m         \u001b[1;32mreturn\u001b[0m \u001b[0mnp\u001b[0m\u001b[1;33m.\u001b[0m\u001b[0marray\u001b[0m\u001b[1;33m(\u001b[0m\u001b[1;33m[\u001b[0m\u001b[0mto_rgba\u001b[0m\u001b[1;33m(\u001b[0m\u001b[0mcc\u001b[0m\u001b[1;33m,\u001b[0m \u001b[0malpha\u001b[0m\u001b[1;33m)\u001b[0m \u001b[1;32mfor\u001b[0m \u001b[0mcc\u001b[0m \u001b[1;32min\u001b[0m \u001b[0mc\u001b[0m\u001b[1;33m]\u001b[0m\u001b[1;33m)\u001b[0m\u001b[1;33m\u001b[0m\u001b[1;33m\u001b[0m\u001b[0m\n\u001b[0m\u001b[0;32m    342\u001b[0m \u001b[1;33m\u001b[0m\u001b[0m\n",
      "\u001b[1;32mF:\\Anaconda\\lib\\site-packages\\matplotlib\\colors.py\u001b[0m in \u001b[0;36m<listcomp>\u001b[1;34m(.0)\u001b[0m\n\u001b[0;32m    340\u001b[0m     \u001b[1;32melse\u001b[0m\u001b[1;33m:\u001b[0m\u001b[1;33m\u001b[0m\u001b[1;33m\u001b[0m\u001b[0m\n\u001b[1;32m--> 341\u001b[1;33m         \u001b[1;32mreturn\u001b[0m \u001b[0mnp\u001b[0m\u001b[1;33m.\u001b[0m\u001b[0marray\u001b[0m\u001b[1;33m(\u001b[0m\u001b[1;33m[\u001b[0m\u001b[0mto_rgba\u001b[0m\u001b[1;33m(\u001b[0m\u001b[0mcc\u001b[0m\u001b[1;33m,\u001b[0m \u001b[0malpha\u001b[0m\u001b[1;33m)\u001b[0m \u001b[1;32mfor\u001b[0m \u001b[0mcc\u001b[0m \u001b[1;32min\u001b[0m \u001b[0mc\u001b[0m\u001b[1;33m]\u001b[0m\u001b[1;33m)\u001b[0m\u001b[1;33m\u001b[0m\u001b[1;33m\u001b[0m\u001b[0m\n\u001b[0m\u001b[0;32m    342\u001b[0m \u001b[1;33m\u001b[0m\u001b[0m\n",
      "\u001b[1;32mF:\\Anaconda\\lib\\site-packages\\matplotlib\\colors.py\u001b[0m in \u001b[0;36mto_rgba\u001b[1;34m(c, alpha)\u001b[0m\n\u001b[0;32m    188\u001b[0m     \u001b[1;32mif\u001b[0m \u001b[0mrgba\u001b[0m \u001b[1;32mis\u001b[0m \u001b[1;32mNone\u001b[0m\u001b[1;33m:\u001b[0m  \u001b[1;31m# Suppress exception chaining of cache lookup failure.\u001b[0m\u001b[1;33m\u001b[0m\u001b[1;33m\u001b[0m\u001b[0m\n\u001b[1;32m--> 189\u001b[1;33m         \u001b[0mrgba\u001b[0m \u001b[1;33m=\u001b[0m \u001b[0m_to_rgba_no_colorcycle\u001b[0m\u001b[1;33m(\u001b[0m\u001b[0mc\u001b[0m\u001b[1;33m,\u001b[0m \u001b[0malpha\u001b[0m\u001b[1;33m)\u001b[0m\u001b[1;33m\u001b[0m\u001b[1;33m\u001b[0m\u001b[0m\n\u001b[0m\u001b[0;32m    190\u001b[0m         \u001b[1;32mtry\u001b[0m\u001b[1;33m:\u001b[0m\u001b[1;33m\u001b[0m\u001b[1;33m\u001b[0m\u001b[0m\n",
      "\u001b[1;32mF:\\Anaconda\\lib\\site-packages\\matplotlib\\colors.py\u001b[0m in \u001b[0;36m_to_rgba_no_colorcycle\u001b[1;34m(c, alpha)\u001b[0m\n\u001b[0;32m    262\u001b[0m     \u001b[1;32mif\u001b[0m \u001b[1;32mnot\u001b[0m \u001b[0mnp\u001b[0m\u001b[1;33m.\u001b[0m\u001b[0miterable\u001b[0m\u001b[1;33m(\u001b[0m\u001b[0mc\u001b[0m\u001b[1;33m)\u001b[0m\u001b[1;33m:\u001b[0m\u001b[1;33m\u001b[0m\u001b[1;33m\u001b[0m\u001b[0m\n\u001b[1;32m--> 263\u001b[1;33m         \u001b[1;32mraise\u001b[0m \u001b[0mValueError\u001b[0m\u001b[1;33m(\u001b[0m\u001b[1;34mf\"Invalid RGBA argument: {orig_c!r}\"\u001b[0m\u001b[1;33m)\u001b[0m\u001b[1;33m\u001b[0m\u001b[1;33m\u001b[0m\u001b[0m\n\u001b[0m\u001b[0;32m    264\u001b[0m     \u001b[1;32mif\u001b[0m \u001b[0mlen\u001b[0m\u001b[1;33m(\u001b[0m\u001b[0mc\u001b[0m\u001b[1;33m)\u001b[0m \u001b[1;32mnot\u001b[0m \u001b[1;32min\u001b[0m \u001b[1;33m[\u001b[0m\u001b[1;36m3\u001b[0m\u001b[1;33m,\u001b[0m \u001b[1;36m4\u001b[0m\u001b[1;33m]\u001b[0m\u001b[1;33m:\u001b[0m\u001b[1;33m\u001b[0m\u001b[1;33m\u001b[0m\u001b[0m\n",
      "\u001b[1;31mValueError\u001b[0m: Invalid RGBA argument: 0.00013686134509814237",
      "\nThe above exception was the direct cause of the following exception:\n",
      "\u001b[1;31mValueError\u001b[0m                                Traceback (most recent call last)",
      "\u001b[1;32m<ipython-input-132-8a9c40a8310f>\u001b[0m in \u001b[0;36m<module>\u001b[1;34m\u001b[0m\n\u001b[0;32m     13\u001b[0m \u001b[1;33m\u001b[0m\u001b[0m\n\u001b[0;32m     14\u001b[0m \u001b[0mfig\u001b[0m \u001b[1;33m=\u001b[0m \u001b[0mplt\u001b[0m\u001b[1;33m.\u001b[0m\u001b[0mfigure\u001b[0m\u001b[1;33m(\u001b[0m\u001b[0mfigsize\u001b[0m\u001b[1;33m=\u001b[0m\u001b[1;33m[\u001b[0m\u001b[1;36m9\u001b[0m\u001b[1;33m,\u001b[0m \u001b[1;36m7\u001b[0m\u001b[1;33m]\u001b[0m\u001b[1;33m)\u001b[0m\u001b[1;33m\u001b[0m\u001b[1;33m\u001b[0m\u001b[0m\n\u001b[1;32m---> 15\u001b[1;33m \u001b[0mplt\u001b[0m\u001b[1;33m.\u001b[0m\u001b[0mscatter\u001b[0m\u001b[1;33m(\u001b[0m\u001b[0mNN\u001b[0m\u001b[1;33m,\u001b[0m \u001b[0me_BB\u001b[0m\u001b[1;33m,\u001b[0m \u001b[0mc\u001b[0m \u001b[1;33m=\u001b[0m \u001b[0mmass_otn\u001b[0m\u001b[1;33m*\u001b[0m\u001b[0mN\u001b[0m\u001b[1;33m,\u001b[0m \u001b[0ms\u001b[0m \u001b[1;33m=\u001b[0m \u001b[1;36m900\u001b[0m\u001b[1;33m,\u001b[0m \u001b[0mmarker\u001b[0m \u001b[1;33m=\u001b[0m \u001b[1;34m's'\u001b[0m\u001b[1;33m,\u001b[0m \u001b[0mcmap\u001b[0m \u001b[1;33m=\u001b[0m \u001b[1;34m'plasma'\u001b[0m\u001b[1;33m)\u001b[0m\u001b[1;33m\u001b[0m\u001b[1;33m\u001b[0m\u001b[0m\n\u001b[0m\u001b[0;32m     16\u001b[0m \u001b[0mplt\u001b[0m\u001b[1;33m.\u001b[0m\u001b[0mcolorbar\u001b[0m\u001b[1;33m(\u001b[0m\u001b[0mlabel\u001b[0m \u001b[1;33m=\u001b[0m \u001b[1;34m'Lr POV by Shirok, Sokol and Ystin`'\u001b[0m\u001b[1;33m)\u001b[0m\u001b[1;33m\u001b[0m\u001b[1;33m\u001b[0m\u001b[0m\n\u001b[0;32m     17\u001b[0m \u001b[0mplt\u001b[0m\u001b[1;33m.\u001b[0m\u001b[0mscatter\u001b[0m\u001b[1;33m(\u001b[0m\u001b[0mNN1\u001b[0m\u001b[1;33m,\u001b[0m \u001b[0me_BB1\u001b[0m\u001b[1;33m,\u001b[0m \u001b[0mcolor\u001b[0m \u001b[1;33m=\u001b[0m \u001b[1;34m'grey'\u001b[0m\u001b[1;33m,\u001b[0m \u001b[0ms\u001b[0m \u001b[1;33m=\u001b[0m \u001b[1;36m900\u001b[0m\u001b[1;33m,\u001b[0m \u001b[0mmarker\u001b[0m \u001b[1;33m=\u001b[0m \u001b[1;34m's'\u001b[0m\u001b[1;33m)\u001b[0m\u001b[1;33m\u001b[0m\u001b[1;33m\u001b[0m\u001b[0m\n",
      "\u001b[1;32mF:\\Anaconda\\lib\\site-packages\\matplotlib\\pyplot.py\u001b[0m in \u001b[0;36mscatter\u001b[1;34m(x, y, s, c, marker, cmap, norm, vmin, vmax, alpha, linewidths, verts, edgecolors, plotnonfinite, data, **kwargs)\u001b[0m\n\u001b[0;32m   2888\u001b[0m         \u001b[0mverts\u001b[0m\u001b[1;33m=\u001b[0m\u001b[0mcbook\u001b[0m\u001b[1;33m.\u001b[0m\u001b[0mdeprecation\u001b[0m\u001b[1;33m.\u001b[0m\u001b[0m_deprecated_parameter\u001b[0m\u001b[1;33m,\u001b[0m\u001b[1;33m\u001b[0m\u001b[1;33m\u001b[0m\u001b[0m\n\u001b[0;32m   2889\u001b[0m         edgecolors=None, *, plotnonfinite=False, data=None, **kwargs):\n\u001b[1;32m-> 2890\u001b[1;33m     __ret = gca().scatter(\n\u001b[0m\u001b[0;32m   2891\u001b[0m         \u001b[0mx\u001b[0m\u001b[1;33m,\u001b[0m \u001b[0my\u001b[0m\u001b[1;33m,\u001b[0m \u001b[0ms\u001b[0m\u001b[1;33m=\u001b[0m\u001b[0ms\u001b[0m\u001b[1;33m,\u001b[0m \u001b[0mc\u001b[0m\u001b[1;33m=\u001b[0m\u001b[0mc\u001b[0m\u001b[1;33m,\u001b[0m \u001b[0mmarker\u001b[0m\u001b[1;33m=\u001b[0m\u001b[0mmarker\u001b[0m\u001b[1;33m,\u001b[0m \u001b[0mcmap\u001b[0m\u001b[1;33m=\u001b[0m\u001b[0mcmap\u001b[0m\u001b[1;33m,\u001b[0m \u001b[0mnorm\u001b[0m\u001b[1;33m=\u001b[0m\u001b[0mnorm\u001b[0m\u001b[1;33m,\u001b[0m\u001b[1;33m\u001b[0m\u001b[1;33m\u001b[0m\u001b[0m\n\u001b[0;32m   2892\u001b[0m         \u001b[0mvmin\u001b[0m\u001b[1;33m=\u001b[0m\u001b[0mvmin\u001b[0m\u001b[1;33m,\u001b[0m \u001b[0mvmax\u001b[0m\u001b[1;33m=\u001b[0m\u001b[0mvmax\u001b[0m\u001b[1;33m,\u001b[0m \u001b[0malpha\u001b[0m\u001b[1;33m=\u001b[0m\u001b[0malpha\u001b[0m\u001b[1;33m,\u001b[0m \u001b[0mlinewidths\u001b[0m\u001b[1;33m=\u001b[0m\u001b[0mlinewidths\u001b[0m\u001b[1;33m,\u001b[0m\u001b[1;33m\u001b[0m\u001b[1;33m\u001b[0m\u001b[0m\n",
      "\u001b[1;32mF:\\Anaconda\\lib\\site-packages\\matplotlib\\__init__.py\u001b[0m in \u001b[0;36minner\u001b[1;34m(ax, data, *args, **kwargs)\u001b[0m\n\u001b[0;32m   1436\u001b[0m     \u001b[1;32mdef\u001b[0m \u001b[0minner\u001b[0m\u001b[1;33m(\u001b[0m\u001b[0max\u001b[0m\u001b[1;33m,\u001b[0m \u001b[1;33m*\u001b[0m\u001b[0margs\u001b[0m\u001b[1;33m,\u001b[0m \u001b[0mdata\u001b[0m\u001b[1;33m=\u001b[0m\u001b[1;32mNone\u001b[0m\u001b[1;33m,\u001b[0m \u001b[1;33m**\u001b[0m\u001b[0mkwargs\u001b[0m\u001b[1;33m)\u001b[0m\u001b[1;33m:\u001b[0m\u001b[1;33m\u001b[0m\u001b[1;33m\u001b[0m\u001b[0m\n\u001b[0;32m   1437\u001b[0m         \u001b[1;32mif\u001b[0m \u001b[0mdata\u001b[0m \u001b[1;32mis\u001b[0m \u001b[1;32mNone\u001b[0m\u001b[1;33m:\u001b[0m\u001b[1;33m\u001b[0m\u001b[1;33m\u001b[0m\u001b[0m\n\u001b[1;32m-> 1438\u001b[1;33m             \u001b[1;32mreturn\u001b[0m \u001b[0mfunc\u001b[0m\u001b[1;33m(\u001b[0m\u001b[0max\u001b[0m\u001b[1;33m,\u001b[0m \u001b[1;33m*\u001b[0m\u001b[0mmap\u001b[0m\u001b[1;33m(\u001b[0m\u001b[0msanitize_sequence\u001b[0m\u001b[1;33m,\u001b[0m \u001b[0margs\u001b[0m\u001b[1;33m)\u001b[0m\u001b[1;33m,\u001b[0m \u001b[1;33m**\u001b[0m\u001b[0mkwargs\u001b[0m\u001b[1;33m)\u001b[0m\u001b[1;33m\u001b[0m\u001b[1;33m\u001b[0m\u001b[0m\n\u001b[0m\u001b[0;32m   1439\u001b[0m \u001b[1;33m\u001b[0m\u001b[0m\n\u001b[0;32m   1440\u001b[0m         \u001b[0mbound\u001b[0m \u001b[1;33m=\u001b[0m \u001b[0mnew_sig\u001b[0m\u001b[1;33m.\u001b[0m\u001b[0mbind\u001b[0m\u001b[1;33m(\u001b[0m\u001b[0max\u001b[0m\u001b[1;33m,\u001b[0m \u001b[1;33m*\u001b[0m\u001b[0margs\u001b[0m\u001b[1;33m,\u001b[0m \u001b[1;33m**\u001b[0m\u001b[0mkwargs\u001b[0m\u001b[1;33m)\u001b[0m\u001b[1;33m\u001b[0m\u001b[1;33m\u001b[0m\u001b[0m\n",
      "\u001b[1;32mF:\\Anaconda\\lib\\site-packages\\matplotlib\\cbook\\deprecation.py\u001b[0m in \u001b[0;36mwrapper\u001b[1;34m(*inner_args, **inner_kwargs)\u001b[0m\n\u001b[0;32m    409\u001b[0m                          \u001b[1;32melse\u001b[0m \u001b[0mdeprecation_addendum\u001b[0m\u001b[1;33m,\u001b[0m\u001b[1;33m\u001b[0m\u001b[1;33m\u001b[0m\u001b[0m\n\u001b[0;32m    410\u001b[0m                 **kwargs)\n\u001b[1;32m--> 411\u001b[1;33m         \u001b[1;32mreturn\u001b[0m \u001b[0mfunc\u001b[0m\u001b[1;33m(\u001b[0m\u001b[1;33m*\u001b[0m\u001b[0minner_args\u001b[0m\u001b[1;33m,\u001b[0m \u001b[1;33m**\u001b[0m\u001b[0minner_kwargs\u001b[0m\u001b[1;33m)\u001b[0m\u001b[1;33m\u001b[0m\u001b[1;33m\u001b[0m\u001b[0m\n\u001b[0m\u001b[0;32m    412\u001b[0m \u001b[1;33m\u001b[0m\u001b[0m\n\u001b[0;32m    413\u001b[0m     \u001b[1;32mreturn\u001b[0m \u001b[0mwrapper\u001b[0m\u001b[1;33m\u001b[0m\u001b[1;33m\u001b[0m\u001b[0m\n",
      "\u001b[1;32mF:\\Anaconda\\lib\\site-packages\\matplotlib\\axes\\_axes.py\u001b[0m in \u001b[0;36mscatter\u001b[1;34m(self, x, y, s, c, marker, cmap, norm, vmin, vmax, alpha, linewidths, verts, edgecolors, plotnonfinite, **kwargs)\u001b[0m\n\u001b[0;32m   4449\u001b[0m \u001b[1;33m\u001b[0m\u001b[0m\n\u001b[0;32m   4450\u001b[0m         \u001b[0mc\u001b[0m\u001b[1;33m,\u001b[0m \u001b[0mcolors\u001b[0m\u001b[1;33m,\u001b[0m \u001b[0medgecolors\u001b[0m \u001b[1;33m=\u001b[0m\u001b[0;31m \u001b[0m\u001b[0;31m\\\u001b[0m\u001b[1;33m\u001b[0m\u001b[1;33m\u001b[0m\u001b[0m\n\u001b[1;32m-> 4451\u001b[1;33m             self._parse_scatter_color_args(\n\u001b[0m\u001b[0;32m   4452\u001b[0m                 \u001b[0mc\u001b[0m\u001b[1;33m,\u001b[0m \u001b[0medgecolors\u001b[0m\u001b[1;33m,\u001b[0m \u001b[0mkwargs\u001b[0m\u001b[1;33m,\u001b[0m \u001b[0mx\u001b[0m\u001b[1;33m.\u001b[0m\u001b[0msize\u001b[0m\u001b[1;33m,\u001b[0m\u001b[1;33m\u001b[0m\u001b[1;33m\u001b[0m\u001b[0m\n\u001b[0;32m   4453\u001b[0m                 get_next_color_func=self._get_patches_for_fill.get_next_color)\n",
      "\u001b[1;32mF:\\Anaconda\\lib\\site-packages\\matplotlib\\axes\\_axes.py\u001b[0m in \u001b[0;36m_parse_scatter_color_args\u001b[1;34m(c, edgecolors, kwargs, xsize, get_next_color_func)\u001b[0m\n\u001b[0;32m   4295\u001b[0m                 \u001b[1;32melse\u001b[0m\u001b[1;33m:\u001b[0m\u001b[1;33m\u001b[0m\u001b[1;33m\u001b[0m\u001b[0m\n\u001b[0;32m   4296\u001b[0m                     \u001b[1;32mif\u001b[0m \u001b[1;32mnot\u001b[0m \u001b[0mvalid_shape\u001b[0m\u001b[1;33m:\u001b[0m\u001b[1;33m\u001b[0m\u001b[1;33m\u001b[0m\u001b[0m\n\u001b[1;32m-> 4297\u001b[1;33m                         \u001b[1;32mraise\u001b[0m \u001b[0minvalid_shape_exception\u001b[0m\u001b[1;33m(\u001b[0m\u001b[0mc\u001b[0m\u001b[1;33m.\u001b[0m\u001b[0msize\u001b[0m\u001b[1;33m,\u001b[0m \u001b[0mxsize\u001b[0m\u001b[1;33m)\u001b[0m \u001b[1;32mfrom\u001b[0m \u001b[0merr\u001b[0m\u001b[1;33m\u001b[0m\u001b[1;33m\u001b[0m\u001b[0m\n\u001b[0m\u001b[0;32m   4298\u001b[0m                     \u001b[1;31m# Both the mapping *and* the RGBA conversion failed: pretty\u001b[0m\u001b[1;33m\u001b[0m\u001b[1;33m\u001b[0m\u001b[1;33m\u001b[0m\u001b[0m\n\u001b[0;32m   4299\u001b[0m                     \u001b[1;31m# severe failure => one may appreciate a verbose feedback.\u001b[0m\u001b[1;33m\u001b[0m\u001b[1;33m\u001b[0m\u001b[1;33m\u001b[0m\u001b[0m\n",
      "\u001b[1;31mValueError\u001b[0m: 'c' argument has 105402 elements, which is inconsistent with 'x' and 'y' with size 66."
     ]
    },
    {
     "data": {
      "image/png": "[encoded data removed]",
      "text/plain": [
       "<Figure size 648x504 with 1 Axes>"
      ]
     },
     "metadata": {
      "needs_background": "light"
     },
     "output_type": "display_data"
    }
   ],
   "source": [
    "fig = plt.figure(figsize=[9, 7])\n",
    "plt.scatter(NN, e_BB, c = p_p_nom, s = 900, marker = 's', cmap = 'plasma')\n",
    "plt.colorbar(label = 'Lr POV by Shirok, Sokol and Ystin`')\n",
    "plt.scatter(NN1, e_BB1, color = 'grey', s = 900, marker = 's')\n",
    "\n",
    "#plt.title('Methods: trust-constr, SLSQP')\n",
    "#plt.grid()\n",
    "\n",
    "plt.xlabel('N, шт', fontsize=14)\n",
    "plt.ylabel(r'$e_{вc 0}$, м', fontsize=14)\n",
    "plt.plot()\n",
    "plt.show()\n",
    "\n",
    "fig = plt.figure(figsize=[9, 7])\n",
    "plt.scatter(NN, e_BB, c = mass_otn, s = 900, marker = 's', cmap = 'plasma')\n",
    "plt.colorbar(label = 'Lr POV by Shirok, Sokol and Ystin`')\n",
    "plt.scatter(NN1, e_BB1, color = 'grey', s = 900, marker = 's')\n",
    "\n",
    "plt.xlabel('N, шт', fontsize=14)\n",
    "plt.ylabel(r'$e_{вc 0}$, м', fontsize=14)\n",
    "plt.plot()\n",
    "plt.show()\n",
    "\n",
    "fig = plt.figure(figsize=[9, 7])\n",
    "plt.scatter(NN, e_BB, c = t_sgor, s = 900, marker = 's', cmap = 'plasma')\n",
    "plt.colorbar(label = 'Lr POV by Shirok, Sokol and Ystin`')\n",
    "plt.scatter(NN1, e_BB1, color = 'grey', s = 900, marker = 's')\n",
    "\n",
    "plt.xlabel('N, шт', fontsize=14)\n",
    "plt.ylabel(r'$e_{вc 0}$, м', fontsize=14)\n",
    "plt.plot()\n",
    "plt.show()"
   ]
  },
  {
   "cell_type": "code",
   "execution_count": 103,
   "metadata": {
    "ExecuteTime": {
     "end_time": "2021-12-16T18:06:14.617942Z",
     "start_time": "2021-12-16T18:06:11.118908Z"
    }
   },
   "outputs": [],
   "source": [
    "N = NN_min\n",
    "e_B_0 = e_BB_min\n",
    "\n",
    "#сначала интегрируем до \n",
    "t_k_1=0.25\n",
    "#с шагом\n",
    "d_t_1=5*1e-5\n",
    "\n",
    "INIT_1=np.array([1e5, T_0, W_0,c_p_nach, R_nach,0,0,0])\n",
    "Res=rk4(INIT_1, System, 0, d_t_1, int(t_k_1/d_t_1),stop =1)\n",
    "e_topl=Res[:,7]\n",
    "p_kam=Res[:,1]\n",
    "e_vospl=Res[:,6]\n",
    "t_kam=Res[:,0]\n",
    "T_kam=Res[:,2]\n",
    "\n",
    "S_gor_topl=[]\n",
    "for i in range(len(t_kam)):\n",
    "    S_gor_topl.append(S_g_t(e_topl[i]))\n",
    "S_gor_topl=np.array(S_gor_topl)"
   ]
  },
  {
   "cell_type": "code",
   "execution_count": 93,
   "metadata": {
    "ExecuteTime": {
     "end_time": "2021-12-16T17:55:27.435893Z",
     "start_time": "2021-12-16T17:55:27.419935Z"
    }
   },
   "outputs": [
    {
     "name": "stdout",
     "output_type": "stream",
     "text": [
      "8858677.13075346\n"
     ]
    }
   ],
   "source": [
    "ind = 0\n",
    "for i in range(len(e_topl)):\n",
    "    if e_topl[i] != 0:\n",
    "        ind = i\n",
    "        break\n",
    "p_kam[ind]\n",
    "p_nom_2 = sum(p_kam[ind:])/len(p_kam[ind:])\n",
    "print(p_nom_2)"
   ]
  },
  {
   "cell_type": "code",
   "execution_count": 94,
   "metadata": {
    "ExecuteTime": {
     "end_time": "2021-12-16T17:55:27.449854Z",
     "start_time": "2021-12-16T17:55:27.439883Z"
    }
   },
   "outputs": [
    {
     "name": "stdout",
     "output_type": "stream",
     "text": [
      "1.2177984657214846 1437 0.00138\n"
     ]
    }
   ],
   "source": [
    "print(max(p_kam)/p_nom_2, N, e_B_0)"
   ]
  },
  {
   "cell_type": "code",
   "execution_count": 95,
   "metadata": {
    "ExecuteTime": {
     "end_time": "2021-12-16T17:55:28.040276Z",
     "start_time": "2021-12-16T17:55:27.454841Z"
    }
   },
   "outputs": [
    {
     "data": {
      "image/png": "[encoded data removed]",
      "text/plain": [
       "<Figure size 432x288 with 1 Axes>"
      ]
     },
     "metadata": {
      "needs_background": "light"
     },
     "output_type": "display_data"
    },
    {
     "data": {
      "image/png": "[encoded data removed]",
      "text/plain": [
       "<Figure size 432x288 with 1 Axes>"
      ]
     },
     "metadata": {
      "needs_background": "light"
     },
     "output_type": "display_data"
    },
    {
     "data": {
      "image/png": "[encoded data removed]",
      "text/plain": [
       "<Figure size 432x288 with 1 Axes>"
      ]
     },
     "metadata": {
      "needs_background": "light"
     },
     "output_type": "display_data"
    }
   ],
   "source": [
    "plt.plot(t_kam,p_kam/1e6, label='p')\n",
    "plt.legend()\n",
    "plt.grid()\n",
    "plt.show()\n",
    "\n",
    "plt.plot(t_kam,T_kam, label='T')\n",
    "plt.legend()\n",
    "plt.grid()\n",
    "plt.show()\n",
    "\n",
    "plt.plot(t_kam,S_gor_topl, label='S_g')\n",
    "plt.legend()\n",
    "plt.grid()\n",
    "plt.show()"
   ]
  },
  {
   "cell_type": "code",
   "execution_count": 96,
   "metadata": {
    "ExecuteTime": {
     "end_time": "2021-12-16T17:55:30.902627Z",
     "start_time": "2021-12-16T17:55:30.870715Z"
    }
   },
   "outputs": [],
   "source": [
    "def rk4_2(init, sys, t0, dt, n):\n",
    "    \n",
    "    # declaration\n",
    "    \n",
    "    t = np.zeros(n)\n",
    "    m = len(init) + 1\n",
    "    res = np.zeros((n, m))\n",
    "    \n",
    "    # initialization\n",
    "    \n",
    "    i = 0\n",
    "    X = init\n",
    "    t[i] = t0\n",
    "    res[i, 0] = t[i]\n",
    "    res[i, 1:m] = X\n",
    "    \n",
    "    #X=p,T,W,c_p,R,e_B,e,etta_T\n",
    "    k=X[3]/(X[3]-X[4])\n",
    "    \n",
    "    # main loop\n",
    "    while X[0] > p_h/Pi(1,k) and i < n - 1:\n",
    "        k1 = sys(t[i], X)\n",
    "        k2 = sys(t[i] + 0.5*dt, X + k1*0.5*dt)\n",
    "        k3 = sys(t[i] + 0.5*dt, X + k2*0.5*dt)\n",
    "        k4 = sys(t[i] + dt, X + k3*dt)\n",
    "        i += 1\n",
    "        X += (k1 + 2*k2 + 2*k3 + k4)*dt/6\n",
    "        k=X[3]/(X[3]-X[4])\n",
    "        t[i] = t[i - 1] + dt\n",
    "        res[i, 0] = t[i]\n",
    "        res[i, 1:m] = X\n",
    "        \n",
    "    return res[0:i + 1, :]"
   ]
  },
  {
   "cell_type": "code",
   "execution_count": 97,
   "metadata": {
    "ExecuteTime": {
     "end_time": "2021-12-16T17:55:31.825160Z",
     "start_time": "2021-12-16T17:55:31.815190Z"
    }
   },
   "outputs": [
    {
     "name": "stdout",
     "output_type": "stream",
     "text": [
      "[8.81827383e+06 2.75783066e+03 1.08233168e-02 1.93280000e+03\n",
      " 2.98985080e+02 1.38063885e-03 2.76966251e-03 1.82206907e+05]\n"
     ]
    }
   ],
   "source": [
    "print(Res[-1][1:])"
   ]
  },
  {
   "cell_type": "code",
   "execution_count": null,
   "metadata": {
    "ExecuteTime": {
     "end_time": "2021-12-16T16:16:35.952842Z",
     "start_time": "2021-12-16T16:16:35.923919Z"
    }
   },
   "outputs": [],
   "source": []
  },
  {
   "cell_type": "code",
   "execution_count": 98,
   "metadata": {
    "ExecuteTime": {
     "end_time": "2021-12-16T17:55:34.242698Z",
     "start_time": "2021-12-16T17:55:33.194499Z"
    }
   },
   "outputs": [],
   "source": [
    "#Этап 2\n",
    "#Интегрируется, пока давление не упадёт до критического\n",
    "\n",
    "INIT_2=Res[-1][1:] #начальными условиями являются результаты для первого этапа\n",
    "#сначала интегрируем до \n",
    "t_k_2=120\n",
    "#с шагом\n",
    "d_t_2=5*1e-3\n",
    "Res_2=rk4_2(INIT_2, System, t_k_1, d_t_2, int(t_k_2/d_t_2))\n",
    "\n",
    "e_topl_2=Res_2[:,7]\n",
    "p_kam_2=Res_2[:,1]\n",
    "e_vospl_2=Res_2[:,6]\n",
    "t_kam_2=Res_2[:,0]\n",
    "T_kam_2=Res_2[:,2]\n",
    "\n",
    "S_gor_topl_2=[]\n",
    "for i in range(len(t_kam_2)):\n",
    "    S_gor_topl_2.append(S_g_t(e_topl[i]))\n",
    "S_gor_topl_2=np.array(S_gor_topl_2)"
   ]
  },
  {
   "cell_type": "code",
   "execution_count": 99,
   "metadata": {
    "ExecuteTime": {
     "end_time": "2021-12-16T17:55:37.854044Z",
     "start_time": "2021-12-16T17:55:36.671207Z"
    }
   },
   "outputs": [
    {
     "data": {
      "image/png": "[encoded data removed]",
      "text/plain": [
       "<Figure size 432x288 with 1 Axes>"
      ]
     },
     "metadata": {
      "needs_background": "light"
     },
     "output_type": "display_data"
    },
    {
     "data": {
      "image/png": "[encoded data removed]",
      "text/plain": [
       "<Figure size 432x288 with 1 Axes>"
      ]
     },
     "metadata": {
      "needs_background": "light"
     },
     "output_type": "display_data"
    },
    {
     "data": {
      "image/png": "[encoded data removed]",
      "text/plain": [
       "<Figure size 432x288 with 1 Axes>"
      ]
     },
     "metadata": {
      "needs_background": "light"
     },
     "output_type": "display_data"
    }
   ],
   "source": [
    "plt.plot(t_kam,p_kam/1e6, label='p')\n",
    "plt.plot(t_kam_2,p_kam_2/1e6, label='p')\n",
    "plt.legend()\n",
    "plt.grid()\n",
    "plt.show()\n",
    "\n",
    "plt.plot(t_kam,T_kam, label='T')\n",
    "plt.plot(t_kam_2,T_kam_2, label='T')\n",
    "plt.legend()\n",
    "plt.grid()\n",
    "plt.show()\n",
    "\n",
    "\n",
    "plt.plot(t_kam,S_gor_topl, label='S_g')\n",
    "plt.plot(t_kam_2,S_gor_topl_2, label='S_g')\n",
    "plt.legend()\n",
    "plt.grid()\n",
    "plt.show()"
   ]
  },
  {
   "cell_type": "code",
   "execution_count": null,
   "metadata": {},
   "outputs": [],
   "source": [
    "print(INIT)"
   ]
  }
 ],
 "metadata": {
  "kernelspec": {
   "display_name": "Python 3",
   "language": "python",
   "name": "python3"
  },
  "language_info": {
   "codemirror_mode": {
    "name": "ipython",
    "version": 3
   },
   "file_extension": ".py",
   "mimetype": "text/x-python",
   "name": "python",
   "nbconvert_exporter": "python",
   "pygments_lexer": "ipython3",
   "version": "3.8.5"
  }
 },
 "nbformat": 4,
 "nbformat_minor": 4
}
