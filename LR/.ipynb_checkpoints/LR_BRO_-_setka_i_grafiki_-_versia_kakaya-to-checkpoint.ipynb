{
 "cells": [
  {
   "cell_type": "code",
   "execution_count": 85,
   "metadata": {
    "ExecuteTime": {
     "end_time": "2021-12-16T17:55:10.036401Z",
     "start_time": "2021-12-16T17:55:10.019445Z"
    }
   },
   "outputs": [],
   "source": [
    "import numpy as np\n",
    "import matplotlib.pyplot as plt\n",
    "from scipy.integrate import ode\n",
    "\n",
    "import numpy as np\n",
    "import math \n",
    "import matplotlib.pyplot as plt\n",
    "import matplotlib as mpl\n",
    "import pandas as pd\n"
   ]
  },
  {
   "cell_type": "code",
   "execution_count": 86,
   "metadata": {
    "ExecuteTime": {
     "end_time": "2021-12-16T17:55:10.464258Z",
     "start_time": "2021-12-16T17:55:10.449297Z"
    }
   },
   "outputs": [],
   "source": [
    "#исходные данные для основного заряда\n",
    "delta = 1750\n",
    "omega = 100 \n",
    "a = 0.45\n",
    "c = 0.01\n",
    "D = 0.24 #диаметр камеры сгорания\n",
    "d = 0.06\n",
    "z_0 = 0.09 #e_0 для основного заряда\n",
    "e_0=z_0\n",
    "n = 4"
   ]
  },
  {
   "cell_type": "code",
   "execution_count": 87,
   "metadata": {
    "ExecuteTime": {
     "end_time": "2021-12-16T17:55:10.969906Z",
     "start_time": "2021-12-16T17:55:10.951953Z"
    }
   },
   "outputs": [],
   "source": [
    "# Исходные данные\n",
    "p_ref_t=98100\n",
    "p_ref_B=1e6\n",
    "p_h=1e5\n",
    "p_nom_0=10*1e6\n",
    "\n",
    "T_0=223.15 + 100 #-50\n",
    "T_s=750\n",
    "T_ref=293.15\n",
    "\n",
    "c_p_nach=1004.5\n",
    "R_nach=287\n",
    "\n",
    "rho_B=1850\n",
    "T_p_0=2543.3\n",
    "\n",
    "mu_g=0.6193*1e-4\n",
    "lamda_g=0.0871\n",
    "\n",
    "u_1_B=16.9*1e-3\n",
    "nu_B=0.22\n",
    "D_t_B=0.0028\n",
    "\n",
    "c_p_0= 1314\n",
    "\n",
    "z_0_Bospl=0.55634 # конденсированная фаза при горении вопсламенителя - из Терры\n",
    "R_Bospl=317.47 #газовая постоянная продуктов сгорания воспламенителя - из Терры\n",
    "R_0=R_Bospl*(1-z_0_Bospl)\n",
    "\n",
    "\n",
    "z_0_Topl=0.32146 # конденсированная фаза при горении основного заряда - из Терры\n",
    "R_Topl=440.63 #газовая постоянная продуктов сгорания основного заряда - из Терры\n",
    "R_1=R_Topl*(1-z_0_Topl)\n",
    "\n",
    "T_p_1=3425.7\n",
    "n_t=1.1346 #показатель политропы топлива\n",
    "\n",
    "#параметры закона горения\n",
    "u_1_t=2.9*1e-3\n",
    "nu_t=0.3\n",
    "D_t_t=0.002\n",
    "\n",
    "c_p_1= 1932.8\n",
    "\n",
    "c_t, lamda_t, rho_t= 1377, 0.24, delta\n",
    "\n",
    "kappa_ref=100"
   ]
  },
  {
   "cell_type": "code",
   "execution_count": 88,
   "metadata": {
    "ExecuteTime": {
     "end_time": "2021-12-16T17:55:11.942349Z",
     "start_time": "2021-12-16T17:55:11.878476Z"
    }
   },
   "outputs": [],
   "source": [
    "global W\n",
    "def S_g_B(e, e_B_0):\n",
    "    global W\n",
    "    e0 = e_B_0\n",
    "    d = e_B_0*5\n",
    "    #d = 0.21 * 1e-3\n",
    "    c = e_B_0*0.8\n",
    "    h  = e0 - c/2\n",
    "    def R(d, h, e0):\n",
    "        r = d/2\n",
    "        return (r**2 + h**2)/2/h\n",
    "    def S1(e, e0):\n",
    "        r = d/2\n",
    "        return 4*np.pi*(R(d, h, e0)-e)*h1(e, e0) + 2*np.pi*(r - e)*c1(e, e0)\n",
    "    def h1(e, e0):\n",
    "        r = d/2\n",
    "        return (R(d, h, e0) - e) - np.sqrt((R(d, h, e0) - e)**2 - (r - e)**2)\n",
    "    def c1(e, e0):\n",
    "        return 2*(e0 - e - h1(e, e0))\n",
    "    def S2(e, e0):\n",
    "        return 4*np.pi*(R(d, h, e0) - e)*(e0 - e)\n",
    "    def e1(e, e0):\n",
    "        r = d/2\n",
    "        return ((R(d, h, e0)**2 - r**2) - (R(d, h, e0) - e0)**2)/(2*(R(d, h, e0) - r))\n",
    "    ee = e1(e, e0)\n",
    "    def WW(e, e0):\n",
    "        r = d/2\n",
    "        return np.pi*r**2*c + 2*np.pi*h**2*(R(d, h, e0) - h/3)\n",
    "    W = WW(e, e0)\n",
    "    if e < ee:\n",
    "        return S1(e, e0)\n",
    "    else:\n",
    "        return S2(e, e0)\n",
    "#предварительные вычисления\n",
    "A_n=(n_t*(2/(n_t+1))**((n_t+1)/(n_t-1)))**0.5\n",
    "S_g_sr=omega/(rho_t*e_0)\n",
    "F_sv=np.pi*d**2/4\n",
    "\n",
    "\n",
    "def X(G_B,T,G_t,dQ_t_dt,F_q_1_):\n",
    "    x=G_B*c_p_0*(T_p_0-T)+G_t*(T_p_1-T)-dQ_t_dt*F_q_1_\n",
    "    return x\n",
    "def Y(G_B,T,G_t,p,rho,G):\n",
    "    y= G_B*R_0*T+G_t*R_1*T-p/rho*G-p*(G_B/rho_B + G_t/rho_t)\n",
    "    return y\n",
    "\n",
    "#закон горения\n",
    "def U_t(p, u_1,nu,T):\n",
    "    return u_1_t*(p/p_ref_t)**nu_t*np.exp(D_t_t*(T_0-T_ref))\n",
    "def U_B(p, u_1,nu,T):\n",
    "    return u_1_B*(p/p_ref_B)**nu_B*np.exp(D_t_B*(T_0-T_ref))\n",
    "\n",
    "def FI_kappa(kappa):\n",
    "    return 1\n",
    "#return max(1, 1+0.003*(kappa-kappa_ref))\n",
    "def Kappa(S_g_0, F_sv): #параметр Победоносцева\n",
    "    return S_g_0/F_sv\n",
    "\n",
    "#переключатели\n",
    "etta_T_s=(T_s-T_0)**2\n",
    "def F_q_1(etta_t):\n",
    "    if etta_t < etta_T_s:\n",
    "        return 1\n",
    "    else:\n",
    "        return 0\n",
    "def F_0(e):\n",
    "    if e <= e_B_0:\n",
    "        return 1\n",
    "    else:\n",
    "        return 0\n",
    "def F_1(etta_T, e):\n",
    "    if etta_T >= etta_T_s and e <= e_0:\n",
    "        return 1\n",
    "    else:\n",
    "        return 0\n",
    "\n",
    "#расчёт теплового потока\n",
    "def q(etta_T, G_B, T):\n",
    "    Pr=(c_p_0*mu_g)/lamda_g\n",
    "    rho_v=G_B/F_sv\n",
    "    Re=(rho_v*d)/mu_g\n",
    "    Nu=0.023*Re**0.8*Pr*0.4\n",
    "    alpha=Nu*lamda_g/d\n",
    "    return alpha*(T-(T_0+etta_T**0.5))\n",
    "def Pi(lamda, k):\n",
    "    return (1 - (k-1)/(k+1)*lamda**2)**(k/(k-1))\n",
    "\n",
    "def G_(p,R,T, k):    #расход через сопло\n",
    "    if p*Pi(1,k) < p_h:\n",
    "        return ((p*F_kr)/(np.sqrt(R*T)))*(p_h/p)**(1/n)*np.sqrt(2*n/(n-1)*np.abs(1-(p_h/p)**((n-1)/n)))\n",
    "    else:\n",
    "        return (A_n*F_kr*p)/((R*T)**0.5)\n",
    "def G_b(S,u, F_0): #расход от воспламенителя\n",
    "    return S*u*rho_B*F_0\n",
    "def G_topl(S,u,fi_kappa, f_1):#расход от основного заряда\n",
    "    return S*u*rho_t*f_1*fi_kappa\n",
    "\n",
    "# горение основного заряда\n",
    "\n",
    "beta = np.pi/n\n",
    "F = np.pi*(D**2)/4\n",
    "c_ = c/D\n",
    "d_ = d/D\n",
    "a_ = 0.3\n",
    "\n",
    "epsilon_f = 1 - d_**2\n",
    "f_cut = (n/math.pi) * (c_*np.sqrt(1 - c_**2) - c_*np.sqrt(d_**2 - c_**2) + np.arcsin(c_) - d_**2 * np.arcsin(c_/d_))\n",
    "epsilon_w = epsilon_f - a_*f_cut\n",
    "F_cut = F*f_cut\n",
    "z_1 = 0.5*(d*np.sin(beta)-c)/(1-np.sin(beta))\n",
    "z_2 = (D*np.sin(beta)-c)/2\n",
    "#длина заряда\n",
    "l_gr=omega/(delta * epsilon_w * F)\n",
    "\n",
    "def S_g_t(z): #зависимость площади поверхности горения основного заряда\n",
    "    def e_1(d, beta, c):\n",
    "        return 0.5*((d*np.sin(beta) - c)/(1 - np.sin(beta)))\n",
    "\n",
    "    def e_2(D, beta, c):\n",
    "        return 0.5*(D*np.sin(beta) - c)\n",
    "\n",
    "    def S_a(z):\n",
    "        if np.pi*(d + 2*z)*(l_gr - a - z):\n",
    "            return np.pi*(d + 2*z)*(l_gr - a - z)\n",
    "        else:\n",
    "            return 0\n",
    "\n",
    "    def S_b(z):\n",
    "        if z > z_1:\n",
    "            return 0\n",
    "        else:\n",
    "            return n*(beta - fi_1(z))*(d + 2*z)*a \n",
    "\n",
    "    def fi_1(z):\n",
    "        return np.arcsin((c + 2*z)/(d + 2*z))\n",
    "\n",
    "    def S_c(z):\n",
    "        if z >= 0 and z <= z_1:\n",
    "            return 2*n*a*b1(z)\n",
    "        elif z_1 < z and z <= z_2:\n",
    "            return 2*n*a*b2(z)\n",
    "        elif z > z_2:\n",
    "            return 0\n",
    "        else:\n",
    "            return 0 ### ???\n",
    "\n",
    "    def b1(z):\n",
    "        return 0.5*(np.sqrt(D**2 - (c + 2*z)**2) - np.sqrt((d + 2*z)**2 - (c + 2*z)**2))\n",
    "\n",
    "    def b2(z):\n",
    "        return 0.5*(np.sqrt(D**2 - (c + z*2)**2) - (c + 2*z)*np.tan(beta)**(-1))\n",
    "\n",
    "    def S_d(z):\n",
    "        if np.pi/4*(D**2 - (d + 2*z)**2):\n",
    "            return np.pi/4*(D**2 - (d + 2*z)**2)\n",
    "        else:\n",
    "            return 0\n",
    "\n",
    "    def S(z):\n",
    "        return S_a(z) + S_b(z) + S_c(z) + S_d(z)\n",
    "\n",
    "    e1 = e_1(d, beta, c)\n",
    "    e2 = e_2(D, beta, c)\n",
    "\n",
    "    return S(z)\n",
    "# перерасчёт номинального давления в зависимости от начальной температуры и параметра Победоносцева\n",
    "p_nom=p_nom_0*np.exp((D_t_t*(T_0-T_ref))/(1-nu_t))\n",
    "#*(FI_kappa(Kappa(S_g_t(0),F_sv)))**(1/(1-nu_t))\n",
    "F_kr=(S_g_sr*U_t(p_nom,u_1_t,nu_t,T_ref)*rho_t*(R_1*T_p_1)**0.5)/(A_n*p_nom)\n",
    "#Начальные условия\n",
    "W_0=np.pi*D**3/12+np.pi*D**2/4*l_gr-omega/rho_t\n",
    "INIT_1=np.array([1e5, T_0, W_0,c_p_nach, R_nach,0,0,0])"
   ]
  },
  {
   "cell_type": "code",
   "execution_count": 89,
   "metadata": {
    "ExecuteTime": {
     "end_time": "2021-12-16T17:55:12.577610Z",
     "start_time": "2021-12-16T17:55:12.550679Z"
    }
   },
   "outputs": [],
   "source": [
    "def rk4(init, sys, t0, dt, n, stop):\n",
    "    \n",
    "    # declaration\n",
    "    \n",
    "    t = np.zeros(n)\n",
    "    m = len(init) + 1\n",
    "    res = np.zeros((n, m))\n",
    "    \n",
    "    # initialization\n",
    "    \n",
    "    i = 0\n",
    "    X = init\n",
    "    t[i] = t0\n",
    "    res[i, 0] = t[i]\n",
    "    res[i, 1:m] = X\n",
    "    \n",
    "    # main loop\n",
    "    #while stop(t[i], X) > 0 and i < n - 1:\n",
    "    while i < n - 1:\n",
    "        k1 = sys(t[i], X)\n",
    "        k2 = sys(t[i] + 0.5*dt, X + k1*0.5*dt)\n",
    "        k3 = sys(t[i] + 0.5*dt, X + k2*0.5*dt)\n",
    "        k4 = sys(t[i] + dt, X + k3*dt)\n",
    "        i += 1\n",
    "        X += (k1 + 2*k2 + 2*k3 + k4)*dt/6\n",
    "        t[i] = t[i - 1] + dt\n",
    "        res[i, 0] = t[i]\n",
    "        res[i, 1:m] = X\n",
    "        \n",
    "    return res[0:i + 1, :]"
   ]
  },
  {
   "cell_type": "code",
   "execution_count": 90,
   "metadata": {
    "ExecuteTime": {
     "end_time": "2021-12-16T17:55:13.961951Z",
     "start_time": "2021-12-16T17:55:13.942959Z"
    }
   },
   "outputs": [],
   "source": [
    "def System(t, y):\n",
    "    p,T,W,c_p,R,e_B,e,etta_T=y\n",
    "    k=c_p/(c_p-R)\n",
    "    rho=p/(R*T)\n",
    "    f_q_1=F_q_1(etta_T)\n",
    "    f_0=F_0(e_B)\n",
    "    f_1=F_1(etta_T,e)\n",
    "    S_0=S_g_t(0)\n",
    "\n",
    "    u_B=U_B(p, u_1_B,nu_B,T)\n",
    "    u=U_t(p, u_1_t,nu_t,T)\n",
    "    S_B=N*S_g_B(e_B,e_B_0)\n",
    "    S_t=S_g_t(e)\n",
    "    d_kan_=d+2*e\n",
    "    F_kan=np.pi*d_kan_**2/4\n",
    "    kappa=Kappa(S_t, F_kan)\n",
    "    fi_kappa=FI_kappa(kappa)\n",
    "\n",
    "    G_B=G_b(N*S_g_B(e_B,e_B_0),u_B, f_0)\n",
    "    G_t=G_topl(S_g_t(e),u,fi_kappa, f_1)\n",
    "    G=G_(p,R,T,k)\n",
    "\n",
    "    q_1=q(etta_T, G_B, T)\n",
    "    dQ_t_dt=q_1*S_0\n",
    "\n",
    "\n",
    "    x=X(G_B,T,G_t,dQ_t_dt,f_q_1)\n",
    "    y_=Y(G_B,T,G_t,p,rho,G)\n",
    "\n",
    "    dp_dt=(k-1)/W*(x+y_*k/(k-1))\n",
    "    dT_dt=(k - 1)/(rho*W*R)*(x+y_)\n",
    "    dW_dt=G_B/rho_B+G_t/rho_t\n",
    "    dc_p_dt=1/(rho*W)*(G_B*(c_p_0-c_p)+G_t*(c_p_1-c_p))\n",
    "    dR_dt=1/(rho*W)*(G_B*(R_0-R)+G_t*(R_1-R))\n",
    "    de_b_dt=u_B*f_0\n",
    "    de_dt=u*fi_kappa*f_1\n",
    "    detta_T_dt=(2*q_1**2)/(c_t*lamda_t*rho_t)*f_q_1\n",
    "\n",
    "    return np.array([dp_dt,dT_dt,dW_dt, dc_p_dt ,dR_dt, de_b_dt, de_dt, detta_T_dt])"
   ]
  },
  {
   "cell_type": "code",
   "execution_count": 34,
   "metadata": {
    "ExecuteTime": {
     "end_time": "2021-12-16T17:10:33.829866Z",
     "start_time": "2021-12-16T17:10:33.802937Z"
    }
   },
   "outputs": [],
   "source": []
  },
  {
   "cell_type": "code",
   "execution_count": null,
   "metadata": {},
   "outputs": [],
   "source": []
  },
  {
   "cell_type": "code",
   "execution_count": 91,
   "metadata": {
    "ExecuteTime": {
     "end_time": "2021-12-16T17:55:16.251826Z",
     "start_time": "2021-12-16T17:55:16.229846Z"
    }
   },
   "outputs": [],
   "source": [
    "def calc(N, e_B_0):\n",
    "   #предварительные вычисления\n",
    "    A_n=(n_t*(2/(n_t+1))**((n_t+1)/(n_t-1)))**0.5\n",
    "    S_g_sr=omega/(rho_t*e_0)\n",
    "    F_sv=np.pi*d**2/4 \n",
    "    \n",
    "    F_kr=(S_g_sr*U_t(p_nom,u_1_t,nu_t,T_ref)*rho_t*(R_1*T_p_1)**0.5)/(A_n*p_nom)\n",
    "    \n",
    "    etta_T_s=(T_s-T_0)**2\n",
    "    \n",
    "    # горение основного заряда\n",
    "    beta = np.pi/n\n",
    "    F = np.pi*(D**2)/4\n",
    "    c_ = c/D\n",
    "    d_ = d/D\n",
    "    a_ = 0.3\n",
    "    epsilon_f = 1 - d_**2\n",
    "    f_cut = (n/math.pi) * (c_*np.sqrt(1 - c_**2) - c_*np.sqrt(d_**2 - c_**2) + np.arcsin(c_) - d_**2 * np.arcsin(c_/d_))\n",
    "    epsilon_w = epsilon_f - a_*f_cut\n",
    "    F_cut = F*f_cut\n",
    "    z_1 = 0.5*(d*np.sin(beta)-c)/(1-np.sin(beta))\n",
    "    z_2 = (D*np.sin(beta)-c)/2\n",
    "    #длина заряда\n",
    "    l_gr=omega/(delta * epsilon_w * F)\n",
    "    \n",
    "    \n",
    "    #сначала интегрируем до \n",
    "    t_k_1=0.25\n",
    "    #с шагом\n",
    "    d_t_1=5*1e-5\n",
    "    \n",
    "    #Начальные условия\n",
    "    W_0=np.pi*D**3/12+np.pi*D**2/4*l_gr-omega/rho_t\n",
    "    INIT_1=np.array([1e5, T_0, W_0,c_p_nach, R_nach,0,0,0])\n",
    "\n",
    "    Res=rk4(INIT_1, System, 0, d_t_1, int(t_k_1/d_t_1), stop=1)\n",
    "    e_topl=Res[:,7]\n",
    "    p_kam=Res[:,1]\n",
    "    e_vospl=Res[:,6]\n",
    "    \n",
    "    \n",
    "    ind = 0\n",
    "    for i in range(len(e_topl)):\n",
    "        if e_topl[i] != 0:\n",
    "            ind = i\n",
    "            break\n",
    "    p_kam[ind]\n",
    "    p_nom_2 = sum(p_kam[ind:])/len(p_kam[ind:])\n",
    "    \n",
    "    W_sgor_v=0\n",
    "    for i in range(ind-1):\n",
    "        dW=S_g_B(e_vospl[i], e_B_0)*(e_vospl[i+1]-e_vospl[i])\n",
    "        W_sgor_v+=dW\n",
    "    W_sgor_v=W_sgor_v/e_vospl[ind]\n",
    "    \n",
    "    if e_topl[len(e_topl)//3] > 0:\n",
    "        if e_B_0 < 0 or W_sgor_v/(W*N) >0.9:\n",
    "            return 0, max(p_kam)*100\n",
    "        else:\n",
    "            return 1, max(p_kam)/p_nom_2\n",
    "    else:\n",
    "        return 0, max(p_kam)*100\n",
    "    #print(len(T_kam),len(t_kam))"
   ]
  },
  {
   "cell_type": "code",
   "execution_count": 100,
   "metadata": {
    "ExecuteTime": {
     "end_time": "2021-12-16T18:05:30.743273Z",
     "start_time": "2021-12-16T18:00:35.039168Z"
    }
   },
   "outputs": [],
   "source": [
    "res, NN, e_BB, NN1, e_BB1, p_p_nom = [], [], [], [], [], []\n",
    "p_p_min, NN_min, e_BB_min = 100, 0, 0\n",
    "k = 0\n",
    "cr_1 = []\n",
    "z, xx, yy, xx1, yy1 = [], [], [], [], []\n",
    "for i in range(0, 10, 1):\n",
    "    N = 672 - 200 + 40*i\n",
    "    for j in range(0, 10, 1):\n",
    "        e_B_0 = 0.00593 - 0.00036 + 0.00009*j\n",
    "        cr_1.append(calc(N, e_B_0))\n",
    "        #print(cr_1)\n",
    "        if cr_1[k][0] != 0:\n",
    "            NN.append(N)\n",
    "            e_BB.append(e_B_0)\n",
    "            p_p_nom.append(cr_1[k][1])\n",
    "            if p_p_nom[-1] < p_p_min:\n",
    "                p_p_min = p_p_nom[-1]\n",
    "                NN_min = NN[-1]\n",
    "                e_BB_min = e_BB[-1]\n",
    "        else:\n",
    "            NN1.append(N)\n",
    "            e_BB1.append(e_B_0)\n",
    "        k += 1"
   ]
  },
  {
   "cell_type": "code",
   "execution_count": 101,
   "metadata": {
    "ExecuteTime": {
     "end_time": "2021-12-16T18:06:03.902983Z",
     "start_time": "2021-12-16T18:06:03.896001Z"
    }
   },
   "outputs": [],
   "source": [
    "rc = {\"font.family\" : \"serif\", \n",
    "      \"mathtext.fontset\" : \"stix\"}\n",
    "plt.rcParams.update(rc)\n",
    "plt.rcParams[\"font.serif\"] = [\"Times New Roman\"] + plt.rcParams[\"font.serif\"]"
   ]
  },
  {
   "cell_type": "code",
   "execution_count": 102,
   "metadata": {
    "ExecuteTime": {
     "end_time": "2021-12-16T18:06:04.854014Z",
     "start_time": "2021-12-16T18:06:04.458476Z"
    }
   },
   "outputs": [
    {
     "data": {
      "image/png": "[encoded data removed]",
      "text/plain": [
       "<Figure size 648x504 with 2 Axes>"
      ]
     },
     "metadata": {
      "needs_background": "light"
     },
     "output_type": "display_data"
    }
   ],
   "source": [
    "fig = plt.figure(figsize=[9, 7])\n",
    "plt.scatter(NN, e_BB, c = p_p_nom, s = 900, marker = 's', cmap = 'plasma')\n",
    "plt.colorbar(label = 'Lr POV by Shirok, Sokol and Ystin`')\n",
    "plt.scatter(NN1, e_BB1, color = 'grey', s = 900, marker = 's')\n",
    "\n",
    "#plt.title('Methods: trust-constr, SLSQP')\n",
    "#plt.grid()\n",
    "\n",
    "plt.xlabel('N, шт', fontsize=14)\n",
    "plt.ylabel(r'$e_{вc 0}$, м', fontsize=14)\n",
    "plt.plot()\n",
    "plt.show()"
   ]
  },
  {
   "cell_type": "code",
   "execution_count": 103,
   "metadata": {
    "ExecuteTime": {
     "end_time": "2021-12-16T18:06:14.617942Z",
     "start_time": "2021-12-16T18:06:11.118908Z"
    }
   },
   "outputs": [],
   "source": [
    "#N = NN_min\n",
    "#e_B_0 = e_BB_min\n",
    "N = 1437\n",
    "e_B_0 = 0.00138\n",
    "\n",
    "#сначала интегрируем до \n",
    "t_k_1=0.25\n",
    "#с шагом\n",
    "d_t_1=5*1e-5\n",
    "\n",
    "INIT_1=np.array([1e5, T_0, W_0,c_p_nach, R_nach,0,0,0])\n",
    "Res=rk4(INIT_1, System, 0, d_t_1, int(t_k_1/d_t_1),stop =1)\n",
    "e_topl=Res[:,7]\n",
    "p_kam=Res[:,1]\n",
    "e_vospl=Res[:,6]\n",
    "t_kam=Res[:,0]\n",
    "T_kam=Res[:,2]\n",
    "\n",
    "S_gor_topl=[]\n",
    "for i in range(len(t_kam)):\n",
    "    S_gor_topl.append(S_g_t(e_topl[i]))\n",
    "S_gor_topl=np.array(S_gor_topl)"
   ]
  },
  {
   "cell_type": "code",
   "execution_count": 93,
   "metadata": {
    "ExecuteTime": {
     "end_time": "2021-12-16T17:55:27.435893Z",
     "start_time": "2021-12-16T17:55:27.419935Z"
    }
   },
   "outputs": [
    {
     "name": "stdout",
     "output_type": "stream",
     "text": [
      "8858677.13075346\n"
     ]
    }
   ],
   "source": [
    "ind = 0\n",
    "for i in range(len(e_topl)):\n",
    "    if e_topl[i] != 0:\n",
    "        ind = i\n",
    "        break\n",
    "p_kam[ind]\n",
    "p_nom_2 = sum(p_kam[ind:])/len(p_kam[ind:])\n",
    "print(p_nom_2)"
   ]
  },
  {
   "cell_type": "code",
   "execution_count": 94,
   "metadata": {
    "ExecuteTime": {
     "end_time": "2021-12-16T17:55:27.449854Z",
     "start_time": "2021-12-16T17:55:27.439883Z"
    }
   },
   "outputs": [
    {
     "name": "stdout",
     "output_type": "stream",
     "text": [
      "1.2177984657214846 1437 0.00138\n"
     ]
    }
   ],
   "source": [
    "print(max(p_kam)/p_nom_2, N, e_B_0)"
   ]
  },
  {
   "cell_type": "code",
   "execution_count": 95,
   "metadata": {
    "ExecuteTime": {
     "end_time": "2021-12-16T17:55:28.040276Z",
     "start_time": "2021-12-16T17:55:27.454841Z"
    }
   },
   "outputs": [
    {
     "data": {
      "image/png": "[encoded data removed]",
      "text/plain": [
       "<Figure size 432x288 with 1 Axes>"
      ]
     },
     "metadata": {
      "needs_background": "light"
     },
     "output_type": "display_data"
    },
    {
     "data": {
      "image/png": "[encoded data removed]",
      "text/plain": [
       "<Figure size 432x288 with 1 Axes>"
      ]
     },
     "metadata": {
      "needs_background": "light"
     },
     "output_type": "display_data"
    },
    {
     "data": {
      "image/png": "[encoded data removed]",
      "text/plain": [
       "<Figure size 432x288 with 1 Axes>"
      ]
     },
     "metadata": {
      "needs_background": "light"
     },
     "output_type": "display_data"
    }
   ],
   "source": [
    "plt.plot(t_kam,p_kam/1e6, label='p')\n",
    "plt.legend()\n",
    "plt.grid()\n",
    "plt.show()\n",
    "\n",
    "plt.plot(t_kam,T_kam, label='T')\n",
    "plt.legend()\n",
    "plt.grid()\n",
    "plt.show()\n",
    "\n",
    "plt.plot(t_kam,S_gor_topl, label='S_g')\n",
    "plt.legend()\n",
    "plt.grid()\n",
    "plt.show()"
   ]
  },
  {
   "cell_type": "code",
   "execution_count": 96,
   "metadata": {
    "ExecuteTime": {
     "end_time": "2021-12-16T17:55:30.902627Z",
     "start_time": "2021-12-16T17:55:30.870715Z"
    }
   },
   "outputs": [],
   "source": [
    "def rk4_2(init, sys, t0, dt, n):\n",
    "    \n",
    "    # declaration\n",
    "    \n",
    "    t = np.zeros(n)\n",
    "    m = len(init) + 1\n",
    "    res = np.zeros((n, m))\n",
    "    \n",
    "    # initialization\n",
    "    \n",
    "    i = 0\n",
    "    X = init\n",
    "    t[i] = t0\n",
    "    res[i, 0] = t[i]\n",
    "    res[i, 1:m] = X\n",
    "    \n",
    "    #X=p,T,W,c_p,R,e_B,e,etta_T\n",
    "    k=X[3]/(X[3]-X[4])\n",
    "    \n",
    "    # main loop\n",
    "    while X[0] > p_h/Pi(1,k) and i < n - 1:\n",
    "        k1 = sys(t[i], X)\n",
    "        k2 = sys(t[i] + 0.5*dt, X + k1*0.5*dt)\n",
    "        k3 = sys(t[i] + 0.5*dt, X + k2*0.5*dt)\n",
    "        k4 = sys(t[i] + dt, X + k3*dt)\n",
    "        i += 1\n",
    "        X += (k1 + 2*k2 + 2*k3 + k4)*dt/6\n",
    "        k=X[3]/(X[3]-X[4])\n",
    "        t[i] = t[i - 1] + dt\n",
    "        res[i, 0] = t[i]\n",
    "        res[i, 1:m] = X\n",
    "        \n",
    "    return res[0:i + 1, :]"
   ]
  },
  {
   "cell_type": "code",
   "execution_count": 97,
   "metadata": {
    "ExecuteTime": {
     "end_time": "2021-12-16T17:55:31.825160Z",
     "start_time": "2021-12-16T17:55:31.815190Z"
    }
   },
   "outputs": [
    {
     "name": "stdout",
     "output_type": "stream",
     "text": [
      "[8.81827383e+06 2.75783066e+03 1.08233168e-02 1.93280000e+03\n",
      " 2.98985080e+02 1.38063885e-03 2.76966251e-03 1.82206907e+05]\n"
     ]
    }
   ],
   "source": [
    "print(Res[-1][1:])"
   ]
  },
  {
   "cell_type": "code",
   "execution_count": null,
   "metadata": {
    "ExecuteTime": {
     "end_time": "2021-12-16T16:16:35.952842Z",
     "start_time": "2021-12-16T16:16:35.923919Z"
    }
   },
   "outputs": [],
   "source": []
  },
  {
   "cell_type": "code",
   "execution_count": 98,
   "metadata": {
    "ExecuteTime": {
     "end_time": "2021-12-16T17:55:34.242698Z",
     "start_time": "2021-12-16T17:55:33.194499Z"
    }
   },
   "outputs": [],
   "source": [
    "#Этап 2\n",
    "#Интегрируется, пока давление не упадёт до критического\n",
    "\n",
    "INIT_2=Res[-1][1:] #начальными условиями являются результаты для первого этапа\n",
    "#сначала интегрируем до \n",
    "t_k_2=120\n",
    "#с шагом\n",
    "d_t_2=5*1e-3\n",
    "Res_2=rk4_2(INIT_2, System, t_k_1, d_t_2, int(t_k_2/d_t_2))\n",
    "\n",
    "e_topl_2=Res_2[:,7]\n",
    "p_kam_2=Res_2[:,1]\n",
    "e_vospl_2=Res_2[:,6]\n",
    "t_kam_2=Res_2[:,0]\n",
    "T_kam_2=Res_2[:,2]\n",
    "\n",
    "S_gor_topl_2=[]\n",
    "for i in range(len(t_kam_2)):\n",
    "    S_gor_topl_2.append(S_g_t(e_topl[i]))\n",
    "S_gor_topl_2=np.array(S_gor_topl_2)"
   ]
  },
  {
   "cell_type": "code",
   "execution_count": 99,
   "metadata": {
    "ExecuteTime": {
     "end_time": "2021-12-16T17:55:37.854044Z",
     "start_time": "2021-12-16T17:55:36.671207Z"
    }
   },
   "outputs": [
    {
     "data": {
      "image/png": "[encoded data removed]",
      "text/plain": [
       "<Figure size 432x288 with 1 Axes>"
      ]
     },
     "metadata": {
      "needs_background": "light"
     },
     "output_type": "display_data"
    },
    {
     "data": {
      "image/png": "[encoded data removed]",
      "text/plain": [
       "<Figure size 432x288 with 1 Axes>"
      ]
     },
     "metadata": {
      "needs_background": "light"
     },
     "output_type": "display_data"
    },
    {
     "data": {
      "image/png": "[encoded data removed]",
      "text/plain": [
       "<Figure size 432x288 with 1 Axes>"
      ]
     },
     "metadata": {
      "needs_background": "light"
     },
     "output_type": "display_data"
    }
   ],
   "source": [
    "plt.plot(t_kam,p_kam/1e6, label='p')\n",
    "plt.plot(t_kam_2,p_kam_2/1e6, label='p')\n",
    "plt.legend()\n",
    "plt.grid()\n",
    "plt.show()\n",
    "\n",
    "plt.plot(t_kam,T_kam, label='T')\n",
    "plt.plot(t_kam_2,T_kam_2, label='T')\n",
    "plt.legend()\n",
    "plt.grid()\n",
    "plt.show()\n",
    "\n",
    "\n",
    "plt.plot(t_kam,S_gor_topl, label='S_g')\n",
    "plt.plot(t_kam_2,S_gor_topl_2, label='S_g')\n",
    "plt.legend()\n",
    "plt.grid()\n",
    "plt.show()"
   ]
  },
  {
   "cell_type": "code",
   "execution_count": null,
   "metadata": {},
   "outputs": [],
   "source": [
    "print(INIT)"
   ]
  }
 ],
 "metadata": {
  "kernelspec": {
   "display_name": "Python 3",
   "language": "python",
   "name": "python3"
  },
  "language_info": {
   "codemirror_mode": {
    "name": "ipython",
    "version": 3
   },
   "file_extension": ".py",
   "mimetype": "text/x-python",
   "name": "python",
   "nbconvert_exporter": "python",
   "pygments_lexer": "ipython3",
   "version": "3.8.5"
  }
 },
 "nbformat": 4,
 "nbformat_minor": 4
}
